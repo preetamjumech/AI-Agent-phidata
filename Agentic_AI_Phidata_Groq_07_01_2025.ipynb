{
  "nbformat": 4,
  "nbformat_minor": 0,
  "metadata": {
    "colab": {
      "provenance": [],
      "authorship_tag": "ABX9TyMna83SA2LwIPDpZgHBVaFN",
      "include_colab_link": true
    },
    "kernelspec": {
      "name": "python3",
      "display_name": "Python 3"
    },
    "language_info": {
      "name": "python"
    },
    "widgets": {
      "application/vnd.jupyter.widget-state+json": {
        "940403e93d844c539ae53e1591662222": {
          "model_module": "@jupyter-widgets/output",
          "model_name": "OutputModel",
          "model_module_version": "1.0.0",
          "state": {
            "_dom_classes": [],
            "_model_module": "@jupyter-widgets/output",
            "_model_module_version": "1.0.0",
            "_model_name": "OutputModel",
            "_view_count": null,
            "_view_module": "@jupyter-widgets/output",
            "_view_module_version": "1.0.0",
            "_view_name": "OutputView",
            "layout": "IPY_MODEL_fcb5c2d91cae4852b5faf40fb0dcc113",
            "msg_id": "",
            "outputs": [
              {
                "output_type": "display_data",
                "data": {
                  "text/plain": "\u001b[32m▰▰▰▰▰▱▱\u001b[0m Thinking...\n\u001b[36m┏━\u001b[0m\u001b[36m Message \u001b[0m\u001b[36m━━━━━━━━━━━━━━━━━━━━━━━━━━━━━━━━━━━━━━━━━━━━━━━━━━━━━━━━━━━━━━━━━━━━━━━━━━━━━━━━━━━━━━━━━━━━━━━━━━━━━━\u001b[0m\u001b[36m━┓\u001b[0m\n\u001b[36m┃\u001b[0m                                                                                                                 \u001b[36m┃\u001b[0m\n\u001b[36m┃\u001b[0m \u001b[32mSummarize analyst recommendations for NVDA\u001b[0m                                                                      \u001b[36m┃\u001b[0m\n\u001b[36m┃\u001b[0m                                                                                                                 \u001b[36m┃\u001b[0m\n\u001b[36m┗━━━━━━━━━━━━━━━━━━━━━━━━━━━━━━━━━━━━━━━━━━━━━━━━━━━━━━━━━━━━━━━━━━━━━━━━━━━━━━━━━━━━━━━━━━━━━━━━━━━━━━━━━━━━━━━━━┛\u001b[0m\n\u001b[34m┏━\u001b[0m\u001b[34m Response (2.7s) \u001b[0m\u001b[34m━━━━━━━━━━━━━━━━━━━━━━━━━━━━━━━━━━━━━━━━━━━━━━━━━━━━━━━━━━━━━━━━━━━━━━━━━━━━━━━━━━━━━━━━━━━━━━\u001b[0m\u001b[34m━┓\u001b[0m\n\u001b[34m┃\u001b[0m                                                                                                                 \u001b[34m┃\u001b[0m\n\u001b[34m┃\u001b[0m Running:                                                                                                        \u001b[34m┃\u001b[0m\n\u001b[34m┃\u001b[0m                                                                                                                 \u001b[34m┃\u001b[0m\n\u001b[34m┃\u001b[0m \u001b[1;33m • \u001b[0mget_analyst_recommendations(symbol=NVDA)                                                                     \u001b[34m┃\u001b[0m\n\u001b[34m┃\u001b[0m                                                                                                                 \u001b[34m┃\u001b[0m\n\u001b[34m┃\u001b[0m                                        \u001b[1mAnalyst Recommendations for NVDA\u001b[0m                                         \u001b[34m┃\u001b[0m\n\u001b[34m┃\u001b[0m                                                                                                                 \u001b[34m┃\u001b[0m\n\u001b[34m┃\u001b[0m The following table summarizes analyst recommendations for NVDA:                                                \u001b[34m┃\u001b[0m\n\u001b[34m┃\u001b[0m                                                                                                                 \u001b[34m┃\u001b[0m\n\u001b[34m┃\u001b[0m                                                                                                                 \u001b[34m┃\u001b[0m\n\u001b[34m┃\u001b[0m  \u001b[1m \u001b[0m\u001b[1mPeriod\u001b[0m\u001b[1m \u001b[0m \u001b[1m \u001b[0m\u001b[1mStrong Buy\u001b[0m\u001b[1m \u001b[0m \u001b[1m \u001b[0m\u001b[1mBuy\u001b[0m\u001b[1m \u001b[0m \u001b[1m \u001b[0m\u001b[1mHold\u001b[0m\u001b[1m \u001b[0m \u001b[1m \u001b[0m\u001b[1mSell\u001b[0m\u001b[1m \u001b[0m \u001b[1m \u001b[0m\u001b[1mStrong Sell\u001b[0m\u001b[1m \u001b[0m                                                        \u001b[34m┃\u001b[0m\n\u001b[34m┃\u001b[0m  ━━━━━━━━━━━━━━━━━━━━━━━━━━━━━━━━━━━━━━━━━━━━━━━━━━━━━━━                                                        \u001b[34m┃\u001b[0m\n\u001b[34m┃\u001b[0m   0m       12           48    4      0      0                                                                   \u001b[34m┃\u001b[0m\n\u001b[34m┃\u001b[0m   -1m      12           48    4      0      0                                                                   \u001b[34m┃\u001b[0m\n\u001b[34m┃\u001b[0m   -2m      12           48    4      0      0                                                                   \u001b[34m┃\u001b[0m\n\u001b[34m┃\u001b[0m   -3m      11           48    4      0      0                                                                   \u001b[34m┃\u001b[0m\n\u001b[34m┃\u001b[0m                                                                                                                 \u001b[34m┃\u001b[0m\n\u001b[34m┃\u001b[0m                                                                                                                 \u001b[34m┃\u001b[0m\n\u001b[34m┃\u001b[0m This data indicates that the majority of analysts recommend buying NVDA stock, with 48 buy recommendations and  \u001b[34m┃\u001b[0m\n\u001b[34m┃\u001b[0m 12 strong buy recommendations over the past three months. There are no sell or strong sell recommendations.     \u001b[34m┃\u001b[0m\n\u001b[34m┃\u001b[0m                                                                                                                 \u001b[34m┃\u001b[0m\n\u001b[34m┗━━━━━━━━━━━━━━━━━━━━━━━━━━━━━━━━━━━━━━━━━━━━━━━━━━━━━━━━━━━━━━━━━━━━━━━━━━━━━━━━━━━━━━━━━━━━━━━━━━━━━━━━━━━━━━━━━┛\u001b[0m\n",
                  "text/html": "<pre style=\"white-space:pre;overflow-x:auto;line-height:normal;font-family:Menlo,'DejaVu Sans Mono',consolas,'Courier New',monospace\"><span style=\"color: #008000; text-decoration-color: #008000\">▰▰▰▰▰▱▱</span> Thinking...\n<span style=\"color: #008080; text-decoration-color: #008080\">┏━ Message ━━━━━━━━━━━━━━━━━━━━━━━━━━━━━━━━━━━━━━━━━━━━━━━━━━━━━━━━━━━━━━━━━━━━━━━━━━━━━━━━━━━━━━━━━━━━━━━━━━━━━━━┓</span>\n<span style=\"color: #008080; text-decoration-color: #008080\">┃</span>                                                                                                                 <span style=\"color: #008080; text-decoration-color: #008080\">┃</span>\n<span style=\"color: #008080; text-decoration-color: #008080\">┃</span> <span style=\"color: #008000; text-decoration-color: #008000\">Summarize analyst recommendations for NVDA</span>                                                                      <span style=\"color: #008080; text-decoration-color: #008080\">┃</span>\n<span style=\"color: #008080; text-decoration-color: #008080\">┃</span>                                                                                                                 <span style=\"color: #008080; text-decoration-color: #008080\">┃</span>\n<span style=\"color: #008080; text-decoration-color: #008080\">┗━━━━━━━━━━━━━━━━━━━━━━━━━━━━━━━━━━━━━━━━━━━━━━━━━━━━━━━━━━━━━━━━━━━━━━━━━━━━━━━━━━━━━━━━━━━━━━━━━━━━━━━━━━━━━━━━━┛</span>\n<span style=\"color: #000080; text-decoration-color: #000080\">┏━ Response (2.7s) ━━━━━━━━━━━━━━━━━━━━━━━━━━━━━━━━━━━━━━━━━━━━━━━━━━━━━━━━━━━━━━━━━━━━━━━━━━━━━━━━━━━━━━━━━━━━━━━┓</span>\n<span style=\"color: #000080; text-decoration-color: #000080\">┃</span>                                                                                                                 <span style=\"color: #000080; text-decoration-color: #000080\">┃</span>\n<span style=\"color: #000080; text-decoration-color: #000080\">┃</span> Running:                                                                                                        <span style=\"color: #000080; text-decoration-color: #000080\">┃</span>\n<span style=\"color: #000080; text-decoration-color: #000080\">┃</span>                                                                                                                 <span style=\"color: #000080; text-decoration-color: #000080\">┃</span>\n<span style=\"color: #000080; text-decoration-color: #000080\">┃</span> <span style=\"color: #808000; text-decoration-color: #808000; font-weight: bold\"> • </span>get_analyst_recommendations(symbol=NVDA)                                                                     <span style=\"color: #000080; text-decoration-color: #000080\">┃</span>\n<span style=\"color: #000080; text-decoration-color: #000080\">┃</span>                                                                                                                 <span style=\"color: #000080; text-decoration-color: #000080\">┃</span>\n<span style=\"color: #000080; text-decoration-color: #000080\">┃</span>                                        <span style=\"font-weight: bold\">Analyst Recommendations for NVDA</span>                                         <span style=\"color: #000080; text-decoration-color: #000080\">┃</span>\n<span style=\"color: #000080; text-decoration-color: #000080\">┃</span>                                                                                                                 <span style=\"color: #000080; text-decoration-color: #000080\">┃</span>\n<span style=\"color: #000080; text-decoration-color: #000080\">┃</span> The following table summarizes analyst recommendations for NVDA:                                                <span style=\"color: #000080; text-decoration-color: #000080\">┃</span>\n<span style=\"color: #000080; text-decoration-color: #000080\">┃</span>                                                                                                                 <span style=\"color: #000080; text-decoration-color: #000080\">┃</span>\n<span style=\"color: #000080; text-decoration-color: #000080\">┃</span>                                                                                                                 <span style=\"color: #000080; text-decoration-color: #000080\">┃</span>\n<span style=\"color: #000080; text-decoration-color: #000080\">┃</span>  <span style=\"font-weight: bold\"> Period </span> <span style=\"font-weight: bold\"> Strong Buy </span> <span style=\"font-weight: bold\"> Buy </span> <span style=\"font-weight: bold\"> Hold </span> <span style=\"font-weight: bold\"> Sell </span> <span style=\"font-weight: bold\"> Strong Sell </span>                                                        <span style=\"color: #000080; text-decoration-color: #000080\">┃</span>\n<span style=\"color: #000080; text-decoration-color: #000080\">┃</span>  ━━━━━━━━━━━━━━━━━━━━━━━━━━━━━━━━━━━━━━━━━━━━━━━━━━━━━━━                                                        <span style=\"color: #000080; text-decoration-color: #000080\">┃</span>\n<span style=\"color: #000080; text-decoration-color: #000080\">┃</span>   0m       12           48    4      0      0                                                                   <span style=\"color: #000080; text-decoration-color: #000080\">┃</span>\n<span style=\"color: #000080; text-decoration-color: #000080\">┃</span>   -1m      12           48    4      0      0                                                                   <span style=\"color: #000080; text-decoration-color: #000080\">┃</span>\n<span style=\"color: #000080; text-decoration-color: #000080\">┃</span>   -2m      12           48    4      0      0                                                                   <span style=\"color: #000080; text-decoration-color: #000080\">┃</span>\n<span style=\"color: #000080; text-decoration-color: #000080\">┃</span>   -3m      11           48    4      0      0                                                                   <span style=\"color: #000080; text-decoration-color: #000080\">┃</span>\n<span style=\"color: #000080; text-decoration-color: #000080\">┃</span>                                                                                                                 <span style=\"color: #000080; text-decoration-color: #000080\">┃</span>\n<span style=\"color: #000080; text-decoration-color: #000080\">┃</span>                                                                                                                 <span style=\"color: #000080; text-decoration-color: #000080\">┃</span>\n<span style=\"color: #000080; text-decoration-color: #000080\">┃</span> This data indicates that the majority of analysts recommend buying NVDA stock, with 48 buy recommendations and  <span style=\"color: #000080; text-decoration-color: #000080\">┃</span>\n<span style=\"color: #000080; text-decoration-color: #000080\">┃</span> 12 strong buy recommendations over the past three months. There are no sell or strong sell recommendations.     <span style=\"color: #000080; text-decoration-color: #000080\">┃</span>\n<span style=\"color: #000080; text-decoration-color: #000080\">┃</span>                                                                                                                 <span style=\"color: #000080; text-decoration-color: #000080\">┃</span>\n<span style=\"color: #000080; text-decoration-color: #000080\">┗━━━━━━━━━━━━━━━━━━━━━━━━━━━━━━━━━━━━━━━━━━━━━━━━━━━━━━━━━━━━━━━━━━━━━━━━━━━━━━━━━━━━━━━━━━━━━━━━━━━━━━━━━━━━━━━━━┛</span>\n</pre>\n"
                },
                "metadata": {}
              }
            ]
          }
        },
        "fcb5c2d91cae4852b5faf40fb0dcc113": {
          "model_module": "@jupyter-widgets/base",
          "model_name": "LayoutModel",
          "model_module_version": "1.2.0",
          "state": {
            "_model_module": "@jupyter-widgets/base",
            "_model_module_version": "1.2.0",
            "_model_name": "LayoutModel",
            "_view_count": null,
            "_view_module": "@jupyter-widgets/base",
            "_view_module_version": "1.2.0",
            "_view_name": "LayoutView",
            "align_content": null,
            "align_items": null,
            "align_self": null,
            "border": null,
            "bottom": null,
            "display": null,
            "flex": null,
            "flex_flow": null,
            "grid_area": null,
            "grid_auto_columns": null,
            "grid_auto_flow": null,
            "grid_auto_rows": null,
            "grid_column": null,
            "grid_gap": null,
            "grid_row": null,
            "grid_template_areas": null,
            "grid_template_columns": null,
            "grid_template_rows": null,
            "height": null,
            "justify_content": null,
            "justify_items": null,
            "left": null,
            "margin": null,
            "max_height": null,
            "max_width": null,
            "min_height": null,
            "min_width": null,
            "object_fit": null,
            "object_position": null,
            "order": null,
            "overflow": null,
            "overflow_x": null,
            "overflow_y": null,
            "padding": null,
            "right": null,
            "top": null,
            "visibility": null,
            "width": null
          }
        },
        "8e3621b2eab04d62921174cf6f0f05f6": {
          "model_module": "@jupyter-widgets/output",
          "model_name": "OutputModel",
          "model_module_version": "1.0.0",
          "state": {
            "_dom_classes": [],
            "_model_module": "@jupyter-widgets/output",
            "_model_module_version": "1.0.0",
            "_model_name": "OutputModel",
            "_view_count": null,
            "_view_module": "@jupyter-widgets/output",
            "_view_module_version": "1.0.0",
            "_view_name": "OutputView",
            "layout": "IPY_MODEL_73da2bf0ed6c48a7b3295bd51fdfc381",
            "msg_id": "",
            "outputs": [
              {
                "output_type": "display_data",
                "data": {
                  "text/plain": "\u001b[32m▰▰▰▰▱▱▱\u001b[0m Thinking...\n\u001b[36m┏━\u001b[0m\u001b[36m Message \u001b[0m\u001b[36m━━━━━━━━━━━━━━━━━━━━━━━━━━━━━━━━━━━━━━━━━━━━━━━━━━━━━━━━━━━━━━━━━━━━━━━━━━━━━━━━━━━━━━━━━━━━━━━━━━━━━━\u001b[0m\u001b[36m━┓\u001b[0m\n\u001b[36m┃\u001b[0m                                                                                                                 \u001b[36m┃\u001b[0m\n\u001b[36m┃\u001b[0m \u001b[32mWhat is the capital of Nepal?\u001b[0m                                                                                   \u001b[36m┃\u001b[0m\n\u001b[36m┃\u001b[0m                                                                                                                 \u001b[36m┃\u001b[0m\n\u001b[36m┗━━━━━━━━━━━━━━━━━━━━━━━━━━━━━━━━━━━━━━━━━━━━━━━━━━━━━━━━━━━━━━━━━━━━━━━━━━━━━━━━━━━━━━━━━━━━━━━━━━━━━━━━━━━━━━━━━┛\u001b[0m\n\u001b[34m┏━\u001b[0m\u001b[34m Response (3.8s) \u001b[0m\u001b[34m━━━━━━━━━━━━━━━━━━━━━━━━━━━━━━━━━━━━━━━━━━━━━━━━━━━━━━━━━━━━━━━━━━━━━━━━━━━━━━━━━━━━━━━━━━━━━━\u001b[0m\u001b[34m━┓\u001b[0m\n\u001b[34m┃\u001b[0m                                                                                                                 \u001b[34m┃\u001b[0m\n\u001b[34m┃\u001b[0m Running:                                                                                                        \u001b[34m┃\u001b[0m\n\u001b[34m┃\u001b[0m                                                                                                                 \u001b[34m┃\u001b[0m\n\u001b[34m┃\u001b[0m \u001b[1;33m • \u001b[0mduckduckgo_search(query=Capital of Nepal, max_results=1)                                                     \u001b[34m┃\u001b[0m\n\u001b[34m┃\u001b[0m                                                                                                                 \u001b[34m┃\u001b[0m\n\u001b[34m┃\u001b[0m The capital of Nepal is \u001b[1mKathmandu\u001b[0m.                                                                              \u001b[34m┃\u001b[0m\n\u001b[34m┃\u001b[0m                                                                                                                 \u001b[34m┃\u001b[0m\n\u001b[34m┗━━━━━━━━━━━━━━━━━━━━━━━━━━━━━━━━━━━━━━━━━━━━━━━━━━━━━━━━━━━━━━━━━━━━━━━━━━━━━━━━━━━━━━━━━━━━━━━━━━━━━━━━━━━━━━━━━┛\u001b[0m\n",
                  "text/html": "<pre style=\"white-space:pre;overflow-x:auto;line-height:normal;font-family:Menlo,'DejaVu Sans Mono',consolas,'Courier New',monospace\"><span style=\"color: #008000; text-decoration-color: #008000\">▰▰▰▰▱▱▱</span> Thinking...\n<span style=\"color: #008080; text-decoration-color: #008080\">┏━ Message ━━━━━━━━━━━━━━━━━━━━━━━━━━━━━━━━━━━━━━━━━━━━━━━━━━━━━━━━━━━━━━━━━━━━━━━━━━━━━━━━━━━━━━━━━━━━━━━━━━━━━━━┓</span>\n<span style=\"color: #008080; text-decoration-color: #008080\">┃</span>                                                                                                                 <span style=\"color: #008080; text-decoration-color: #008080\">┃</span>\n<span style=\"color: #008080; text-decoration-color: #008080\">┃</span> <span style=\"color: #008000; text-decoration-color: #008000\">What is the capital of Nepal?</span>                                                                                   <span style=\"color: #008080; text-decoration-color: #008080\">┃</span>\n<span style=\"color: #008080; text-decoration-color: #008080\">┃</span>                                                                                                                 <span style=\"color: #008080; text-decoration-color: #008080\">┃</span>\n<span style=\"color: #008080; text-decoration-color: #008080\">┗━━━━━━━━━━━━━━━━━━━━━━━━━━━━━━━━━━━━━━━━━━━━━━━━━━━━━━━━━━━━━━━━━━━━━━━━━━━━━━━━━━━━━━━━━━━━━━━━━━━━━━━━━━━━━━━━━┛</span>\n<span style=\"color: #000080; text-decoration-color: #000080\">┏━ Response (3.8s) ━━━━━━━━━━━━━━━━━━━━━━━━━━━━━━━━━━━━━━━━━━━━━━━━━━━━━━━━━━━━━━━━━━━━━━━━━━━━━━━━━━━━━━━━━━━━━━━┓</span>\n<span style=\"color: #000080; text-decoration-color: #000080\">┃</span>                                                                                                                 <span style=\"color: #000080; text-decoration-color: #000080\">┃</span>\n<span style=\"color: #000080; text-decoration-color: #000080\">┃</span> Running:                                                                                                        <span style=\"color: #000080; text-decoration-color: #000080\">┃</span>\n<span style=\"color: #000080; text-decoration-color: #000080\">┃</span>                                                                                                                 <span style=\"color: #000080; text-decoration-color: #000080\">┃</span>\n<span style=\"color: #000080; text-decoration-color: #000080\">┃</span> <span style=\"color: #808000; text-decoration-color: #808000; font-weight: bold\"> • </span>duckduckgo_search(query=Capital of Nepal, max_results=1)                                                     <span style=\"color: #000080; text-decoration-color: #000080\">┃</span>\n<span style=\"color: #000080; text-decoration-color: #000080\">┃</span>                                                                                                                 <span style=\"color: #000080; text-decoration-color: #000080\">┃</span>\n<span style=\"color: #000080; text-decoration-color: #000080\">┃</span> The capital of Nepal is <span style=\"font-weight: bold\">Kathmandu</span>.                                                                              <span style=\"color: #000080; text-decoration-color: #000080\">┃</span>\n<span style=\"color: #000080; text-decoration-color: #000080\">┃</span>                                                                                                                 <span style=\"color: #000080; text-decoration-color: #000080\">┃</span>\n<span style=\"color: #000080; text-decoration-color: #000080\">┗━━━━━━━━━━━━━━━━━━━━━━━━━━━━━━━━━━━━━━━━━━━━━━━━━━━━━━━━━━━━━━━━━━━━━━━━━━━━━━━━━━━━━━━━━━━━━━━━━━━━━━━━━━━━━━━━━┛</span>\n</pre>\n"
                },
                "metadata": {}
              }
            ]
          }
        },
        "73da2bf0ed6c48a7b3295bd51fdfc381": {
          "model_module": "@jupyter-widgets/base",
          "model_name": "LayoutModel",
          "model_module_version": "1.2.0",
          "state": {
            "_model_module": "@jupyter-widgets/base",
            "_model_module_version": "1.2.0",
            "_model_name": "LayoutModel",
            "_view_count": null,
            "_view_module": "@jupyter-widgets/base",
            "_view_module_version": "1.2.0",
            "_view_name": "LayoutView",
            "align_content": null,
            "align_items": null,
            "align_self": null,
            "border": null,
            "bottom": null,
            "display": null,
            "flex": null,
            "flex_flow": null,
            "grid_area": null,
            "grid_auto_columns": null,
            "grid_auto_flow": null,
            "grid_auto_rows": null,
            "grid_column": null,
            "grid_gap": null,
            "grid_row": null,
            "grid_template_areas": null,
            "grid_template_columns": null,
            "grid_template_rows": null,
            "height": null,
            "justify_content": null,
            "justify_items": null,
            "left": null,
            "margin": null,
            "max_height": null,
            "max_width": null,
            "min_height": null,
            "min_width": null,
            "object_fit": null,
            "object_position": null,
            "order": null,
            "overflow": null,
            "overflow_x": null,
            "overflow_y": null,
            "padding": null,
            "right": null,
            "top": null,
            "visibility": null,
            "width": null
          }
        },
        "daf50a1ce418444193a9e64e2caf950b": {
          "model_module": "@jupyter-widgets/output",
          "model_name": "OutputModel",
          "model_module_version": "1.0.0",
          "state": {
            "_dom_classes": [],
            "_model_module": "@jupyter-widgets/output",
            "_model_module_version": "1.0.0",
            "_model_name": "OutputModel",
            "_view_count": null,
            "_view_module": "@jupyter-widgets/output",
            "_view_module_version": "1.0.0",
            "_view_name": "OutputView",
            "layout": "IPY_MODEL_942e56e8bab0400d9d9524edf8db4e4b",
            "msg_id": "",
            "outputs": [
              {
                "output_type": "display_data",
                "data": {
                  "text/plain": "\u001b[32m▰▰▰▰▰▰▰\u001b[0m Thinking...\n\u001b[36m┏━\u001b[0m\u001b[36m Message \u001b[0m\u001b[36m━━━━━━━━━━━━━━━━━━━━━━━━━━━━━━━━━━━━━━━━━━━━━━━━━━━━━━━━━━━━━━━━━━━━━━━━━━━━━━━━━━━━━━━━━━━━━━━━━━━━━━\u001b[0m\u001b[36m━┓\u001b[0m\n\u001b[36m┃\u001b[0m                                                                                                                 \u001b[36m┃\u001b[0m\n\u001b[36m┃\u001b[0m \u001b[32mSummarize analyst recommendations and share the latest news for NVDA\u001b[0m                                            \u001b[36m┃\u001b[0m\n\u001b[36m┃\u001b[0m                                                                                                                 \u001b[36m┃\u001b[0m\n\u001b[36m┗━━━━━━━━━━━━━━━━━━━━━━━━━━━━━━━━━━━━━━━━━━━━━━━━━━━━━━━━━━━━━━━━━━━━━━━━━━━━━━━━━━━━━━━━━━━━━━━━━━━━━━━━━━━━━━━━━┛\u001b[0m\n\u001b[34m┏━\u001b[0m\u001b[34m Response (15.9s) \u001b[0m\u001b[34m━━━━━━━━━━━━━━━━━━━━━━━━━━━━━━━━━━━━━━━━━━━━━━━━━━━━━━━━━━━━━━━━━━━━━━━━━━━━━━━━━━━━━━━━━━━━━\u001b[0m\u001b[34m━┓\u001b[0m\n\u001b[34m┃\u001b[0m                                                                                                                 \u001b[34m┃\u001b[0m\n\u001b[34m┃\u001b[0m Running:                                                                                                        \u001b[34m┃\u001b[0m\n\u001b[34m┃\u001b[0m                                                                                                                 \u001b[34m┃\u001b[0m\n\u001b[34m┃\u001b[0m \u001b[1;33m • \u001b[0mtransfer_task_to_finance_agent(task_description=Summarize analyst recommendations for NVDA,                  \u001b[34m┃\u001b[0m\n\u001b[34m┃\u001b[0m \u001b[1;33m   \u001b[0mexpected_output=A summary of analyst recommendations, additional_information=NVDA analyst recommendations)   \u001b[34m┃\u001b[0m\n\u001b[34m┃\u001b[0m \u001b[1;33m • \u001b[0mtransfer_task_to_finance_agent(task_description=Get the latest news for NVDA, expected_output=The latest     \u001b[34m┃\u001b[0m\n\u001b[34m┃\u001b[0m \u001b[1;33m   \u001b[0mnews for NVDA, additional_information=NVDA latest news)                                                      \u001b[34m┃\u001b[0m\n\u001b[34m┃\u001b[0m                                                                                                                 \u001b[34m┃\u001b[0m\n\u001b[34m┃\u001b[0m The analyst recommendations for NVDA are overwhelmingly positive, with 12 analysts giving a \"strong buy\"        \u001b[34m┃\u001b[0m\n\u001b[34m┃\u001b[0m recommendation and 48 giving a \"buy\" recommendation. Only 4 analysts recommend holding the stock, and none      \u001b[34m┃\u001b[0m\n\u001b[34m┃\u001b[0m recommend selling or strongly selling.                                                                          \u001b[34m┃\u001b[0m\n\u001b[34m┃\u001b[0m                                                                                                                 \u001b[34m┃\u001b[0m\n\u001b[34m┃\u001b[0m As for the latest news, NVDA has been making headlines with its CEO Jensen Huang's keynote speech at CES, where \u001b[34m┃\u001b[0m\n\u001b[34m┃\u001b[0m he discussed the company's latest innovations and partnerships. Additionally, Aurora has teamed up with NVDA    \u001b[34m┃\u001b[0m\n\u001b[34m┃\u001b[0m and Continental to power driverless trucks, and Micron's stock has rallied after being named a key supplier for \u001b[34m┃\u001b[0m\n\u001b[34m┃\u001b[0m NVDA's new GPUs.                                                                                                \u001b[34m┃\u001b[0m\n\u001b[34m┃\u001b[0m                                                                                                                 \u001b[34m┃\u001b[0m\n\u001b[34m┃\u001b[0m Here is a summary of the news in a table format:                                                                \u001b[34m┃\u001b[0m\n\u001b[34m┃\u001b[0m                                                                                                                 \u001b[34m┃\u001b[0m\n\u001b[34m┃\u001b[0m                                                                                                                 \u001b[34m┃\u001b[0m\n\u001b[34m┃\u001b[0m  \u001b[1m \u001b[0m\u001b[1mTitle\u001b[0m\u001b[1m                                    \u001b[0m\u001b[1m \u001b[0m \u001b[1m \u001b[0m\u001b[1mPublisher\u001b[0m\u001b[1m          \u001b[0m\u001b[1m \u001b[0m \u001b[1m \u001b[0m\u001b[1mLink\u001b[0m\u001b[1m                                     \u001b[0m\u001b[1m \u001b[0m  \u001b[34m┃\u001b[0m\n\u001b[34m┃\u001b[0m  ━━━━━━━━━━━━━━━━━━━━━━━━━━━━━━━━━━━━━━━━━━━━━━━━━━━━━━━━━━━━━━━━━━━━━━━━━━━━━━━━━━━━━━━━━━━━━━━━━━━━━━━━━━━━━  \u001b[34m┃\u001b[0m\n\u001b[34m┃\u001b[0m   Nvidia CEO Jensen Huang's CES keynote:      Yahoo Finance Video   https://finance.yahoo.com/video/nvidia-c…   \u001b[34m┃\u001b[0m\n\u001b[34m┃\u001b[0m   Top takeaways                                                                                                 \u001b[34m┃\u001b[0m\n\u001b[34m┃\u001b[0m   Aurora Teams Up With NVIDIA & Continental   Benzinga              https://finance.yahoo.com/news/aurora-te…   \u001b[34m┃\u001b[0m\n\u001b[34m┃\u001b[0m   To Power Driverless Trucks: Details                                                                           \u001b[34m┃\u001b[0m\n\u001b[34m┃\u001b[0m   Watch These Nvidia Price Levels as Stock    Investopedia          https://finance.yahoo.com/m/fd6c8d47-152…   \u001b[34m┃\u001b[0m\n\u001b[34m┃\u001b[0m   Continues Rising After CEO's Keynote                                                                          \u001b[34m┃\u001b[0m\n\u001b[34m┃\u001b[0m   Speech                                                                                                        \u001b[34m┃\u001b[0m\n\u001b[34m┃\u001b[0m   Is Nvidia Stock a Buy Now?                  Motley Fool           https://finance.yahoo.com/m/4b67daa6-75d…   \u001b[34m┃\u001b[0m\n\u001b[34m┃\u001b[0m   Micron stock rallies after Nvidia named     Investing.com         https://finance.yahoo.com/news/micron-st…   \u001b[34m┃\u001b[0m\n\u001b[34m┃\u001b[0m   it key supplier for new GPUs                                                                                  \u001b[34m┃\u001b[0m\n\u001b[34m┃\u001b[0m                                                                                                                 \u001b[34m┃\u001b[0m\n\u001b[34m┃\u001b[0m                                                                                                                 \u001b[34m┃\u001b[0m\n\u001b[34m┃\u001b[0m Overall, it seems that NVDA is making significant progress in the tech industry, with its CEO's keynote speech  \u001b[34m┃\u001b[0m\n\u001b[34m┃\u001b[0m and partnerships with other companies generating a lot of buzz.                                                 \u001b[34m┃\u001b[0m\n\u001b[34m┃\u001b[0m                                                                                                                 \u001b[34m┃\u001b[0m\n\u001b[34m┗━━━━━━━━━━━━━━━━━━━━━━━━━━━━━━━━━━━━━━━━━━━━━━━━━━━━━━━━━━━━━━━━━━━━━━━━━━━━━━━━━━━━━━━━━━━━━━━━━━━━━━━━━━━━━━━━━┛\u001b[0m\n",
                  "text/html": "<pre style=\"white-space:pre;overflow-x:auto;line-height:normal;font-family:Menlo,'DejaVu Sans Mono',consolas,'Courier New',monospace\"><span style=\"color: #008000; text-decoration-color: #008000\">▰▰▰▰▰▰▰</span> Thinking...\n<span style=\"color: #008080; text-decoration-color: #008080\">┏━ Message ━━━━━━━━━━━━━━━━━━━━━━━━━━━━━━━━━━━━━━━━━━━━━━━━━━━━━━━━━━━━━━━━━━━━━━━━━━━━━━━━━━━━━━━━━━━━━━━━━━━━━━━┓</span>\n<span style=\"color: #008080; text-decoration-color: #008080\">┃</span>                                                                                                                 <span style=\"color: #008080; text-decoration-color: #008080\">┃</span>\n<span style=\"color: #008080; text-decoration-color: #008080\">┃</span> <span style=\"color: #008000; text-decoration-color: #008000\">Summarize analyst recommendations and share the latest news for NVDA</span>                                            <span style=\"color: #008080; text-decoration-color: #008080\">┃</span>\n<span style=\"color: #008080; text-decoration-color: #008080\">┃</span>                                                                                                                 <span style=\"color: #008080; text-decoration-color: #008080\">┃</span>\n<span style=\"color: #008080; text-decoration-color: #008080\">┗━━━━━━━━━━━━━━━━━━━━━━━━━━━━━━━━━━━━━━━━━━━━━━━━━━━━━━━━━━━━━━━━━━━━━━━━━━━━━━━━━━━━━━━━━━━━━━━━━━━━━━━━━━━━━━━━━┛</span>\n<span style=\"color: #000080; text-decoration-color: #000080\">┏━ Response (15.9s) ━━━━━━━━━━━━━━━━━━━━━━━━━━━━━━━━━━━━━━━━━━━━━━━━━━━━━━━━━━━━━━━━━━━━━━━━━━━━━━━━━━━━━━━━━━━━━━┓</span>\n<span style=\"color: #000080; text-decoration-color: #000080\">┃</span>                                                                                                                 <span style=\"color: #000080; text-decoration-color: #000080\">┃</span>\n<span style=\"color: #000080; text-decoration-color: #000080\">┃</span> Running:                                                                                                        <span style=\"color: #000080; text-decoration-color: #000080\">┃</span>\n<span style=\"color: #000080; text-decoration-color: #000080\">┃</span>                                                                                                                 <span style=\"color: #000080; text-decoration-color: #000080\">┃</span>\n<span style=\"color: #000080; text-decoration-color: #000080\">┃</span> <span style=\"color: #808000; text-decoration-color: #808000; font-weight: bold\"> • </span>transfer_task_to_finance_agent(task_description=Summarize analyst recommendations for NVDA,                  <span style=\"color: #000080; text-decoration-color: #000080\">┃</span>\n<span style=\"color: #000080; text-decoration-color: #000080\">┃</span> <span style=\"color: #808000; text-decoration-color: #808000; font-weight: bold\">   </span>expected_output=A summary of analyst recommendations, additional_information=NVDA analyst recommendations)   <span style=\"color: #000080; text-decoration-color: #000080\">┃</span>\n<span style=\"color: #000080; text-decoration-color: #000080\">┃</span> <span style=\"color: #808000; text-decoration-color: #808000; font-weight: bold\"> • </span>transfer_task_to_finance_agent(task_description=Get the latest news for NVDA, expected_output=The latest     <span style=\"color: #000080; text-decoration-color: #000080\">┃</span>\n<span style=\"color: #000080; text-decoration-color: #000080\">┃</span> <span style=\"color: #808000; text-decoration-color: #808000; font-weight: bold\">   </span>news for NVDA, additional_information=NVDA latest news)                                                      <span style=\"color: #000080; text-decoration-color: #000080\">┃</span>\n<span style=\"color: #000080; text-decoration-color: #000080\">┃</span>                                                                                                                 <span style=\"color: #000080; text-decoration-color: #000080\">┃</span>\n<span style=\"color: #000080; text-decoration-color: #000080\">┃</span> The analyst recommendations for NVDA are overwhelmingly positive, with 12 analysts giving a \"strong buy\"        <span style=\"color: #000080; text-decoration-color: #000080\">┃</span>\n<span style=\"color: #000080; text-decoration-color: #000080\">┃</span> recommendation and 48 giving a \"buy\" recommendation. Only 4 analysts recommend holding the stock, and none      <span style=\"color: #000080; text-decoration-color: #000080\">┃</span>\n<span style=\"color: #000080; text-decoration-color: #000080\">┃</span> recommend selling or strongly selling.                                                                          <span style=\"color: #000080; text-decoration-color: #000080\">┃</span>\n<span style=\"color: #000080; text-decoration-color: #000080\">┃</span>                                                                                                                 <span style=\"color: #000080; text-decoration-color: #000080\">┃</span>\n<span style=\"color: #000080; text-decoration-color: #000080\">┃</span> As for the latest news, NVDA has been making headlines with its CEO Jensen Huang's keynote speech at CES, where <span style=\"color: #000080; text-decoration-color: #000080\">┃</span>\n<span style=\"color: #000080; text-decoration-color: #000080\">┃</span> he discussed the company's latest innovations and partnerships. Additionally, Aurora has teamed up with NVDA    <span style=\"color: #000080; text-decoration-color: #000080\">┃</span>\n<span style=\"color: #000080; text-decoration-color: #000080\">┃</span> and Continental to power driverless trucks, and Micron's stock has rallied after being named a key supplier for <span style=\"color: #000080; text-decoration-color: #000080\">┃</span>\n<span style=\"color: #000080; text-decoration-color: #000080\">┃</span> NVDA's new GPUs.                                                                                                <span style=\"color: #000080; text-decoration-color: #000080\">┃</span>\n<span style=\"color: #000080; text-decoration-color: #000080\">┃</span>                                                                                                                 <span style=\"color: #000080; text-decoration-color: #000080\">┃</span>\n<span style=\"color: #000080; text-decoration-color: #000080\">┃</span> Here is a summary of the news in a table format:                                                                <span style=\"color: #000080; text-decoration-color: #000080\">┃</span>\n<span style=\"color: #000080; text-decoration-color: #000080\">┃</span>                                                                                                                 <span style=\"color: #000080; text-decoration-color: #000080\">┃</span>\n<span style=\"color: #000080; text-decoration-color: #000080\">┃</span>                                                                                                                 <span style=\"color: #000080; text-decoration-color: #000080\">┃</span>\n<span style=\"color: #000080; text-decoration-color: #000080\">┃</span>  <span style=\"font-weight: bold\"> Title                                     </span> <span style=\"font-weight: bold\"> Publisher           </span> <span style=\"font-weight: bold\"> Link                                      </span>  <span style=\"color: #000080; text-decoration-color: #000080\">┃</span>\n<span style=\"color: #000080; text-decoration-color: #000080\">┃</span>  ━━━━━━━━━━━━━━━━━━━━━━━━━━━━━━━━━━━━━━━━━━━━━━━━━━━━━━━━━━━━━━━━━━━━━━━━━━━━━━━━━━━━━━━━━━━━━━━━━━━━━━━━━━━━━  <span style=\"color: #000080; text-decoration-color: #000080\">┃</span>\n<span style=\"color: #000080; text-decoration-color: #000080\">┃</span>   Nvidia CEO Jensen Huang's CES keynote:      Yahoo Finance Video   https://finance.yahoo.com/video/nvidia-c…   <span style=\"color: #000080; text-decoration-color: #000080\">┃</span>\n<span style=\"color: #000080; text-decoration-color: #000080\">┃</span>   Top takeaways                                                                                                 <span style=\"color: #000080; text-decoration-color: #000080\">┃</span>\n<span style=\"color: #000080; text-decoration-color: #000080\">┃</span>   Aurora Teams Up With NVIDIA &amp; Continental   Benzinga              https://finance.yahoo.com/news/aurora-te…   <span style=\"color: #000080; text-decoration-color: #000080\">┃</span>\n<span style=\"color: #000080; text-decoration-color: #000080\">┃</span>   To Power Driverless Trucks: Details                                                                           <span style=\"color: #000080; text-decoration-color: #000080\">┃</span>\n<span style=\"color: #000080; text-decoration-color: #000080\">┃</span>   Watch These Nvidia Price Levels as Stock    Investopedia          https://finance.yahoo.com/m/fd6c8d47-152…   <span style=\"color: #000080; text-decoration-color: #000080\">┃</span>\n<span style=\"color: #000080; text-decoration-color: #000080\">┃</span>   Continues Rising After CEO's Keynote                                                                          <span style=\"color: #000080; text-decoration-color: #000080\">┃</span>\n<span style=\"color: #000080; text-decoration-color: #000080\">┃</span>   Speech                                                                                                        <span style=\"color: #000080; text-decoration-color: #000080\">┃</span>\n<span style=\"color: #000080; text-decoration-color: #000080\">┃</span>   Is Nvidia Stock a Buy Now?                  Motley Fool           https://finance.yahoo.com/m/4b67daa6-75d…   <span style=\"color: #000080; text-decoration-color: #000080\">┃</span>\n<span style=\"color: #000080; text-decoration-color: #000080\">┃</span>   Micron stock rallies after Nvidia named     Investing.com         https://finance.yahoo.com/news/micron-st…   <span style=\"color: #000080; text-decoration-color: #000080\">┃</span>\n<span style=\"color: #000080; text-decoration-color: #000080\">┃</span>   it key supplier for new GPUs                                                                                  <span style=\"color: #000080; text-decoration-color: #000080\">┃</span>\n<span style=\"color: #000080; text-decoration-color: #000080\">┃</span>                                                                                                                 <span style=\"color: #000080; text-decoration-color: #000080\">┃</span>\n<span style=\"color: #000080; text-decoration-color: #000080\">┃</span>                                                                                                                 <span style=\"color: #000080; text-decoration-color: #000080\">┃</span>\n<span style=\"color: #000080; text-decoration-color: #000080\">┃</span> Overall, it seems that NVDA is making significant progress in the tech industry, with its CEO's keynote speech  <span style=\"color: #000080; text-decoration-color: #000080\">┃</span>\n<span style=\"color: #000080; text-decoration-color: #000080\">┃</span> and partnerships with other companies generating a lot of buzz.                                                 <span style=\"color: #000080; text-decoration-color: #000080\">┃</span>\n<span style=\"color: #000080; text-decoration-color: #000080\">┃</span>                                                                                                                 <span style=\"color: #000080; text-decoration-color: #000080\">┃</span>\n<span style=\"color: #000080; text-decoration-color: #000080\">┗━━━━━━━━━━━━━━━━━━━━━━━━━━━━━━━━━━━━━━━━━━━━━━━━━━━━━━━━━━━━━━━━━━━━━━━━━━━━━━━━━━━━━━━━━━━━━━━━━━━━━━━━━━━━━━━━━┛</span>\n</pre>\n"
                },
                "metadata": {}
              }
            ]
          }
        },
        "942e56e8bab0400d9d9524edf8db4e4b": {
          "model_module": "@jupyter-widgets/base",
          "model_name": "LayoutModel",
          "model_module_version": "1.2.0",
          "state": {
            "_model_module": "@jupyter-widgets/base",
            "_model_module_version": "1.2.0",
            "_model_name": "LayoutModel",
            "_view_count": null,
            "_view_module": "@jupyter-widgets/base",
            "_view_module_version": "1.2.0",
            "_view_name": "LayoutView",
            "align_content": null,
            "align_items": null,
            "align_self": null,
            "border": null,
            "bottom": null,
            "display": null,
            "flex": null,
            "flex_flow": null,
            "grid_area": null,
            "grid_auto_columns": null,
            "grid_auto_flow": null,
            "grid_auto_rows": null,
            "grid_column": null,
            "grid_gap": null,
            "grid_row": null,
            "grid_template_areas": null,
            "grid_template_columns": null,
            "grid_template_rows": null,
            "height": null,
            "justify_content": null,
            "justify_items": null,
            "left": null,
            "margin": null,
            "max_height": null,
            "max_width": null,
            "min_height": null,
            "min_width": null,
            "object_fit": null,
            "object_position": null,
            "order": null,
            "overflow": null,
            "overflow_x": null,
            "overflow_y": null,
            "padding": null,
            "right": null,
            "top": null,
            "visibility": null,
            "width": null
          }
        }
      }
    }
  },
  "cells": [
    {
      "cell_type": "markdown",
      "metadata": {
        "id": "view-in-github",
        "colab_type": "text"
      },
      "source": [
        "<a href=\"https://colab.research.google.com/github/preetamjumech/AI-Agent-phidata/blob/main/Agentic_AI_Phidata_Groq_07_01_2025.ipynb\" target=\"_parent\"><img src=\"https://colab.research.google.com/assets/colab-badge.svg\" alt=\"Open In Colab\"/></a>"
      ]
    },
    {
      "cell_type": "code",
      "execution_count": 7,
      "metadata": {
        "colab": {
          "base_uri": "https://localhost:8080/"
        },
        "id": "LcdxRIMW36YQ",
        "outputId": "be8028a4-cbbc-4146-f216-f44eb7b0c28e"
      },
      "outputs": [
        {
          "output_type": "stream",
          "name": "stdout",
          "text": [
            "\u001b[?25l   \u001b[90m━━━━━━━━━━━━━━━━━━━━━━━━━━━━━━━━━━━━━━━━\u001b[0m \u001b[32m0.0/3.2 MB\u001b[0m \u001b[31m?\u001b[0m eta \u001b[36m-:--:--\u001b[0m\r\u001b[2K   \u001b[91m━━━━━━\u001b[0m\u001b[90m╺\u001b[0m\u001b[90m━━━━━━━━━━━━━━━━━━━━━━━━━━━━━━━━━\u001b[0m \u001b[32m0.5/3.2 MB\u001b[0m \u001b[31m14.9 MB/s\u001b[0m eta \u001b[36m0:00:01\u001b[0m\r\u001b[2K   \u001b[91m━━━━━━━━━━━━━━━━━━━━━━━━━━━━━━━━━━━━━━━\u001b[0m\u001b[91m╸\u001b[0m \u001b[32m3.2/3.2 MB\u001b[0m \u001b[31m48.5 MB/s\u001b[0m eta \u001b[36m0:00:01\u001b[0m\r\u001b[2K   \u001b[90m━━━━━━━━━━━━━━━━━━━━━━━━━━━━━━━━━━━━━━━━\u001b[0m \u001b[32m3.2/3.2 MB\u001b[0m \u001b[31m35.3 MB/s\u001b[0m eta \u001b[36m0:00:00\u001b[0m\n",
            "\u001b[?25h"
          ]
        }
      ],
      "source": [
        "!pip install phidata groq duckduckgo-search  -q"
      ]
    },
    {
      "cell_type": "code",
      "source": [
        "from google.colab import userdata\n",
        "api_key = userdata.get('GROQ_API_KEY')"
      ],
      "metadata": {
        "id": "g1P9yIEOgVN4"
      },
      "execution_count": 2,
      "outputs": []
    },
    {
      "cell_type": "markdown",
      "source": [
        "# Finance Agent"
      ],
      "metadata": {
        "id": "C4RtYSIXgxKx"
      }
    },
    {
      "cell_type": "code",
      "source": [
        "from phi.agent import Agent\n",
        "from phi.model.groq import Groq\n",
        "from phi.tools.yfinance import YFinanceTools\n",
        "from dotenv import load_dotenv\n",
        "\n",
        "load_dotenv()\n",
        "\n",
        "finance_agent = Agent(\n",
        "    name=\"Finance Agent\",\n",
        "    description = \"Your task is to find the finance information\",\n",
        "    model = Groq(id=\"llama-3.3-70b-versatile\", api_key = api_key),\n",
        "    tools=[YFinanceTools(stock_price=True, analyst_recommendations=True, company_info=True, company_news=True)],\n",
        "    instructions=[\"Use tables to display data\"],\n",
        "    show_tool_calls=True,\n",
        "    markdown=True,\n",
        "    debug_mode = True\n",
        ")\n",
        "finance_agent.print_response(\"Summarize analyst recommendations for NVDA\", stream=True)"
      ],
      "metadata": {
        "colab": {
          "base_uri": "https://localhost:8080/",
          "height": 1000,
          "referenced_widgets": [
            "940403e93d844c539ae53e1591662222",
            "fcb5c2d91cae4852b5faf40fb0dcc113"
          ]
        },
        "id": "R5wWWNqtf0GR",
        "outputId": "ccd93793-0237-4b56-b5bf-e984dc74ddc7"
      },
      "execution_count": 4,
      "outputs": [
        {
          "output_type": "display_data",
          "data": {
            "text/plain": [
              "\u001b[32mDEBUG   \u001b[0m Function: get_current_stock_price registered with yfinance_tools                                          \n"
            ],
            "text/html": [
              "<pre style=\"white-space:pre;overflow-x:auto;line-height:normal;font-family:Menlo,'DejaVu Sans Mono',consolas,'Courier New',monospace\"><span style=\"color: #008000; text-decoration-color: #008000\">DEBUG   </span> Function: get_current_stock_price registered with yfinance_tools                                          \n",
              "</pre>\n"
            ]
          },
          "metadata": {}
        },
        {
          "output_type": "display_data",
          "data": {
            "text/plain": [
              "\u001b[32mDEBUG   \u001b[0m Function: get_company_info registered with yfinance_tools                                                 \n"
            ],
            "text/html": [
              "<pre style=\"white-space:pre;overflow-x:auto;line-height:normal;font-family:Menlo,'DejaVu Sans Mono',consolas,'Courier New',monospace\"><span style=\"color: #008000; text-decoration-color: #008000\">DEBUG   </span> Function: get_company_info registered with yfinance_tools                                                 \n",
              "</pre>\n"
            ]
          },
          "metadata": {}
        },
        {
          "output_type": "display_data",
          "data": {
            "text/plain": [
              "\u001b[32mDEBUG   \u001b[0m Function: get_analyst_recommendations registered with yfinance_tools                                      \n"
            ],
            "text/html": [
              "<pre style=\"white-space:pre;overflow-x:auto;line-height:normal;font-family:Menlo,'DejaVu Sans Mono',consolas,'Courier New',monospace\"><span style=\"color: #008000; text-decoration-color: #008000\">DEBUG   </span> Function: get_analyst_recommendations registered with yfinance_tools                                      \n",
              "</pre>\n"
            ]
          },
          "metadata": {}
        },
        {
          "output_type": "display_data",
          "data": {
            "text/plain": [
              "\u001b[32mDEBUG   \u001b[0m Function: get_company_news registered with yfinance_tools                                                 \n"
            ],
            "text/html": [
              "<pre style=\"white-space:pre;overflow-x:auto;line-height:normal;font-family:Menlo,'DejaVu Sans Mono',consolas,'Courier New',monospace\"><span style=\"color: #008000; text-decoration-color: #008000\">DEBUG   </span> Function: get_company_news registered with yfinance_tools                                                 \n",
              "</pre>\n"
            ]
          },
          "metadata": {}
        },
        {
          "output_type": "display_data",
          "data": {
            "text/plain": [
              "\u001b[32mDEBUG   \u001b[0m *********** Agent ID: \u001b[93mefceb5b6-67cc-4245-82df-e2e2530e57f7\u001b[0m ***********                                    \n"
            ],
            "text/html": [
              "<pre style=\"white-space:pre;overflow-x:auto;line-height:normal;font-family:Menlo,'DejaVu Sans Mono',consolas,'Courier New',monospace\"><span style=\"color: #008000; text-decoration-color: #008000\">DEBUG   </span> *********** Agent ID: <span style=\"color: #ffff00; text-decoration-color: #ffff00\">efceb5b6-67cc-4245-82df-e2e2530e57f7</span> ***********                                    \n",
              "</pre>\n"
            ]
          },
          "metadata": {}
        },
        {
          "output_type": "display_data",
          "data": {
            "text/plain": [
              "\u001b[32mDEBUG   \u001b[0m *********** Session ID: \u001b[93m06f9c77e-98ee-45f5-a82d-e24d459c65b0\u001b[0m ***********                                  \n"
            ],
            "text/html": [
              "<pre style=\"white-space:pre;overflow-x:auto;line-height:normal;font-family:Menlo,'DejaVu Sans Mono',consolas,'Courier New',monospace\"><span style=\"color: #008000; text-decoration-color: #008000\">DEBUG   </span> *********** Session ID: <span style=\"color: #ffff00; text-decoration-color: #ffff00\">06f9c77e-98ee-45f5-a82d-e24d459c65b0</span> ***********                                  \n",
              "</pre>\n"
            ]
          },
          "metadata": {}
        },
        {
          "output_type": "display_data",
          "data": {
            "text/plain": [
              "\u001b[32mDEBUG   \u001b[0m Debug logs enabled                                                                                        \n"
            ],
            "text/html": [
              "<pre style=\"white-space:pre;overflow-x:auto;line-height:normal;font-family:Menlo,'DejaVu Sans Mono',consolas,'Courier New',monospace\"><span style=\"color: #008000; text-decoration-color: #008000\">DEBUG   </span> Debug logs enabled                                                                                        \n",
              "</pre>\n"
            ]
          },
          "metadata": {}
        },
        {
          "output_type": "display_data",
          "data": {
            "text/plain": [
              "\u001b[32mDEBUG   \u001b[0m *********** Agent Run Start: \u001b[93mdf85c275-6e8b-4942-97f9-393de7b1241a\u001b[0m ***********                             \n"
            ],
            "text/html": [
              "<pre style=\"white-space:pre;overflow-x:auto;line-height:normal;font-family:Menlo,'DejaVu Sans Mono',consolas,'Courier New',monospace\"><span style=\"color: #008000; text-decoration-color: #008000\">DEBUG   </span> *********** Agent Run Start: <span style=\"color: #ffff00; text-decoration-color: #ffff00\">df85c275-6e8b-4942-97f9-393de7b1241a</span> ***********                             \n",
              "</pre>\n"
            ]
          },
          "metadata": {}
        },
        {
          "output_type": "display_data",
          "data": {
            "text/plain": [
              "\u001b[32mDEBUG   \u001b[0m Function get_current_stock_price from yfinance_tools added to model.                                      \n"
            ],
            "text/html": [
              "<pre style=\"white-space:pre;overflow-x:auto;line-height:normal;font-family:Menlo,'DejaVu Sans Mono',consolas,'Courier New',monospace\"><span style=\"color: #008000; text-decoration-color: #008000\">DEBUG   </span> Function get_current_stock_price from yfinance_tools added to model.                                      \n",
              "</pre>\n"
            ]
          },
          "metadata": {}
        },
        {
          "output_type": "display_data",
          "data": {
            "text/plain": [
              "\u001b[32mDEBUG   \u001b[0m Function get_company_info from yfinance_tools added to model.                                             \n"
            ],
            "text/html": [
              "<pre style=\"white-space:pre;overflow-x:auto;line-height:normal;font-family:Menlo,'DejaVu Sans Mono',consolas,'Courier New',monospace\"><span style=\"color: #008000; text-decoration-color: #008000\">DEBUG   </span> Function get_company_info from yfinance_tools added to model.                                             \n",
              "</pre>\n"
            ]
          },
          "metadata": {}
        },
        {
          "output_type": "display_data",
          "data": {
            "text/plain": [
              "\u001b[32mDEBUG   \u001b[0m Function get_analyst_recommendations from yfinance_tools added to model.                                  \n"
            ],
            "text/html": [
              "<pre style=\"white-space:pre;overflow-x:auto;line-height:normal;font-family:Menlo,'DejaVu Sans Mono',consolas,'Courier New',monospace\"><span style=\"color: #008000; text-decoration-color: #008000\">DEBUG   </span> Function get_analyst_recommendations from yfinance_tools added to model.                                  \n",
              "</pre>\n"
            ]
          },
          "metadata": {}
        },
        {
          "output_type": "display_data",
          "data": {
            "text/plain": [
              "\u001b[32mDEBUG   \u001b[0m Function get_company_news from yfinance_tools added to model.                                             \n"
            ],
            "text/html": [
              "<pre style=\"white-space:pre;overflow-x:auto;line-height:normal;font-family:Menlo,'DejaVu Sans Mono',consolas,'Courier New',monospace\"><span style=\"color: #008000; text-decoration-color: #008000\">DEBUG   </span> Function get_company_news from yfinance_tools added to model.                                             \n",
              "</pre>\n"
            ]
          },
          "metadata": {}
        },
        {
          "output_type": "display_data",
          "data": {
            "text/plain": [
              "\u001b[32mDEBUG   \u001b[0m ---------- Groq Response Start ----------                                                                 \n"
            ],
            "text/html": [
              "<pre style=\"white-space:pre;overflow-x:auto;line-height:normal;font-family:Menlo,'DejaVu Sans Mono',consolas,'Courier New',monospace\"><span style=\"color: #008000; text-decoration-color: #008000\">DEBUG   </span> ---------- Groq Response Start ----------                                                                 \n",
              "</pre>\n"
            ]
          },
          "metadata": {}
        },
        {
          "output_type": "display_data",
          "data": {
            "text/plain": [
              "\u001b[32mDEBUG   \u001b[0m ============== system ==============                                                                      \n"
            ],
            "text/html": [
              "<pre style=\"white-space:pre;overflow-x:auto;line-height:normal;font-family:Menlo,'DejaVu Sans Mono',consolas,'Courier New',monospace\"><span style=\"color: #008000; text-decoration-color: #008000\">DEBUG   </span> ============== system ==============                                                                      \n",
              "</pre>\n"
            ]
          },
          "metadata": {}
        },
        {
          "output_type": "display_data",
          "data": {
            "text/plain": [
              "\u001b[32mDEBUG   \u001b[0m Your task is to find the finance information                                                              \n",
              "                                                                                                                   \n",
              "         ## Instructions                                                                                           \n",
              "         - Use tables to display data                                                                              \n",
              "         - Use markdown to format your answers.                                                                    \n"
            ],
            "text/html": [
              "<pre style=\"white-space:pre;overflow-x:auto;line-height:normal;font-family:Menlo,'DejaVu Sans Mono',consolas,'Courier New',monospace\"><span style=\"color: #008000; text-decoration-color: #008000\">DEBUG   </span> Your task is to find the finance information                                                              \n",
              "                                                                                                                   \n",
              "         ## Instructions                                                                                           \n",
              "         - Use tables to display data                                                                              \n",
              "         - Use markdown to format your answers.                                                                    \n",
              "</pre>\n"
            ]
          },
          "metadata": {}
        },
        {
          "output_type": "display_data",
          "data": {
            "text/plain": [
              "\u001b[32mDEBUG   \u001b[0m ============== user ==============                                                                        \n"
            ],
            "text/html": [
              "<pre style=\"white-space:pre;overflow-x:auto;line-height:normal;font-family:Menlo,'DejaVu Sans Mono',consolas,'Courier New',monospace\"><span style=\"color: #008000; text-decoration-color: #008000\">DEBUG   </span> ============== user ==============                                                                        \n",
              "</pre>\n"
            ]
          },
          "metadata": {}
        },
        {
          "output_type": "display_data",
          "data": {
            "text/plain": [
              "\u001b[32mDEBUG   \u001b[0m Summarize analyst recommendations for NVDA                                                                \n"
            ],
            "text/html": [
              "<pre style=\"white-space:pre;overflow-x:auto;line-height:normal;font-family:Menlo,'DejaVu Sans Mono',consolas,'Courier New',monospace\"><span style=\"color: #008000; text-decoration-color: #008000\">DEBUG   </span> Summarize analyst recommendations for NVDA                                                                \n",
              "</pre>\n"
            ]
          },
          "metadata": {}
        },
        {
          "output_type": "display_data",
          "data": {
            "text/plain": [
              "Output()"
            ],
            "application/vnd.jupyter.widget-view+json": {
              "version_major": 2,
              "version_minor": 0,
              "model_id": "940403e93d844c539ae53e1591662222"
            }
          },
          "metadata": {}
        },
        {
          "output_type": "display_data",
          "data": {
            "text/plain": [
              "\u001b[32mDEBUG   \u001b[0m ============== assistant ==============                                                                   \n"
            ],
            "text/html": [
              "<pre style=\"white-space:pre;overflow-x:auto;line-height:normal;font-family:Menlo,'DejaVu Sans Mono',consolas,'Courier New',monospace\"><span style=\"color: #008000; text-decoration-color: #008000\">DEBUG   </span> ============== assistant ==============                                                                   \n",
              "</pre>\n"
            ]
          },
          "metadata": {}
        },
        {
          "output_type": "display_data",
          "data": {
            "text/plain": [
              "\u001b[32mDEBUG   \u001b[0m Tool Calls: \u001b[1m[\u001b[0m                                                                                             \n",
              "           \u001b[1m{\u001b[0m                                                                                                       \n",
              "             \u001b[32m\"id\"\u001b[0m: \u001b[32m\"call_62cg\"\u001b[0m,                                                                                    \n",
              "             \u001b[32m\"type\"\u001b[0m: \u001b[32m\"function\"\u001b[0m,                                                                                   \n",
              "             \u001b[32m\"function\"\u001b[0m: \u001b[1m{\u001b[0m                                                                                         \n",
              "               \u001b[32m\"name\"\u001b[0m: \u001b[32m\"get_analyst_recommendations\"\u001b[0m,                                                              \n",
              "               \u001b[32m\"arguments\"\u001b[0m: \u001b[32m\"\u001b[0m\u001b[32m{\u001b[0m\u001b[32m\\\"symbol\\\": \\\"NVDA\\\"\u001b[0m\u001b[32m}\u001b[0m\u001b[32m\"\u001b[0m                                                               \n",
              "             \u001b[1m}\u001b[0m                                                                                                     \n",
              "           \u001b[1m}\u001b[0m                                                                                                       \n",
              "         \u001b[1m]\u001b[0m                                                                                                         \n"
            ],
            "text/html": [
              "<pre style=\"white-space:pre;overflow-x:auto;line-height:normal;font-family:Menlo,'DejaVu Sans Mono',consolas,'Courier New',monospace\"><span style=\"color: #008000; text-decoration-color: #008000\">DEBUG   </span> Tool Calls: <span style=\"font-weight: bold\">[</span>                                                                                             \n",
              "           <span style=\"font-weight: bold\">{</span>                                                                                                       \n",
              "             <span style=\"color: #008000; text-decoration-color: #008000\">\"id\"</span>: <span style=\"color: #008000; text-decoration-color: #008000\">\"call_62cg\"</span>,                                                                                    \n",
              "             <span style=\"color: #008000; text-decoration-color: #008000\">\"type\"</span>: <span style=\"color: #008000; text-decoration-color: #008000\">\"function\"</span>,                                                                                   \n",
              "             <span style=\"color: #008000; text-decoration-color: #008000\">\"function\"</span>: <span style=\"font-weight: bold\">{</span>                                                                                         \n",
              "               <span style=\"color: #008000; text-decoration-color: #008000\">\"name\"</span>: <span style=\"color: #008000; text-decoration-color: #008000\">\"get_analyst_recommendations\"</span>,                                                              \n",
              "               <span style=\"color: #008000; text-decoration-color: #008000\">\"arguments\"</span>: <span style=\"color: #008000; text-decoration-color: #008000\">\"{\\\"symbol\\\": \\\"NVDA\\\"}\"</span>                                                               \n",
              "             <span style=\"font-weight: bold\">}</span>                                                                                                     \n",
              "           <span style=\"font-weight: bold\">}</span>                                                                                                       \n",
              "         <span style=\"font-weight: bold\">]</span>                                                                                                         \n",
              "</pre>\n"
            ]
          },
          "metadata": {}
        },
        {
          "output_type": "display_data",
          "data": {
            "text/plain": [
              "\u001b[32mDEBUG   \u001b[0m **************** METRICS START ****************                                                           \n"
            ],
            "text/html": [
              "<pre style=\"white-space:pre;overflow-x:auto;line-height:normal;font-family:Menlo,'DejaVu Sans Mono',consolas,'Courier New',monospace\"><span style=\"color: #008000; text-decoration-color: #008000\">DEBUG   </span> **************** METRICS START ****************                                                           \n",
              "</pre>\n"
            ]
          },
          "metadata": {}
        },
        {
          "output_type": "display_data",
          "data": {
            "text/plain": [
              "\u001b[32mDEBUG   \u001b[0m * Time to first token:         \u001b[1;36m1.\u001b[0m0886s                                                                    \n"
            ],
            "text/html": [
              "<pre style=\"white-space:pre;overflow-x:auto;line-height:normal;font-family:Menlo,'DejaVu Sans Mono',consolas,'Courier New',monospace\"><span style=\"color: #008000; text-decoration-color: #008000\">DEBUG   </span> * Time to first token:         <span style=\"color: #008080; text-decoration-color: #008080; font-weight: bold\">1.</span>0886s                                                                    \n",
              "</pre>\n"
            ]
          },
          "metadata": {}
        },
        {
          "output_type": "display_data",
          "data": {
            "text/plain": [
              "\u001b[32mDEBUG   \u001b[0m * Time to generate response:   \u001b[1;36m1.\u001b[0m0962s                                                                    \n"
            ],
            "text/html": [
              "<pre style=\"white-space:pre;overflow-x:auto;line-height:normal;font-family:Menlo,'DejaVu Sans Mono',consolas,'Courier New',monospace\"><span style=\"color: #008000; text-decoration-color: #008000\">DEBUG   </span> * Time to generate response:   <span style=\"color: #008080; text-decoration-color: #008080; font-weight: bold\">1.</span>0962s                                                                    \n",
              "</pre>\n"
            ]
          },
          "metadata": {}
        },
        {
          "output_type": "display_data",
          "data": {
            "text/plain": [
              "\u001b[32mDEBUG   \u001b[0m * Tokens per second:           \u001b[1;36m0.0000\u001b[0m tokens/s                                                            \n"
            ],
            "text/html": [
              "<pre style=\"white-space:pre;overflow-x:auto;line-height:normal;font-family:Menlo,'DejaVu Sans Mono',consolas,'Courier New',monospace\"><span style=\"color: #008000; text-decoration-color: #008000\">DEBUG   </span> * Tokens per second:           <span style=\"color: #008080; text-decoration-color: #008080; font-weight: bold\">0.0000</span> tokens/s                                                            \n",
              "</pre>\n"
            ]
          },
          "metadata": {}
        },
        {
          "output_type": "display_data",
          "data": {
            "text/plain": [
              "\u001b[32mDEBUG   \u001b[0m * Input tokens:                \u001b[1;36m0\u001b[0m                                                                          \n"
            ],
            "text/html": [
              "<pre style=\"white-space:pre;overflow-x:auto;line-height:normal;font-family:Menlo,'DejaVu Sans Mono',consolas,'Courier New',monospace\"><span style=\"color: #008000; text-decoration-color: #008000\">DEBUG   </span> * Input tokens:                <span style=\"color: #008080; text-decoration-color: #008080; font-weight: bold\">0</span>                                                                          \n",
              "</pre>\n"
            ]
          },
          "metadata": {}
        },
        {
          "output_type": "display_data",
          "data": {
            "text/plain": [
              "\u001b[32mDEBUG   \u001b[0m * Output tokens:               \u001b[1;36m3\u001b[0m                                                                          \n"
            ],
            "text/html": [
              "<pre style=\"white-space:pre;overflow-x:auto;line-height:normal;font-family:Menlo,'DejaVu Sans Mono',consolas,'Courier New',monospace\"><span style=\"color: #008000; text-decoration-color: #008000\">DEBUG   </span> * Output tokens:               <span style=\"color: #008080; text-decoration-color: #008080; font-weight: bold\">3</span>                                                                          \n",
              "</pre>\n"
            ]
          },
          "metadata": {}
        },
        {
          "output_type": "display_data",
          "data": {
            "text/plain": [
              "\u001b[32mDEBUG   \u001b[0m * Total tokens:                \u001b[1;36m0\u001b[0m                                                                          \n"
            ],
            "text/html": [
              "<pre style=\"white-space:pre;overflow-x:auto;line-height:normal;font-family:Menlo,'DejaVu Sans Mono',consolas,'Courier New',monospace\"><span style=\"color: #008000; text-decoration-color: #008000\">DEBUG   </span> * Total tokens:                <span style=\"color: #008080; text-decoration-color: #008080; font-weight: bold\">0</span>                                                                          \n",
              "</pre>\n"
            ]
          },
          "metadata": {}
        },
        {
          "output_type": "display_data",
          "data": {
            "text/plain": [
              "\u001b[32mDEBUG   \u001b[0m **************** METRICS END ******************                                                           \n"
            ],
            "text/html": [
              "<pre style=\"white-space:pre;overflow-x:auto;line-height:normal;font-family:Menlo,'DejaVu Sans Mono',consolas,'Courier New',monospace\"><span style=\"color: #008000; text-decoration-color: #008000\">DEBUG   </span> **************** METRICS END ******************                                                           \n",
              "</pre>\n"
            ]
          },
          "metadata": {}
        },
        {
          "output_type": "display_data",
          "data": {
            "text/plain": [
              "\u001b[32mDEBUG   \u001b[0m Getting function get_analyst_recommendations                                                              \n"
            ],
            "text/html": [
              "<pre style=\"white-space:pre;overflow-x:auto;line-height:normal;font-family:Menlo,'DejaVu Sans Mono',consolas,'Courier New',monospace\"><span style=\"color: #008000; text-decoration-color: #008000\">DEBUG   </span> Getting function get_analyst_recommendations                                                              \n",
              "</pre>\n"
            ]
          },
          "metadata": {}
        },
        {
          "output_type": "display_data",
          "data": {
            "text/plain": [
              "\u001b[32mDEBUG   \u001b[0m Running: \u001b[1;35mget_analyst_recommendations\u001b[0m\u001b[1m(\u001b[0m\u001b[33msymbol\u001b[0m=\u001b[35mNVDA\u001b[0m\u001b[1m)\u001b[0m                                                         \n"
            ],
            "text/html": [
              "<pre style=\"white-space:pre;overflow-x:auto;line-height:normal;font-family:Menlo,'DejaVu Sans Mono',consolas,'Courier New',monospace\"><span style=\"color: #008000; text-decoration-color: #008000\">DEBUG   </span> Running: <span style=\"color: #800080; text-decoration-color: #800080; font-weight: bold\">get_analyst_recommendations</span><span style=\"font-weight: bold\">(</span><span style=\"color: #808000; text-decoration-color: #808000\">symbol</span>=<span style=\"color: #800080; text-decoration-color: #800080\">NVDA</span><span style=\"font-weight: bold\">)</span>                                                         \n",
              "</pre>\n"
            ]
          },
          "metadata": {}
        },
        {
          "output_type": "display_data",
          "data": {
            "text/plain": [
              "\u001b[32mDEBUG   \u001b[0m ---------- Groq Response Start ----------                                                                 \n"
            ],
            "text/html": [
              "<pre style=\"white-space:pre;overflow-x:auto;line-height:normal;font-family:Menlo,'DejaVu Sans Mono',consolas,'Courier New',monospace\"><span style=\"color: #008000; text-decoration-color: #008000\">DEBUG   </span> ---------- Groq Response Start ----------                                                                 \n",
              "</pre>\n"
            ]
          },
          "metadata": {}
        },
        {
          "output_type": "display_data",
          "data": {
            "text/plain": [
              "\u001b[32mDEBUG   \u001b[0m ============== system ==============                                                                      \n"
            ],
            "text/html": [
              "<pre style=\"white-space:pre;overflow-x:auto;line-height:normal;font-family:Menlo,'DejaVu Sans Mono',consolas,'Courier New',monospace\"><span style=\"color: #008000; text-decoration-color: #008000\">DEBUG   </span> ============== system ==============                                                                      \n",
              "</pre>\n"
            ]
          },
          "metadata": {}
        },
        {
          "output_type": "display_data",
          "data": {
            "text/plain": [
              "\u001b[32mDEBUG   \u001b[0m Your task is to find the finance information                                                              \n",
              "                                                                                                                   \n",
              "         ## Instructions                                                                                           \n",
              "         - Use tables to display data                                                                              \n",
              "         - Use markdown to format your answers.                                                                    \n"
            ],
            "text/html": [
              "<pre style=\"white-space:pre;overflow-x:auto;line-height:normal;font-family:Menlo,'DejaVu Sans Mono',consolas,'Courier New',monospace\"><span style=\"color: #008000; text-decoration-color: #008000\">DEBUG   </span> Your task is to find the finance information                                                              \n",
              "                                                                                                                   \n",
              "         ## Instructions                                                                                           \n",
              "         - Use tables to display data                                                                              \n",
              "         - Use markdown to format your answers.                                                                    \n",
              "</pre>\n"
            ]
          },
          "metadata": {}
        },
        {
          "output_type": "display_data",
          "data": {
            "text/plain": [
              "\u001b[32mDEBUG   \u001b[0m ============== user ==============                                                                        \n"
            ],
            "text/html": [
              "<pre style=\"white-space:pre;overflow-x:auto;line-height:normal;font-family:Menlo,'DejaVu Sans Mono',consolas,'Courier New',monospace\"><span style=\"color: #008000; text-decoration-color: #008000\">DEBUG   </span> ============== user ==============                                                                        \n",
              "</pre>\n"
            ]
          },
          "metadata": {}
        },
        {
          "output_type": "display_data",
          "data": {
            "text/plain": [
              "\u001b[32mDEBUG   \u001b[0m Summarize analyst recommendations for NVDA                                                                \n"
            ],
            "text/html": [
              "<pre style=\"white-space:pre;overflow-x:auto;line-height:normal;font-family:Menlo,'DejaVu Sans Mono',consolas,'Courier New',monospace\"><span style=\"color: #008000; text-decoration-color: #008000\">DEBUG   </span> Summarize analyst recommendations for NVDA                                                                \n",
              "</pre>\n"
            ]
          },
          "metadata": {}
        },
        {
          "output_type": "display_data",
          "data": {
            "text/plain": [
              "\u001b[32mDEBUG   \u001b[0m ============== assistant ==============                                                                   \n"
            ],
            "text/html": [
              "<pre style=\"white-space:pre;overflow-x:auto;line-height:normal;font-family:Menlo,'DejaVu Sans Mono',consolas,'Courier New',monospace\"><span style=\"color: #008000; text-decoration-color: #008000\">DEBUG   </span> ============== assistant ==============                                                                   \n",
              "</pre>\n"
            ]
          },
          "metadata": {}
        },
        {
          "output_type": "display_data",
          "data": {
            "text/plain": [
              "\u001b[32mDEBUG   \u001b[0m Tool Calls: \u001b[1m[\u001b[0m                                                                                             \n",
              "           \u001b[1m{\u001b[0m                                                                                                       \n",
              "             \u001b[32m\"id\"\u001b[0m: \u001b[32m\"call_62cg\"\u001b[0m,                                                                                    \n",
              "             \u001b[32m\"type\"\u001b[0m: \u001b[32m\"function\"\u001b[0m,                                                                                   \n",
              "             \u001b[32m\"function\"\u001b[0m: \u001b[1m{\u001b[0m                                                                                         \n",
              "               \u001b[32m\"name\"\u001b[0m: \u001b[32m\"get_analyst_recommendations\"\u001b[0m,                                                              \n",
              "               \u001b[32m\"arguments\"\u001b[0m: \u001b[32m\"\u001b[0m\u001b[32m{\u001b[0m\u001b[32m\\\"symbol\\\": \\\"NVDA\\\"\u001b[0m\u001b[32m}\u001b[0m\u001b[32m\"\u001b[0m                                                               \n",
              "             \u001b[1m}\u001b[0m                                                                                                     \n",
              "           \u001b[1m}\u001b[0m                                                                                                       \n",
              "         \u001b[1m]\u001b[0m                                                                                                         \n"
            ],
            "text/html": [
              "<pre style=\"white-space:pre;overflow-x:auto;line-height:normal;font-family:Menlo,'DejaVu Sans Mono',consolas,'Courier New',monospace\"><span style=\"color: #008000; text-decoration-color: #008000\">DEBUG   </span> Tool Calls: <span style=\"font-weight: bold\">[</span>                                                                                             \n",
              "           <span style=\"font-weight: bold\">{</span>                                                                                                       \n",
              "             <span style=\"color: #008000; text-decoration-color: #008000\">\"id\"</span>: <span style=\"color: #008000; text-decoration-color: #008000\">\"call_62cg\"</span>,                                                                                    \n",
              "             <span style=\"color: #008000; text-decoration-color: #008000\">\"type\"</span>: <span style=\"color: #008000; text-decoration-color: #008000\">\"function\"</span>,                                                                                   \n",
              "             <span style=\"color: #008000; text-decoration-color: #008000\">\"function\"</span>: <span style=\"font-weight: bold\">{</span>                                                                                         \n",
              "               <span style=\"color: #008000; text-decoration-color: #008000\">\"name\"</span>: <span style=\"color: #008000; text-decoration-color: #008000\">\"get_analyst_recommendations\"</span>,                                                              \n",
              "               <span style=\"color: #008000; text-decoration-color: #008000\">\"arguments\"</span>: <span style=\"color: #008000; text-decoration-color: #008000\">\"{\\\"symbol\\\": \\\"NVDA\\\"}\"</span>                                                               \n",
              "             <span style=\"font-weight: bold\">}</span>                                                                                                     \n",
              "           <span style=\"font-weight: bold\">}</span>                                                                                                       \n",
              "         <span style=\"font-weight: bold\">]</span>                                                                                                         \n",
              "</pre>\n"
            ]
          },
          "metadata": {}
        },
        {
          "output_type": "display_data",
          "data": {
            "text/plain": [
              "\u001b[32mDEBUG   \u001b[0m ============== tool ==============                                                                        \n"
            ],
            "text/html": [
              "<pre style=\"white-space:pre;overflow-x:auto;line-height:normal;font-family:Menlo,'DejaVu Sans Mono',consolas,'Courier New',monospace\"><span style=\"color: #008000; text-decoration-color: #008000\">DEBUG   </span> ============== tool ==============                                                                        \n",
              "</pre>\n"
            ]
          },
          "metadata": {}
        },
        {
          "output_type": "display_data",
          "data": {
            "text/plain": [
              "\u001b[32mDEBUG   \u001b[0m Tool call Id: call_62cg                                                                                   \n"
            ],
            "text/html": [
              "<pre style=\"white-space:pre;overflow-x:auto;line-height:normal;font-family:Menlo,'DejaVu Sans Mono',consolas,'Courier New',monospace\"><span style=\"color: #008000; text-decoration-color: #008000\">DEBUG   </span> Tool call Id: call_62cg                                                                                   \n",
              "</pre>\n"
            ]
          },
          "metadata": {}
        },
        {
          "output_type": "display_data",
          "data": {
            "text/plain": [
              "\u001b[32mDEBUG   \u001b[0m \u001b[1m{\u001b[0m\u001b[32m\"0\"\u001b[0m:\u001b[1m{\u001b[0m\u001b[32m\"period\"\u001b[0m:\u001b[32m\"0m\"\u001b[0m,\u001b[32m\"strongBuy\"\u001b[0m:\u001b[1;36m12\u001b[0m,\u001b[32m\"buy\"\u001b[0m:\u001b[1;36m48\u001b[0m,\u001b[32m\"hold\"\u001b[0m:\u001b[1;36m4\u001b[0m,\u001b[32m\"sell\"\u001b[0m:\u001b[1;36m0\u001b[0m,\u001b[32m\"strongSell\"\u001b[0m:\u001b[1;36m0\u001b[0m\u001b[1m}\u001b[0m,\u001b[32m\"1\"\u001b[0m:\u001b[1m{\u001b[0m\u001b[32m\"period\"\u001b[0m:\u001b[32m\"-1m\"\u001b[0m,\u001b[32m\"strongB\u001b[0m\n",
              "         \u001b[32muy\"\u001b[0m:\u001b[1;36m12\u001b[0m,\u001b[32m\"buy\"\u001b[0m:\u001b[1;36m48\u001b[0m,\u001b[32m\"hold\"\u001b[0m:\u001b[1;36m4\u001b[0m,\u001b[32m\"sell\"\u001b[0m:\u001b[1;36m0\u001b[0m,\u001b[32m\"strongSell\"\u001b[0m:\u001b[1;36m0\u001b[0m\u001b[1m}\u001b[0m,\u001b[32m\"2\"\u001b[0m:\u001b[1m{\u001b[0m\u001b[32m\"period\"\u001b[0m:\u001b[32m\"-2m\"\u001b[0m,\u001b[32m\"strongBuy\"\u001b[0m:\u001b[1;36m12\u001b[0m,\u001b[32m\"buy\"\u001b[0m:\u001b[1;36m48\u001b[0m,\u001b[32m\"hold\"\u001b[0m:\u001b[1;36m4\u001b[0m,\u001b[32m\"se\u001b[0m\n",
              "         \u001b[32mll\"\u001b[0m:\u001b[1;36m0\u001b[0m,\u001b[32m\"strongSell\"\u001b[0m:\u001b[1;36m0\u001b[0m\u001b[1m}\u001b[0m,\u001b[32m\"3\"\u001b[0m:\u001b[1m{\u001b[0m\u001b[32m\"period\"\u001b[0m:\u001b[32m\"-3m\"\u001b[0m,\u001b[32m\"strongBuy\"\u001b[0m:\u001b[1;36m11\u001b[0m,\u001b[32m\"buy\"\u001b[0m:\u001b[1;36m48\u001b[0m,\u001b[32m\"hold\"\u001b[0m:\u001b[1;36m4\u001b[0m,\u001b[32m\"sell\"\u001b[0m:\u001b[1;36m0\u001b[0m,\u001b[32m\"strongSell\"\u001b[0m:\u001b[1;36m0\u001b[0m\u001b[1m}\u001b[0m\u001b[1m}\u001b[0m      \n"
            ],
            "text/html": [
              "<pre style=\"white-space:pre;overflow-x:auto;line-height:normal;font-family:Menlo,'DejaVu Sans Mono',consolas,'Courier New',monospace\"><span style=\"color: #008000; text-decoration-color: #008000\">DEBUG   </span> <span style=\"font-weight: bold\">{</span><span style=\"color: #008000; text-decoration-color: #008000\">\"0\"</span>:<span style=\"font-weight: bold\">{</span><span style=\"color: #008000; text-decoration-color: #008000\">\"period\"</span>:<span style=\"color: #008000; text-decoration-color: #008000\">\"0m\"</span>,<span style=\"color: #008000; text-decoration-color: #008000\">\"strongBuy\"</span>:<span style=\"color: #008080; text-decoration-color: #008080; font-weight: bold\">12</span>,<span style=\"color: #008000; text-decoration-color: #008000\">\"buy\"</span>:<span style=\"color: #008080; text-decoration-color: #008080; font-weight: bold\">48</span>,<span style=\"color: #008000; text-decoration-color: #008000\">\"hold\"</span>:<span style=\"color: #008080; text-decoration-color: #008080; font-weight: bold\">4</span>,<span style=\"color: #008000; text-decoration-color: #008000\">\"sell\"</span>:<span style=\"color: #008080; text-decoration-color: #008080; font-weight: bold\">0</span>,<span style=\"color: #008000; text-decoration-color: #008000\">\"strongSell\"</span>:<span style=\"color: #008080; text-decoration-color: #008080; font-weight: bold\">0</span><span style=\"font-weight: bold\">}</span>,<span style=\"color: #008000; text-decoration-color: #008000\">\"1\"</span>:<span style=\"font-weight: bold\">{</span><span style=\"color: #008000; text-decoration-color: #008000\">\"period\"</span>:<span style=\"color: #008000; text-decoration-color: #008000\">\"-1m\"</span>,<span style=\"color: #008000; text-decoration-color: #008000\">\"strongB</span>\n",
              "         <span style=\"color: #008000; text-decoration-color: #008000\">uy\"</span>:<span style=\"color: #008080; text-decoration-color: #008080; font-weight: bold\">12</span>,<span style=\"color: #008000; text-decoration-color: #008000\">\"buy\"</span>:<span style=\"color: #008080; text-decoration-color: #008080; font-weight: bold\">48</span>,<span style=\"color: #008000; text-decoration-color: #008000\">\"hold\"</span>:<span style=\"color: #008080; text-decoration-color: #008080; font-weight: bold\">4</span>,<span style=\"color: #008000; text-decoration-color: #008000\">\"sell\"</span>:<span style=\"color: #008080; text-decoration-color: #008080; font-weight: bold\">0</span>,<span style=\"color: #008000; text-decoration-color: #008000\">\"strongSell\"</span>:<span style=\"color: #008080; text-decoration-color: #008080; font-weight: bold\">0</span><span style=\"font-weight: bold\">}</span>,<span style=\"color: #008000; text-decoration-color: #008000\">\"2\"</span>:<span style=\"font-weight: bold\">{</span><span style=\"color: #008000; text-decoration-color: #008000\">\"period\"</span>:<span style=\"color: #008000; text-decoration-color: #008000\">\"-2m\"</span>,<span style=\"color: #008000; text-decoration-color: #008000\">\"strongBuy\"</span>:<span style=\"color: #008080; text-decoration-color: #008080; font-weight: bold\">12</span>,<span style=\"color: #008000; text-decoration-color: #008000\">\"buy\"</span>:<span style=\"color: #008080; text-decoration-color: #008080; font-weight: bold\">48</span>,<span style=\"color: #008000; text-decoration-color: #008000\">\"hold\"</span>:<span style=\"color: #008080; text-decoration-color: #008080; font-weight: bold\">4</span>,<span style=\"color: #008000; text-decoration-color: #008000\">\"se</span>\n",
              "         <span style=\"color: #008000; text-decoration-color: #008000\">ll\"</span>:<span style=\"color: #008080; text-decoration-color: #008080; font-weight: bold\">0</span>,<span style=\"color: #008000; text-decoration-color: #008000\">\"strongSell\"</span>:<span style=\"color: #008080; text-decoration-color: #008080; font-weight: bold\">0</span><span style=\"font-weight: bold\">}</span>,<span style=\"color: #008000; text-decoration-color: #008000\">\"3\"</span>:<span style=\"font-weight: bold\">{</span><span style=\"color: #008000; text-decoration-color: #008000\">\"period\"</span>:<span style=\"color: #008000; text-decoration-color: #008000\">\"-3m\"</span>,<span style=\"color: #008000; text-decoration-color: #008000\">\"strongBuy\"</span>:<span style=\"color: #008080; text-decoration-color: #008080; font-weight: bold\">11</span>,<span style=\"color: #008000; text-decoration-color: #008000\">\"buy\"</span>:<span style=\"color: #008080; text-decoration-color: #008080; font-weight: bold\">48</span>,<span style=\"color: #008000; text-decoration-color: #008000\">\"hold\"</span>:<span style=\"color: #008080; text-decoration-color: #008080; font-weight: bold\">4</span>,<span style=\"color: #008000; text-decoration-color: #008000\">\"sell\"</span>:<span style=\"color: #008080; text-decoration-color: #008080; font-weight: bold\">0</span>,<span style=\"color: #008000; text-decoration-color: #008000\">\"strongSell\"</span>:<span style=\"color: #008080; text-decoration-color: #008080; font-weight: bold\">0</span><span style=\"font-weight: bold\">}}</span>      \n",
              "</pre>\n"
            ]
          },
          "metadata": {}
        },
        {
          "output_type": "display_data",
          "data": {
            "text/plain": [
              "\u001b[32mDEBUG   \u001b[0m ============== assistant ==============                                                                   \n"
            ],
            "text/html": [
              "<pre style=\"white-space:pre;overflow-x:auto;line-height:normal;font-family:Menlo,'DejaVu Sans Mono',consolas,'Courier New',monospace\"><span style=\"color: #008000; text-decoration-color: #008000\">DEBUG   </span> ============== assistant ==============                                                                   \n",
              "</pre>\n"
            ]
          },
          "metadata": {}
        },
        {
          "output_type": "display_data",
          "data": {
            "text/plain": [
              "\u001b[32mDEBUG   \u001b[0m ### Analyst Recommendations for NVDA                                                                      \n",
              "         The following table summarizes analyst recommendations for NVDA:                                          \n",
              "                                                                                                                   \n",
              "         | Period | Strong Buy | Buy | Hold | Sell | Strong Sell |                                                 \n",
              "         | --- | --- | --- | --- | --- | --- |                                                                     \n",
              "         | 0m | \u001b[1;36m12\u001b[0m | \u001b[1;36m48\u001b[0m | \u001b[1;36m4\u001b[0m | \u001b[1;36m0\u001b[0m | \u001b[1;36m0\u001b[0m |                                                                              \n",
              "         | -1m | \u001b[1;36m12\u001b[0m | \u001b[1;36m48\u001b[0m | \u001b[1;36m4\u001b[0m | \u001b[1;36m0\u001b[0m | \u001b[1;36m0\u001b[0m |                                                                             \n",
              "         | -2m | \u001b[1;36m12\u001b[0m | \u001b[1;36m48\u001b[0m | \u001b[1;36m4\u001b[0m | \u001b[1;36m0\u001b[0m | \u001b[1;36m0\u001b[0m |                                                                             \n",
              "         | -3m | \u001b[1;36m11\u001b[0m | \u001b[1;36m48\u001b[0m | \u001b[1;36m4\u001b[0m | \u001b[1;36m0\u001b[0m | \u001b[1;36m0\u001b[0m |                                                                             \n",
              "                                                                                                                   \n",
              "         This data indicates that the majority of analysts recommend buying NVDA stock, with \u001b[1;36m48\u001b[0m buy recommendations\n",
              "         and \u001b[1;36m12\u001b[0m strong buy recommendations over the past three months. There are no sell or strong sell            \n",
              "         recommendations.                                                                                          \n"
            ],
            "text/html": [
              "<pre style=\"white-space:pre;overflow-x:auto;line-height:normal;font-family:Menlo,'DejaVu Sans Mono',consolas,'Courier New',monospace\"><span style=\"color: #008000; text-decoration-color: #008000\">DEBUG   </span> ### Analyst Recommendations for NVDA                                                                      \n",
              "         The following table summarizes analyst recommendations for NVDA:                                          \n",
              "                                                                                                                   \n",
              "         | Period | Strong Buy | Buy | Hold | Sell | Strong Sell |                                                 \n",
              "         | --- | --- | --- | --- | --- | --- |                                                                     \n",
              "         | 0m | <span style=\"color: #008080; text-decoration-color: #008080; font-weight: bold\">12</span> | <span style=\"color: #008080; text-decoration-color: #008080; font-weight: bold\">48</span> | <span style=\"color: #008080; text-decoration-color: #008080; font-weight: bold\">4</span> | <span style=\"color: #008080; text-decoration-color: #008080; font-weight: bold\">0</span> | <span style=\"color: #008080; text-decoration-color: #008080; font-weight: bold\">0</span> |                                                                              \n",
              "         | -1m | <span style=\"color: #008080; text-decoration-color: #008080; font-weight: bold\">12</span> | <span style=\"color: #008080; text-decoration-color: #008080; font-weight: bold\">48</span> | <span style=\"color: #008080; text-decoration-color: #008080; font-weight: bold\">4</span> | <span style=\"color: #008080; text-decoration-color: #008080; font-weight: bold\">0</span> | <span style=\"color: #008080; text-decoration-color: #008080; font-weight: bold\">0</span> |                                                                             \n",
              "         | -2m | <span style=\"color: #008080; text-decoration-color: #008080; font-weight: bold\">12</span> | <span style=\"color: #008080; text-decoration-color: #008080; font-weight: bold\">48</span> | <span style=\"color: #008080; text-decoration-color: #008080; font-weight: bold\">4</span> | <span style=\"color: #008080; text-decoration-color: #008080; font-weight: bold\">0</span> | <span style=\"color: #008080; text-decoration-color: #008080; font-weight: bold\">0</span> |                                                                             \n",
              "         | -3m | <span style=\"color: #008080; text-decoration-color: #008080; font-weight: bold\">11</span> | <span style=\"color: #008080; text-decoration-color: #008080; font-weight: bold\">48</span> | <span style=\"color: #008080; text-decoration-color: #008080; font-weight: bold\">4</span> | <span style=\"color: #008080; text-decoration-color: #008080; font-weight: bold\">0</span> | <span style=\"color: #008080; text-decoration-color: #008080; font-weight: bold\">0</span> |                                                                             \n",
              "                                                                                                                   \n",
              "         This data indicates that the majority of analysts recommend buying NVDA stock, with <span style=\"color: #008080; text-decoration-color: #008080; font-weight: bold\">48</span> buy recommendations\n",
              "         and <span style=\"color: #008080; text-decoration-color: #008080; font-weight: bold\">12</span> strong buy recommendations over the past three months. There are no sell or strong sell            \n",
              "         recommendations.                                                                                          \n",
              "</pre>\n"
            ]
          },
          "metadata": {}
        },
        {
          "output_type": "display_data",
          "data": {
            "text/plain": [
              "\u001b[32mDEBUG   \u001b[0m **************** METRICS START ****************                                                           \n"
            ],
            "text/html": [
              "<pre style=\"white-space:pre;overflow-x:auto;line-height:normal;font-family:Menlo,'DejaVu Sans Mono',consolas,'Courier New',monospace\"><span style=\"color: #008000; text-decoration-color: #008000\">DEBUG   </span> **************** METRICS START ****************                                                           \n",
              "</pre>\n"
            ]
          },
          "metadata": {}
        },
        {
          "output_type": "display_data",
          "data": {
            "text/plain": [
              "\u001b[32mDEBUG   \u001b[0m * Time to first token:         \u001b[1;36m0.\u001b[0m4772s                                                                    \n"
            ],
            "text/html": [
              "<pre style=\"white-space:pre;overflow-x:auto;line-height:normal;font-family:Menlo,'DejaVu Sans Mono',consolas,'Courier New',monospace\"><span style=\"color: #008000; text-decoration-color: #008000\">DEBUG   </span> * Time to first token:         <span style=\"color: #008080; text-decoration-color: #008080; font-weight: bold\">0.</span>4772s                                                                    \n",
              "</pre>\n"
            ]
          },
          "metadata": {}
        },
        {
          "output_type": "display_data",
          "data": {
            "text/plain": [
              "\u001b[32mDEBUG   \u001b[0m * Time to generate response:   \u001b[1;36m1.\u001b[0m0878s                                                                    \n"
            ],
            "text/html": [
              "<pre style=\"white-space:pre;overflow-x:auto;line-height:normal;font-family:Menlo,'DejaVu Sans Mono',consolas,'Courier New',monospace\"><span style=\"color: #008000; text-decoration-color: #008000\">DEBUG   </span> * Time to generate response:   <span style=\"color: #008080; text-decoration-color: #008080; font-weight: bold\">1.</span>0878s                                                                    \n",
              "</pre>\n"
            ]
          },
          "metadata": {}
        },
        {
          "output_type": "display_data",
          "data": {
            "text/plain": [
              "\u001b[32mDEBUG   \u001b[0m * Tokens per second:           \u001b[1;36m0.0000\u001b[0m tokens/s                                                            \n"
            ],
            "text/html": [
              "<pre style=\"white-space:pre;overflow-x:auto;line-height:normal;font-family:Menlo,'DejaVu Sans Mono',consolas,'Courier New',monospace\"><span style=\"color: #008000; text-decoration-color: #008000\">DEBUG   </span> * Tokens per second:           <span style=\"color: #008080; text-decoration-color: #008080; font-weight: bold\">0.0000</span> tokens/s                                                            \n",
              "</pre>\n"
            ]
          },
          "metadata": {}
        },
        {
          "output_type": "display_data",
          "data": {
            "text/plain": [
              "\u001b[32mDEBUG   \u001b[0m * Input tokens:                \u001b[1;36m0\u001b[0m                                                                          \n"
            ],
            "text/html": [
              "<pre style=\"white-space:pre;overflow-x:auto;line-height:normal;font-family:Menlo,'DejaVu Sans Mono',consolas,'Courier New',monospace\"><span style=\"color: #008000; text-decoration-color: #008000\">DEBUG   </span> * Input tokens:                <span style=\"color: #008080; text-decoration-color: #008080; font-weight: bold\">0</span>                                                                          \n",
              "</pre>\n"
            ]
          },
          "metadata": {}
        },
        {
          "output_type": "display_data",
          "data": {
            "text/plain": [
              "\u001b[32mDEBUG   \u001b[0m * Output tokens:               \u001b[1;36m167\u001b[0m                                                                        \n"
            ],
            "text/html": [
              "<pre style=\"white-space:pre;overflow-x:auto;line-height:normal;font-family:Menlo,'DejaVu Sans Mono',consolas,'Courier New',monospace\"><span style=\"color: #008000; text-decoration-color: #008000\">DEBUG   </span> * Output tokens:               <span style=\"color: #008080; text-decoration-color: #008080; font-weight: bold\">167</span>                                                                        \n",
              "</pre>\n"
            ]
          },
          "metadata": {}
        },
        {
          "output_type": "display_data",
          "data": {
            "text/plain": [
              "\u001b[32mDEBUG   \u001b[0m * Total tokens:                \u001b[1;36m0\u001b[0m                                                                          \n"
            ],
            "text/html": [
              "<pre style=\"white-space:pre;overflow-x:auto;line-height:normal;font-family:Menlo,'DejaVu Sans Mono',consolas,'Courier New',monospace\"><span style=\"color: #008000; text-decoration-color: #008000\">DEBUG   </span> * Total tokens:                <span style=\"color: #008080; text-decoration-color: #008080; font-weight: bold\">0</span>                                                                          \n",
              "</pre>\n"
            ]
          },
          "metadata": {}
        },
        {
          "output_type": "display_data",
          "data": {
            "text/plain": [
              "\u001b[32mDEBUG   \u001b[0m **************** METRICS END ******************                                                           \n"
            ],
            "text/html": [
              "<pre style=\"white-space:pre;overflow-x:auto;line-height:normal;font-family:Menlo,'DejaVu Sans Mono',consolas,'Courier New',monospace\"><span style=\"color: #008000; text-decoration-color: #008000\">DEBUG   </span> **************** METRICS END ******************                                                           \n",
              "</pre>\n"
            ]
          },
          "metadata": {}
        },
        {
          "output_type": "display_data",
          "data": {
            "text/plain": [
              "\u001b[32mDEBUG   \u001b[0m ---------- Groq Response End ----------                                                                   \n"
            ],
            "text/html": [
              "<pre style=\"white-space:pre;overflow-x:auto;line-height:normal;font-family:Menlo,'DejaVu Sans Mono',consolas,'Courier New',monospace\"><span style=\"color: #008000; text-decoration-color: #008000\">DEBUG   </span> ---------- Groq Response End ----------                                                                   \n",
              "</pre>\n"
            ]
          },
          "metadata": {}
        },
        {
          "output_type": "display_data",
          "data": {
            "text/plain": [
              "\u001b[32mDEBUG   \u001b[0m ---------- Groq Response End ----------                                                                   \n"
            ],
            "text/html": [
              "<pre style=\"white-space:pre;overflow-x:auto;line-height:normal;font-family:Menlo,'DejaVu Sans Mono',consolas,'Courier New',monospace\"><span style=\"color: #008000; text-decoration-color: #008000\">DEBUG   </span> ---------- Groq Response End ----------                                                                   \n",
              "</pre>\n"
            ]
          },
          "metadata": {}
        },
        {
          "output_type": "display_data",
          "data": {
            "text/plain": [
              "\u001b[32mDEBUG   \u001b[0m Added \u001b[1;36m4\u001b[0m Messages to AgentMemory                                                                           \n"
            ],
            "text/html": [
              "<pre style=\"white-space:pre;overflow-x:auto;line-height:normal;font-family:Menlo,'DejaVu Sans Mono',consolas,'Courier New',monospace\"><span style=\"color: #008000; text-decoration-color: #008000\">DEBUG   </span> Added <span style=\"color: #008080; text-decoration-color: #008080; font-weight: bold\">4</span> Messages to AgentMemory                                                                           \n",
              "</pre>\n"
            ]
          },
          "metadata": {}
        },
        {
          "output_type": "display_data",
          "data": {
            "text/plain": [
              "\u001b[32mDEBUG   \u001b[0m Added AgentRun to AgentMemory                                                                             \n"
            ],
            "text/html": [
              "<pre style=\"white-space:pre;overflow-x:auto;line-height:normal;font-family:Menlo,'DejaVu Sans Mono',consolas,'Courier New',monospace\"><span style=\"color: #008000; text-decoration-color: #008000\">DEBUG   </span> Added AgentRun to AgentMemory                                                                             \n",
              "</pre>\n"
            ]
          },
          "metadata": {}
        },
        {
          "output_type": "display_data",
          "data": {
            "text/plain": [
              "\u001b[32mDEBUG   \u001b[0m --**-- Logging Agent Run                                                                                  \n"
            ],
            "text/html": [
              "<pre style=\"white-space:pre;overflow-x:auto;line-height:normal;font-family:Menlo,'DejaVu Sans Mono',consolas,'Courier New',monospace\"><span style=\"color: #008000; text-decoration-color: #008000\">DEBUG   </span> --**-- Logging Agent Run                                                                                  \n",
              "</pre>\n"
            ]
          },
          "metadata": {}
        },
        {
          "output_type": "display_data",
          "data": {
            "text/plain": [
              "\u001b[32mDEBUG   \u001b[0m *********** Agent Run End: \u001b[93mdf85c275-6e8b-4942-97f9-393de7b1241a\u001b[0m ***********                               \n"
            ],
            "text/html": [
              "<pre style=\"white-space:pre;overflow-x:auto;line-height:normal;font-family:Menlo,'DejaVu Sans Mono',consolas,'Courier New',monospace\"><span style=\"color: #008000; text-decoration-color: #008000\">DEBUG   </span> *********** Agent Run End: <span style=\"color: #ffff00; text-decoration-color: #ffff00\">df85c275-6e8b-4942-97f9-393de7b1241a</span> ***********                               \n",
              "</pre>\n"
            ]
          },
          "metadata": {}
        },
        {
          "output_type": "display_data",
          "data": {
            "text/plain": [],
            "text/html": [
              "<pre style=\"white-space:pre;overflow-x:auto;line-height:normal;font-family:Menlo,'DejaVu Sans Mono',consolas,'Courier New',monospace\"></pre>\n"
            ]
          },
          "metadata": {}
        }
      ]
    },
    {
      "cell_type": "markdown",
      "source": [
        "# Web search Agent"
      ],
      "metadata": {
        "id": "_xfZOh1ag1mn"
      }
    },
    {
      "cell_type": "code",
      "source": [
        "from phi.agent import Agent\n",
        "from phi.model.groq import Groq\n",
        "from phi.tools.duckduckgo import DuckDuckGo\n",
        "from dotenv import load_dotenv\n",
        "\n",
        "load_dotenv()\n",
        "\n",
        "web_search_agent = Agent(\n",
        "    name = \"Web Agent\",\n",
        "    description = \"This is the agent for searching content from the web\",\n",
        "    model = Groq(id=\"llama-3.3-70b-versatile\", api_key = api_key),\n",
        "    tools  = [DuckDuckGo()],\n",
        "    instructions = \"Always include the sources\",\n",
        "    show_tool_calls = True,\n",
        "    markdown = True,\n",
        "    debug_mode=True\n",
        ")\n",
        "\n",
        "web_search_agent.print_response(\"What is the capital of Nepal?\", stream=True)"
      ],
      "metadata": {
        "colab": {
          "base_uri": "https://localhost:8080/",
          "height": 1000,
          "referenced_widgets": [
            "8e3621b2eab04d62921174cf6f0f05f6",
            "73da2bf0ed6c48a7b3295bd51fdfc381"
          ]
        },
        "id": "vTtpmdg3g7tx",
        "outputId": "a0b7d78f-088c-4807-af30-0f9f3294eef8"
      },
      "execution_count": 8,
      "outputs": [
        {
          "output_type": "display_data",
          "data": {
            "text/plain": [
              "\u001b[32mDEBUG   \u001b[0m Function: duckduckgo_search registered with duckduckgo                                                    \n"
            ],
            "text/html": [
              "<pre style=\"white-space:pre;overflow-x:auto;line-height:normal;font-family:Menlo,'DejaVu Sans Mono',consolas,'Courier New',monospace\"><span style=\"color: #008000; text-decoration-color: #008000\">DEBUG   </span> Function: duckduckgo_search registered with duckduckgo                                                    \n",
              "</pre>\n"
            ]
          },
          "metadata": {}
        },
        {
          "output_type": "display_data",
          "data": {
            "text/plain": [
              "\u001b[32mDEBUG   \u001b[0m Function: duckduckgo_news registered with duckduckgo                                                      \n"
            ],
            "text/html": [
              "<pre style=\"white-space:pre;overflow-x:auto;line-height:normal;font-family:Menlo,'DejaVu Sans Mono',consolas,'Courier New',monospace\"><span style=\"color: #008000; text-decoration-color: #008000\">DEBUG   </span> Function: duckduckgo_news registered with duckduckgo                                                      \n",
              "</pre>\n"
            ]
          },
          "metadata": {}
        },
        {
          "output_type": "display_data",
          "data": {
            "text/plain": [
              "\u001b[32mDEBUG   \u001b[0m *********** Agent ID: \u001b[93mdd701af6-08ae-4a10-a50f-7aff4b286e97\u001b[0m ***********                                    \n"
            ],
            "text/html": [
              "<pre style=\"white-space:pre;overflow-x:auto;line-height:normal;font-family:Menlo,'DejaVu Sans Mono',consolas,'Courier New',monospace\"><span style=\"color: #008000; text-decoration-color: #008000\">DEBUG   </span> *********** Agent ID: <span style=\"color: #ffff00; text-decoration-color: #ffff00\">dd701af6-08ae-4a10-a50f-7aff4b286e97</span> ***********                                    \n",
              "</pre>\n"
            ]
          },
          "metadata": {}
        },
        {
          "output_type": "display_data",
          "data": {
            "text/plain": [
              "\u001b[32mDEBUG   \u001b[0m *********** Session ID: \u001b[93m2931ae87-32bd-441a-bf83-afd0710c57ed\u001b[0m ***********                                  \n"
            ],
            "text/html": [
              "<pre style=\"white-space:pre;overflow-x:auto;line-height:normal;font-family:Menlo,'DejaVu Sans Mono',consolas,'Courier New',monospace\"><span style=\"color: #008000; text-decoration-color: #008000\">DEBUG   </span> *********** Session ID: <span style=\"color: #ffff00; text-decoration-color: #ffff00\">2931ae87-32bd-441a-bf83-afd0710c57ed</span> ***********                                  \n",
              "</pre>\n"
            ]
          },
          "metadata": {}
        },
        {
          "output_type": "display_data",
          "data": {
            "text/plain": [
              "\u001b[32mDEBUG   \u001b[0m Debug logs enabled                                                                                        \n"
            ],
            "text/html": [
              "<pre style=\"white-space:pre;overflow-x:auto;line-height:normal;font-family:Menlo,'DejaVu Sans Mono',consolas,'Courier New',monospace\"><span style=\"color: #008000; text-decoration-color: #008000\">DEBUG   </span> Debug logs enabled                                                                                        \n",
              "</pre>\n"
            ]
          },
          "metadata": {}
        },
        {
          "output_type": "display_data",
          "data": {
            "text/plain": [
              "\u001b[32mDEBUG   \u001b[0m *********** Agent Run Start: \u001b[93m30090afb-d3db-43e3-8126-af9d40696373\u001b[0m ***********                             \n"
            ],
            "text/html": [
              "<pre style=\"white-space:pre;overflow-x:auto;line-height:normal;font-family:Menlo,'DejaVu Sans Mono',consolas,'Courier New',monospace\"><span style=\"color: #008000; text-decoration-color: #008000\">DEBUG   </span> *********** Agent Run Start: <span style=\"color: #ffff00; text-decoration-color: #ffff00\">30090afb-d3db-43e3-8126-af9d40696373</span> ***********                             \n",
              "</pre>\n"
            ]
          },
          "metadata": {}
        },
        {
          "output_type": "display_data",
          "data": {
            "text/plain": [
              "\u001b[32mDEBUG   \u001b[0m Function duckduckgo_search from duckduckgo added to model.                                                \n"
            ],
            "text/html": [
              "<pre style=\"white-space:pre;overflow-x:auto;line-height:normal;font-family:Menlo,'DejaVu Sans Mono',consolas,'Courier New',monospace\"><span style=\"color: #008000; text-decoration-color: #008000\">DEBUG   </span> Function duckduckgo_search from duckduckgo added to model.                                                \n",
              "</pre>\n"
            ]
          },
          "metadata": {}
        },
        {
          "output_type": "display_data",
          "data": {
            "text/plain": [
              "\u001b[32mDEBUG   \u001b[0m Function duckduckgo_news from duckduckgo added to model.                                                  \n"
            ],
            "text/html": [
              "<pre style=\"white-space:pre;overflow-x:auto;line-height:normal;font-family:Menlo,'DejaVu Sans Mono',consolas,'Courier New',monospace\"><span style=\"color: #008000; text-decoration-color: #008000\">DEBUG   </span> Function duckduckgo_news from duckduckgo added to model.                                                  \n",
              "</pre>\n"
            ]
          },
          "metadata": {}
        },
        {
          "output_type": "display_data",
          "data": {
            "text/plain": [
              "\u001b[32mDEBUG   \u001b[0m ---------- Groq Response Start ----------                                                                 \n"
            ],
            "text/html": [
              "<pre style=\"white-space:pre;overflow-x:auto;line-height:normal;font-family:Menlo,'DejaVu Sans Mono',consolas,'Courier New',monospace\"><span style=\"color: #008000; text-decoration-color: #008000\">DEBUG   </span> ---------- Groq Response Start ----------                                                                 \n",
              "</pre>\n"
            ]
          },
          "metadata": {}
        },
        {
          "output_type": "display_data",
          "data": {
            "text/plain": [
              "\u001b[32mDEBUG   \u001b[0m ============== system ==============                                                                      \n"
            ],
            "text/html": [
              "<pre style=\"white-space:pre;overflow-x:auto;line-height:normal;font-family:Menlo,'DejaVu Sans Mono',consolas,'Courier New',monospace\"><span style=\"color: #008000; text-decoration-color: #008000\">DEBUG   </span> ============== system ==============                                                                      \n",
              "</pre>\n"
            ]
          },
          "metadata": {}
        },
        {
          "output_type": "display_data",
          "data": {
            "text/plain": [
              "\u001b[32mDEBUG   \u001b[0m This is the agent for searching content from the web                                                      \n",
              "                                                                                                                   \n",
              "         ## Instructions                                                                                           \n",
              "         - Always include the sources                                                                              \n",
              "         - Use markdown to format your answers.                                                                    \n"
            ],
            "text/html": [
              "<pre style=\"white-space:pre;overflow-x:auto;line-height:normal;font-family:Menlo,'DejaVu Sans Mono',consolas,'Courier New',monospace\"><span style=\"color: #008000; text-decoration-color: #008000\">DEBUG   </span> This is the agent for searching content from the web                                                      \n",
              "                                                                                                                   \n",
              "         ## Instructions                                                                                           \n",
              "         - Always include the sources                                                                              \n",
              "         - Use markdown to format your answers.                                                                    \n",
              "</pre>\n"
            ]
          },
          "metadata": {}
        },
        {
          "output_type": "display_data",
          "data": {
            "text/plain": [
              "\u001b[32mDEBUG   \u001b[0m ============== user ==============                                                                        \n"
            ],
            "text/html": [
              "<pre style=\"white-space:pre;overflow-x:auto;line-height:normal;font-family:Menlo,'DejaVu Sans Mono',consolas,'Courier New',monospace\"><span style=\"color: #008000; text-decoration-color: #008000\">DEBUG   </span> ============== user ==============                                                                        \n",
              "</pre>\n"
            ]
          },
          "metadata": {}
        },
        {
          "output_type": "display_data",
          "data": {
            "text/plain": [
              "\u001b[32mDEBUG   \u001b[0m What is the capital of Nepal?                                                                             \n"
            ],
            "text/html": [
              "<pre style=\"white-space:pre;overflow-x:auto;line-height:normal;font-family:Menlo,'DejaVu Sans Mono',consolas,'Courier New',monospace\"><span style=\"color: #008000; text-decoration-color: #008000\">DEBUG   </span> What is the capital of Nepal?                                                                             \n",
              "</pre>\n"
            ]
          },
          "metadata": {}
        },
        {
          "output_type": "display_data",
          "data": {
            "text/plain": [
              "Output()"
            ],
            "application/vnd.jupyter.widget-view+json": {
              "version_major": 2,
              "version_minor": 0,
              "model_id": "8e3621b2eab04d62921174cf6f0f05f6"
            }
          },
          "metadata": {}
        },
        {
          "output_type": "display_data",
          "data": {
            "text/plain": [
              "\u001b[32mDEBUG   \u001b[0m ============== assistant ==============                                                                   \n"
            ],
            "text/html": [
              "<pre style=\"white-space:pre;overflow-x:auto;line-height:normal;font-family:Menlo,'DejaVu Sans Mono',consolas,'Courier New',monospace\"><span style=\"color: #008000; text-decoration-color: #008000\">DEBUG   </span> ============== assistant ==============                                                                   \n",
              "</pre>\n"
            ]
          },
          "metadata": {}
        },
        {
          "output_type": "display_data",
          "data": {
            "text/plain": [
              "\u001b[32mDEBUG   \u001b[0m Tool Calls: \u001b[1m[\u001b[0m                                                                                             \n",
              "           \u001b[1m{\u001b[0m                                                                                                       \n",
              "             \u001b[32m\"id\"\u001b[0m: \u001b[32m\"call_sz3c\"\u001b[0m,                                                                                    \n",
              "             \u001b[32m\"type\"\u001b[0m: \u001b[32m\"function\"\u001b[0m,                                                                                   \n",
              "             \u001b[32m\"function\"\u001b[0m: \u001b[1m{\u001b[0m                                                                                         \n",
              "               \u001b[32m\"name\"\u001b[0m: \u001b[32m\"duckduckgo_search\"\u001b[0m,                                                                        \n",
              "               \u001b[32m\"arguments\"\u001b[0m: \u001b[32m\"\u001b[0m\u001b[32m{\u001b[0m\u001b[32m\\\"query\\\": \\\"Capital of Nepal\\\", \\\"max_results\\\": 1\u001b[0m\u001b[32m}\u001b[0m\u001b[32m\"\u001b[0m                                \n",
              "             \u001b[1m}\u001b[0m                                                                                                     \n",
              "           \u001b[1m}\u001b[0m                                                                                                       \n",
              "         \u001b[1m]\u001b[0m                                                                                                         \n"
            ],
            "text/html": [
              "<pre style=\"white-space:pre;overflow-x:auto;line-height:normal;font-family:Menlo,'DejaVu Sans Mono',consolas,'Courier New',monospace\"><span style=\"color: #008000; text-decoration-color: #008000\">DEBUG   </span> Tool Calls: <span style=\"font-weight: bold\">[</span>                                                                                             \n",
              "           <span style=\"font-weight: bold\">{</span>                                                                                                       \n",
              "             <span style=\"color: #008000; text-decoration-color: #008000\">\"id\"</span>: <span style=\"color: #008000; text-decoration-color: #008000\">\"call_sz3c\"</span>,                                                                                    \n",
              "             <span style=\"color: #008000; text-decoration-color: #008000\">\"type\"</span>: <span style=\"color: #008000; text-decoration-color: #008000\">\"function\"</span>,                                                                                   \n",
              "             <span style=\"color: #008000; text-decoration-color: #008000\">\"function\"</span>: <span style=\"font-weight: bold\">{</span>                                                                                         \n",
              "               <span style=\"color: #008000; text-decoration-color: #008000\">\"name\"</span>: <span style=\"color: #008000; text-decoration-color: #008000\">\"duckduckgo_search\"</span>,                                                                        \n",
              "               <span style=\"color: #008000; text-decoration-color: #008000\">\"arguments\"</span>: <span style=\"color: #008000; text-decoration-color: #008000\">\"{\\\"query\\\": \\\"Capital of Nepal\\\", \\\"max_results\\\": 1}\"</span>                                \n",
              "             <span style=\"font-weight: bold\">}</span>                                                                                                     \n",
              "           <span style=\"font-weight: bold\">}</span>                                                                                                       \n",
              "         <span style=\"font-weight: bold\">]</span>                                                                                                         \n",
              "</pre>\n"
            ]
          },
          "metadata": {}
        },
        {
          "output_type": "display_data",
          "data": {
            "text/plain": [
              "\u001b[32mDEBUG   \u001b[0m **************** METRICS START ****************                                                           \n"
            ],
            "text/html": [
              "<pre style=\"white-space:pre;overflow-x:auto;line-height:normal;font-family:Menlo,'DejaVu Sans Mono',consolas,'Courier New',monospace\"><span style=\"color: #008000; text-decoration-color: #008000\">DEBUG   </span> **************** METRICS START ****************                                                           \n",
              "</pre>\n"
            ]
          },
          "metadata": {}
        },
        {
          "output_type": "display_data",
          "data": {
            "text/plain": [
              "\u001b[32mDEBUG   \u001b[0m * Time to first token:         \u001b[1;36m1.\u001b[0m8350s                                                                    \n"
            ],
            "text/html": [
              "<pre style=\"white-space:pre;overflow-x:auto;line-height:normal;font-family:Menlo,'DejaVu Sans Mono',consolas,'Courier New',monospace\"><span style=\"color: #008000; text-decoration-color: #008000\">DEBUG   </span> * Time to first token:         <span style=\"color: #008080; text-decoration-color: #008080; font-weight: bold\">1.</span>8350s                                                                    \n",
              "</pre>\n"
            ]
          },
          "metadata": {}
        },
        {
          "output_type": "display_data",
          "data": {
            "text/plain": [
              "\u001b[32mDEBUG   \u001b[0m * Time to generate response:   \u001b[1;36m1.\u001b[0m8428s                                                                    \n"
            ],
            "text/html": [
              "<pre style=\"white-space:pre;overflow-x:auto;line-height:normal;font-family:Menlo,'DejaVu Sans Mono',consolas,'Courier New',monospace\"><span style=\"color: #008000; text-decoration-color: #008000\">DEBUG   </span> * Time to generate response:   <span style=\"color: #008080; text-decoration-color: #008080; font-weight: bold\">1.</span>8428s                                                                    \n",
              "</pre>\n"
            ]
          },
          "metadata": {}
        },
        {
          "output_type": "display_data",
          "data": {
            "text/plain": [
              "\u001b[32mDEBUG   \u001b[0m * Tokens per second:           \u001b[1;36m0.0000\u001b[0m tokens/s                                                            \n"
            ],
            "text/html": [
              "<pre style=\"white-space:pre;overflow-x:auto;line-height:normal;font-family:Menlo,'DejaVu Sans Mono',consolas,'Courier New',monospace\"><span style=\"color: #008000; text-decoration-color: #008000\">DEBUG   </span> * Tokens per second:           <span style=\"color: #008080; text-decoration-color: #008080; font-weight: bold\">0.0000</span> tokens/s                                                            \n",
              "</pre>\n"
            ]
          },
          "metadata": {}
        },
        {
          "output_type": "display_data",
          "data": {
            "text/plain": [
              "\u001b[32mDEBUG   \u001b[0m * Input tokens:                \u001b[1;36m0\u001b[0m                                                                          \n"
            ],
            "text/html": [
              "<pre style=\"white-space:pre;overflow-x:auto;line-height:normal;font-family:Menlo,'DejaVu Sans Mono',consolas,'Courier New',monospace\"><span style=\"color: #008000; text-decoration-color: #008000\">DEBUG   </span> * Input tokens:                <span style=\"color: #008080; text-decoration-color: #008080; font-weight: bold\">0</span>                                                                          \n",
              "</pre>\n"
            ]
          },
          "metadata": {}
        },
        {
          "output_type": "display_data",
          "data": {
            "text/plain": [
              "\u001b[32mDEBUG   \u001b[0m * Output tokens:               \u001b[1;36m3\u001b[0m                                                                          \n"
            ],
            "text/html": [
              "<pre style=\"white-space:pre;overflow-x:auto;line-height:normal;font-family:Menlo,'DejaVu Sans Mono',consolas,'Courier New',monospace\"><span style=\"color: #008000; text-decoration-color: #008000\">DEBUG   </span> * Output tokens:               <span style=\"color: #008080; text-decoration-color: #008080; font-weight: bold\">3</span>                                                                          \n",
              "</pre>\n"
            ]
          },
          "metadata": {}
        },
        {
          "output_type": "display_data",
          "data": {
            "text/plain": [
              "\u001b[32mDEBUG   \u001b[0m * Total tokens:                \u001b[1;36m0\u001b[0m                                                                          \n"
            ],
            "text/html": [
              "<pre style=\"white-space:pre;overflow-x:auto;line-height:normal;font-family:Menlo,'DejaVu Sans Mono',consolas,'Courier New',monospace\"><span style=\"color: #008000; text-decoration-color: #008000\">DEBUG   </span> * Total tokens:                <span style=\"color: #008080; text-decoration-color: #008080; font-weight: bold\">0</span>                                                                          \n",
              "</pre>\n"
            ]
          },
          "metadata": {}
        },
        {
          "output_type": "display_data",
          "data": {
            "text/plain": [
              "\u001b[32mDEBUG   \u001b[0m **************** METRICS END ******************                                                           \n"
            ],
            "text/html": [
              "<pre style=\"white-space:pre;overflow-x:auto;line-height:normal;font-family:Menlo,'DejaVu Sans Mono',consolas,'Courier New',monospace\"><span style=\"color: #008000; text-decoration-color: #008000\">DEBUG   </span> **************** METRICS END ******************                                                           \n",
              "</pre>\n"
            ]
          },
          "metadata": {}
        },
        {
          "output_type": "display_data",
          "data": {
            "text/plain": [
              "\u001b[32mDEBUG   \u001b[0m Getting function duckduckgo_search                                                                        \n"
            ],
            "text/html": [
              "<pre style=\"white-space:pre;overflow-x:auto;line-height:normal;font-family:Menlo,'DejaVu Sans Mono',consolas,'Courier New',monospace\"><span style=\"color: #008000; text-decoration-color: #008000\">DEBUG   </span> Getting function duckduckgo_search                                                                        \n",
              "</pre>\n"
            ]
          },
          "metadata": {}
        },
        {
          "output_type": "display_data",
          "data": {
            "text/plain": [
              "\u001b[32mDEBUG   \u001b[0m Running: \u001b[1;35mduckduckgo_search\u001b[0m\u001b[1m(\u001b[0m\u001b[33mquery\u001b[0m=\u001b[35mCapital\u001b[0m of Nepal, \u001b[33mmax_results\u001b[0m=\u001b[1;36m1\u001b[0m\u001b[1m)\u001b[0m                                         \n"
            ],
            "text/html": [
              "<pre style=\"white-space:pre;overflow-x:auto;line-height:normal;font-family:Menlo,'DejaVu Sans Mono',consolas,'Courier New',monospace\"><span style=\"color: #008000; text-decoration-color: #008000\">DEBUG   </span> Running: <span style=\"color: #800080; text-decoration-color: #800080; font-weight: bold\">duckduckgo_search</span><span style=\"font-weight: bold\">(</span><span style=\"color: #808000; text-decoration-color: #808000\">query</span>=<span style=\"color: #800080; text-decoration-color: #800080\">Capital</span> of Nepal, <span style=\"color: #808000; text-decoration-color: #808000\">max_results</span>=<span style=\"color: #008080; text-decoration-color: #008080; font-weight: bold\">1</span><span style=\"font-weight: bold\">)</span>                                         \n",
              "</pre>\n"
            ]
          },
          "metadata": {}
        },
        {
          "output_type": "display_data",
          "data": {
            "text/plain": [
              "\u001b[32mDEBUG   \u001b[0m Searching DDG for: Capital of Nepal                                                                       \n"
            ],
            "text/html": [
              "<pre style=\"white-space:pre;overflow-x:auto;line-height:normal;font-family:Menlo,'DejaVu Sans Mono',consolas,'Courier New',monospace\"><span style=\"color: #008000; text-decoration-color: #008000\">DEBUG   </span> Searching DDG for: Capital of Nepal                                                                       \n",
              "</pre>\n"
            ]
          },
          "metadata": {}
        },
        {
          "output_type": "display_data",
          "data": {
            "text/plain": [
              "\u001b[32mDEBUG   \u001b[0m ---------- Groq Response Start ----------                                                                 \n"
            ],
            "text/html": [
              "<pre style=\"white-space:pre;overflow-x:auto;line-height:normal;font-family:Menlo,'DejaVu Sans Mono',consolas,'Courier New',monospace\"><span style=\"color: #008000; text-decoration-color: #008000\">DEBUG   </span> ---------- Groq Response Start ----------                                                                 \n",
              "</pre>\n"
            ]
          },
          "metadata": {}
        },
        {
          "output_type": "display_data",
          "data": {
            "text/plain": [
              "\u001b[32mDEBUG   \u001b[0m ============== system ==============                                                                      \n"
            ],
            "text/html": [
              "<pre style=\"white-space:pre;overflow-x:auto;line-height:normal;font-family:Menlo,'DejaVu Sans Mono',consolas,'Courier New',monospace\"><span style=\"color: #008000; text-decoration-color: #008000\">DEBUG   </span> ============== system ==============                                                                      \n",
              "</pre>\n"
            ]
          },
          "metadata": {}
        },
        {
          "output_type": "display_data",
          "data": {
            "text/plain": [
              "\u001b[32mDEBUG   \u001b[0m This is the agent for searching content from the web                                                      \n",
              "                                                                                                                   \n",
              "         ## Instructions                                                                                           \n",
              "         - Always include the sources                                                                              \n",
              "         - Use markdown to format your answers.                                                                    \n"
            ],
            "text/html": [
              "<pre style=\"white-space:pre;overflow-x:auto;line-height:normal;font-family:Menlo,'DejaVu Sans Mono',consolas,'Courier New',monospace\"><span style=\"color: #008000; text-decoration-color: #008000\">DEBUG   </span> This is the agent for searching content from the web                                                      \n",
              "                                                                                                                   \n",
              "         ## Instructions                                                                                           \n",
              "         - Always include the sources                                                                              \n",
              "         - Use markdown to format your answers.                                                                    \n",
              "</pre>\n"
            ]
          },
          "metadata": {}
        },
        {
          "output_type": "display_data",
          "data": {
            "text/plain": [
              "\u001b[32mDEBUG   \u001b[0m ============== user ==============                                                                        \n"
            ],
            "text/html": [
              "<pre style=\"white-space:pre;overflow-x:auto;line-height:normal;font-family:Menlo,'DejaVu Sans Mono',consolas,'Courier New',monospace\"><span style=\"color: #008000; text-decoration-color: #008000\">DEBUG   </span> ============== user ==============                                                                        \n",
              "</pre>\n"
            ]
          },
          "metadata": {}
        },
        {
          "output_type": "display_data",
          "data": {
            "text/plain": [
              "\u001b[32mDEBUG   \u001b[0m What is the capital of Nepal?                                                                             \n"
            ],
            "text/html": [
              "<pre style=\"white-space:pre;overflow-x:auto;line-height:normal;font-family:Menlo,'DejaVu Sans Mono',consolas,'Courier New',monospace\"><span style=\"color: #008000; text-decoration-color: #008000\">DEBUG   </span> What is the capital of Nepal?                                                                             \n",
              "</pre>\n"
            ]
          },
          "metadata": {}
        },
        {
          "output_type": "display_data",
          "data": {
            "text/plain": [
              "\u001b[32mDEBUG   \u001b[0m ============== assistant ==============                                                                   \n"
            ],
            "text/html": [
              "<pre style=\"white-space:pre;overflow-x:auto;line-height:normal;font-family:Menlo,'DejaVu Sans Mono',consolas,'Courier New',monospace\"><span style=\"color: #008000; text-decoration-color: #008000\">DEBUG   </span> ============== assistant ==============                                                                   \n",
              "</pre>\n"
            ]
          },
          "metadata": {}
        },
        {
          "output_type": "display_data",
          "data": {
            "text/plain": [
              "\u001b[32mDEBUG   \u001b[0m Tool Calls: \u001b[1m[\u001b[0m                                                                                             \n",
              "           \u001b[1m{\u001b[0m                                                                                                       \n",
              "             \u001b[32m\"id\"\u001b[0m: \u001b[32m\"call_sz3c\"\u001b[0m,                                                                                    \n",
              "             \u001b[32m\"type\"\u001b[0m: \u001b[32m\"function\"\u001b[0m,                                                                                   \n",
              "             \u001b[32m\"function\"\u001b[0m: \u001b[1m{\u001b[0m                                                                                         \n",
              "               \u001b[32m\"name\"\u001b[0m: \u001b[32m\"duckduckgo_search\"\u001b[0m,                                                                        \n",
              "               \u001b[32m\"arguments\"\u001b[0m: \u001b[32m\"\u001b[0m\u001b[32m{\u001b[0m\u001b[32m\\\"query\\\": \\\"Capital of Nepal\\\", \\\"max_results\\\": 1\u001b[0m\u001b[32m}\u001b[0m\u001b[32m\"\u001b[0m                                \n",
              "             \u001b[1m}\u001b[0m                                                                                                     \n",
              "           \u001b[1m}\u001b[0m                                                                                                       \n",
              "         \u001b[1m]\u001b[0m                                                                                                         \n"
            ],
            "text/html": [
              "<pre style=\"white-space:pre;overflow-x:auto;line-height:normal;font-family:Menlo,'DejaVu Sans Mono',consolas,'Courier New',monospace\"><span style=\"color: #008000; text-decoration-color: #008000\">DEBUG   </span> Tool Calls: <span style=\"font-weight: bold\">[</span>                                                                                             \n",
              "           <span style=\"font-weight: bold\">{</span>                                                                                                       \n",
              "             <span style=\"color: #008000; text-decoration-color: #008000\">\"id\"</span>: <span style=\"color: #008000; text-decoration-color: #008000\">\"call_sz3c\"</span>,                                                                                    \n",
              "             <span style=\"color: #008000; text-decoration-color: #008000\">\"type\"</span>: <span style=\"color: #008000; text-decoration-color: #008000\">\"function\"</span>,                                                                                   \n",
              "             <span style=\"color: #008000; text-decoration-color: #008000\">\"function\"</span>: <span style=\"font-weight: bold\">{</span>                                                                                         \n",
              "               <span style=\"color: #008000; text-decoration-color: #008000\">\"name\"</span>: <span style=\"color: #008000; text-decoration-color: #008000\">\"duckduckgo_search\"</span>,                                                                        \n",
              "               <span style=\"color: #008000; text-decoration-color: #008000\">\"arguments\"</span>: <span style=\"color: #008000; text-decoration-color: #008000\">\"{\\\"query\\\": \\\"Capital of Nepal\\\", \\\"max_results\\\": 1}\"</span>                                \n",
              "             <span style=\"font-weight: bold\">}</span>                                                                                                     \n",
              "           <span style=\"font-weight: bold\">}</span>                                                                                                       \n",
              "         <span style=\"font-weight: bold\">]</span>                                                                                                         \n",
              "</pre>\n"
            ]
          },
          "metadata": {}
        },
        {
          "output_type": "display_data",
          "data": {
            "text/plain": [
              "\u001b[32mDEBUG   \u001b[0m ============== tool ==============                                                                        \n"
            ],
            "text/html": [
              "<pre style=\"white-space:pre;overflow-x:auto;line-height:normal;font-family:Menlo,'DejaVu Sans Mono',consolas,'Courier New',monospace\"><span style=\"color: #008000; text-decoration-color: #008000\">DEBUG   </span> ============== tool ==============                                                                        \n",
              "</pre>\n"
            ]
          },
          "metadata": {}
        },
        {
          "output_type": "display_data",
          "data": {
            "text/plain": [
              "\u001b[32mDEBUG   \u001b[0m Tool call Id: call_sz3c                                                                                   \n"
            ],
            "text/html": [
              "<pre style=\"white-space:pre;overflow-x:auto;line-height:normal;font-family:Menlo,'DejaVu Sans Mono',consolas,'Courier New',monospace\"><span style=\"color: #008000; text-decoration-color: #008000\">DEBUG   </span> Tool call Id: call_sz3c                                                                                   \n",
              "</pre>\n"
            ]
          },
          "metadata": {}
        },
        {
          "output_type": "display_data",
          "data": {
            "text/plain": [
              "\u001b[32mDEBUG   \u001b[0m \u001b[1m[\u001b[0m                                                                                                         \n",
              "           \u001b[1m{\u001b[0m                                                                                                       \n",
              "             \u001b[32m\"title\"\u001b[0m: \u001b[32m\"Kathmandu - Wikipedia\"\u001b[0m,                                                                     \n",
              "             \u001b[32m\"href\"\u001b[0m: \u001b[32m\"https://en.wikipedia.org/wiki/Kathmandu\"\u001b[0m,                                                    \n",
              "             \u001b[32m\"body\"\u001b[0m: \u001b[32m\"Kathmandu is the seat of federal government and the most populous city in Nepal, located in \u001b[0m \n",
              "         \u001b[32mthe Kathmandu Valley. It is one of the oldest continuously inhabited places in the world, with a rich \u001b[0m    \n",
              "         \u001b[32mhistory, culture, and tourism, and hosts several World Heritage Sites.\"\u001b[0m                                   \n",
              "           \u001b[1m}\u001b[0m                                                                                                       \n",
              "         \u001b[1m]\u001b[0m                                                                                                         \n"
            ],
            "text/html": [
              "<pre style=\"white-space:pre;overflow-x:auto;line-height:normal;font-family:Menlo,'DejaVu Sans Mono',consolas,'Courier New',monospace\"><span style=\"color: #008000; text-decoration-color: #008000\">DEBUG   </span> <span style=\"font-weight: bold\">[</span>                                                                                                         \n",
              "           <span style=\"font-weight: bold\">{</span>                                                                                                       \n",
              "             <span style=\"color: #008000; text-decoration-color: #008000\">\"title\"</span>: <span style=\"color: #008000; text-decoration-color: #008000\">\"Kathmandu - Wikipedia\"</span>,                                                                     \n",
              "             <span style=\"color: #008000; text-decoration-color: #008000\">\"href\"</span>: <span style=\"color: #008000; text-decoration-color: #008000\">\"https://en.wikipedia.org/wiki/Kathmandu\"</span>,                                                    \n",
              "             <span style=\"color: #008000; text-decoration-color: #008000\">\"body\"</span>: <span style=\"color: #008000; text-decoration-color: #008000\">\"Kathmandu is the seat of federal government and the most populous city in Nepal, located in </span> \n",
              "         <span style=\"color: #008000; text-decoration-color: #008000\">the Kathmandu Valley. It is one of the oldest continuously inhabited places in the world, with a rich </span>    \n",
              "         <span style=\"color: #008000; text-decoration-color: #008000\">history, culture, and tourism, and hosts several World Heritage Sites.\"</span>                                   \n",
              "           <span style=\"font-weight: bold\">}</span>                                                                                                       \n",
              "         <span style=\"font-weight: bold\">]</span>                                                                                                         \n",
              "</pre>\n"
            ]
          },
          "metadata": {}
        },
        {
          "output_type": "display_data",
          "data": {
            "text/plain": [
              "\u001b[32mDEBUG   \u001b[0m ============== assistant ==============                                                                   \n"
            ],
            "text/html": [
              "<pre style=\"white-space:pre;overflow-x:auto;line-height:normal;font-family:Menlo,'DejaVu Sans Mono',consolas,'Courier New',monospace\"><span style=\"color: #008000; text-decoration-color: #008000\">DEBUG   </span> ============== assistant ==============                                                                   \n",
              "</pre>\n"
            ]
          },
          "metadata": {}
        },
        {
          "output_type": "display_data",
          "data": {
            "text/plain": [
              "\u001b[32mDEBUG   \u001b[0m The capital of Nepal is **Kathmandu**.                                                                    \n"
            ],
            "text/html": [
              "<pre style=\"white-space:pre;overflow-x:auto;line-height:normal;font-family:Menlo,'DejaVu Sans Mono',consolas,'Courier New',monospace\"><span style=\"color: #008000; text-decoration-color: #008000\">DEBUG   </span> The capital of Nepal is **Kathmandu**.                                                                    \n",
              "</pre>\n"
            ]
          },
          "metadata": {}
        },
        {
          "output_type": "display_data",
          "data": {
            "text/plain": [
              "\u001b[32mDEBUG   \u001b[0m **************** METRICS START ****************                                                           \n"
            ],
            "text/html": [
              "<pre style=\"white-space:pre;overflow-x:auto;line-height:normal;font-family:Menlo,'DejaVu Sans Mono',consolas,'Courier New',monospace\"><span style=\"color: #008000; text-decoration-color: #008000\">DEBUG   </span> **************** METRICS START ****************                                                           \n",
              "</pre>\n"
            ]
          },
          "metadata": {}
        },
        {
          "output_type": "display_data",
          "data": {
            "text/plain": [
              "\u001b[32mDEBUG   \u001b[0m * Time to first token:         \u001b[1;36m0.\u001b[0m7761s                                                                    \n"
            ],
            "text/html": [
              "<pre style=\"white-space:pre;overflow-x:auto;line-height:normal;font-family:Menlo,'DejaVu Sans Mono',consolas,'Courier New',monospace\"><span style=\"color: #008000; text-decoration-color: #008000\">DEBUG   </span> * Time to first token:         <span style=\"color: #008080; text-decoration-color: #008080; font-weight: bold\">0.</span>7761s                                                                    \n",
              "</pre>\n"
            ]
          },
          "metadata": {}
        },
        {
          "output_type": "display_data",
          "data": {
            "text/plain": [
              "\u001b[32mDEBUG   \u001b[0m * Time to generate response:   \u001b[1;36m0.\u001b[0m8190s                                                                    \n"
            ],
            "text/html": [
              "<pre style=\"white-space:pre;overflow-x:auto;line-height:normal;font-family:Menlo,'DejaVu Sans Mono',consolas,'Courier New',monospace\"><span style=\"color: #008000; text-decoration-color: #008000\">DEBUG   </span> * Time to generate response:   <span style=\"color: #008080; text-decoration-color: #008080; font-weight: bold\">0.</span>8190s                                                                    \n",
              "</pre>\n"
            ]
          },
          "metadata": {}
        },
        {
          "output_type": "display_data",
          "data": {
            "text/plain": [
              "\u001b[32mDEBUG   \u001b[0m * Tokens per second:           \u001b[1;36m0.0000\u001b[0m tokens/s                                                            \n"
            ],
            "text/html": [
              "<pre style=\"white-space:pre;overflow-x:auto;line-height:normal;font-family:Menlo,'DejaVu Sans Mono',consolas,'Courier New',monospace\"><span style=\"color: #008000; text-decoration-color: #008000\">DEBUG   </span> * Tokens per second:           <span style=\"color: #008080; text-decoration-color: #008080; font-weight: bold\">0.0000</span> tokens/s                                                            \n",
              "</pre>\n"
            ]
          },
          "metadata": {}
        },
        {
          "output_type": "display_data",
          "data": {
            "text/plain": [
              "\u001b[32mDEBUG   \u001b[0m * Input tokens:                \u001b[1;36m0\u001b[0m                                                                          \n"
            ],
            "text/html": [
              "<pre style=\"white-space:pre;overflow-x:auto;line-height:normal;font-family:Menlo,'DejaVu Sans Mono',consolas,'Courier New',monospace\"><span style=\"color: #008000; text-decoration-color: #008000\">DEBUG   </span> * Input tokens:                <span style=\"color: #008080; text-decoration-color: #008080; font-weight: bold\">0</span>                                                                          \n",
              "</pre>\n"
            ]
          },
          "metadata": {}
        },
        {
          "output_type": "display_data",
          "data": {
            "text/plain": [
              "\u001b[32mDEBUG   \u001b[0m * Output tokens:               \u001b[1;36m14\u001b[0m                                                                         \n"
            ],
            "text/html": [
              "<pre style=\"white-space:pre;overflow-x:auto;line-height:normal;font-family:Menlo,'DejaVu Sans Mono',consolas,'Courier New',monospace\"><span style=\"color: #008000; text-decoration-color: #008000\">DEBUG   </span> * Output tokens:               <span style=\"color: #008080; text-decoration-color: #008080; font-weight: bold\">14</span>                                                                         \n",
              "</pre>\n"
            ]
          },
          "metadata": {}
        },
        {
          "output_type": "display_data",
          "data": {
            "text/plain": [
              "\u001b[32mDEBUG   \u001b[0m * Total tokens:                \u001b[1;36m0\u001b[0m                                                                          \n"
            ],
            "text/html": [
              "<pre style=\"white-space:pre;overflow-x:auto;line-height:normal;font-family:Menlo,'DejaVu Sans Mono',consolas,'Courier New',monospace\"><span style=\"color: #008000; text-decoration-color: #008000\">DEBUG   </span> * Total tokens:                <span style=\"color: #008080; text-decoration-color: #008080; font-weight: bold\">0</span>                                                                          \n",
              "</pre>\n"
            ]
          },
          "metadata": {}
        },
        {
          "output_type": "display_data",
          "data": {
            "text/plain": [
              "\u001b[32mDEBUG   \u001b[0m **************** METRICS END ******************                                                           \n"
            ],
            "text/html": [
              "<pre style=\"white-space:pre;overflow-x:auto;line-height:normal;font-family:Menlo,'DejaVu Sans Mono',consolas,'Courier New',monospace\"><span style=\"color: #008000; text-decoration-color: #008000\">DEBUG   </span> **************** METRICS END ******************                                                           \n",
              "</pre>\n"
            ]
          },
          "metadata": {}
        },
        {
          "output_type": "display_data",
          "data": {
            "text/plain": [
              "\u001b[32mDEBUG   \u001b[0m ---------- Groq Response End ----------                                                                   \n"
            ],
            "text/html": [
              "<pre style=\"white-space:pre;overflow-x:auto;line-height:normal;font-family:Menlo,'DejaVu Sans Mono',consolas,'Courier New',monospace\"><span style=\"color: #008000; text-decoration-color: #008000\">DEBUG   </span> ---------- Groq Response End ----------                                                                   \n",
              "</pre>\n"
            ]
          },
          "metadata": {}
        },
        {
          "output_type": "display_data",
          "data": {
            "text/plain": [
              "\u001b[32mDEBUG   \u001b[0m ---------- Groq Response End ----------                                                                   \n"
            ],
            "text/html": [
              "<pre style=\"white-space:pre;overflow-x:auto;line-height:normal;font-family:Menlo,'DejaVu Sans Mono',consolas,'Courier New',monospace\"><span style=\"color: #008000; text-decoration-color: #008000\">DEBUG   </span> ---------- Groq Response End ----------                                                                   \n",
              "</pre>\n"
            ]
          },
          "metadata": {}
        },
        {
          "output_type": "display_data",
          "data": {
            "text/plain": [
              "\u001b[32mDEBUG   \u001b[0m Added \u001b[1;36m4\u001b[0m Messages to AgentMemory                                                                           \n"
            ],
            "text/html": [
              "<pre style=\"white-space:pre;overflow-x:auto;line-height:normal;font-family:Menlo,'DejaVu Sans Mono',consolas,'Courier New',monospace\"><span style=\"color: #008000; text-decoration-color: #008000\">DEBUG   </span> Added <span style=\"color: #008080; text-decoration-color: #008080; font-weight: bold\">4</span> Messages to AgentMemory                                                                           \n",
              "</pre>\n"
            ]
          },
          "metadata": {}
        },
        {
          "output_type": "display_data",
          "data": {
            "text/plain": [
              "\u001b[32mDEBUG   \u001b[0m Added AgentRun to AgentMemory                                                                             \n"
            ],
            "text/html": [
              "<pre style=\"white-space:pre;overflow-x:auto;line-height:normal;font-family:Menlo,'DejaVu Sans Mono',consolas,'Courier New',monospace\"><span style=\"color: #008000; text-decoration-color: #008000\">DEBUG   </span> Added AgentRun to AgentMemory                                                                             \n",
              "</pre>\n"
            ]
          },
          "metadata": {}
        },
        {
          "output_type": "display_data",
          "data": {
            "text/plain": [
              "\u001b[32mDEBUG   \u001b[0m --**-- Logging Agent Run                                                                                  \n"
            ],
            "text/html": [
              "<pre style=\"white-space:pre;overflow-x:auto;line-height:normal;font-family:Menlo,'DejaVu Sans Mono',consolas,'Courier New',monospace\"><span style=\"color: #008000; text-decoration-color: #008000\">DEBUG   </span> --**-- Logging Agent Run                                                                                  \n",
              "</pre>\n"
            ]
          },
          "metadata": {}
        },
        {
          "output_type": "display_data",
          "data": {
            "text/plain": [
              "\u001b[32mDEBUG   \u001b[0m *********** Agent Run End: \u001b[93m30090afb-d3db-43e3-8126-af9d40696373\u001b[0m ***********                               \n"
            ],
            "text/html": [
              "<pre style=\"white-space:pre;overflow-x:auto;line-height:normal;font-family:Menlo,'DejaVu Sans Mono',consolas,'Courier New',monospace\"><span style=\"color: #008000; text-decoration-color: #008000\">DEBUG   </span> *********** Agent Run End: <span style=\"color: #ffff00; text-decoration-color: #ffff00\">30090afb-d3db-43e3-8126-af9d40696373</span> ***********                               \n",
              "</pre>\n"
            ]
          },
          "metadata": {}
        },
        {
          "output_type": "display_data",
          "data": {
            "text/plain": [],
            "text/html": [
              "<pre style=\"white-space:pre;overflow-x:auto;line-height:normal;font-family:Menlo,'DejaVu Sans Mono',consolas,'Courier New',monospace\"></pre>\n"
            ]
          },
          "metadata": {}
        }
      ]
    },
    {
      "cell_type": "markdown",
      "source": [
        "# Multi Agent AI"
      ],
      "metadata": {
        "id": "D6dSXcKShY9R"
      }
    },
    {
      "cell_type": "code",
      "source": [
        "from phi.agent import Agent\n",
        "from phi.model.groq import Groq\n",
        "from phi.tools.duckduckgo import DuckDuckGo\n",
        "from phi.tools.yfinance import YFinanceTools\n",
        "\n",
        "from dotenv import load_dotenv\n",
        "\n",
        "load_dotenv()\n",
        "\n",
        "web_search_agent = Agent(\n",
        "    name = \"Web Agent\",\n",
        "    description = \"This is the agent for searching content from the web\",\n",
        "    model = Groq(id=\"llama-3.3-70b-versatile\", api_key = api_key),\n",
        "    tools  = [DuckDuckGo()],\n",
        "    instructions = \"Always include the sources\",\n",
        "    show_tool_calls = True,\n",
        "    markdown = True,\n",
        "    debug_mode=True\n",
        ")\n",
        "\n",
        "#web_search_agent.print_response(\"What is the capital of Nepal?\", stream=True)\n",
        "\n",
        "finance_agent = Agent(\n",
        "    name=\"Finance Agent\",\n",
        "    description = \"Your task is to find the finance information\",\n",
        "    model = Groq(id=\"llama-3.3-70b-versatile\", api_key = api_key),\n",
        "    tools=[YFinanceTools(stock_price=True, analyst_recommendations=True, company_info=True, company_news=True)],\n",
        "    instructions=[\"Use tables to display data\"],\n",
        "    show_tool_calls=True,\n",
        "    markdown=True,\n",
        "    debug_mode = True\n",
        ")\n",
        "#finance_agent.print_response(\"Summarize analyst recommendations for NVDA\", stream=True)\n",
        "\n",
        "agent_team = Agent(\n",
        "    team=[web_search_agent, finance_agent],\n",
        "    model = Groq(id=\"llama-3.3-70b-versatile\", api_key = api_key),\n",
        "    instructions=[\"Always include sources\", \"Use tables to display data\"],\n",
        "    show_tool_calls=True,\n",
        "    markdown=True,\n",
        "    debug_mode =True\n",
        ")\n",
        "\n",
        "agent_team.print_response(\"Summarize analyst recommendations and share the latest news for NVDA\", stream=True)"
      ],
      "metadata": {
        "colab": {
          "base_uri": "https://localhost:8080/",
          "height": 1000,
          "referenced_widgets": [
            "daf50a1ce418444193a9e64e2caf950b",
            "942e56e8bab0400d9d9524edf8db4e4b"
          ]
        },
        "id": "7P6xIxgghbZ9",
        "outputId": "6a3bebf6-8585-4c01-cc83-a5936fdc21a3"
      },
      "execution_count": 10,
      "outputs": [
        {
          "output_type": "display_data",
          "data": {
            "text/plain": [
              "\u001b[32mDEBUG   \u001b[0m Function: duckduckgo_search registered with duckduckgo                                                    \n"
            ],
            "text/html": [
              "<pre style=\"white-space:pre;overflow-x:auto;line-height:normal;font-family:Menlo,'DejaVu Sans Mono',consolas,'Courier New',monospace\"><span style=\"color: #008000; text-decoration-color: #008000\">DEBUG   </span> Function: duckduckgo_search registered with duckduckgo                                                    \n",
              "</pre>\n"
            ]
          },
          "metadata": {}
        },
        {
          "output_type": "display_data",
          "data": {
            "text/plain": [
              "\u001b[32mDEBUG   \u001b[0m Function: duckduckgo_news registered with duckduckgo                                                      \n"
            ],
            "text/html": [
              "<pre style=\"white-space:pre;overflow-x:auto;line-height:normal;font-family:Menlo,'DejaVu Sans Mono',consolas,'Courier New',monospace\"><span style=\"color: #008000; text-decoration-color: #008000\">DEBUG   </span> Function: duckduckgo_news registered with duckduckgo                                                      \n",
              "</pre>\n"
            ]
          },
          "metadata": {}
        },
        {
          "output_type": "display_data",
          "data": {
            "text/plain": [
              "\u001b[32mDEBUG   \u001b[0m *********** Agent ID: \u001b[93m86889307-4d73-414e-af65-dc453d1488f2\u001b[0m ***********                                    \n"
            ],
            "text/html": [
              "<pre style=\"white-space:pre;overflow-x:auto;line-height:normal;font-family:Menlo,'DejaVu Sans Mono',consolas,'Courier New',monospace\"><span style=\"color: #008000; text-decoration-color: #008000\">DEBUG   </span> *********** Agent ID: <span style=\"color: #ffff00; text-decoration-color: #ffff00\">86889307-4d73-414e-af65-dc453d1488f2</span> ***********                                    \n",
              "</pre>\n"
            ]
          },
          "metadata": {}
        },
        {
          "output_type": "display_data",
          "data": {
            "text/plain": [
              "\u001b[32mDEBUG   \u001b[0m *********** Session ID: \u001b[93mee8a9e5c-0c29-4d8c-a4c1-16aef415a320\u001b[0m ***********                                  \n"
            ],
            "text/html": [
              "<pre style=\"white-space:pre;overflow-x:auto;line-height:normal;font-family:Menlo,'DejaVu Sans Mono',consolas,'Courier New',monospace\"><span style=\"color: #008000; text-decoration-color: #008000\">DEBUG   </span> *********** Session ID: <span style=\"color: #ffff00; text-decoration-color: #ffff00\">ee8a9e5c-0c29-4d8c-a4c1-16aef415a320</span> ***********                                  \n",
              "</pre>\n"
            ]
          },
          "metadata": {}
        },
        {
          "output_type": "display_data",
          "data": {
            "text/plain": [
              "\u001b[32mDEBUG   \u001b[0m Debug logs enabled                                                                                        \n"
            ],
            "text/html": [
              "<pre style=\"white-space:pre;overflow-x:auto;line-height:normal;font-family:Menlo,'DejaVu Sans Mono',consolas,'Courier New',monospace\"><span style=\"color: #008000; text-decoration-color: #008000\">DEBUG   </span> Debug logs enabled                                                                                        \n",
              "</pre>\n"
            ]
          },
          "metadata": {}
        },
        {
          "output_type": "display_data",
          "data": {
            "text/plain": [
              "\u001b[32mDEBUG   \u001b[0m Function: get_current_stock_price registered with yfinance_tools                                          \n"
            ],
            "text/html": [
              "<pre style=\"white-space:pre;overflow-x:auto;line-height:normal;font-family:Menlo,'DejaVu Sans Mono',consolas,'Courier New',monospace\"><span style=\"color: #008000; text-decoration-color: #008000\">DEBUG   </span> Function: get_current_stock_price registered with yfinance_tools                                          \n",
              "</pre>\n"
            ]
          },
          "metadata": {}
        },
        {
          "output_type": "display_data",
          "data": {
            "text/plain": [
              "\u001b[32mDEBUG   \u001b[0m Function: get_company_info registered with yfinance_tools                                                 \n"
            ],
            "text/html": [
              "<pre style=\"white-space:pre;overflow-x:auto;line-height:normal;font-family:Menlo,'DejaVu Sans Mono',consolas,'Courier New',monospace\"><span style=\"color: #008000; text-decoration-color: #008000\">DEBUG   </span> Function: get_company_info registered with yfinance_tools                                                 \n",
              "</pre>\n"
            ]
          },
          "metadata": {}
        },
        {
          "output_type": "display_data",
          "data": {
            "text/plain": [
              "\u001b[32mDEBUG   \u001b[0m Function: get_analyst_recommendations registered with yfinance_tools                                      \n"
            ],
            "text/html": [
              "<pre style=\"white-space:pre;overflow-x:auto;line-height:normal;font-family:Menlo,'DejaVu Sans Mono',consolas,'Courier New',monospace\"><span style=\"color: #008000; text-decoration-color: #008000\">DEBUG   </span> Function: get_analyst_recommendations registered with yfinance_tools                                      \n",
              "</pre>\n"
            ]
          },
          "metadata": {}
        },
        {
          "output_type": "display_data",
          "data": {
            "text/plain": [
              "\u001b[32mDEBUG   \u001b[0m Function: get_company_news registered with yfinance_tools                                                 \n"
            ],
            "text/html": [
              "<pre style=\"white-space:pre;overflow-x:auto;line-height:normal;font-family:Menlo,'DejaVu Sans Mono',consolas,'Courier New',monospace\"><span style=\"color: #008000; text-decoration-color: #008000\">DEBUG   </span> Function: get_company_news registered with yfinance_tools                                                 \n",
              "</pre>\n"
            ]
          },
          "metadata": {}
        },
        {
          "output_type": "display_data",
          "data": {
            "text/plain": [
              "\u001b[32mDEBUG   \u001b[0m *********** Agent ID: \u001b[93m6e29aa6e-3e5d-4ff7-8feb-febfc8d65917\u001b[0m ***********                                    \n"
            ],
            "text/html": [
              "<pre style=\"white-space:pre;overflow-x:auto;line-height:normal;font-family:Menlo,'DejaVu Sans Mono',consolas,'Courier New',monospace\"><span style=\"color: #008000; text-decoration-color: #008000\">DEBUG   </span> *********** Agent ID: <span style=\"color: #ffff00; text-decoration-color: #ffff00\">6e29aa6e-3e5d-4ff7-8feb-febfc8d65917</span> ***********                                    \n",
              "</pre>\n"
            ]
          },
          "metadata": {}
        },
        {
          "output_type": "display_data",
          "data": {
            "text/plain": [
              "\u001b[32mDEBUG   \u001b[0m *********** Session ID: \u001b[93m1ecc3fda-8fd4-4d5d-b491-e5d5c22e71e0\u001b[0m ***********                                  \n"
            ],
            "text/html": [
              "<pre style=\"white-space:pre;overflow-x:auto;line-height:normal;font-family:Menlo,'DejaVu Sans Mono',consolas,'Courier New',monospace\"><span style=\"color: #008000; text-decoration-color: #008000\">DEBUG   </span> *********** Session ID: <span style=\"color: #ffff00; text-decoration-color: #ffff00\">1ecc3fda-8fd4-4d5d-b491-e5d5c22e71e0</span> ***********                                  \n",
              "</pre>\n"
            ]
          },
          "metadata": {}
        },
        {
          "output_type": "display_data",
          "data": {
            "text/plain": [
              "\u001b[32mDEBUG   \u001b[0m Debug logs enabled                                                                                        \n"
            ],
            "text/html": [
              "<pre style=\"white-space:pre;overflow-x:auto;line-height:normal;font-family:Menlo,'DejaVu Sans Mono',consolas,'Courier New',monospace\"><span style=\"color: #008000; text-decoration-color: #008000\">DEBUG   </span> Debug logs enabled                                                                                        \n",
              "</pre>\n"
            ]
          },
          "metadata": {}
        },
        {
          "output_type": "display_data",
          "data": {
            "text/plain": [
              "\u001b[32mDEBUG   \u001b[0m *********** Agent ID: \u001b[93mff7726e1-880a-4271-bb0f-0f948424d60b\u001b[0m ***********                                    \n"
            ],
            "text/html": [
              "<pre style=\"white-space:pre;overflow-x:auto;line-height:normal;font-family:Menlo,'DejaVu Sans Mono',consolas,'Courier New',monospace\"><span style=\"color: #008000; text-decoration-color: #008000\">DEBUG   </span> *********** Agent ID: <span style=\"color: #ffff00; text-decoration-color: #ffff00\">ff7726e1-880a-4271-bb0f-0f948424d60b</span> ***********                                    \n",
              "</pre>\n"
            ]
          },
          "metadata": {}
        },
        {
          "output_type": "display_data",
          "data": {
            "text/plain": [
              "\u001b[32mDEBUG   \u001b[0m *********** Session ID: \u001b[93m759135a7-3917-4bb1-bdba-40c44957b644\u001b[0m ***********                                  \n"
            ],
            "text/html": [
              "<pre style=\"white-space:pre;overflow-x:auto;line-height:normal;font-family:Menlo,'DejaVu Sans Mono',consolas,'Courier New',monospace\"><span style=\"color: #008000; text-decoration-color: #008000\">DEBUG   </span> *********** Session ID: <span style=\"color: #ffff00; text-decoration-color: #ffff00\">759135a7-3917-4bb1-bdba-40c44957b644</span> ***********                                  \n",
              "</pre>\n"
            ]
          },
          "metadata": {}
        },
        {
          "output_type": "display_data",
          "data": {
            "text/plain": [
              "\u001b[32mDEBUG   \u001b[0m Debug logs enabled                                                                                        \n"
            ],
            "text/html": [
              "<pre style=\"white-space:pre;overflow-x:auto;line-height:normal;font-family:Menlo,'DejaVu Sans Mono',consolas,'Courier New',monospace\"><span style=\"color: #008000; text-decoration-color: #008000\">DEBUG   </span> Debug logs enabled                                                                                        \n",
              "</pre>\n"
            ]
          },
          "metadata": {}
        },
        {
          "output_type": "display_data",
          "data": {
            "text/plain": [
              "\u001b[32mDEBUG   \u001b[0m *********** Agent Run Start: \u001b[93md58a942e-4abb-4b15-8547-0aa88f77046b\u001b[0m ***********                             \n"
            ],
            "text/html": [
              "<pre style=\"white-space:pre;overflow-x:auto;line-height:normal;font-family:Menlo,'DejaVu Sans Mono',consolas,'Courier New',monospace\"><span style=\"color: #008000; text-decoration-color: #008000\">DEBUG   </span> *********** Agent Run Start: <span style=\"color: #ffff00; text-decoration-color: #ffff00\">d58a942e-4abb-4b15-8547-0aa88f77046b</span> ***********                             \n",
              "</pre>\n"
            ]
          },
          "metadata": {}
        },
        {
          "output_type": "display_data",
          "data": {
            "text/plain": [
              "\u001b[32mDEBUG   \u001b[0m Function transfer_task_to_web_agent added to model.                                                       \n"
            ],
            "text/html": [
              "<pre style=\"white-space:pre;overflow-x:auto;line-height:normal;font-family:Menlo,'DejaVu Sans Mono',consolas,'Courier New',monospace\"><span style=\"color: #008000; text-decoration-color: #008000\">DEBUG   </span> Function transfer_task_to_web_agent added to model.                                                       \n",
              "</pre>\n"
            ]
          },
          "metadata": {}
        },
        {
          "output_type": "display_data",
          "data": {
            "text/plain": [
              "\u001b[32mDEBUG   \u001b[0m Function transfer_task_to_finance_agent added to model.                                                   \n"
            ],
            "text/html": [
              "<pre style=\"white-space:pre;overflow-x:auto;line-height:normal;font-family:Menlo,'DejaVu Sans Mono',consolas,'Courier New',monospace\"><span style=\"color: #008000; text-decoration-color: #008000\">DEBUG   </span> Function transfer_task_to_finance_agent added to model.                                                   \n",
              "</pre>\n"
            ]
          },
          "metadata": {}
        },
        {
          "output_type": "display_data",
          "data": {
            "text/plain": [
              "\u001b[32mDEBUG   \u001b[0m ---------- Groq Response Start ----------                                                                 \n"
            ],
            "text/html": [
              "<pre style=\"white-space:pre;overflow-x:auto;line-height:normal;font-family:Menlo,'DejaVu Sans Mono',consolas,'Courier New',monospace\"><span style=\"color: #008000; text-decoration-color: #008000\">DEBUG   </span> ---------- Groq Response Start ----------                                                                 \n",
              "</pre>\n"
            ]
          },
          "metadata": {}
        },
        {
          "output_type": "display_data",
          "data": {
            "text/plain": [
              "\u001b[32mDEBUG   \u001b[0m ============== system ==============                                                                      \n"
            ],
            "text/html": [
              "<pre style=\"white-space:pre;overflow-x:auto;line-height:normal;font-family:Menlo,'DejaVu Sans Mono',consolas,'Courier New',monospace\"><span style=\"color: #008000; text-decoration-color: #008000\">DEBUG   </span> ============== system ==============                                                                      \n",
              "</pre>\n"
            ]
          },
          "metadata": {}
        },
        {
          "output_type": "display_data",
          "data": {
            "text/plain": [
              "\u001b[32mDEBUG   \u001b[0m ## You are the leader of a team of AI Agents.                                                             \n",
              "           - You can either respond directly or transfer tasks to other Agents in your team depending on the tools \n",
              "         available to them.                                                                                        \n",
              "           - If you transfer a task to another Agent, make sure to include a clear description of the task and the \n",
              "         expected output.                                                                                          \n",
              "           - You must always validate the output of the other Agents before responding to the user, you can        \n",
              "         re-assign the task if you are not satisfied with the result.                                              \n",
              "                                                                                                                   \n",
              "         ## Instructions                                                                                           \n",
              "         - Always include sources                                                                                  \n",
              "         - Use tables to display data                                                                              \n",
              "         - Use markdown to format your answers.                                                                    \n",
              "                                                                                                                   \n",
              "         ## Agents in your team:                                                                                   \n",
              "         You can transfer tasks to the following agents:                                                           \n",
              "         Agent \u001b[1;36m1\u001b[0m:                                                                                                  \n",
              "         Name: Web Agent                                                                                           \n",
              "         Available tools: duckduckgo_search, duckduckgo_news                                                       \n",
              "                                                                                                                   \n",
              "         Agent \u001b[1;36m2\u001b[0m:                                                                                                  \n",
              "         Name: Finance Agent                                                                                       \n",
              "         Available tools: get_current_stock_price, get_company_info, get_analyst_recommendations, get_company_news \n"
            ],
            "text/html": [
              "<pre style=\"white-space:pre;overflow-x:auto;line-height:normal;font-family:Menlo,'DejaVu Sans Mono',consolas,'Courier New',monospace\"><span style=\"color: #008000; text-decoration-color: #008000\">DEBUG   </span> ## You are the leader of a team of AI Agents.                                                             \n",
              "           - You can either respond directly or transfer tasks to other Agents in your team depending on the tools \n",
              "         available to them.                                                                                        \n",
              "           - If you transfer a task to another Agent, make sure to include a clear description of the task and the \n",
              "         expected output.                                                                                          \n",
              "           - You must always validate the output of the other Agents before responding to the user, you can        \n",
              "         re-assign the task if you are not satisfied with the result.                                              \n",
              "                                                                                                                   \n",
              "         ## Instructions                                                                                           \n",
              "         - Always include sources                                                                                  \n",
              "         - Use tables to display data                                                                              \n",
              "         - Use markdown to format your answers.                                                                    \n",
              "                                                                                                                   \n",
              "         ## Agents in your team:                                                                                   \n",
              "         You can transfer tasks to the following agents:                                                           \n",
              "         Agent <span style=\"color: #008080; text-decoration-color: #008080; font-weight: bold\">1</span>:                                                                                                  \n",
              "         Name: Web Agent                                                                                           \n",
              "         Available tools: duckduckgo_search, duckduckgo_news                                                       \n",
              "                                                                                                                   \n",
              "         Agent <span style=\"color: #008080; text-decoration-color: #008080; font-weight: bold\">2</span>:                                                                                                  \n",
              "         Name: Finance Agent                                                                                       \n",
              "         Available tools: get_current_stock_price, get_company_info, get_analyst_recommendations, get_company_news \n",
              "</pre>\n"
            ]
          },
          "metadata": {}
        },
        {
          "output_type": "display_data",
          "data": {
            "text/plain": [
              "\u001b[32mDEBUG   \u001b[0m ============== user ==============                                                                        \n"
            ],
            "text/html": [
              "<pre style=\"white-space:pre;overflow-x:auto;line-height:normal;font-family:Menlo,'DejaVu Sans Mono',consolas,'Courier New',monospace\"><span style=\"color: #008000; text-decoration-color: #008000\">DEBUG   </span> ============== user ==============                                                                        \n",
              "</pre>\n"
            ]
          },
          "metadata": {}
        },
        {
          "output_type": "display_data",
          "data": {
            "text/plain": [
              "\u001b[32mDEBUG   \u001b[0m Summarize analyst recommendations and share the latest news for NVDA                                      \n"
            ],
            "text/html": [
              "<pre style=\"white-space:pre;overflow-x:auto;line-height:normal;font-family:Menlo,'DejaVu Sans Mono',consolas,'Courier New',monospace\"><span style=\"color: #008000; text-decoration-color: #008000\">DEBUG   </span> Summarize analyst recommendations and share the latest news for NVDA                                      \n",
              "</pre>\n"
            ]
          },
          "metadata": {}
        },
        {
          "output_type": "display_data",
          "data": {
            "text/plain": [
              "Output()"
            ],
            "application/vnd.jupyter.widget-view+json": {
              "version_major": 2,
              "version_minor": 0,
              "model_id": "daf50a1ce418444193a9e64e2caf950b"
            }
          },
          "metadata": {}
        },
        {
          "output_type": "display_data",
          "data": {
            "text/plain": [
              "\u001b[32mDEBUG   \u001b[0m ============== assistant ==============                                                                   \n"
            ],
            "text/html": [
              "<pre style=\"white-space:pre;overflow-x:auto;line-height:normal;font-family:Menlo,'DejaVu Sans Mono',consolas,'Courier New',monospace\"><span style=\"color: #008000; text-decoration-color: #008000\">DEBUG   </span> ============== assistant ==============                                                                   \n",
              "</pre>\n"
            ]
          },
          "metadata": {}
        },
        {
          "output_type": "display_data",
          "data": {
            "text/plain": [
              "\u001b[32mDEBUG   \u001b[0m Tool Calls: \u001b[1m[\u001b[0m                                                                                             \n",
              "           \u001b[1m{\u001b[0m                                                                                                       \n",
              "             \u001b[32m\"id\"\u001b[0m: \u001b[32m\"call_zxcr\"\u001b[0m,                                                                                    \n",
              "             \u001b[32m\"type\"\u001b[0m: \u001b[32m\"function\"\u001b[0m,                                                                                   \n",
              "             \u001b[32m\"function\"\u001b[0m: \u001b[1m{\u001b[0m                                                                                         \n",
              "               \u001b[32m\"name\"\u001b[0m: \u001b[32m\"transfer_task_to_finance_agent\"\u001b[0m,                                                           \n",
              "               \u001b[32m\"arguments\"\u001b[0m: \u001b[32m\"\u001b[0m\u001b[32m{\u001b[0m\u001b[32m\\\"task_description\\\": \\\"Summarize analyst recommendations for NVDA\\\", \u001b[0m               \n",
              "         \u001b[32m\\\"expected_output\\\": \\\"A summary of analyst recommendations\\\", \\\"additional_information\\\": \\\"NVDA analyst \u001b[0m\n",
              "         \u001b[32mrecommendations\\\"\u001b[0m\u001b[32m}\u001b[0m\u001b[32m\"\u001b[0m                                                                                       \n",
              "             \u001b[1m}\u001b[0m                                                                                                     \n",
              "           \u001b[1m}\u001b[0m,                                                                                                      \n",
              "           \u001b[1m{\u001b[0m                                                                                                       \n",
              "             \u001b[32m\"id\"\u001b[0m: \u001b[32m\"call_a4a7\"\u001b[0m,                                                                                    \n",
              "             \u001b[32m\"type\"\u001b[0m: \u001b[32m\"function\"\u001b[0m,                                                                                   \n",
              "             \u001b[32m\"function\"\u001b[0m: \u001b[1m{\u001b[0m                                                                                         \n",
              "               \u001b[32m\"name\"\u001b[0m: \u001b[32m\"transfer_task_to_finance_agent\"\u001b[0m,                                                           \n",
              "               \u001b[32m\"arguments\"\u001b[0m: \u001b[32m\"\u001b[0m\u001b[32m{\u001b[0m\u001b[32m\\\"task_description\\\": \\\"Get the latest news for NVDA\\\", \\\"expected_output\\\": \\\"The \u001b[0m  \n",
              "         \u001b[32mlatest news for NVDA\\\", \\\"additional_information\\\": \\\"NVDA latest news\\\"\u001b[0m\u001b[32m}\u001b[0m\u001b[32m\"\u001b[0m                                \n",
              "             \u001b[1m}\u001b[0m                                                                                                     \n",
              "           \u001b[1m}\u001b[0m                                                                                                       \n",
              "         \u001b[1m]\u001b[0m                                                                                                         \n"
            ],
            "text/html": [
              "<pre style=\"white-space:pre;overflow-x:auto;line-height:normal;font-family:Menlo,'DejaVu Sans Mono',consolas,'Courier New',monospace\"><span style=\"color: #008000; text-decoration-color: #008000\">DEBUG   </span> Tool Calls: <span style=\"font-weight: bold\">[</span>                                                                                             \n",
              "           <span style=\"font-weight: bold\">{</span>                                                                                                       \n",
              "             <span style=\"color: #008000; text-decoration-color: #008000\">\"id\"</span>: <span style=\"color: #008000; text-decoration-color: #008000\">\"call_zxcr\"</span>,                                                                                    \n",
              "             <span style=\"color: #008000; text-decoration-color: #008000\">\"type\"</span>: <span style=\"color: #008000; text-decoration-color: #008000\">\"function\"</span>,                                                                                   \n",
              "             <span style=\"color: #008000; text-decoration-color: #008000\">\"function\"</span>: <span style=\"font-weight: bold\">{</span>                                                                                         \n",
              "               <span style=\"color: #008000; text-decoration-color: #008000\">\"name\"</span>: <span style=\"color: #008000; text-decoration-color: #008000\">\"transfer_task_to_finance_agent\"</span>,                                                           \n",
              "               <span style=\"color: #008000; text-decoration-color: #008000\">\"arguments\"</span>: <span style=\"color: #008000; text-decoration-color: #008000\">\"{\\\"task_description\\\": \\\"Summarize analyst recommendations for NVDA\\\", </span>               \n",
              "         <span style=\"color: #008000; text-decoration-color: #008000\">\\\"expected_output\\\": \\\"A summary of analyst recommendations\\\", \\\"additional_information\\\": \\\"NVDA analyst </span>\n",
              "         <span style=\"color: #008000; text-decoration-color: #008000\">recommendations\\\"}\"</span>                                                                                       \n",
              "             <span style=\"font-weight: bold\">}</span>                                                                                                     \n",
              "           <span style=\"font-weight: bold\">}</span>,                                                                                                      \n",
              "           <span style=\"font-weight: bold\">{</span>                                                                                                       \n",
              "             <span style=\"color: #008000; text-decoration-color: #008000\">\"id\"</span>: <span style=\"color: #008000; text-decoration-color: #008000\">\"call_a4a7\"</span>,                                                                                    \n",
              "             <span style=\"color: #008000; text-decoration-color: #008000\">\"type\"</span>: <span style=\"color: #008000; text-decoration-color: #008000\">\"function\"</span>,                                                                                   \n",
              "             <span style=\"color: #008000; text-decoration-color: #008000\">\"function\"</span>: <span style=\"font-weight: bold\">{</span>                                                                                         \n",
              "               <span style=\"color: #008000; text-decoration-color: #008000\">\"name\"</span>: <span style=\"color: #008000; text-decoration-color: #008000\">\"transfer_task_to_finance_agent\"</span>,                                                           \n",
              "               <span style=\"color: #008000; text-decoration-color: #008000\">\"arguments\"</span>: <span style=\"color: #008000; text-decoration-color: #008000\">\"{\\\"task_description\\\": \\\"Get the latest news for NVDA\\\", \\\"expected_output\\\": \\\"The </span>  \n",
              "         <span style=\"color: #008000; text-decoration-color: #008000\">latest news for NVDA\\\", \\\"additional_information\\\": \\\"NVDA latest news\\\"}\"</span>                                \n",
              "             <span style=\"font-weight: bold\">}</span>                                                                                                     \n",
              "           <span style=\"font-weight: bold\">}</span>                                                                                                       \n",
              "         <span style=\"font-weight: bold\">]</span>                                                                                                         \n",
              "</pre>\n"
            ]
          },
          "metadata": {}
        },
        {
          "output_type": "display_data",
          "data": {
            "text/plain": [
              "\u001b[32mDEBUG   \u001b[0m **************** METRICS START ****************                                                           \n"
            ],
            "text/html": [
              "<pre style=\"white-space:pre;overflow-x:auto;line-height:normal;font-family:Menlo,'DejaVu Sans Mono',consolas,'Courier New',monospace\"><span style=\"color: #008000; text-decoration-color: #008000\">DEBUG   </span> **************** METRICS START ****************                                                           \n",
              "</pre>\n"
            ]
          },
          "metadata": {}
        },
        {
          "output_type": "display_data",
          "data": {
            "text/plain": [
              "\u001b[32mDEBUG   \u001b[0m * Time to first token:         \u001b[1;36m1.\u001b[0m6308s                                                                    \n"
            ],
            "text/html": [
              "<pre style=\"white-space:pre;overflow-x:auto;line-height:normal;font-family:Menlo,'DejaVu Sans Mono',consolas,'Courier New',monospace\"><span style=\"color: #008000; text-decoration-color: #008000\">DEBUG   </span> * Time to first token:         <span style=\"color: #008080; text-decoration-color: #008080; font-weight: bold\">1.</span>6308s                                                                    \n",
              "</pre>\n"
            ]
          },
          "metadata": {}
        },
        {
          "output_type": "display_data",
          "data": {
            "text/plain": [
              "\u001b[32mDEBUG   \u001b[0m * Time to generate response:   \u001b[1;36m1.\u001b[0m8145s                                                                    \n"
            ],
            "text/html": [
              "<pre style=\"white-space:pre;overflow-x:auto;line-height:normal;font-family:Menlo,'DejaVu Sans Mono',consolas,'Courier New',monospace\"><span style=\"color: #008000; text-decoration-color: #008000\">DEBUG   </span> * Time to generate response:   <span style=\"color: #008080; text-decoration-color: #008080; font-weight: bold\">1.</span>8145s                                                                    \n",
              "</pre>\n"
            ]
          },
          "metadata": {}
        },
        {
          "output_type": "display_data",
          "data": {
            "text/plain": [
              "\u001b[32mDEBUG   \u001b[0m * Tokens per second:           \u001b[1;36m0.0000\u001b[0m tokens/s                                                            \n"
            ],
            "text/html": [
              "<pre style=\"white-space:pre;overflow-x:auto;line-height:normal;font-family:Menlo,'DejaVu Sans Mono',consolas,'Courier New',monospace\"><span style=\"color: #008000; text-decoration-color: #008000\">DEBUG   </span> * Tokens per second:           <span style=\"color: #008080; text-decoration-color: #008080; font-weight: bold\">0.0000</span> tokens/s                                                            \n",
              "</pre>\n"
            ]
          },
          "metadata": {}
        },
        {
          "output_type": "display_data",
          "data": {
            "text/plain": [
              "\u001b[32mDEBUG   \u001b[0m * Input tokens:                \u001b[1;36m0\u001b[0m                                                                          \n"
            ],
            "text/html": [
              "<pre style=\"white-space:pre;overflow-x:auto;line-height:normal;font-family:Menlo,'DejaVu Sans Mono',consolas,'Courier New',monospace\"><span style=\"color: #008000; text-decoration-color: #008000\">DEBUG   </span> * Input tokens:                <span style=\"color: #008080; text-decoration-color: #008080; font-weight: bold\">0</span>                                                                          \n",
              "</pre>\n"
            ]
          },
          "metadata": {}
        },
        {
          "output_type": "display_data",
          "data": {
            "text/plain": [
              "\u001b[32mDEBUG   \u001b[0m * Output tokens:               \u001b[1;36m4\u001b[0m                                                                          \n"
            ],
            "text/html": [
              "<pre style=\"white-space:pre;overflow-x:auto;line-height:normal;font-family:Menlo,'DejaVu Sans Mono',consolas,'Courier New',monospace\"><span style=\"color: #008000; text-decoration-color: #008000\">DEBUG   </span> * Output tokens:               <span style=\"color: #008080; text-decoration-color: #008080; font-weight: bold\">4</span>                                                                          \n",
              "</pre>\n"
            ]
          },
          "metadata": {}
        },
        {
          "output_type": "display_data",
          "data": {
            "text/plain": [
              "\u001b[32mDEBUG   \u001b[0m * Total tokens:                \u001b[1;36m0\u001b[0m                                                                          \n"
            ],
            "text/html": [
              "<pre style=\"white-space:pre;overflow-x:auto;line-height:normal;font-family:Menlo,'DejaVu Sans Mono',consolas,'Courier New',monospace\"><span style=\"color: #008000; text-decoration-color: #008000\">DEBUG   </span> * Total tokens:                <span style=\"color: #008080; text-decoration-color: #008080; font-weight: bold\">0</span>                                                                          \n",
              "</pre>\n"
            ]
          },
          "metadata": {}
        },
        {
          "output_type": "display_data",
          "data": {
            "text/plain": [
              "\u001b[32mDEBUG   \u001b[0m **************** METRICS END ******************                                                           \n"
            ],
            "text/html": [
              "<pre style=\"white-space:pre;overflow-x:auto;line-height:normal;font-family:Menlo,'DejaVu Sans Mono',consolas,'Courier New',monospace\"><span style=\"color: #008000; text-decoration-color: #008000\">DEBUG   </span> **************** METRICS END ******************                                                           \n",
              "</pre>\n"
            ]
          },
          "metadata": {}
        },
        {
          "output_type": "display_data",
          "data": {
            "text/plain": [
              "\u001b[32mDEBUG   \u001b[0m Getting function transfer_task_to_finance_agent                                                           \n"
            ],
            "text/html": [
              "<pre style=\"white-space:pre;overflow-x:auto;line-height:normal;font-family:Menlo,'DejaVu Sans Mono',consolas,'Courier New',monospace\"><span style=\"color: #008000; text-decoration-color: #008000\">DEBUG   </span> Getting function transfer_task_to_finance_agent                                                           \n",
              "</pre>\n"
            ]
          },
          "metadata": {}
        },
        {
          "output_type": "display_data",
          "data": {
            "text/plain": [
              "\u001b[32mDEBUG   \u001b[0m Getting function transfer_task_to_finance_agent                                                           \n"
            ],
            "text/html": [
              "<pre style=\"white-space:pre;overflow-x:auto;line-height:normal;font-family:Menlo,'DejaVu Sans Mono',consolas,'Courier New',monospace\"><span style=\"color: #008000; text-decoration-color: #008000\">DEBUG   </span> Getting function transfer_task_to_finance_agent                                                           \n",
              "</pre>\n"
            ]
          },
          "metadata": {}
        },
        {
          "output_type": "display_data",
          "data": {
            "text/plain": [
              "\u001b[32mDEBUG   \u001b[0m Running: \u001b[1;35mtransfer_task_to_finance_agent\u001b[0m\u001b[1m(\u001b[0m\u001b[33mtask_description\u001b[0m=\u001b[35mSummarize\u001b[0m analyst recommendations for NVDA,      \n",
              "         \u001b[33mexpected_output\u001b[0m=\u001b[35mA\u001b[0m summary of analyst recommendations, \u001b[33madditional_information\u001b[0m=\u001b[35mNVDA\u001b[0m analyst recommendations\u001b[1m)\u001b[0m\n"
            ],
            "text/html": [
              "<pre style=\"white-space:pre;overflow-x:auto;line-height:normal;font-family:Menlo,'DejaVu Sans Mono',consolas,'Courier New',monospace\"><span style=\"color: #008000; text-decoration-color: #008000\">DEBUG   </span> Running: <span style=\"color: #800080; text-decoration-color: #800080; font-weight: bold\">transfer_task_to_finance_agent</span><span style=\"font-weight: bold\">(</span><span style=\"color: #808000; text-decoration-color: #808000\">task_description</span>=<span style=\"color: #800080; text-decoration-color: #800080\">Summarize</span> analyst recommendations for NVDA,      \n",
              "         <span style=\"color: #808000; text-decoration-color: #808000\">expected_output</span>=<span style=\"color: #800080; text-decoration-color: #800080\">A</span> summary of analyst recommendations, <span style=\"color: #808000; text-decoration-color: #808000\">additional_information</span>=<span style=\"color: #800080; text-decoration-color: #800080\">NVDA</span> analyst recommendations<span style=\"font-weight: bold\">)</span>\n",
              "</pre>\n"
            ]
          },
          "metadata": {}
        },
        {
          "output_type": "display_data",
          "data": {
            "text/plain": [
              "\u001b[32mDEBUG   \u001b[0m *********** Agent Run Start: \u001b[93m437f53f3-4e1f-4c3b-837d-20b26abe9724\u001b[0m ***********                             \n"
            ],
            "text/html": [
              "<pre style=\"white-space:pre;overflow-x:auto;line-height:normal;font-family:Menlo,'DejaVu Sans Mono',consolas,'Courier New',monospace\"><span style=\"color: #008000; text-decoration-color: #008000\">DEBUG   </span> *********** Agent Run Start: <span style=\"color: #ffff00; text-decoration-color: #ffff00\">437f53f3-4e1f-4c3b-837d-20b26abe9724</span> ***********                             \n",
              "</pre>\n"
            ]
          },
          "metadata": {}
        },
        {
          "output_type": "display_data",
          "data": {
            "text/plain": [
              "\u001b[32mDEBUG   \u001b[0m Function get_current_stock_price from yfinance_tools added to model.                                      \n"
            ],
            "text/html": [
              "<pre style=\"white-space:pre;overflow-x:auto;line-height:normal;font-family:Menlo,'DejaVu Sans Mono',consolas,'Courier New',monospace\"><span style=\"color: #008000; text-decoration-color: #008000\">DEBUG   </span> Function get_current_stock_price from yfinance_tools added to model.                                      \n",
              "</pre>\n"
            ]
          },
          "metadata": {}
        },
        {
          "output_type": "display_data",
          "data": {
            "text/plain": [
              "\u001b[32mDEBUG   \u001b[0m Function get_company_info from yfinance_tools added to model.                                             \n"
            ],
            "text/html": [
              "<pre style=\"white-space:pre;overflow-x:auto;line-height:normal;font-family:Menlo,'DejaVu Sans Mono',consolas,'Courier New',monospace\"><span style=\"color: #008000; text-decoration-color: #008000\">DEBUG   </span> Function get_company_info from yfinance_tools added to model.                                             \n",
              "</pre>\n"
            ]
          },
          "metadata": {}
        },
        {
          "output_type": "display_data",
          "data": {
            "text/plain": [
              "\u001b[32mDEBUG   \u001b[0m Function get_analyst_recommendations from yfinance_tools added to model.                                  \n"
            ],
            "text/html": [
              "<pre style=\"white-space:pre;overflow-x:auto;line-height:normal;font-family:Menlo,'DejaVu Sans Mono',consolas,'Courier New',monospace\"><span style=\"color: #008000; text-decoration-color: #008000\">DEBUG   </span> Function get_analyst_recommendations from yfinance_tools added to model.                                  \n",
              "</pre>\n"
            ]
          },
          "metadata": {}
        },
        {
          "output_type": "display_data",
          "data": {
            "text/plain": [
              "\u001b[32mDEBUG   \u001b[0m Function get_company_news from yfinance_tools added to model.                                             \n"
            ],
            "text/html": [
              "<pre style=\"white-space:pre;overflow-x:auto;line-height:normal;font-family:Menlo,'DejaVu Sans Mono',consolas,'Courier New',monospace\"><span style=\"color: #008000; text-decoration-color: #008000\">DEBUG   </span> Function get_company_news from yfinance_tools added to model.                                             \n",
              "</pre>\n"
            ]
          },
          "metadata": {}
        },
        {
          "output_type": "display_data",
          "data": {
            "text/plain": [
              "\u001b[32mDEBUG   \u001b[0m ---------- Groq Response Start ----------                                                                 \n"
            ],
            "text/html": [
              "<pre style=\"white-space:pre;overflow-x:auto;line-height:normal;font-family:Menlo,'DejaVu Sans Mono',consolas,'Courier New',monospace\"><span style=\"color: #008000; text-decoration-color: #008000\">DEBUG   </span> ---------- Groq Response Start ----------                                                                 \n",
              "</pre>\n"
            ]
          },
          "metadata": {}
        },
        {
          "output_type": "display_data",
          "data": {
            "text/plain": [
              "\u001b[32mDEBUG   \u001b[0m ============== system ==============                                                                      \n"
            ],
            "text/html": [
              "<pre style=\"white-space:pre;overflow-x:auto;line-height:normal;font-family:Menlo,'DejaVu Sans Mono',consolas,'Courier New',monospace\"><span style=\"color: #008000; text-decoration-color: #008000\">DEBUG   </span> ============== system ==============                                                                      \n",
              "</pre>\n"
            ]
          },
          "metadata": {}
        },
        {
          "output_type": "display_data",
          "data": {
            "text/plain": [
              "\u001b[32mDEBUG   \u001b[0m Your task is to find the finance information                                                              \n",
              "                                                                                                                   \n",
              "         ## Instructions                                                                                           \n",
              "         - Use tables to display data                                                                              \n",
              "         - Use markdown to format your answers.                                                                    \n"
            ],
            "text/html": [
              "<pre style=\"white-space:pre;overflow-x:auto;line-height:normal;font-family:Menlo,'DejaVu Sans Mono',consolas,'Courier New',monospace\"><span style=\"color: #008000; text-decoration-color: #008000\">DEBUG   </span> Your task is to find the finance information                                                              \n",
              "                                                                                                                   \n",
              "         ## Instructions                                                                                           \n",
              "         - Use tables to display data                                                                              \n",
              "         - Use markdown to format your answers.                                                                    \n",
              "</pre>\n"
            ]
          },
          "metadata": {}
        },
        {
          "output_type": "display_data",
          "data": {
            "text/plain": [
              "\u001b[32mDEBUG   \u001b[0m ============== user ==============                                                                        \n"
            ],
            "text/html": [
              "<pre style=\"white-space:pre;overflow-x:auto;line-height:normal;font-family:Menlo,'DejaVu Sans Mono',consolas,'Courier New',monospace\"><span style=\"color: #008000; text-decoration-color: #008000\">DEBUG   </span> ============== user ==============                                                                        \n",
              "</pre>\n"
            ]
          },
          "metadata": {}
        },
        {
          "output_type": "display_data",
          "data": {
            "text/plain": [
              "\u001b[32mDEBUG   \u001b[0m Summarize analyst recommendations for NVDA                                                                \n",
              "                                                                                                                   \n",
              "         The expected output is: A summary of analyst recommendations                                              \n",
              "                                                                                                                   \n",
              "         Additional information: NVDA analyst recommendations                                                      \n"
            ],
            "text/html": [
              "<pre style=\"white-space:pre;overflow-x:auto;line-height:normal;font-family:Menlo,'DejaVu Sans Mono',consolas,'Courier New',monospace\"><span style=\"color: #008000; text-decoration-color: #008000\">DEBUG   </span> Summarize analyst recommendations for NVDA                                                                \n",
              "                                                                                                                   \n",
              "         The expected output is: A summary of analyst recommendations                                              \n",
              "                                                                                                                   \n",
              "         Additional information: NVDA analyst recommendations                                                      \n",
              "</pre>\n"
            ]
          },
          "metadata": {}
        },
        {
          "output_type": "display_data",
          "data": {
            "text/plain": [
              "\u001b[32mDEBUG   \u001b[0m ============== assistant ==============                                                                   \n"
            ],
            "text/html": [
              "<pre style=\"white-space:pre;overflow-x:auto;line-height:normal;font-family:Menlo,'DejaVu Sans Mono',consolas,'Courier New',monospace\"><span style=\"color: #008000; text-decoration-color: #008000\">DEBUG   </span> ============== assistant ==============                                                                   \n",
              "</pre>\n"
            ]
          },
          "metadata": {}
        },
        {
          "output_type": "display_data",
          "data": {
            "text/plain": [
              "\u001b[32mDEBUG   \u001b[0m Tool Calls: \u001b[1m[\u001b[0m                                                                                             \n",
              "           \u001b[1m{\u001b[0m                                                                                                       \n",
              "             \u001b[32m\"id\"\u001b[0m: \u001b[32m\"call_4mge\"\u001b[0m,                                                                                    \n",
              "             \u001b[32m\"type\"\u001b[0m: \u001b[32m\"function\"\u001b[0m,                                                                                   \n",
              "             \u001b[32m\"function\"\u001b[0m: \u001b[1m{\u001b[0m                                                                                         \n",
              "               \u001b[32m\"name\"\u001b[0m: \u001b[32m\"get_analyst_recommendations\"\u001b[0m,                                                              \n",
              "               \u001b[32m\"arguments\"\u001b[0m: \u001b[32m\"\u001b[0m\u001b[32m{\u001b[0m\u001b[32m\\\"symbol\\\": \\\"NVDA\\\"\u001b[0m\u001b[32m}\u001b[0m\u001b[32m\"\u001b[0m                                                               \n",
              "             \u001b[1m}\u001b[0m                                                                                                     \n",
              "           \u001b[1m}\u001b[0m                                                                                                       \n",
              "         \u001b[1m]\u001b[0m                                                                                                         \n"
            ],
            "text/html": [
              "<pre style=\"white-space:pre;overflow-x:auto;line-height:normal;font-family:Menlo,'DejaVu Sans Mono',consolas,'Courier New',monospace\"><span style=\"color: #008000; text-decoration-color: #008000\">DEBUG   </span> Tool Calls: <span style=\"font-weight: bold\">[</span>                                                                                             \n",
              "           <span style=\"font-weight: bold\">{</span>                                                                                                       \n",
              "             <span style=\"color: #008000; text-decoration-color: #008000\">\"id\"</span>: <span style=\"color: #008000; text-decoration-color: #008000\">\"call_4mge\"</span>,                                                                                    \n",
              "             <span style=\"color: #008000; text-decoration-color: #008000\">\"type\"</span>: <span style=\"color: #008000; text-decoration-color: #008000\">\"function\"</span>,                                                                                   \n",
              "             <span style=\"color: #008000; text-decoration-color: #008000\">\"function\"</span>: <span style=\"font-weight: bold\">{</span>                                                                                         \n",
              "               <span style=\"color: #008000; text-decoration-color: #008000\">\"name\"</span>: <span style=\"color: #008000; text-decoration-color: #008000\">\"get_analyst_recommendations\"</span>,                                                              \n",
              "               <span style=\"color: #008000; text-decoration-color: #008000\">\"arguments\"</span>: <span style=\"color: #008000; text-decoration-color: #008000\">\"{\\\"symbol\\\": \\\"NVDA\\\"}\"</span>                                                               \n",
              "             <span style=\"font-weight: bold\">}</span>                                                                                                     \n",
              "           <span style=\"font-weight: bold\">}</span>                                                                                                       \n",
              "         <span style=\"font-weight: bold\">]</span>                                                                                                         \n",
              "</pre>\n"
            ]
          },
          "metadata": {}
        },
        {
          "output_type": "display_data",
          "data": {
            "text/plain": [
              "\u001b[32mDEBUG   \u001b[0m **************** METRICS START ****************                                                           \n"
            ],
            "text/html": [
              "<pre style=\"white-space:pre;overflow-x:auto;line-height:normal;font-family:Menlo,'DejaVu Sans Mono',consolas,'Courier New',monospace\"><span style=\"color: #008000; text-decoration-color: #008000\">DEBUG   </span> **************** METRICS START ****************                                                           \n",
              "</pre>\n"
            ]
          },
          "metadata": {}
        },
        {
          "output_type": "display_data",
          "data": {
            "text/plain": [
              "\u001b[32mDEBUG   \u001b[0m * Time to first token:         \u001b[1;36m0.\u001b[0m3613s                                                                    \n"
            ],
            "text/html": [
              "<pre style=\"white-space:pre;overflow-x:auto;line-height:normal;font-family:Menlo,'DejaVu Sans Mono',consolas,'Courier New',monospace\"><span style=\"color: #008000; text-decoration-color: #008000\">DEBUG   </span> * Time to first token:         <span style=\"color: #008080; text-decoration-color: #008080; font-weight: bold\">0.</span>3613s                                                                    \n",
              "</pre>\n"
            ]
          },
          "metadata": {}
        },
        {
          "output_type": "display_data",
          "data": {
            "text/plain": [
              "\u001b[32mDEBUG   \u001b[0m * Time to generate response:   \u001b[1;36m0.\u001b[0m3689s                                                                    \n"
            ],
            "text/html": [
              "<pre style=\"white-space:pre;overflow-x:auto;line-height:normal;font-family:Menlo,'DejaVu Sans Mono',consolas,'Courier New',monospace\"><span style=\"color: #008000; text-decoration-color: #008000\">DEBUG   </span> * Time to generate response:   <span style=\"color: #008080; text-decoration-color: #008080; font-weight: bold\">0.</span>3689s                                                                    \n",
              "</pre>\n"
            ]
          },
          "metadata": {}
        },
        {
          "output_type": "display_data",
          "data": {
            "text/plain": [
              "\u001b[32mDEBUG   \u001b[0m * Tokens per second:           \u001b[1;36m0.0000\u001b[0m tokens/s                                                            \n"
            ],
            "text/html": [
              "<pre style=\"white-space:pre;overflow-x:auto;line-height:normal;font-family:Menlo,'DejaVu Sans Mono',consolas,'Courier New',monospace\"><span style=\"color: #008000; text-decoration-color: #008000\">DEBUG   </span> * Tokens per second:           <span style=\"color: #008080; text-decoration-color: #008080; font-weight: bold\">0.0000</span> tokens/s                                                            \n",
              "</pre>\n"
            ]
          },
          "metadata": {}
        },
        {
          "output_type": "display_data",
          "data": {
            "text/plain": [
              "\u001b[32mDEBUG   \u001b[0m * Input tokens:                \u001b[1;36m0\u001b[0m                                                                          \n"
            ],
            "text/html": [
              "<pre style=\"white-space:pre;overflow-x:auto;line-height:normal;font-family:Menlo,'DejaVu Sans Mono',consolas,'Courier New',monospace\"><span style=\"color: #008000; text-decoration-color: #008000\">DEBUG   </span> * Input tokens:                <span style=\"color: #008080; text-decoration-color: #008080; font-weight: bold\">0</span>                                                                          \n",
              "</pre>\n"
            ]
          },
          "metadata": {}
        },
        {
          "output_type": "display_data",
          "data": {
            "text/plain": [
              "\u001b[32mDEBUG   \u001b[0m * Output tokens:               \u001b[1;36m3\u001b[0m                                                                          \n"
            ],
            "text/html": [
              "<pre style=\"white-space:pre;overflow-x:auto;line-height:normal;font-family:Menlo,'DejaVu Sans Mono',consolas,'Courier New',monospace\"><span style=\"color: #008000; text-decoration-color: #008000\">DEBUG   </span> * Output tokens:               <span style=\"color: #008080; text-decoration-color: #008080; font-weight: bold\">3</span>                                                                          \n",
              "</pre>\n"
            ]
          },
          "metadata": {}
        },
        {
          "output_type": "display_data",
          "data": {
            "text/plain": [
              "\u001b[32mDEBUG   \u001b[0m * Total tokens:                \u001b[1;36m0\u001b[0m                                                                          \n"
            ],
            "text/html": [
              "<pre style=\"white-space:pre;overflow-x:auto;line-height:normal;font-family:Menlo,'DejaVu Sans Mono',consolas,'Courier New',monospace\"><span style=\"color: #008000; text-decoration-color: #008000\">DEBUG   </span> * Total tokens:                <span style=\"color: #008080; text-decoration-color: #008080; font-weight: bold\">0</span>                                                                          \n",
              "</pre>\n"
            ]
          },
          "metadata": {}
        },
        {
          "output_type": "display_data",
          "data": {
            "text/plain": [
              "\u001b[32mDEBUG   \u001b[0m **************** METRICS END ******************                                                           \n"
            ],
            "text/html": [
              "<pre style=\"white-space:pre;overflow-x:auto;line-height:normal;font-family:Menlo,'DejaVu Sans Mono',consolas,'Courier New',monospace\"><span style=\"color: #008000; text-decoration-color: #008000\">DEBUG   </span> **************** METRICS END ******************                                                           \n",
              "</pre>\n"
            ]
          },
          "metadata": {}
        },
        {
          "output_type": "display_data",
          "data": {
            "text/plain": [
              "\u001b[32mDEBUG   \u001b[0m Getting function get_analyst_recommendations                                                              \n"
            ],
            "text/html": [
              "<pre style=\"white-space:pre;overflow-x:auto;line-height:normal;font-family:Menlo,'DejaVu Sans Mono',consolas,'Courier New',monospace\"><span style=\"color: #008000; text-decoration-color: #008000\">DEBUG   </span> Getting function get_analyst_recommendations                                                              \n",
              "</pre>\n"
            ]
          },
          "metadata": {}
        },
        {
          "output_type": "display_data",
          "data": {
            "text/plain": [
              "\u001b[32mDEBUG   \u001b[0m Running: \u001b[1;35mget_analyst_recommendations\u001b[0m\u001b[1m(\u001b[0m\u001b[33msymbol\u001b[0m=\u001b[35mNVDA\u001b[0m\u001b[1m)\u001b[0m                                                         \n"
            ],
            "text/html": [
              "<pre style=\"white-space:pre;overflow-x:auto;line-height:normal;font-family:Menlo,'DejaVu Sans Mono',consolas,'Courier New',monospace\"><span style=\"color: #008000; text-decoration-color: #008000\">DEBUG   </span> Running: <span style=\"color: #800080; text-decoration-color: #800080; font-weight: bold\">get_analyst_recommendations</span><span style=\"font-weight: bold\">(</span><span style=\"color: #808000; text-decoration-color: #808000\">symbol</span>=<span style=\"color: #800080; text-decoration-color: #800080\">NVDA</span><span style=\"font-weight: bold\">)</span>                                                         \n",
              "</pre>\n"
            ]
          },
          "metadata": {}
        },
        {
          "output_type": "display_data",
          "data": {
            "text/plain": [
              "\u001b[32mDEBUG   \u001b[0m ---------- Groq Response Start ----------                                                                 \n"
            ],
            "text/html": [
              "<pre style=\"white-space:pre;overflow-x:auto;line-height:normal;font-family:Menlo,'DejaVu Sans Mono',consolas,'Courier New',monospace\"><span style=\"color: #008000; text-decoration-color: #008000\">DEBUG   </span> ---------- Groq Response Start ----------                                                                 \n",
              "</pre>\n"
            ]
          },
          "metadata": {}
        },
        {
          "output_type": "display_data",
          "data": {
            "text/plain": [
              "\u001b[32mDEBUG   \u001b[0m ============== system ==============                                                                      \n"
            ],
            "text/html": [
              "<pre style=\"white-space:pre;overflow-x:auto;line-height:normal;font-family:Menlo,'DejaVu Sans Mono',consolas,'Courier New',monospace\"><span style=\"color: #008000; text-decoration-color: #008000\">DEBUG   </span> ============== system ==============                                                                      \n",
              "</pre>\n"
            ]
          },
          "metadata": {}
        },
        {
          "output_type": "display_data",
          "data": {
            "text/plain": [
              "\u001b[32mDEBUG   \u001b[0m Your task is to find the finance information                                                              \n",
              "                                                                                                                   \n",
              "         ## Instructions                                                                                           \n",
              "         - Use tables to display data                                                                              \n",
              "         - Use markdown to format your answers.                                                                    \n"
            ],
            "text/html": [
              "<pre style=\"white-space:pre;overflow-x:auto;line-height:normal;font-family:Menlo,'DejaVu Sans Mono',consolas,'Courier New',monospace\"><span style=\"color: #008000; text-decoration-color: #008000\">DEBUG   </span> Your task is to find the finance information                                                              \n",
              "                                                                                                                   \n",
              "         ## Instructions                                                                                           \n",
              "         - Use tables to display data                                                                              \n",
              "         - Use markdown to format your answers.                                                                    \n",
              "</pre>\n"
            ]
          },
          "metadata": {}
        },
        {
          "output_type": "display_data",
          "data": {
            "text/plain": [
              "\u001b[32mDEBUG   \u001b[0m ============== user ==============                                                                        \n"
            ],
            "text/html": [
              "<pre style=\"white-space:pre;overflow-x:auto;line-height:normal;font-family:Menlo,'DejaVu Sans Mono',consolas,'Courier New',monospace\"><span style=\"color: #008000; text-decoration-color: #008000\">DEBUG   </span> ============== user ==============                                                                        \n",
              "</pre>\n"
            ]
          },
          "metadata": {}
        },
        {
          "output_type": "display_data",
          "data": {
            "text/plain": [
              "\u001b[32mDEBUG   \u001b[0m Summarize analyst recommendations for NVDA                                                                \n",
              "                                                                                                                   \n",
              "         The expected output is: A summary of analyst recommendations                                              \n",
              "                                                                                                                   \n",
              "         Additional information: NVDA analyst recommendations                                                      \n"
            ],
            "text/html": [
              "<pre style=\"white-space:pre;overflow-x:auto;line-height:normal;font-family:Menlo,'DejaVu Sans Mono',consolas,'Courier New',monospace\"><span style=\"color: #008000; text-decoration-color: #008000\">DEBUG   </span> Summarize analyst recommendations for NVDA                                                                \n",
              "                                                                                                                   \n",
              "         The expected output is: A summary of analyst recommendations                                              \n",
              "                                                                                                                   \n",
              "         Additional information: NVDA analyst recommendations                                                      \n",
              "</pre>\n"
            ]
          },
          "metadata": {}
        },
        {
          "output_type": "display_data",
          "data": {
            "text/plain": [
              "\u001b[32mDEBUG   \u001b[0m ============== assistant ==============                                                                   \n"
            ],
            "text/html": [
              "<pre style=\"white-space:pre;overflow-x:auto;line-height:normal;font-family:Menlo,'DejaVu Sans Mono',consolas,'Courier New',monospace\"><span style=\"color: #008000; text-decoration-color: #008000\">DEBUG   </span> ============== assistant ==============                                                                   \n",
              "</pre>\n"
            ]
          },
          "metadata": {}
        },
        {
          "output_type": "display_data",
          "data": {
            "text/plain": [
              "\u001b[32mDEBUG   \u001b[0m Tool Calls: \u001b[1m[\u001b[0m                                                                                             \n",
              "           \u001b[1m{\u001b[0m                                                                                                       \n",
              "             \u001b[32m\"id\"\u001b[0m: \u001b[32m\"call_4mge\"\u001b[0m,                                                                                    \n",
              "             \u001b[32m\"type\"\u001b[0m: \u001b[32m\"function\"\u001b[0m,                                                                                   \n",
              "             \u001b[32m\"function\"\u001b[0m: \u001b[1m{\u001b[0m                                                                                         \n",
              "               \u001b[32m\"name\"\u001b[0m: \u001b[32m\"get_analyst_recommendations\"\u001b[0m,                                                              \n",
              "               \u001b[32m\"arguments\"\u001b[0m: \u001b[32m\"\u001b[0m\u001b[32m{\u001b[0m\u001b[32m\\\"symbol\\\": \\\"NVDA\\\"\u001b[0m\u001b[32m}\u001b[0m\u001b[32m\"\u001b[0m                                                               \n",
              "             \u001b[1m}\u001b[0m                                                                                                     \n",
              "           \u001b[1m}\u001b[0m                                                                                                       \n",
              "         \u001b[1m]\u001b[0m                                                                                                         \n"
            ],
            "text/html": [
              "<pre style=\"white-space:pre;overflow-x:auto;line-height:normal;font-family:Menlo,'DejaVu Sans Mono',consolas,'Courier New',monospace\"><span style=\"color: #008000; text-decoration-color: #008000\">DEBUG   </span> Tool Calls: <span style=\"font-weight: bold\">[</span>                                                                                             \n",
              "           <span style=\"font-weight: bold\">{</span>                                                                                                       \n",
              "             <span style=\"color: #008000; text-decoration-color: #008000\">\"id\"</span>: <span style=\"color: #008000; text-decoration-color: #008000\">\"call_4mge\"</span>,                                                                                    \n",
              "             <span style=\"color: #008000; text-decoration-color: #008000\">\"type\"</span>: <span style=\"color: #008000; text-decoration-color: #008000\">\"function\"</span>,                                                                                   \n",
              "             <span style=\"color: #008000; text-decoration-color: #008000\">\"function\"</span>: <span style=\"font-weight: bold\">{</span>                                                                                         \n",
              "               <span style=\"color: #008000; text-decoration-color: #008000\">\"name\"</span>: <span style=\"color: #008000; text-decoration-color: #008000\">\"get_analyst_recommendations\"</span>,                                                              \n",
              "               <span style=\"color: #008000; text-decoration-color: #008000\">\"arguments\"</span>: <span style=\"color: #008000; text-decoration-color: #008000\">\"{\\\"symbol\\\": \\\"NVDA\\\"}\"</span>                                                               \n",
              "             <span style=\"font-weight: bold\">}</span>                                                                                                     \n",
              "           <span style=\"font-weight: bold\">}</span>                                                                                                       \n",
              "         <span style=\"font-weight: bold\">]</span>                                                                                                         \n",
              "</pre>\n"
            ]
          },
          "metadata": {}
        },
        {
          "output_type": "display_data",
          "data": {
            "text/plain": [
              "\u001b[32mDEBUG   \u001b[0m ============== tool ==============                                                                        \n"
            ],
            "text/html": [
              "<pre style=\"white-space:pre;overflow-x:auto;line-height:normal;font-family:Menlo,'DejaVu Sans Mono',consolas,'Courier New',monospace\"><span style=\"color: #008000; text-decoration-color: #008000\">DEBUG   </span> ============== tool ==============                                                                        \n",
              "</pre>\n"
            ]
          },
          "metadata": {}
        },
        {
          "output_type": "display_data",
          "data": {
            "text/plain": [
              "\u001b[32mDEBUG   \u001b[0m Tool call Id: call_4mge                                                                                   \n"
            ],
            "text/html": [
              "<pre style=\"white-space:pre;overflow-x:auto;line-height:normal;font-family:Menlo,'DejaVu Sans Mono',consolas,'Courier New',monospace\"><span style=\"color: #008000; text-decoration-color: #008000\">DEBUG   </span> Tool call Id: call_4mge                                                                                   \n",
              "</pre>\n"
            ]
          },
          "metadata": {}
        },
        {
          "output_type": "display_data",
          "data": {
            "text/plain": [
              "\u001b[32mDEBUG   \u001b[0m \u001b[1m{\u001b[0m\u001b[32m\"0\"\u001b[0m:\u001b[1m{\u001b[0m\u001b[32m\"period\"\u001b[0m:\u001b[32m\"0m\"\u001b[0m,\u001b[32m\"strongBuy\"\u001b[0m:\u001b[1;36m12\u001b[0m,\u001b[32m\"buy\"\u001b[0m:\u001b[1;36m48\u001b[0m,\u001b[32m\"hold\"\u001b[0m:\u001b[1;36m4\u001b[0m,\u001b[32m\"sell\"\u001b[0m:\u001b[1;36m0\u001b[0m,\u001b[32m\"strongSell\"\u001b[0m:\u001b[1;36m0\u001b[0m\u001b[1m}\u001b[0m,\u001b[32m\"1\"\u001b[0m:\u001b[1m{\u001b[0m\u001b[32m\"period\"\u001b[0m:\u001b[32m\"-1m\"\u001b[0m,\u001b[32m\"strongB\u001b[0m\n",
              "         \u001b[32muy\"\u001b[0m:\u001b[1;36m12\u001b[0m,\u001b[32m\"buy\"\u001b[0m:\u001b[1;36m48\u001b[0m,\u001b[32m\"hold\"\u001b[0m:\u001b[1;36m4\u001b[0m,\u001b[32m\"sell\"\u001b[0m:\u001b[1;36m0\u001b[0m,\u001b[32m\"strongSell\"\u001b[0m:\u001b[1;36m0\u001b[0m\u001b[1m}\u001b[0m,\u001b[32m\"2\"\u001b[0m:\u001b[1m{\u001b[0m\u001b[32m\"period\"\u001b[0m:\u001b[32m\"-2m\"\u001b[0m,\u001b[32m\"strongBuy\"\u001b[0m:\u001b[1;36m12\u001b[0m,\u001b[32m\"buy\"\u001b[0m:\u001b[1;36m48\u001b[0m,\u001b[32m\"hold\"\u001b[0m:\u001b[1;36m4\u001b[0m,\u001b[32m\"se\u001b[0m\n",
              "         \u001b[32mll\"\u001b[0m:\u001b[1;36m0\u001b[0m,\u001b[32m\"strongSell\"\u001b[0m:\u001b[1;36m0\u001b[0m\u001b[1m}\u001b[0m,\u001b[32m\"3\"\u001b[0m:\u001b[1m{\u001b[0m\u001b[32m\"period\"\u001b[0m:\u001b[32m\"-3m\"\u001b[0m,\u001b[32m\"strongBuy\"\u001b[0m:\u001b[1;36m11\u001b[0m,\u001b[32m\"buy\"\u001b[0m:\u001b[1;36m48\u001b[0m,\u001b[32m\"hold\"\u001b[0m:\u001b[1;36m4\u001b[0m,\u001b[32m\"sell\"\u001b[0m:\u001b[1;36m0\u001b[0m,\u001b[32m\"strongSell\"\u001b[0m:\u001b[1;36m0\u001b[0m\u001b[1m}\u001b[0m\u001b[1m}\u001b[0m      \n"
            ],
            "text/html": [
              "<pre style=\"white-space:pre;overflow-x:auto;line-height:normal;font-family:Menlo,'DejaVu Sans Mono',consolas,'Courier New',monospace\"><span style=\"color: #008000; text-decoration-color: #008000\">DEBUG   </span> <span style=\"font-weight: bold\">{</span><span style=\"color: #008000; text-decoration-color: #008000\">\"0\"</span>:<span style=\"font-weight: bold\">{</span><span style=\"color: #008000; text-decoration-color: #008000\">\"period\"</span>:<span style=\"color: #008000; text-decoration-color: #008000\">\"0m\"</span>,<span style=\"color: #008000; text-decoration-color: #008000\">\"strongBuy\"</span>:<span style=\"color: #008080; text-decoration-color: #008080; font-weight: bold\">12</span>,<span style=\"color: #008000; text-decoration-color: #008000\">\"buy\"</span>:<span style=\"color: #008080; text-decoration-color: #008080; font-weight: bold\">48</span>,<span style=\"color: #008000; text-decoration-color: #008000\">\"hold\"</span>:<span style=\"color: #008080; text-decoration-color: #008080; font-weight: bold\">4</span>,<span style=\"color: #008000; text-decoration-color: #008000\">\"sell\"</span>:<span style=\"color: #008080; text-decoration-color: #008080; font-weight: bold\">0</span>,<span style=\"color: #008000; text-decoration-color: #008000\">\"strongSell\"</span>:<span style=\"color: #008080; text-decoration-color: #008080; font-weight: bold\">0</span><span style=\"font-weight: bold\">}</span>,<span style=\"color: #008000; text-decoration-color: #008000\">\"1\"</span>:<span style=\"font-weight: bold\">{</span><span style=\"color: #008000; text-decoration-color: #008000\">\"period\"</span>:<span style=\"color: #008000; text-decoration-color: #008000\">\"-1m\"</span>,<span style=\"color: #008000; text-decoration-color: #008000\">\"strongB</span>\n",
              "         <span style=\"color: #008000; text-decoration-color: #008000\">uy\"</span>:<span style=\"color: #008080; text-decoration-color: #008080; font-weight: bold\">12</span>,<span style=\"color: #008000; text-decoration-color: #008000\">\"buy\"</span>:<span style=\"color: #008080; text-decoration-color: #008080; font-weight: bold\">48</span>,<span style=\"color: #008000; text-decoration-color: #008000\">\"hold\"</span>:<span style=\"color: #008080; text-decoration-color: #008080; font-weight: bold\">4</span>,<span style=\"color: #008000; text-decoration-color: #008000\">\"sell\"</span>:<span style=\"color: #008080; text-decoration-color: #008080; font-weight: bold\">0</span>,<span style=\"color: #008000; text-decoration-color: #008000\">\"strongSell\"</span>:<span style=\"color: #008080; text-decoration-color: #008080; font-weight: bold\">0</span><span style=\"font-weight: bold\">}</span>,<span style=\"color: #008000; text-decoration-color: #008000\">\"2\"</span>:<span style=\"font-weight: bold\">{</span><span style=\"color: #008000; text-decoration-color: #008000\">\"period\"</span>:<span style=\"color: #008000; text-decoration-color: #008000\">\"-2m\"</span>,<span style=\"color: #008000; text-decoration-color: #008000\">\"strongBuy\"</span>:<span style=\"color: #008080; text-decoration-color: #008080; font-weight: bold\">12</span>,<span style=\"color: #008000; text-decoration-color: #008000\">\"buy\"</span>:<span style=\"color: #008080; text-decoration-color: #008080; font-weight: bold\">48</span>,<span style=\"color: #008000; text-decoration-color: #008000\">\"hold\"</span>:<span style=\"color: #008080; text-decoration-color: #008080; font-weight: bold\">4</span>,<span style=\"color: #008000; text-decoration-color: #008000\">\"se</span>\n",
              "         <span style=\"color: #008000; text-decoration-color: #008000\">ll\"</span>:<span style=\"color: #008080; text-decoration-color: #008080; font-weight: bold\">0</span>,<span style=\"color: #008000; text-decoration-color: #008000\">\"strongSell\"</span>:<span style=\"color: #008080; text-decoration-color: #008080; font-weight: bold\">0</span><span style=\"font-weight: bold\">}</span>,<span style=\"color: #008000; text-decoration-color: #008000\">\"3\"</span>:<span style=\"font-weight: bold\">{</span><span style=\"color: #008000; text-decoration-color: #008000\">\"period\"</span>:<span style=\"color: #008000; text-decoration-color: #008000\">\"-3m\"</span>,<span style=\"color: #008000; text-decoration-color: #008000\">\"strongBuy\"</span>:<span style=\"color: #008080; text-decoration-color: #008080; font-weight: bold\">11</span>,<span style=\"color: #008000; text-decoration-color: #008000\">\"buy\"</span>:<span style=\"color: #008080; text-decoration-color: #008080; font-weight: bold\">48</span>,<span style=\"color: #008000; text-decoration-color: #008000\">\"hold\"</span>:<span style=\"color: #008080; text-decoration-color: #008080; font-weight: bold\">4</span>,<span style=\"color: #008000; text-decoration-color: #008000\">\"sell\"</span>:<span style=\"color: #008080; text-decoration-color: #008080; font-weight: bold\">0</span>,<span style=\"color: #008000; text-decoration-color: #008000\">\"strongSell\"</span>:<span style=\"color: #008080; text-decoration-color: #008080; font-weight: bold\">0</span><span style=\"font-weight: bold\">}}</span>      \n",
              "</pre>\n"
            ]
          },
          "metadata": {}
        },
        {
          "output_type": "display_data",
          "data": {
            "text/plain": [
              "\u001b[32mDEBUG   \u001b[0m ============== assistant ==============                                                                   \n"
            ],
            "text/html": [
              "<pre style=\"white-space:pre;overflow-x:auto;line-height:normal;font-family:Menlo,'DejaVu Sans Mono',consolas,'Courier New',monospace\"><span style=\"color: #008000; text-decoration-color: #008000\">DEBUG   </span> ============== assistant ==============                                                                   \n",
              "</pre>\n"
            ]
          },
          "metadata": {}
        },
        {
          "output_type": "display_data",
          "data": {
            "text/plain": [
              "\u001b[32mDEBUG   \u001b[0m ### Summary of Analyst Recommendations for NVDA                                                           \n",
              "                                                                                                                   \n",
              "         The following table summarizes analyst recommendations for NVDA:                                          \n",
              "                                                                                                                   \n",
              "         | Period | Strong Buy | Buy | Hold | Sell | Strong Sell |                                                 \n",
              "         | --- | --- | --- | --- | --- | --- |                                                                     \n",
              "         | 0m | \u001b[1;36m12\u001b[0m | \u001b[1;36m48\u001b[0m | \u001b[1;36m4\u001b[0m | \u001b[1;36m0\u001b[0m | \u001b[1;36m0\u001b[0m |                                                                              \n",
              "         | -1m | \u001b[1;36m12\u001b[0m | \u001b[1;36m48\u001b[0m | \u001b[1;36m4\u001b[0m | \u001b[1;36m0\u001b[0m | \u001b[1;36m0\u001b[0m |                                                                             \n",
              "         | -2m | \u001b[1;36m12\u001b[0m | \u001b[1;36m48\u001b[0m | \u001b[1;36m4\u001b[0m | \u001b[1;36m0\u001b[0m | \u001b[1;36m0\u001b[0m |                                                                             \n",
              "         | -3m | \u001b[1;36m11\u001b[0m | \u001b[1;36m48\u001b[0m | \u001b[1;36m4\u001b[0m | \u001b[1;36m0\u001b[0m | \u001b[1;36m0\u001b[0m |                                                                             \n",
              "                                                                                                                   \n",
              "         This data indicates that the majority of analysts recommend buying NVDA stock, with \u001b[1;36m48\u001b[0m analysts giving a  \n",
              "         \u001b[32m\"buy\"\u001b[0m recommendation and \u001b[1;36m12\u001b[0m giving a \u001b[32m\"strong buy\"\u001b[0m recommendation. Only \u001b[1;36m4\u001b[0m analysts recommend holding the   \n",
              "         stock, and none recommend selling or strongly selling.                                                    \n"
            ],
            "text/html": [
              "<pre style=\"white-space:pre;overflow-x:auto;line-height:normal;font-family:Menlo,'DejaVu Sans Mono',consolas,'Courier New',monospace\"><span style=\"color: #008000; text-decoration-color: #008000\">DEBUG   </span> ### Summary of Analyst Recommendations for NVDA                                                           \n",
              "                                                                                                                   \n",
              "         The following table summarizes analyst recommendations for NVDA:                                          \n",
              "                                                                                                                   \n",
              "         | Period | Strong Buy | Buy | Hold | Sell | Strong Sell |                                                 \n",
              "         | --- | --- | --- | --- | --- | --- |                                                                     \n",
              "         | 0m | <span style=\"color: #008080; text-decoration-color: #008080; font-weight: bold\">12</span> | <span style=\"color: #008080; text-decoration-color: #008080; font-weight: bold\">48</span> | <span style=\"color: #008080; text-decoration-color: #008080; font-weight: bold\">4</span> | <span style=\"color: #008080; text-decoration-color: #008080; font-weight: bold\">0</span> | <span style=\"color: #008080; text-decoration-color: #008080; font-weight: bold\">0</span> |                                                                              \n",
              "         | -1m | <span style=\"color: #008080; text-decoration-color: #008080; font-weight: bold\">12</span> | <span style=\"color: #008080; text-decoration-color: #008080; font-weight: bold\">48</span> | <span style=\"color: #008080; text-decoration-color: #008080; font-weight: bold\">4</span> | <span style=\"color: #008080; text-decoration-color: #008080; font-weight: bold\">0</span> | <span style=\"color: #008080; text-decoration-color: #008080; font-weight: bold\">0</span> |                                                                             \n",
              "         | -2m | <span style=\"color: #008080; text-decoration-color: #008080; font-weight: bold\">12</span> | <span style=\"color: #008080; text-decoration-color: #008080; font-weight: bold\">48</span> | <span style=\"color: #008080; text-decoration-color: #008080; font-weight: bold\">4</span> | <span style=\"color: #008080; text-decoration-color: #008080; font-weight: bold\">0</span> | <span style=\"color: #008080; text-decoration-color: #008080; font-weight: bold\">0</span> |                                                                             \n",
              "         | -3m | <span style=\"color: #008080; text-decoration-color: #008080; font-weight: bold\">11</span> | <span style=\"color: #008080; text-decoration-color: #008080; font-weight: bold\">48</span> | <span style=\"color: #008080; text-decoration-color: #008080; font-weight: bold\">4</span> | <span style=\"color: #008080; text-decoration-color: #008080; font-weight: bold\">0</span> | <span style=\"color: #008080; text-decoration-color: #008080; font-weight: bold\">0</span> |                                                                             \n",
              "                                                                                                                   \n",
              "         This data indicates that the majority of analysts recommend buying NVDA stock, with <span style=\"color: #008080; text-decoration-color: #008080; font-weight: bold\">48</span> analysts giving a  \n",
              "         <span style=\"color: #008000; text-decoration-color: #008000\">\"buy\"</span> recommendation and <span style=\"color: #008080; text-decoration-color: #008080; font-weight: bold\">12</span> giving a <span style=\"color: #008000; text-decoration-color: #008000\">\"strong buy\"</span> recommendation. Only <span style=\"color: #008080; text-decoration-color: #008080; font-weight: bold\">4</span> analysts recommend holding the   \n",
              "         stock, and none recommend selling or strongly selling.                                                    \n",
              "</pre>\n"
            ]
          },
          "metadata": {}
        },
        {
          "output_type": "display_data",
          "data": {
            "text/plain": [
              "\u001b[32mDEBUG   \u001b[0m **************** METRICS START ****************                                                           \n"
            ],
            "text/html": [
              "<pre style=\"white-space:pre;overflow-x:auto;line-height:normal;font-family:Menlo,'DejaVu Sans Mono',consolas,'Courier New',monospace\"><span style=\"color: #008000; text-decoration-color: #008000\">DEBUG   </span> **************** METRICS START ****************                                                           \n",
              "</pre>\n"
            ]
          },
          "metadata": {}
        },
        {
          "output_type": "display_data",
          "data": {
            "text/plain": [
              "\u001b[32mDEBUG   \u001b[0m * Time to first token:         \u001b[1;36m0.\u001b[0m3201s                                                                    \n"
            ],
            "text/html": [
              "<pre style=\"white-space:pre;overflow-x:auto;line-height:normal;font-family:Menlo,'DejaVu Sans Mono',consolas,'Courier New',monospace\"><span style=\"color: #008000; text-decoration-color: #008000\">DEBUG   </span> * Time to first token:         <span style=\"color: #008080; text-decoration-color: #008080; font-weight: bold\">0.</span>3201s                                                                    \n",
              "</pre>\n"
            ]
          },
          "metadata": {}
        },
        {
          "output_type": "display_data",
          "data": {
            "text/plain": [
              "\u001b[32mDEBUG   \u001b[0m * Time to generate response:   \u001b[1;36m0.\u001b[0m9692s                                                                    \n"
            ],
            "text/html": [
              "<pre style=\"white-space:pre;overflow-x:auto;line-height:normal;font-family:Menlo,'DejaVu Sans Mono',consolas,'Courier New',monospace\"><span style=\"color: #008000; text-decoration-color: #008000\">DEBUG   </span> * Time to generate response:   <span style=\"color: #008080; text-decoration-color: #008080; font-weight: bold\">0.</span>9692s                                                                    \n",
              "</pre>\n"
            ]
          },
          "metadata": {}
        },
        {
          "output_type": "display_data",
          "data": {
            "text/plain": [
              "\u001b[32mDEBUG   \u001b[0m * Tokens per second:           \u001b[1;36m0.0000\u001b[0m tokens/s                                                            \n"
            ],
            "text/html": [
              "<pre style=\"white-space:pre;overflow-x:auto;line-height:normal;font-family:Menlo,'DejaVu Sans Mono',consolas,'Courier New',monospace\"><span style=\"color: #008000; text-decoration-color: #008000\">DEBUG   </span> * Tokens per second:           <span style=\"color: #008080; text-decoration-color: #008080; font-weight: bold\">0.0000</span> tokens/s                                                            \n",
              "</pre>\n"
            ]
          },
          "metadata": {}
        },
        {
          "output_type": "display_data",
          "data": {
            "text/plain": [
              "\u001b[32mDEBUG   \u001b[0m * Input tokens:                \u001b[1;36m0\u001b[0m                                                                          \n"
            ],
            "text/html": [
              "<pre style=\"white-space:pre;overflow-x:auto;line-height:normal;font-family:Menlo,'DejaVu Sans Mono',consolas,'Courier New',monospace\"><span style=\"color: #008000; text-decoration-color: #008000\">DEBUG   </span> * Input tokens:                <span style=\"color: #008080; text-decoration-color: #008080; font-weight: bold\">0</span>                                                                          \n",
              "</pre>\n"
            ]
          },
          "metadata": {}
        },
        {
          "output_type": "display_data",
          "data": {
            "text/plain": [
              "\u001b[32mDEBUG   \u001b[0m * Output tokens:               \u001b[1;36m181\u001b[0m                                                                        \n"
            ],
            "text/html": [
              "<pre style=\"white-space:pre;overflow-x:auto;line-height:normal;font-family:Menlo,'DejaVu Sans Mono',consolas,'Courier New',monospace\"><span style=\"color: #008000; text-decoration-color: #008000\">DEBUG   </span> * Output tokens:               <span style=\"color: #008080; text-decoration-color: #008080; font-weight: bold\">181</span>                                                                        \n",
              "</pre>\n"
            ]
          },
          "metadata": {}
        },
        {
          "output_type": "display_data",
          "data": {
            "text/plain": [
              "\u001b[32mDEBUG   \u001b[0m * Total tokens:                \u001b[1;36m0\u001b[0m                                                                          \n"
            ],
            "text/html": [
              "<pre style=\"white-space:pre;overflow-x:auto;line-height:normal;font-family:Menlo,'DejaVu Sans Mono',consolas,'Courier New',monospace\"><span style=\"color: #008000; text-decoration-color: #008000\">DEBUG   </span> * Total tokens:                <span style=\"color: #008080; text-decoration-color: #008080; font-weight: bold\">0</span>                                                                          \n",
              "</pre>\n"
            ]
          },
          "metadata": {}
        },
        {
          "output_type": "display_data",
          "data": {
            "text/plain": [
              "\u001b[32mDEBUG   \u001b[0m **************** METRICS END ******************                                                           \n"
            ],
            "text/html": [
              "<pre style=\"white-space:pre;overflow-x:auto;line-height:normal;font-family:Menlo,'DejaVu Sans Mono',consolas,'Courier New',monospace\"><span style=\"color: #008000; text-decoration-color: #008000\">DEBUG   </span> **************** METRICS END ******************                                                           \n",
              "</pre>\n"
            ]
          },
          "metadata": {}
        },
        {
          "output_type": "display_data",
          "data": {
            "text/plain": [
              "\u001b[32mDEBUG   \u001b[0m ---------- Groq Response End ----------                                                                   \n"
            ],
            "text/html": [
              "<pre style=\"white-space:pre;overflow-x:auto;line-height:normal;font-family:Menlo,'DejaVu Sans Mono',consolas,'Courier New',monospace\"><span style=\"color: #008000; text-decoration-color: #008000\">DEBUG   </span> ---------- Groq Response End ----------                                                                   \n",
              "</pre>\n"
            ]
          },
          "metadata": {}
        },
        {
          "output_type": "display_data",
          "data": {
            "text/plain": [
              "\u001b[32mDEBUG   \u001b[0m ---------- Groq Response End ----------                                                                   \n"
            ],
            "text/html": [
              "<pre style=\"white-space:pre;overflow-x:auto;line-height:normal;font-family:Menlo,'DejaVu Sans Mono',consolas,'Courier New',monospace\"><span style=\"color: #008000; text-decoration-color: #008000\">DEBUG   </span> ---------- Groq Response End ----------                                                                   \n",
              "</pre>\n"
            ]
          },
          "metadata": {}
        },
        {
          "output_type": "display_data",
          "data": {
            "text/plain": [
              "\u001b[32mDEBUG   \u001b[0m Added \u001b[1;36m4\u001b[0m Messages to AgentMemory                                                                           \n"
            ],
            "text/html": [
              "<pre style=\"white-space:pre;overflow-x:auto;line-height:normal;font-family:Menlo,'DejaVu Sans Mono',consolas,'Courier New',monospace\"><span style=\"color: #008000; text-decoration-color: #008000\">DEBUG   </span> Added <span style=\"color: #008080; text-decoration-color: #008080; font-weight: bold\">4</span> Messages to AgentMemory                                                                           \n",
              "</pre>\n"
            ]
          },
          "metadata": {}
        },
        {
          "output_type": "display_data",
          "data": {
            "text/plain": [
              "\u001b[32mDEBUG   \u001b[0m Added AgentRun to AgentMemory                                                                             \n"
            ],
            "text/html": [
              "<pre style=\"white-space:pre;overflow-x:auto;line-height:normal;font-family:Menlo,'DejaVu Sans Mono',consolas,'Courier New',monospace\"><span style=\"color: #008000; text-decoration-color: #008000\">DEBUG   </span> Added AgentRun to AgentMemory                                                                             \n",
              "</pre>\n"
            ]
          },
          "metadata": {}
        },
        {
          "output_type": "display_data",
          "data": {
            "text/plain": [
              "\u001b[32mDEBUG   \u001b[0m --**-- Logging Agent Run                                                                                  \n"
            ],
            "text/html": [
              "<pre style=\"white-space:pre;overflow-x:auto;line-height:normal;font-family:Menlo,'DejaVu Sans Mono',consolas,'Courier New',monospace\"><span style=\"color: #008000; text-decoration-color: #008000\">DEBUG   </span> --**-- Logging Agent Run                                                                                  \n",
              "</pre>\n"
            ]
          },
          "metadata": {}
        },
        {
          "output_type": "display_data",
          "data": {
            "text/plain": [
              "\u001b[32mDEBUG   \u001b[0m *********** Agent Run End: \u001b[93m437f53f3-4e1f-4c3b-837d-20b26abe9724\u001b[0m ***********                               \n"
            ],
            "text/html": [
              "<pre style=\"white-space:pre;overflow-x:auto;line-height:normal;font-family:Menlo,'DejaVu Sans Mono',consolas,'Courier New',monospace\"><span style=\"color: #008000; text-decoration-color: #008000\">DEBUG   </span> *********** Agent Run End: <span style=\"color: #ffff00; text-decoration-color: #ffff00\">437f53f3-4e1f-4c3b-837d-20b26abe9724</span> ***********                               \n",
              "</pre>\n"
            ]
          },
          "metadata": {}
        },
        {
          "output_type": "display_data",
          "data": {
            "text/plain": [
              "\u001b[32mDEBUG   \u001b[0m Running: \u001b[1;35mtransfer_task_to_finance_agent\u001b[0m\u001b[1m(\u001b[0m\u001b[33mtask_description\u001b[0m=\u001b[35mGet\u001b[0m the latest news for NVDA, \u001b[33mexpected_output\u001b[0m=\u001b[35mThe\u001b[0m\n",
              "         latest news for NVDA, \u001b[33madditional_information\u001b[0m=\u001b[35mNVDA\u001b[0m latest news\u001b[1m)\u001b[0m                                            \n"
            ],
            "text/html": [
              "<pre style=\"white-space:pre;overflow-x:auto;line-height:normal;font-family:Menlo,'DejaVu Sans Mono',consolas,'Courier New',monospace\"><span style=\"color: #008000; text-decoration-color: #008000\">DEBUG   </span> Running: <span style=\"color: #800080; text-decoration-color: #800080; font-weight: bold\">transfer_task_to_finance_agent</span><span style=\"font-weight: bold\">(</span><span style=\"color: #808000; text-decoration-color: #808000\">task_description</span>=<span style=\"color: #800080; text-decoration-color: #800080\">Get</span> the latest news for NVDA, <span style=\"color: #808000; text-decoration-color: #808000\">expected_output</span>=<span style=\"color: #800080; text-decoration-color: #800080\">The</span>\n",
              "         latest news for NVDA, <span style=\"color: #808000; text-decoration-color: #808000\">additional_information</span>=<span style=\"color: #800080; text-decoration-color: #800080\">NVDA</span> latest news<span style=\"font-weight: bold\">)</span>                                            \n",
              "</pre>\n"
            ]
          },
          "metadata": {}
        },
        {
          "output_type": "display_data",
          "data": {
            "text/plain": [
              "\u001b[32mDEBUG   \u001b[0m *********** Agent Run Start: \u001b[93m72085d4f-d0b6-435b-9ded-c123c4d8c3c8\u001b[0m ***********                             \n"
            ],
            "text/html": [
              "<pre style=\"white-space:pre;overflow-x:auto;line-height:normal;font-family:Menlo,'DejaVu Sans Mono',consolas,'Courier New',monospace\"><span style=\"color: #008000; text-decoration-color: #008000\">DEBUG   </span> *********** Agent Run Start: <span style=\"color: #ffff00; text-decoration-color: #ffff00\">72085d4f-d0b6-435b-9ded-c123c4d8c3c8</span> ***********                             \n",
              "</pre>\n"
            ]
          },
          "metadata": {}
        },
        {
          "output_type": "display_data",
          "data": {
            "text/plain": [
              "\u001b[32mDEBUG   \u001b[0m ---------- Groq Response Start ----------                                                                 \n"
            ],
            "text/html": [
              "<pre style=\"white-space:pre;overflow-x:auto;line-height:normal;font-family:Menlo,'DejaVu Sans Mono',consolas,'Courier New',monospace\"><span style=\"color: #008000; text-decoration-color: #008000\">DEBUG   </span> ---------- Groq Response Start ----------                                                                 \n",
              "</pre>\n"
            ]
          },
          "metadata": {}
        },
        {
          "output_type": "display_data",
          "data": {
            "text/plain": [
              "\u001b[32mDEBUG   \u001b[0m ============== system ==============                                                                      \n"
            ],
            "text/html": [
              "<pre style=\"white-space:pre;overflow-x:auto;line-height:normal;font-family:Menlo,'DejaVu Sans Mono',consolas,'Courier New',monospace\"><span style=\"color: #008000; text-decoration-color: #008000\">DEBUG   </span> ============== system ==============                                                                      \n",
              "</pre>\n"
            ]
          },
          "metadata": {}
        },
        {
          "output_type": "display_data",
          "data": {
            "text/plain": [
              "\u001b[32mDEBUG   \u001b[0m Your task is to find the finance information                                                              \n",
              "                                                                                                                   \n",
              "         ## Instructions                                                                                           \n",
              "         - Use tables to display data                                                                              \n",
              "         - Use markdown to format your answers.                                                                    \n"
            ],
            "text/html": [
              "<pre style=\"white-space:pre;overflow-x:auto;line-height:normal;font-family:Menlo,'DejaVu Sans Mono',consolas,'Courier New',monospace\"><span style=\"color: #008000; text-decoration-color: #008000\">DEBUG   </span> Your task is to find the finance information                                                              \n",
              "                                                                                                                   \n",
              "         ## Instructions                                                                                           \n",
              "         - Use tables to display data                                                                              \n",
              "         - Use markdown to format your answers.                                                                    \n",
              "</pre>\n"
            ]
          },
          "metadata": {}
        },
        {
          "output_type": "display_data",
          "data": {
            "text/plain": [
              "\u001b[32mDEBUG   \u001b[0m ============== user ==============                                                                        \n"
            ],
            "text/html": [
              "<pre style=\"white-space:pre;overflow-x:auto;line-height:normal;font-family:Menlo,'DejaVu Sans Mono',consolas,'Courier New',monospace\"><span style=\"color: #008000; text-decoration-color: #008000\">DEBUG   </span> ============== user ==============                                                                        \n",
              "</pre>\n"
            ]
          },
          "metadata": {}
        },
        {
          "output_type": "display_data",
          "data": {
            "text/plain": [
              "\u001b[32mDEBUG   \u001b[0m Get the latest news for NVDA                                                                              \n",
              "                                                                                                                   \n",
              "         The expected output is: The latest news for NVDA                                                          \n",
              "                                                                                                                   \n",
              "         Additional information: NVDA latest news                                                                  \n"
            ],
            "text/html": [
              "<pre style=\"white-space:pre;overflow-x:auto;line-height:normal;font-family:Menlo,'DejaVu Sans Mono',consolas,'Courier New',monospace\"><span style=\"color: #008000; text-decoration-color: #008000\">DEBUG   </span> Get the latest news for NVDA                                                                              \n",
              "                                                                                                                   \n",
              "         The expected output is: The latest news for NVDA                                                          \n",
              "                                                                                                                   \n",
              "         Additional information: NVDA latest news                                                                  \n",
              "</pre>\n"
            ]
          },
          "metadata": {}
        },
        {
          "output_type": "display_data",
          "data": {
            "text/plain": [
              "\u001b[32mDEBUG   \u001b[0m ============== assistant ==============                                                                   \n"
            ],
            "text/html": [
              "<pre style=\"white-space:pre;overflow-x:auto;line-height:normal;font-family:Menlo,'DejaVu Sans Mono',consolas,'Courier New',monospace\"><span style=\"color: #008000; text-decoration-color: #008000\">DEBUG   </span> ============== assistant ==============                                                                   \n",
              "</pre>\n"
            ]
          },
          "metadata": {}
        },
        {
          "output_type": "display_data",
          "data": {
            "text/plain": [
              "\u001b[32mDEBUG   \u001b[0m Tool Calls: \u001b[1m[\u001b[0m                                                                                             \n",
              "           \u001b[1m{\u001b[0m                                                                                                       \n",
              "             \u001b[32m\"id\"\u001b[0m: \u001b[32m\"call_ak50\"\u001b[0m,                                                                                    \n",
              "             \u001b[32m\"type\"\u001b[0m: \u001b[32m\"function\"\u001b[0m,                                                                                   \n",
              "             \u001b[32m\"function\"\u001b[0m: \u001b[1m{\u001b[0m                                                                                         \n",
              "               \u001b[32m\"name\"\u001b[0m: \u001b[32m\"get_company_news\"\u001b[0m,                                                                         \n",
              "               \u001b[32m\"arguments\"\u001b[0m: \u001b[32m\"\u001b[0m\u001b[32m{\u001b[0m\u001b[32m\\\"symbol\\\": \\\"NVDA\\\", \\\"num_stories\\\": 5\u001b[0m\u001b[32m}\u001b[0m\u001b[32m\"\u001b[0m                                           \n",
              "             \u001b[1m}\u001b[0m                                                                                                     \n",
              "           \u001b[1m}\u001b[0m                                                                                                       \n",
              "         \u001b[1m]\u001b[0m                                                                                                         \n"
            ],
            "text/html": [
              "<pre style=\"white-space:pre;overflow-x:auto;line-height:normal;font-family:Menlo,'DejaVu Sans Mono',consolas,'Courier New',monospace\"><span style=\"color: #008000; text-decoration-color: #008000\">DEBUG   </span> Tool Calls: <span style=\"font-weight: bold\">[</span>                                                                                             \n",
              "           <span style=\"font-weight: bold\">{</span>                                                                                                       \n",
              "             <span style=\"color: #008000; text-decoration-color: #008000\">\"id\"</span>: <span style=\"color: #008000; text-decoration-color: #008000\">\"call_ak50\"</span>,                                                                                    \n",
              "             <span style=\"color: #008000; text-decoration-color: #008000\">\"type\"</span>: <span style=\"color: #008000; text-decoration-color: #008000\">\"function\"</span>,                                                                                   \n",
              "             <span style=\"color: #008000; text-decoration-color: #008000\">\"function\"</span>: <span style=\"font-weight: bold\">{</span>                                                                                         \n",
              "               <span style=\"color: #008000; text-decoration-color: #008000\">\"name\"</span>: <span style=\"color: #008000; text-decoration-color: #008000\">\"get_company_news\"</span>,                                                                         \n",
              "               <span style=\"color: #008000; text-decoration-color: #008000\">\"arguments\"</span>: <span style=\"color: #008000; text-decoration-color: #008000\">\"{\\\"symbol\\\": \\\"NVDA\\\", \\\"num_stories\\\": 5}\"</span>                                           \n",
              "             <span style=\"font-weight: bold\">}</span>                                                                                                     \n",
              "           <span style=\"font-weight: bold\">}</span>                                                                                                       \n",
              "         <span style=\"font-weight: bold\">]</span>                                                                                                         \n",
              "</pre>\n"
            ]
          },
          "metadata": {}
        },
        {
          "output_type": "display_data",
          "data": {
            "text/plain": [
              "\u001b[32mDEBUG   \u001b[0m **************** METRICS START ****************                                                           \n"
            ],
            "text/html": [
              "<pre style=\"white-space:pre;overflow-x:auto;line-height:normal;font-family:Menlo,'DejaVu Sans Mono',consolas,'Courier New',monospace\"><span style=\"color: #008000; text-decoration-color: #008000\">DEBUG   </span> **************** METRICS START ****************                                                           \n",
              "</pre>\n"
            ]
          },
          "metadata": {}
        },
        {
          "output_type": "display_data",
          "data": {
            "text/plain": [
              "\u001b[32mDEBUG   \u001b[0m * Time to first token:         \u001b[1;36m0.\u001b[0m3795s                                                                    \n"
            ],
            "text/html": [
              "<pre style=\"white-space:pre;overflow-x:auto;line-height:normal;font-family:Menlo,'DejaVu Sans Mono',consolas,'Courier New',monospace\"><span style=\"color: #008000; text-decoration-color: #008000\">DEBUG   </span> * Time to first token:         <span style=\"color: #008080; text-decoration-color: #008080; font-weight: bold\">0.</span>3795s                                                                    \n",
              "</pre>\n"
            ]
          },
          "metadata": {}
        },
        {
          "output_type": "display_data",
          "data": {
            "text/plain": [
              "\u001b[32mDEBUG   \u001b[0m * Time to generate response:   \u001b[1;36m0.\u001b[0m3888s                                                                    \n"
            ],
            "text/html": [
              "<pre style=\"white-space:pre;overflow-x:auto;line-height:normal;font-family:Menlo,'DejaVu Sans Mono',consolas,'Courier New',monospace\"><span style=\"color: #008000; text-decoration-color: #008000\">DEBUG   </span> * Time to generate response:   <span style=\"color: #008080; text-decoration-color: #008080; font-weight: bold\">0.</span>3888s                                                                    \n",
              "</pre>\n"
            ]
          },
          "metadata": {}
        },
        {
          "output_type": "display_data",
          "data": {
            "text/plain": [
              "\u001b[32mDEBUG   \u001b[0m * Tokens per second:           \u001b[1;36m0.0000\u001b[0m tokens/s                                                            \n"
            ],
            "text/html": [
              "<pre style=\"white-space:pre;overflow-x:auto;line-height:normal;font-family:Menlo,'DejaVu Sans Mono',consolas,'Courier New',monospace\"><span style=\"color: #008000; text-decoration-color: #008000\">DEBUG   </span> * Tokens per second:           <span style=\"color: #008080; text-decoration-color: #008080; font-weight: bold\">0.0000</span> tokens/s                                                            \n",
              "</pre>\n"
            ]
          },
          "metadata": {}
        },
        {
          "output_type": "display_data",
          "data": {
            "text/plain": [
              "\u001b[32mDEBUG   \u001b[0m * Input tokens:                \u001b[1;36m0\u001b[0m                                                                          \n"
            ],
            "text/html": [
              "<pre style=\"white-space:pre;overflow-x:auto;line-height:normal;font-family:Menlo,'DejaVu Sans Mono',consolas,'Courier New',monospace\"><span style=\"color: #008000; text-decoration-color: #008000\">DEBUG   </span> * Input tokens:                <span style=\"color: #008080; text-decoration-color: #008080; font-weight: bold\">0</span>                                                                          \n",
              "</pre>\n"
            ]
          },
          "metadata": {}
        },
        {
          "output_type": "display_data",
          "data": {
            "text/plain": [
              "\u001b[32mDEBUG   \u001b[0m * Output tokens:               \u001b[1;36m3\u001b[0m                                                                          \n"
            ],
            "text/html": [
              "<pre style=\"white-space:pre;overflow-x:auto;line-height:normal;font-family:Menlo,'DejaVu Sans Mono',consolas,'Courier New',monospace\"><span style=\"color: #008000; text-decoration-color: #008000\">DEBUG   </span> * Output tokens:               <span style=\"color: #008080; text-decoration-color: #008080; font-weight: bold\">3</span>                                                                          \n",
              "</pre>\n"
            ]
          },
          "metadata": {}
        },
        {
          "output_type": "display_data",
          "data": {
            "text/plain": [
              "\u001b[32mDEBUG   \u001b[0m * Total tokens:                \u001b[1;36m0\u001b[0m                                                                          \n"
            ],
            "text/html": [
              "<pre style=\"white-space:pre;overflow-x:auto;line-height:normal;font-family:Menlo,'DejaVu Sans Mono',consolas,'Courier New',monospace\"><span style=\"color: #008000; text-decoration-color: #008000\">DEBUG   </span> * Total tokens:                <span style=\"color: #008080; text-decoration-color: #008080; font-weight: bold\">0</span>                                                                          \n",
              "</pre>\n"
            ]
          },
          "metadata": {}
        },
        {
          "output_type": "display_data",
          "data": {
            "text/plain": [
              "\u001b[32mDEBUG   \u001b[0m **************** METRICS END ******************                                                           \n"
            ],
            "text/html": [
              "<pre style=\"white-space:pre;overflow-x:auto;line-height:normal;font-family:Menlo,'DejaVu Sans Mono',consolas,'Courier New',monospace\"><span style=\"color: #008000; text-decoration-color: #008000\">DEBUG   </span> **************** METRICS END ******************                                                           \n",
              "</pre>\n"
            ]
          },
          "metadata": {}
        },
        {
          "output_type": "display_data",
          "data": {
            "text/plain": [
              "\u001b[32mDEBUG   \u001b[0m Getting function get_company_news                                                                         \n"
            ],
            "text/html": [
              "<pre style=\"white-space:pre;overflow-x:auto;line-height:normal;font-family:Menlo,'DejaVu Sans Mono',consolas,'Courier New',monospace\"><span style=\"color: #008000; text-decoration-color: #008000\">DEBUG   </span> Getting function get_company_news                                                                         \n",
              "</pre>\n"
            ]
          },
          "metadata": {}
        },
        {
          "output_type": "display_data",
          "data": {
            "text/plain": [
              "\u001b[32mDEBUG   \u001b[0m Running: \u001b[1;35mget_company_news\u001b[0m\u001b[1m(\u001b[0m\u001b[33msymbol\u001b[0m=\u001b[35mNVDA\u001b[0m, \u001b[33mnum_stories\u001b[0m=\u001b[1;36m5\u001b[0m\u001b[1m)\u001b[0m                                                     \n"
            ],
            "text/html": [
              "<pre style=\"white-space:pre;overflow-x:auto;line-height:normal;font-family:Menlo,'DejaVu Sans Mono',consolas,'Courier New',monospace\"><span style=\"color: #008000; text-decoration-color: #008000\">DEBUG   </span> Running: <span style=\"color: #800080; text-decoration-color: #800080; font-weight: bold\">get_company_news</span><span style=\"font-weight: bold\">(</span><span style=\"color: #808000; text-decoration-color: #808000\">symbol</span>=<span style=\"color: #800080; text-decoration-color: #800080\">NVDA</span>, <span style=\"color: #808000; text-decoration-color: #808000\">num_stories</span>=<span style=\"color: #008080; text-decoration-color: #008080; font-weight: bold\">5</span><span style=\"font-weight: bold\">)</span>                                                     \n",
              "</pre>\n"
            ]
          },
          "metadata": {}
        },
        {
          "output_type": "display_data",
          "data": {
            "text/plain": [
              "\u001b[32mDEBUG   \u001b[0m ---------- Groq Response Start ----------                                                                 \n"
            ],
            "text/html": [
              "<pre style=\"white-space:pre;overflow-x:auto;line-height:normal;font-family:Menlo,'DejaVu Sans Mono',consolas,'Courier New',monospace\"><span style=\"color: #008000; text-decoration-color: #008000\">DEBUG   </span> ---------- Groq Response Start ----------                                                                 \n",
              "</pre>\n"
            ]
          },
          "metadata": {}
        },
        {
          "output_type": "display_data",
          "data": {
            "text/plain": [
              "\u001b[32mDEBUG   \u001b[0m ============== system ==============                                                                      \n"
            ],
            "text/html": [
              "<pre style=\"white-space:pre;overflow-x:auto;line-height:normal;font-family:Menlo,'DejaVu Sans Mono',consolas,'Courier New',monospace\"><span style=\"color: #008000; text-decoration-color: #008000\">DEBUG   </span> ============== system ==============                                                                      \n",
              "</pre>\n"
            ]
          },
          "metadata": {}
        },
        {
          "output_type": "display_data",
          "data": {
            "text/plain": [
              "\u001b[32mDEBUG   \u001b[0m Your task is to find the finance information                                                              \n",
              "                                                                                                                   \n",
              "         ## Instructions                                                                                           \n",
              "         - Use tables to display data                                                                              \n",
              "         - Use markdown to format your answers.                                                                    \n"
            ],
            "text/html": [
              "<pre style=\"white-space:pre;overflow-x:auto;line-height:normal;font-family:Menlo,'DejaVu Sans Mono',consolas,'Courier New',monospace\"><span style=\"color: #008000; text-decoration-color: #008000\">DEBUG   </span> Your task is to find the finance information                                                              \n",
              "                                                                                                                   \n",
              "         ## Instructions                                                                                           \n",
              "         - Use tables to display data                                                                              \n",
              "         - Use markdown to format your answers.                                                                    \n",
              "</pre>\n"
            ]
          },
          "metadata": {}
        },
        {
          "output_type": "display_data",
          "data": {
            "text/plain": [
              "\u001b[32mDEBUG   \u001b[0m ============== user ==============                                                                        \n"
            ],
            "text/html": [
              "<pre style=\"white-space:pre;overflow-x:auto;line-height:normal;font-family:Menlo,'DejaVu Sans Mono',consolas,'Courier New',monospace\"><span style=\"color: #008000; text-decoration-color: #008000\">DEBUG   </span> ============== user ==============                                                                        \n",
              "</pre>\n"
            ]
          },
          "metadata": {}
        },
        {
          "output_type": "display_data",
          "data": {
            "text/plain": [
              "\u001b[32mDEBUG   \u001b[0m Get the latest news for NVDA                                                                              \n",
              "                                                                                                                   \n",
              "         The expected output is: The latest news for NVDA                                                          \n",
              "                                                                                                                   \n",
              "         Additional information: NVDA latest news                                                                  \n"
            ],
            "text/html": [
              "<pre style=\"white-space:pre;overflow-x:auto;line-height:normal;font-family:Menlo,'DejaVu Sans Mono',consolas,'Courier New',monospace\"><span style=\"color: #008000; text-decoration-color: #008000\">DEBUG   </span> Get the latest news for NVDA                                                                              \n",
              "                                                                                                                   \n",
              "         The expected output is: The latest news for NVDA                                                          \n",
              "                                                                                                                   \n",
              "         Additional information: NVDA latest news                                                                  \n",
              "</pre>\n"
            ]
          },
          "metadata": {}
        },
        {
          "output_type": "display_data",
          "data": {
            "text/plain": [
              "\u001b[32mDEBUG   \u001b[0m ============== assistant ==============                                                                   \n"
            ],
            "text/html": [
              "<pre style=\"white-space:pre;overflow-x:auto;line-height:normal;font-family:Menlo,'DejaVu Sans Mono',consolas,'Courier New',monospace\"><span style=\"color: #008000; text-decoration-color: #008000\">DEBUG   </span> ============== assistant ==============                                                                   \n",
              "</pre>\n"
            ]
          },
          "metadata": {}
        },
        {
          "output_type": "display_data",
          "data": {
            "text/plain": [
              "\u001b[32mDEBUG   \u001b[0m Tool Calls: \u001b[1m[\u001b[0m                                                                                             \n",
              "           \u001b[1m{\u001b[0m                                                                                                       \n",
              "             \u001b[32m\"id\"\u001b[0m: \u001b[32m\"call_ak50\"\u001b[0m,                                                                                    \n",
              "             \u001b[32m\"type\"\u001b[0m: \u001b[32m\"function\"\u001b[0m,                                                                                   \n",
              "             \u001b[32m\"function\"\u001b[0m: \u001b[1m{\u001b[0m                                                                                         \n",
              "               \u001b[32m\"name\"\u001b[0m: \u001b[32m\"get_company_news\"\u001b[0m,                                                                         \n",
              "               \u001b[32m\"arguments\"\u001b[0m: \u001b[32m\"\u001b[0m\u001b[32m{\u001b[0m\u001b[32m\\\"symbol\\\": \\\"NVDA\\\", \\\"num_stories\\\": 5\u001b[0m\u001b[32m}\u001b[0m\u001b[32m\"\u001b[0m                                           \n",
              "             \u001b[1m}\u001b[0m                                                                                                     \n",
              "           \u001b[1m}\u001b[0m                                                                                                       \n",
              "         \u001b[1m]\u001b[0m                                                                                                         \n"
            ],
            "text/html": [
              "<pre style=\"white-space:pre;overflow-x:auto;line-height:normal;font-family:Menlo,'DejaVu Sans Mono',consolas,'Courier New',monospace\"><span style=\"color: #008000; text-decoration-color: #008000\">DEBUG   </span> Tool Calls: <span style=\"font-weight: bold\">[</span>                                                                                             \n",
              "           <span style=\"font-weight: bold\">{</span>                                                                                                       \n",
              "             <span style=\"color: #008000; text-decoration-color: #008000\">\"id\"</span>: <span style=\"color: #008000; text-decoration-color: #008000\">\"call_ak50\"</span>,                                                                                    \n",
              "             <span style=\"color: #008000; text-decoration-color: #008000\">\"type\"</span>: <span style=\"color: #008000; text-decoration-color: #008000\">\"function\"</span>,                                                                                   \n",
              "             <span style=\"color: #008000; text-decoration-color: #008000\">\"function\"</span>: <span style=\"font-weight: bold\">{</span>                                                                                         \n",
              "               <span style=\"color: #008000; text-decoration-color: #008000\">\"name\"</span>: <span style=\"color: #008000; text-decoration-color: #008000\">\"get_company_news\"</span>,                                                                         \n",
              "               <span style=\"color: #008000; text-decoration-color: #008000\">\"arguments\"</span>: <span style=\"color: #008000; text-decoration-color: #008000\">\"{\\\"symbol\\\": \\\"NVDA\\\", \\\"num_stories\\\": 5}\"</span>                                           \n",
              "             <span style=\"font-weight: bold\">}</span>                                                                                                     \n",
              "           <span style=\"font-weight: bold\">}</span>                                                                                                       \n",
              "         <span style=\"font-weight: bold\">]</span>                                                                                                         \n",
              "</pre>\n"
            ]
          },
          "metadata": {}
        },
        {
          "output_type": "display_data",
          "data": {
            "text/plain": [
              "\u001b[32mDEBUG   \u001b[0m ============== tool ==============                                                                        \n"
            ],
            "text/html": [
              "<pre style=\"white-space:pre;overflow-x:auto;line-height:normal;font-family:Menlo,'DejaVu Sans Mono',consolas,'Courier New',monospace\"><span style=\"color: #008000; text-decoration-color: #008000\">DEBUG   </span> ============== tool ==============                                                                        \n",
              "</pre>\n"
            ]
          },
          "metadata": {}
        },
        {
          "output_type": "display_data",
          "data": {
            "text/plain": [
              "\u001b[32mDEBUG   \u001b[0m Tool call Id: call_ak50                                                                                   \n"
            ],
            "text/html": [
              "<pre style=\"white-space:pre;overflow-x:auto;line-height:normal;font-family:Menlo,'DejaVu Sans Mono',consolas,'Courier New',monospace\"><span style=\"color: #008000; text-decoration-color: #008000\">DEBUG   </span> Tool call Id: call_ak50                                                                                   \n",
              "</pre>\n"
            ]
          },
          "metadata": {}
        },
        {
          "output_type": "display_data",
          "data": {
            "text/plain": [
              "\u001b[32mDEBUG   \u001b[0m \u001b[1m[\u001b[0m                                                                                                         \n",
              "           \u001b[1m{\u001b[0m                                                                                                       \n",
              "             \u001b[32m\"uuid\"\u001b[0m: \u001b[32m\"6917c01c-5772-38ac-bfed-da2355a6dbe2\"\u001b[0m,                                                       \n",
              "             \u001b[32m\"title\"\u001b[0m: \u001b[32m\"Nvidia CEO Jensen Huang's CES keynote: Top takeaways\"\u001b[0m,                                      \n",
              "             \u001b[32m\"publisher\"\u001b[0m: \u001b[32m\"Yahoo Finance Video\"\u001b[0m,                                                                   \n",
              "             \u001b[32m\"link\"\u001b[0m: \u001b[32m\"https://finance.yahoo.com/video/nvidia-ceo-jensen-huangs-ces-125013926.html\"\u001b[0m,                \n",
              "             \u001b[32m\"providerPublishTime\"\u001b[0m: \u001b[1;36m1736254213\u001b[0m,                                                                    \n",
              "             \u001b[32m\"type\"\u001b[0m: \u001b[32m\"VIDEO\"\u001b[0m,                                                                                      \n",
              "             \u001b[32m\"thumbnail\"\u001b[0m: \u001b[1m{\u001b[0m                                                                                        \n",
              "               \u001b[32m\"resolutions\"\u001b[0m: \u001b[1m[\u001b[0m                                                                                    \n",
              "                 \u001b[1m{\u001b[0m                                                                                                 \n",
              "                   \u001b[32m\"url\"\u001b[0m:                                                                                          \n",
              "         \u001b[32m\"https://s.yimg.com/uu/api/res/1.2/Wivxw51GP6uneA5fvTEVJQ--~B/aD0yMjQ3O3c9NDAwMDthcHBpZD15dGFjaHlvbg--/htt\u001b[0m\n",
              "         \u001b[32mps://s.yimg.com/os/creatr-uploaded-images/2025-01/dd4cb3a0-ccf5-11ef-9ffb-252a299c67b4\"\u001b[0m,                  \n",
              "                   \u001b[32m\"width\"\u001b[0m: \u001b[1;36m4000\u001b[0m,                                                                                  \n",
              "                   \u001b[32m\"height\"\u001b[0m: \u001b[1;36m2247\u001b[0m,                                                                                 \n",
              "                   \u001b[32m\"tag\"\u001b[0m: \u001b[32m\"original\"\u001b[0m                                                                               \n",
              "                 \u001b[1m}\u001b[0m,                                                                                                \n",
              "                 \u001b[1m{\u001b[0m                                                                                                 \n",
              "                   \u001b[32m\"url\"\u001b[0m:                                                                                          \n",
              "         \u001b[32m\"https://s.yimg.com/uu/api/res/1.2/Wu_H..o3NSI.lG2Z2l5vaw--~B/Zmk9ZmlsbDtoPTE0MDtweW9mZj0wO3c9MTQwO2FwcGlk\u001b[0m\n",
              "         \u001b[32mPXl0YWNoeW9u/https://s.yimg.com/os/creatr-uploaded-images/2025-01/dd4cb3a0-ccf5-11ef-9ffb-252a299c67b4\"\u001b[0m,  \n",
              "                   \u001b[32m\"width\"\u001b[0m: \u001b[1;36m140\u001b[0m,                                                                                   \n",
              "                   \u001b[32m\"height\"\u001b[0m: \u001b[1;36m140\u001b[0m,                                                                                  \n",
              "                   \u001b[32m\"tag\"\u001b[0m: \u001b[32m\"140x140\"\u001b[0m                                                                                \n",
              "                 \u001b[1m}\u001b[0m                                                                                                 \n",
              "               \u001b[1m]\u001b[0m                                                                                                   \n",
              "             \u001b[1m}\u001b[0m,                                                                                                    \n",
              "             \u001b[32m\"relatedTickers\"\u001b[0m: \u001b[1m[\u001b[0m                                                                                   \n",
              "               \u001b[32m\"NVDA\"\u001b[0m                                                                                              \n",
              "             \u001b[1m]\u001b[0m                                                                                                     \n",
              "           \u001b[1m}\u001b[0m,                                                                                                      \n",
              "           \u001b[1m{\u001b[0m                                                                                                       \n",
              "             \u001b[32m\"uuid\"\u001b[0m: \u001b[32m\"5a44d01a-8a4a-3a53-b3a7-5164282131e1\"\u001b[0m,                                                       \n",
              "             \u001b[32m\"title\"\u001b[0m: \u001b[32m\"Aurora Teams Up With NVIDIA & Continental To Power Driverless Trucks: Details\"\u001b[0m,             \n",
              "             \u001b[32m\"publisher\"\u001b[0m: \u001b[32m\"Benzinga\"\u001b[0m,                                                                              \n",
              "             \u001b[32m\"link\"\u001b[0m: \u001b[32m\"https://finance.yahoo.com/news/aurora-teams-nvidia-continental-power-124209747.html\"\u001b[0m,        \n",
              "             \u001b[32m\"providerPublishTime\"\u001b[0m: \u001b[1;36m1736253729\u001b[0m,                                                                    \n",
              "             \u001b[32m\"type\"\u001b[0m: \u001b[32m\"STORY\"\u001b[0m,                                                                                      \n",
              "             \u001b[32m\"thumbnail\"\u001b[0m: \u001b[1m{\u001b[0m                                                                                        \n",
              "               \u001b[32m\"resolutions\"\u001b[0m: \u001b[1m[\u001b[0m                                                                                    \n",
              "                 \u001b[1m{\u001b[0m                                                                                                 \n",
              "                   \u001b[32m\"url\"\u001b[0m:                                                                                          \n",
              "         \u001b[32m\"https://s.yimg.com/uu/api/res/1.2/aWiYtG.QBTKb5lHsPFZGOA--~B/aD01NTM7dz05ODM7YXBwaWQ9eXRhY2h5b24-/https:/\u001b[0m\n",
              "         \u001b[32m/media.zenfs.com/en/Benzinga/701ecbb9d609eff77b7ebd3e384bed6f\"\u001b[0m,                                           \n",
              "                   \u001b[32m\"width\"\u001b[0m: \u001b[1;36m983\u001b[0m,                                                                                   \n",
              "                   \u001b[32m\"height\"\u001b[0m: \u001b[1;36m553\u001b[0m,                                                                                  \n",
              "                   \u001b[32m\"tag\"\u001b[0m: \u001b[32m\"original\"\u001b[0m                                                                               \n",
              "                 \u001b[1m}\u001b[0m,                                                                                                \n",
              "                 \u001b[1m{\u001b[0m                                                                                                 \n",
              "                   \u001b[32m\"url\"\u001b[0m:                                                                                          \n",
              "         \u001b[32m\"https://s.yimg.com/uu/api/res/1.2/KnT6ZHOhvgnS.d9taqx5WQ--~B/Zmk9ZmlsbDtoPTE0MDtweW9mZj0wO3c9MTQwO2FwcGlk\u001b[0m\n",
              "         \u001b[32mPXl0YWNoeW9u/https://media.zenfs.com/en/Benzinga/701ecbb9d609eff77b7ebd3e384bed6f\"\u001b[0m,                       \n",
              "                   \u001b[32m\"width\"\u001b[0m: \u001b[1;36m140\u001b[0m,                                                                                   \n",
              "                   \u001b[32m\"height\"\u001b[0m: \u001b[1;36m140\u001b[0m,                                                                                  \n",
              "                   \u001b[32m\"tag\"\u001b[0m: \u001b[32m\"140x140\"\u001b[0m                                                                                \n",
              "                 \u001b[1m}\u001b[0m                                                                                                 \n",
              "               \u001b[1m]\u001b[0m                                                                                                   \n",
              "             \u001b[1m}\u001b[0m,                                                                                                    \n",
              "             \u001b[32m\"relatedTickers\"\u001b[0m: \u001b[1m[\u001b[0m                                                                                   \n",
              "               \u001b[32m\"NVDA\"\u001b[0m                                                                                              \n",
              "             \u001b[1m]\u001b[0m                                                                                                     \n",
              "           \u001b[1m}\u001b[0m,                                                                                                      \n",
              "           \u001b[1m{\u001b[0m                                                                                                       \n",
              "             \u001b[32m\"uuid\"\u001b[0m: \u001b[32m\"fd6c8d47-1525-3aea-a39b-da7dac9aa9a8\"\u001b[0m,                                                       \n",
              "             \u001b[32m\"title\"\u001b[0m: \u001b[32m\"Watch These Nvidia Price Levels as Stock Continues Rising After CEO's Keynote Speech\"\u001b[0m,      \n",
              "             \u001b[32m\"publisher\"\u001b[0m: \u001b[32m\"Investopedia\"\u001b[0m,                                                                          \n",
              "             \u001b[32m\"link\"\u001b[0m:                                                                                               \n",
              "         \u001b[32m\"https://finance.yahoo.com/m/fd6c8d47-1525-3aea-a39b-da7dac9aa9a8/watch-these-nvidia-price.html\"\u001b[0m,         \n",
              "             \u001b[32m\"providerPublishTime\"\u001b[0m: \u001b[1;36m1736253682\u001b[0m,                                                                    \n",
              "             \u001b[32m\"type\"\u001b[0m: \u001b[32m\"STORY\"\u001b[0m,                                                                                      \n",
              "             \u001b[32m\"thumbnail\"\u001b[0m: \u001b[1m{\u001b[0m                                                                                        \n",
              "               \u001b[32m\"resolutions\"\u001b[0m: \u001b[1m[\u001b[0m                                                                                    \n",
              "                 \u001b[1m{\u001b[0m                                                                                                 \n",
              "                   \u001b[32m\"url\"\u001b[0m:                                                                                          \n",
              "         \u001b[32m\"https://s.yimg.com/uu/api/res/1.2/uvT7LWslo2FQ0h8VFWnmRw--~B/aD03MDM7dz0xNzc3O2FwcGlkPXl0YWNoeW9u/https:/\u001b[0m\n",
              "         \u001b[32m/media.zenfs.com/en/investopedia_245/07d7077223e50ce63ad6dc18ffb759f3\"\u001b[0m,                                   \n",
              "                   \u001b[32m\"width\"\u001b[0m: \u001b[1;36m1777\u001b[0m,                                                                                  \n",
              "                   \u001b[32m\"height\"\u001b[0m: \u001b[1;36m703\u001b[0m,                                                                                  \n",
              "                   \u001b[32m\"tag\"\u001b[0m: \u001b[32m\"original\"\u001b[0m                                                                               \n",
              "                 \u001b[1m}\u001b[0m,                                                                                                \n",
              "                 \u001b[1m{\u001b[0m                                                                                                 \n",
              "                   \u001b[32m\"url\"\u001b[0m:                                                                                          \n",
              "         \u001b[32m\"https://s.yimg.com/uu/api/res/1.2/QsLx6aP3gBWW1u6EfaSbiA--~B/Zmk9ZmlsbDtoPTE0MDtweW9mZj0wO3c9MTQwO2FwcGlk\u001b[0m\n",
              "         \u001b[32mPXl0YWNoeW9u/https://media.zenfs.com/en/investopedia_245/07d7077223e50ce63ad6dc18ffb759f3\"\u001b[0m,               \n",
              "                   \u001b[32m\"width\"\u001b[0m: \u001b[1;36m140\u001b[0m,                                                                                   \n",
              "                   \u001b[32m\"height\"\u001b[0m: \u001b[1;36m140\u001b[0m,                                                                                  \n",
              "                   \u001b[32m\"tag\"\u001b[0m: \u001b[32m\"140x140\"\u001b[0m                                                                                \n",
              "                 \u001b[1m}\u001b[0m                                                                                                 \n",
              "               \u001b[1m]\u001b[0m                                                                                                   \n",
              "             \u001b[1m}\u001b[0m,                                                                                                    \n",
              "             \u001b[32m\"relatedTickers\"\u001b[0m: \u001b[1m[\u001b[0m                                                                                   \n",
              "               \u001b[32m\"NVDA\"\u001b[0m                                                                                              \n",
              "             \u001b[1m]\u001b[0m                                                                                                     \n",
              "           \u001b[1m}\u001b[0m,                                                                                                      \n",
              "           \u001b[1m{\u001b[0m                                                                                                       \n",
              "             \u001b[32m\"uuid\"\u001b[0m: \u001b[32m\"4b67daa6-75dd-3c17-9375-09f5c50bfc1f\"\u001b[0m,                                                       \n",
              "             \u001b[32m\"title\"\u001b[0m: \u001b[32m\"Is Nvidia Stock a Buy Now?\"\u001b[0m,                                                                \n",
              "             \u001b[32m\"publisher\"\u001b[0m: \u001b[32m\"Motley Fool\"\u001b[0m,                                                                           \n",
              "             \u001b[32m\"link\"\u001b[0m:                                                                                               \n",
              "         \u001b[32m\"https://finance.yahoo.com/m/4b67daa6-75dd-3c17-9375-09f5c50bfc1f/is-nvidia-stock-a-buy-now%3F.html\"\u001b[0m,     \n",
              "             \u001b[32m\"providerPublishTime\"\u001b[0m: \u001b[1;36m1736253000\u001b[0m,                                                                    \n",
              "             \u001b[32m\"type\"\u001b[0m: \u001b[32m\"STORY\"\u001b[0m,                                                                                      \n",
              "             \u001b[32m\"thumbnail\"\u001b[0m: \u001b[1m{\u001b[0m                                                                                        \n",
              "               \u001b[32m\"resolutions\"\u001b[0m: \u001b[1m[\u001b[0m                                                                                    \n",
              "                 \u001b[1m{\u001b[0m                                                                                                 \n",
              "                   \u001b[32m\"url\"\u001b[0m:                                                                                          \n",
              "         \u001b[32m\"https://s.yimg.com/uu/api/res/1.2/DIPhuM3u.24CnyYa_icfpQ--~B/aD04MTY7dz0xMjAwO2FwcGlkPXl0YWNoeW9u/https:/\u001b[0m\n",
              "         \u001b[32m/media.zenfs.com/en/motleyfool.com/03f82d0e82b47e6ebbd2601c3b596960\"\u001b[0m,                                     \n",
              "                   \u001b[32m\"width\"\u001b[0m: \u001b[1;36m1200\u001b[0m,                                                                                  \n",
              "                   \u001b[32m\"height\"\u001b[0m: \u001b[1;36m816\u001b[0m,                                                                                  \n",
              "                   \u001b[32m\"tag\"\u001b[0m: \u001b[32m\"original\"\u001b[0m                                                                               \n",
              "                 \u001b[1m}\u001b[0m,                                                                                                \n",
              "                 \u001b[1m{\u001b[0m                                                                                                 \n",
              "                   \u001b[32m\"url\"\u001b[0m:                                                                                          \n",
              "         \u001b[32m\"https://s.yimg.com/uu/api/res/1.2/tE8RCY3dvjkRJKmmlWa6iw--~B/Zmk9ZmlsbDtoPTE0MDtweW9mZj0wO3c9MTQwO2FwcGlk\u001b[0m\n",
              "         \u001b[32mPXl0YWNoeW9u/https://media.zenfs.com/en/motleyfool.com/03f82d0e82b47e6ebbd2601c3b596960\"\u001b[0m,                 \n",
              "                   \u001b[32m\"width\"\u001b[0m: \u001b[1;36m140\u001b[0m,                                                                                   \n",
              "                   \u001b[32m\"height\"\u001b[0m: \u001b[1;36m140\u001b[0m,                                                                                  \n",
              "                   \u001b[32m\"tag\"\u001b[0m: \u001b[32m\"140x140\"\u001b[0m                                                                                \n",
              "                 \u001b[1m}\u001b[0m                                                                                                 \n",
              "               \u001b[1m]\u001b[0m                                                                                                   \n",
              "             \u001b[1m}\u001b[0m,                                                                                                    \n",
              "             \u001b[32m\"relatedTickers\"\u001b[0m: \u001b[1m[\u001b[0m                                                                                   \n",
              "               \u001b[32m\"NVDA\"\u001b[0m                                                                                              \n",
              "             \u001b[1m]\u001b[0m                                                                                                     \n",
              "           \u001b[1m}\u001b[0m,                                                                                                      \n",
              "           \u001b[1m{\u001b[0m                                                                                                       \n",
              "             \u001b[32m\"uuid\"\u001b[0m: \u001b[32m\"3c2a0183-6f62-314f-83ac-b21b402c11fd\"\u001b[0m,                                                       \n",
              "             \u001b[32m\"title\"\u001b[0m: \u001b[32m\"Micron stock rallies after Nvidia named it key supplier for new GPUs\"\u001b[0m,                      \n",
              "             \u001b[32m\"publisher\"\u001b[0m: \u001b[32m\"Investing.com\"\u001b[0m,                                                                         \n",
              "             \u001b[32m\"link\"\u001b[0m: \u001b[32m\"https://finance.yahoo.com/news/micron-stock-rallies-nvidia-named-122042549.html\"\u001b[0m,            \n",
              "             \u001b[32m\"providerPublishTime\"\u001b[0m: \u001b[1;36m1736252442\u001b[0m,                                                                    \n",
              "             \u001b[32m\"type\"\u001b[0m: \u001b[32m\"STORY\"\u001b[0m,                                                                                      \n",
              "             \u001b[32m\"relatedTickers\"\u001b[0m: \u001b[1m[\u001b[0m                                                                                   \n",
              "               \u001b[32m\"NVDA\"\u001b[0m,                                                                                             \n",
              "               \u001b[32m\"MU\"\u001b[0m                                                                                                \n",
              "             \u001b[1m]\u001b[0m                                                                                                     \n",
              "           \u001b[1m}\u001b[0m                                                                                                       \n",
              "         \u001b[1m]\u001b[0m                                                                                                         \n"
            ],
            "text/html": [
              "<pre style=\"white-space:pre;overflow-x:auto;line-height:normal;font-family:Menlo,'DejaVu Sans Mono',consolas,'Courier New',monospace\"><span style=\"color: #008000; text-decoration-color: #008000\">DEBUG   </span> <span style=\"font-weight: bold\">[</span>                                                                                                         \n",
              "           <span style=\"font-weight: bold\">{</span>                                                                                                       \n",
              "             <span style=\"color: #008000; text-decoration-color: #008000\">\"uuid\"</span>: <span style=\"color: #008000; text-decoration-color: #008000\">\"6917c01c-5772-38ac-bfed-da2355a6dbe2\"</span>,                                                       \n",
              "             <span style=\"color: #008000; text-decoration-color: #008000\">\"title\"</span>: <span style=\"color: #008000; text-decoration-color: #008000\">\"Nvidia CEO Jensen Huang's CES keynote: Top takeaways\"</span>,                                      \n",
              "             <span style=\"color: #008000; text-decoration-color: #008000\">\"publisher\"</span>: <span style=\"color: #008000; text-decoration-color: #008000\">\"Yahoo Finance Video\"</span>,                                                                   \n",
              "             <span style=\"color: #008000; text-decoration-color: #008000\">\"link\"</span>: <span style=\"color: #008000; text-decoration-color: #008000\">\"https://finance.yahoo.com/video/nvidia-ceo-jensen-huangs-ces-125013926.html\"</span>,                \n",
              "             <span style=\"color: #008000; text-decoration-color: #008000\">\"providerPublishTime\"</span>: <span style=\"color: #008080; text-decoration-color: #008080; font-weight: bold\">1736254213</span>,                                                                    \n",
              "             <span style=\"color: #008000; text-decoration-color: #008000\">\"type\"</span>: <span style=\"color: #008000; text-decoration-color: #008000\">\"VIDEO\"</span>,                                                                                      \n",
              "             <span style=\"color: #008000; text-decoration-color: #008000\">\"thumbnail\"</span>: <span style=\"font-weight: bold\">{</span>                                                                                        \n",
              "               <span style=\"color: #008000; text-decoration-color: #008000\">\"resolutions\"</span>: <span style=\"font-weight: bold\">[</span>                                                                                    \n",
              "                 <span style=\"font-weight: bold\">{</span>                                                                                                 \n",
              "                   <span style=\"color: #008000; text-decoration-color: #008000\">\"url\"</span>:                                                                                          \n",
              "         <span style=\"color: #008000; text-decoration-color: #008000\">\"https://s.yimg.com/uu/api/res/1.2/Wivxw51GP6uneA5fvTEVJQ--~B/aD0yMjQ3O3c9NDAwMDthcHBpZD15dGFjaHlvbg--/htt</span>\n",
              "         <span style=\"color: #008000; text-decoration-color: #008000\">ps://s.yimg.com/os/creatr-uploaded-images/2025-01/dd4cb3a0-ccf5-11ef-9ffb-252a299c67b4\"</span>,                  \n",
              "                   <span style=\"color: #008000; text-decoration-color: #008000\">\"width\"</span>: <span style=\"color: #008080; text-decoration-color: #008080; font-weight: bold\">4000</span>,                                                                                  \n",
              "                   <span style=\"color: #008000; text-decoration-color: #008000\">\"height\"</span>: <span style=\"color: #008080; text-decoration-color: #008080; font-weight: bold\">2247</span>,                                                                                 \n",
              "                   <span style=\"color: #008000; text-decoration-color: #008000\">\"tag\"</span>: <span style=\"color: #008000; text-decoration-color: #008000\">\"original\"</span>                                                                               \n",
              "                 <span style=\"font-weight: bold\">}</span>,                                                                                                \n",
              "                 <span style=\"font-weight: bold\">{</span>                                                                                                 \n",
              "                   <span style=\"color: #008000; text-decoration-color: #008000\">\"url\"</span>:                                                                                          \n",
              "         <span style=\"color: #008000; text-decoration-color: #008000\">\"https://s.yimg.com/uu/api/res/1.2/Wu_H..o3NSI.lG2Z2l5vaw--~B/Zmk9ZmlsbDtoPTE0MDtweW9mZj0wO3c9MTQwO2FwcGlk</span>\n",
              "         <span style=\"color: #008000; text-decoration-color: #008000\">PXl0YWNoeW9u/https://s.yimg.com/os/creatr-uploaded-images/2025-01/dd4cb3a0-ccf5-11ef-9ffb-252a299c67b4\"</span>,  \n",
              "                   <span style=\"color: #008000; text-decoration-color: #008000\">\"width\"</span>: <span style=\"color: #008080; text-decoration-color: #008080; font-weight: bold\">140</span>,                                                                                   \n",
              "                   <span style=\"color: #008000; text-decoration-color: #008000\">\"height\"</span>: <span style=\"color: #008080; text-decoration-color: #008080; font-weight: bold\">140</span>,                                                                                  \n",
              "                   <span style=\"color: #008000; text-decoration-color: #008000\">\"tag\"</span>: <span style=\"color: #008000; text-decoration-color: #008000\">\"140x140\"</span>                                                                                \n",
              "                 <span style=\"font-weight: bold\">}</span>                                                                                                 \n",
              "               <span style=\"font-weight: bold\">]</span>                                                                                                   \n",
              "             <span style=\"font-weight: bold\">}</span>,                                                                                                    \n",
              "             <span style=\"color: #008000; text-decoration-color: #008000\">\"relatedTickers\"</span>: <span style=\"font-weight: bold\">[</span>                                                                                   \n",
              "               <span style=\"color: #008000; text-decoration-color: #008000\">\"NVDA\"</span>                                                                                              \n",
              "             <span style=\"font-weight: bold\">]</span>                                                                                                     \n",
              "           <span style=\"font-weight: bold\">}</span>,                                                                                                      \n",
              "           <span style=\"font-weight: bold\">{</span>                                                                                                       \n",
              "             <span style=\"color: #008000; text-decoration-color: #008000\">\"uuid\"</span>: <span style=\"color: #008000; text-decoration-color: #008000\">\"5a44d01a-8a4a-3a53-b3a7-5164282131e1\"</span>,                                                       \n",
              "             <span style=\"color: #008000; text-decoration-color: #008000\">\"title\"</span>: <span style=\"color: #008000; text-decoration-color: #008000\">\"Aurora Teams Up With NVIDIA &amp; Continental To Power Driverless Trucks: Details\"</span>,             \n",
              "             <span style=\"color: #008000; text-decoration-color: #008000\">\"publisher\"</span>: <span style=\"color: #008000; text-decoration-color: #008000\">\"Benzinga\"</span>,                                                                              \n",
              "             <span style=\"color: #008000; text-decoration-color: #008000\">\"link\"</span>: <span style=\"color: #008000; text-decoration-color: #008000\">\"https://finance.yahoo.com/news/aurora-teams-nvidia-continental-power-124209747.html\"</span>,        \n",
              "             <span style=\"color: #008000; text-decoration-color: #008000\">\"providerPublishTime\"</span>: <span style=\"color: #008080; text-decoration-color: #008080; font-weight: bold\">1736253729</span>,                                                                    \n",
              "             <span style=\"color: #008000; text-decoration-color: #008000\">\"type\"</span>: <span style=\"color: #008000; text-decoration-color: #008000\">\"STORY\"</span>,                                                                                      \n",
              "             <span style=\"color: #008000; text-decoration-color: #008000\">\"thumbnail\"</span>: <span style=\"font-weight: bold\">{</span>                                                                                        \n",
              "               <span style=\"color: #008000; text-decoration-color: #008000\">\"resolutions\"</span>: <span style=\"font-weight: bold\">[</span>                                                                                    \n",
              "                 <span style=\"font-weight: bold\">{</span>                                                                                                 \n",
              "                   <span style=\"color: #008000; text-decoration-color: #008000\">\"url\"</span>:                                                                                          \n",
              "         <span style=\"color: #008000; text-decoration-color: #008000\">\"https://s.yimg.com/uu/api/res/1.2/aWiYtG.QBTKb5lHsPFZGOA--~B/aD01NTM7dz05ODM7YXBwaWQ9eXRhY2h5b24-/https:/</span>\n",
              "         <span style=\"color: #008000; text-decoration-color: #008000\">/media.zenfs.com/en/Benzinga/701ecbb9d609eff77b7ebd3e384bed6f\"</span>,                                           \n",
              "                   <span style=\"color: #008000; text-decoration-color: #008000\">\"width\"</span>: <span style=\"color: #008080; text-decoration-color: #008080; font-weight: bold\">983</span>,                                                                                   \n",
              "                   <span style=\"color: #008000; text-decoration-color: #008000\">\"height\"</span>: <span style=\"color: #008080; text-decoration-color: #008080; font-weight: bold\">553</span>,                                                                                  \n",
              "                   <span style=\"color: #008000; text-decoration-color: #008000\">\"tag\"</span>: <span style=\"color: #008000; text-decoration-color: #008000\">\"original\"</span>                                                                               \n",
              "                 <span style=\"font-weight: bold\">}</span>,                                                                                                \n",
              "                 <span style=\"font-weight: bold\">{</span>                                                                                                 \n",
              "                   <span style=\"color: #008000; text-decoration-color: #008000\">\"url\"</span>:                                                                                          \n",
              "         <span style=\"color: #008000; text-decoration-color: #008000\">\"https://s.yimg.com/uu/api/res/1.2/KnT6ZHOhvgnS.d9taqx5WQ--~B/Zmk9ZmlsbDtoPTE0MDtweW9mZj0wO3c9MTQwO2FwcGlk</span>\n",
              "         <span style=\"color: #008000; text-decoration-color: #008000\">PXl0YWNoeW9u/https://media.zenfs.com/en/Benzinga/701ecbb9d609eff77b7ebd3e384bed6f\"</span>,                       \n",
              "                   <span style=\"color: #008000; text-decoration-color: #008000\">\"width\"</span>: <span style=\"color: #008080; text-decoration-color: #008080; font-weight: bold\">140</span>,                                                                                   \n",
              "                   <span style=\"color: #008000; text-decoration-color: #008000\">\"height\"</span>: <span style=\"color: #008080; text-decoration-color: #008080; font-weight: bold\">140</span>,                                                                                  \n",
              "                   <span style=\"color: #008000; text-decoration-color: #008000\">\"tag\"</span>: <span style=\"color: #008000; text-decoration-color: #008000\">\"140x140\"</span>                                                                                \n",
              "                 <span style=\"font-weight: bold\">}</span>                                                                                                 \n",
              "               <span style=\"font-weight: bold\">]</span>                                                                                                   \n",
              "             <span style=\"font-weight: bold\">}</span>,                                                                                                    \n",
              "             <span style=\"color: #008000; text-decoration-color: #008000\">\"relatedTickers\"</span>: <span style=\"font-weight: bold\">[</span>                                                                                   \n",
              "               <span style=\"color: #008000; text-decoration-color: #008000\">\"NVDA\"</span>                                                                                              \n",
              "             <span style=\"font-weight: bold\">]</span>                                                                                                     \n",
              "           <span style=\"font-weight: bold\">}</span>,                                                                                                      \n",
              "           <span style=\"font-weight: bold\">{</span>                                                                                                       \n",
              "             <span style=\"color: #008000; text-decoration-color: #008000\">\"uuid\"</span>: <span style=\"color: #008000; text-decoration-color: #008000\">\"fd6c8d47-1525-3aea-a39b-da7dac9aa9a8\"</span>,                                                       \n",
              "             <span style=\"color: #008000; text-decoration-color: #008000\">\"title\"</span>: <span style=\"color: #008000; text-decoration-color: #008000\">\"Watch These Nvidia Price Levels as Stock Continues Rising After CEO's Keynote Speech\"</span>,      \n",
              "             <span style=\"color: #008000; text-decoration-color: #008000\">\"publisher\"</span>: <span style=\"color: #008000; text-decoration-color: #008000\">\"Investopedia\"</span>,                                                                          \n",
              "             <span style=\"color: #008000; text-decoration-color: #008000\">\"link\"</span>:                                                                                               \n",
              "         <span style=\"color: #008000; text-decoration-color: #008000\">\"https://finance.yahoo.com/m/fd6c8d47-1525-3aea-a39b-da7dac9aa9a8/watch-these-nvidia-price.html\"</span>,         \n",
              "             <span style=\"color: #008000; text-decoration-color: #008000\">\"providerPublishTime\"</span>: <span style=\"color: #008080; text-decoration-color: #008080; font-weight: bold\">1736253682</span>,                                                                    \n",
              "             <span style=\"color: #008000; text-decoration-color: #008000\">\"type\"</span>: <span style=\"color: #008000; text-decoration-color: #008000\">\"STORY\"</span>,                                                                                      \n",
              "             <span style=\"color: #008000; text-decoration-color: #008000\">\"thumbnail\"</span>: <span style=\"font-weight: bold\">{</span>                                                                                        \n",
              "               <span style=\"color: #008000; text-decoration-color: #008000\">\"resolutions\"</span>: <span style=\"font-weight: bold\">[</span>                                                                                    \n",
              "                 <span style=\"font-weight: bold\">{</span>                                                                                                 \n",
              "                   <span style=\"color: #008000; text-decoration-color: #008000\">\"url\"</span>:                                                                                          \n",
              "         <span style=\"color: #008000; text-decoration-color: #008000\">\"https://s.yimg.com/uu/api/res/1.2/uvT7LWslo2FQ0h8VFWnmRw--~B/aD03MDM7dz0xNzc3O2FwcGlkPXl0YWNoeW9u/https:/</span>\n",
              "         <span style=\"color: #008000; text-decoration-color: #008000\">/media.zenfs.com/en/investopedia_245/07d7077223e50ce63ad6dc18ffb759f3\"</span>,                                   \n",
              "                   <span style=\"color: #008000; text-decoration-color: #008000\">\"width\"</span>: <span style=\"color: #008080; text-decoration-color: #008080; font-weight: bold\">1777</span>,                                                                                  \n",
              "                   <span style=\"color: #008000; text-decoration-color: #008000\">\"height\"</span>: <span style=\"color: #008080; text-decoration-color: #008080; font-weight: bold\">703</span>,                                                                                  \n",
              "                   <span style=\"color: #008000; text-decoration-color: #008000\">\"tag\"</span>: <span style=\"color: #008000; text-decoration-color: #008000\">\"original\"</span>                                                                               \n",
              "                 <span style=\"font-weight: bold\">}</span>,                                                                                                \n",
              "                 <span style=\"font-weight: bold\">{</span>                                                                                                 \n",
              "                   <span style=\"color: #008000; text-decoration-color: #008000\">\"url\"</span>:                                                                                          \n",
              "         <span style=\"color: #008000; text-decoration-color: #008000\">\"https://s.yimg.com/uu/api/res/1.2/QsLx6aP3gBWW1u6EfaSbiA--~B/Zmk9ZmlsbDtoPTE0MDtweW9mZj0wO3c9MTQwO2FwcGlk</span>\n",
              "         <span style=\"color: #008000; text-decoration-color: #008000\">PXl0YWNoeW9u/https://media.zenfs.com/en/investopedia_245/07d7077223e50ce63ad6dc18ffb759f3\"</span>,               \n",
              "                   <span style=\"color: #008000; text-decoration-color: #008000\">\"width\"</span>: <span style=\"color: #008080; text-decoration-color: #008080; font-weight: bold\">140</span>,                                                                                   \n",
              "                   <span style=\"color: #008000; text-decoration-color: #008000\">\"height\"</span>: <span style=\"color: #008080; text-decoration-color: #008080; font-weight: bold\">140</span>,                                                                                  \n",
              "                   <span style=\"color: #008000; text-decoration-color: #008000\">\"tag\"</span>: <span style=\"color: #008000; text-decoration-color: #008000\">\"140x140\"</span>                                                                                \n",
              "                 <span style=\"font-weight: bold\">}</span>                                                                                                 \n",
              "               <span style=\"font-weight: bold\">]</span>                                                                                                   \n",
              "             <span style=\"font-weight: bold\">}</span>,                                                                                                    \n",
              "             <span style=\"color: #008000; text-decoration-color: #008000\">\"relatedTickers\"</span>: <span style=\"font-weight: bold\">[</span>                                                                                   \n",
              "               <span style=\"color: #008000; text-decoration-color: #008000\">\"NVDA\"</span>                                                                                              \n",
              "             <span style=\"font-weight: bold\">]</span>                                                                                                     \n",
              "           <span style=\"font-weight: bold\">}</span>,                                                                                                      \n",
              "           <span style=\"font-weight: bold\">{</span>                                                                                                       \n",
              "             <span style=\"color: #008000; text-decoration-color: #008000\">\"uuid\"</span>: <span style=\"color: #008000; text-decoration-color: #008000\">\"4b67daa6-75dd-3c17-9375-09f5c50bfc1f\"</span>,                                                       \n",
              "             <span style=\"color: #008000; text-decoration-color: #008000\">\"title\"</span>: <span style=\"color: #008000; text-decoration-color: #008000\">\"Is Nvidia Stock a Buy Now?\"</span>,                                                                \n",
              "             <span style=\"color: #008000; text-decoration-color: #008000\">\"publisher\"</span>: <span style=\"color: #008000; text-decoration-color: #008000\">\"Motley Fool\"</span>,                                                                           \n",
              "             <span style=\"color: #008000; text-decoration-color: #008000\">\"link\"</span>:                                                                                               \n",
              "         <span style=\"color: #008000; text-decoration-color: #008000\">\"https://finance.yahoo.com/m/4b67daa6-75dd-3c17-9375-09f5c50bfc1f/is-nvidia-stock-a-buy-now%3F.html\"</span>,     \n",
              "             <span style=\"color: #008000; text-decoration-color: #008000\">\"providerPublishTime\"</span>: <span style=\"color: #008080; text-decoration-color: #008080; font-weight: bold\">1736253000</span>,                                                                    \n",
              "             <span style=\"color: #008000; text-decoration-color: #008000\">\"type\"</span>: <span style=\"color: #008000; text-decoration-color: #008000\">\"STORY\"</span>,                                                                                      \n",
              "             <span style=\"color: #008000; text-decoration-color: #008000\">\"thumbnail\"</span>: <span style=\"font-weight: bold\">{</span>                                                                                        \n",
              "               <span style=\"color: #008000; text-decoration-color: #008000\">\"resolutions\"</span>: <span style=\"font-weight: bold\">[</span>                                                                                    \n",
              "                 <span style=\"font-weight: bold\">{</span>                                                                                                 \n",
              "                   <span style=\"color: #008000; text-decoration-color: #008000\">\"url\"</span>:                                                                                          \n",
              "         <span style=\"color: #008000; text-decoration-color: #008000\">\"https://s.yimg.com/uu/api/res/1.2/DIPhuM3u.24CnyYa_icfpQ--~B/aD04MTY7dz0xMjAwO2FwcGlkPXl0YWNoeW9u/https:/</span>\n",
              "         <span style=\"color: #008000; text-decoration-color: #008000\">/media.zenfs.com/en/motleyfool.com/03f82d0e82b47e6ebbd2601c3b596960\"</span>,                                     \n",
              "                   <span style=\"color: #008000; text-decoration-color: #008000\">\"width\"</span>: <span style=\"color: #008080; text-decoration-color: #008080; font-weight: bold\">1200</span>,                                                                                  \n",
              "                   <span style=\"color: #008000; text-decoration-color: #008000\">\"height\"</span>: <span style=\"color: #008080; text-decoration-color: #008080; font-weight: bold\">816</span>,                                                                                  \n",
              "                   <span style=\"color: #008000; text-decoration-color: #008000\">\"tag\"</span>: <span style=\"color: #008000; text-decoration-color: #008000\">\"original\"</span>                                                                               \n",
              "                 <span style=\"font-weight: bold\">}</span>,                                                                                                \n",
              "                 <span style=\"font-weight: bold\">{</span>                                                                                                 \n",
              "                   <span style=\"color: #008000; text-decoration-color: #008000\">\"url\"</span>:                                                                                          \n",
              "         <span style=\"color: #008000; text-decoration-color: #008000\">\"https://s.yimg.com/uu/api/res/1.2/tE8RCY3dvjkRJKmmlWa6iw--~B/Zmk9ZmlsbDtoPTE0MDtweW9mZj0wO3c9MTQwO2FwcGlk</span>\n",
              "         <span style=\"color: #008000; text-decoration-color: #008000\">PXl0YWNoeW9u/https://media.zenfs.com/en/motleyfool.com/03f82d0e82b47e6ebbd2601c3b596960\"</span>,                 \n",
              "                   <span style=\"color: #008000; text-decoration-color: #008000\">\"width\"</span>: <span style=\"color: #008080; text-decoration-color: #008080; font-weight: bold\">140</span>,                                                                                   \n",
              "                   <span style=\"color: #008000; text-decoration-color: #008000\">\"height\"</span>: <span style=\"color: #008080; text-decoration-color: #008080; font-weight: bold\">140</span>,                                                                                  \n",
              "                   <span style=\"color: #008000; text-decoration-color: #008000\">\"tag\"</span>: <span style=\"color: #008000; text-decoration-color: #008000\">\"140x140\"</span>                                                                                \n",
              "                 <span style=\"font-weight: bold\">}</span>                                                                                                 \n",
              "               <span style=\"font-weight: bold\">]</span>                                                                                                   \n",
              "             <span style=\"font-weight: bold\">}</span>,                                                                                                    \n",
              "             <span style=\"color: #008000; text-decoration-color: #008000\">\"relatedTickers\"</span>: <span style=\"font-weight: bold\">[</span>                                                                                   \n",
              "               <span style=\"color: #008000; text-decoration-color: #008000\">\"NVDA\"</span>                                                                                              \n",
              "             <span style=\"font-weight: bold\">]</span>                                                                                                     \n",
              "           <span style=\"font-weight: bold\">}</span>,                                                                                                      \n",
              "           <span style=\"font-weight: bold\">{</span>                                                                                                       \n",
              "             <span style=\"color: #008000; text-decoration-color: #008000\">\"uuid\"</span>: <span style=\"color: #008000; text-decoration-color: #008000\">\"3c2a0183-6f62-314f-83ac-b21b402c11fd\"</span>,                                                       \n",
              "             <span style=\"color: #008000; text-decoration-color: #008000\">\"title\"</span>: <span style=\"color: #008000; text-decoration-color: #008000\">\"Micron stock rallies after Nvidia named it key supplier for new GPUs\"</span>,                      \n",
              "             <span style=\"color: #008000; text-decoration-color: #008000\">\"publisher\"</span>: <span style=\"color: #008000; text-decoration-color: #008000\">\"Investing.com\"</span>,                                                                         \n",
              "             <span style=\"color: #008000; text-decoration-color: #008000\">\"link\"</span>: <span style=\"color: #008000; text-decoration-color: #008000\">\"https://finance.yahoo.com/news/micron-stock-rallies-nvidia-named-122042549.html\"</span>,            \n",
              "             <span style=\"color: #008000; text-decoration-color: #008000\">\"providerPublishTime\"</span>: <span style=\"color: #008080; text-decoration-color: #008080; font-weight: bold\">1736252442</span>,                                                                    \n",
              "             <span style=\"color: #008000; text-decoration-color: #008000\">\"type\"</span>: <span style=\"color: #008000; text-decoration-color: #008000\">\"STORY\"</span>,                                                                                      \n",
              "             <span style=\"color: #008000; text-decoration-color: #008000\">\"relatedTickers\"</span>: <span style=\"font-weight: bold\">[</span>                                                                                   \n",
              "               <span style=\"color: #008000; text-decoration-color: #008000\">\"NVDA\"</span>,                                                                                             \n",
              "               <span style=\"color: #008000; text-decoration-color: #008000\">\"MU\"</span>                                                                                                \n",
              "             <span style=\"font-weight: bold\">]</span>                                                                                                     \n",
              "           <span style=\"font-weight: bold\">}</span>                                                                                                       \n",
              "         <span style=\"font-weight: bold\">]</span>                                                                                                         \n",
              "</pre>\n"
            ]
          },
          "metadata": {}
        },
        {
          "output_type": "display_data",
          "data": {
            "text/plain": [
              "\u001b[32mDEBUG   \u001b[0m ============== assistant ==============                                                                   \n"
            ],
            "text/html": [
              "<pre style=\"white-space:pre;overflow-x:auto;line-height:normal;font-family:Menlo,'DejaVu Sans Mono',consolas,'Courier New',monospace\"><span style=\"color: #008000; text-decoration-color: #008000\">DEBUG   </span> ============== assistant ==============                                                                   \n",
              "</pre>\n"
            ]
          },
          "metadata": {}
        },
        {
          "output_type": "display_data",
          "data": {
            "text/plain": [
              "\u001b[32mDEBUG   \u001b[0m ### The latest news for NVDA                                                                              \n",
              "         | Title | Publisher | Link |                                                                              \n",
              "         | --- | --- | --- |                                                                                       \n",
              "         | Nvidia CEO Jensen Huang's CES keynote: Top takeaways | Yahoo Finance Video |                            \n",
              "         \u001b[4;94mhttps://finance.yahoo.com/video/nvidia-ceo-jensen-huangs-ces-125013926.html\u001b[0m |                             \n",
              "         | Aurora Teams Up With NVIDIA & Continental To Power Driverless Trucks: Details | Benzinga |              \n",
              "         \u001b[4;94mhttps://finance.yahoo.com/news/aurora-teams-nvidia-continental-power-124209747.html\u001b[0m |                     \n",
              "         | Watch These Nvidia Price Levels as Stock Continues Rising After CEO's Keynote Speech | Investopedia |   \n",
              "         \u001b[4;94mhttps://finance.yahoo.com/m/fd6c8d47-1525-3aea-a39b-da7dac9aa9a8/watch-these-nvidia-price.html\u001b[0m |          \n",
              "         | Is Nvidia Stock a Buy Now? | Motley Fool |                                                              \n",
              "         \u001b[4;94mhttps://finance.yahoo.com/m/4b67daa6-75dd-3c17-9375-09f5c50bfc1f/is-nvidia-stock-a-buy-now%3F.html\u001b[0m |      \n",
              "         | Micron stock rallies after Nvidia named it key supplier for new GPUs | Investing.com |                  \n",
              "         \u001b[4;94mhttps://finance.yahoo.com/news/micron-stock-rallies-nvidia-named-122042549.html\u001b[0m |                         \n"
            ],
            "text/html": [
              "<pre style=\"white-space:pre;overflow-x:auto;line-height:normal;font-family:Menlo,'DejaVu Sans Mono',consolas,'Courier New',monospace\"><span style=\"color: #008000; text-decoration-color: #008000\">DEBUG   </span> ### The latest news for NVDA                                                                              \n",
              "         | Title | Publisher | Link |                                                                              \n",
              "         | --- | --- | --- |                                                                                       \n",
              "         | Nvidia CEO Jensen Huang's CES keynote: Top takeaways | Yahoo Finance Video |                            \n",
              "         <span style=\"color: #0000ff; text-decoration-color: #0000ff; text-decoration: underline\">https://finance.yahoo.com/video/nvidia-ceo-jensen-huangs-ces-125013926.html</span> |                             \n",
              "         | Aurora Teams Up With NVIDIA &amp; Continental To Power Driverless Trucks: Details | Benzinga |              \n",
              "         <span style=\"color: #0000ff; text-decoration-color: #0000ff; text-decoration: underline\">https://finance.yahoo.com/news/aurora-teams-nvidia-continental-power-124209747.html</span> |                     \n",
              "         | Watch These Nvidia Price Levels as Stock Continues Rising After CEO's Keynote Speech | Investopedia |   \n",
              "         <span style=\"color: #0000ff; text-decoration-color: #0000ff; text-decoration: underline\">https://finance.yahoo.com/m/fd6c8d47-1525-3aea-a39b-da7dac9aa9a8/watch-these-nvidia-price.html</span> |          \n",
              "         | Is Nvidia Stock a Buy Now? | Motley Fool |                                                              \n",
              "         <span style=\"color: #0000ff; text-decoration-color: #0000ff; text-decoration: underline\">https://finance.yahoo.com/m/4b67daa6-75dd-3c17-9375-09f5c50bfc1f/is-nvidia-stock-a-buy-now%3F.html</span> |      \n",
              "         | Micron stock rallies after Nvidia named it key supplier for new GPUs | Investing.com |                  \n",
              "         <span style=\"color: #0000ff; text-decoration-color: #0000ff; text-decoration: underline\">https://finance.yahoo.com/news/micron-stock-rallies-nvidia-named-122042549.html</span> |                         \n",
              "</pre>\n"
            ]
          },
          "metadata": {}
        },
        {
          "output_type": "display_data",
          "data": {
            "text/plain": [
              "\u001b[32mDEBUG   \u001b[0m **************** METRICS START ****************                                                           \n"
            ],
            "text/html": [
              "<pre style=\"white-space:pre;overflow-x:auto;line-height:normal;font-family:Menlo,'DejaVu Sans Mono',consolas,'Courier New',monospace\"><span style=\"color: #008000; text-decoration-color: #008000\">DEBUG   </span> **************** METRICS START ****************                                                           \n",
              "</pre>\n"
            ]
          },
          "metadata": {}
        },
        {
          "output_type": "display_data",
          "data": {
            "text/plain": [
              "\u001b[32mDEBUG   \u001b[0m * Time to first token:         \u001b[1;36m0.\u001b[0m9729s                                                                    \n"
            ],
            "text/html": [
              "<pre style=\"white-space:pre;overflow-x:auto;line-height:normal;font-family:Menlo,'DejaVu Sans Mono',consolas,'Courier New',monospace\"><span style=\"color: #008000; text-decoration-color: #008000\">DEBUG   </span> * Time to first token:         <span style=\"color: #008080; text-decoration-color: #008080; font-weight: bold\">0.</span>9729s                                                                    \n",
              "</pre>\n"
            ]
          },
          "metadata": {}
        },
        {
          "output_type": "display_data",
          "data": {
            "text/plain": [
              "\u001b[32mDEBUG   \u001b[0m * Time to generate response:   \u001b[1;36m1.\u001b[0m9278s                                                                    \n"
            ],
            "text/html": [
              "<pre style=\"white-space:pre;overflow-x:auto;line-height:normal;font-family:Menlo,'DejaVu Sans Mono',consolas,'Courier New',monospace\"><span style=\"color: #008000; text-decoration-color: #008000\">DEBUG   </span> * Time to generate response:   <span style=\"color: #008080; text-decoration-color: #008080; font-weight: bold\">1.</span>9278s                                                                    \n",
              "</pre>\n"
            ]
          },
          "metadata": {}
        },
        {
          "output_type": "display_data",
          "data": {
            "text/plain": [
              "\u001b[32mDEBUG   \u001b[0m * Tokens per second:           \u001b[1;36m0.0000\u001b[0m tokens/s                                                            \n"
            ],
            "text/html": [
              "<pre style=\"white-space:pre;overflow-x:auto;line-height:normal;font-family:Menlo,'DejaVu Sans Mono',consolas,'Courier New',monospace\"><span style=\"color: #008000; text-decoration-color: #008000\">DEBUG   </span> * Tokens per second:           <span style=\"color: #008080; text-decoration-color: #008080; font-weight: bold\">0.0000</span> tokens/s                                                            \n",
              "</pre>\n"
            ]
          },
          "metadata": {}
        },
        {
          "output_type": "display_data",
          "data": {
            "text/plain": [
              "\u001b[32mDEBUG   \u001b[0m * Input tokens:                \u001b[1;36m0\u001b[0m                                                                          \n"
            ],
            "text/html": [
              "<pre style=\"white-space:pre;overflow-x:auto;line-height:normal;font-family:Menlo,'DejaVu Sans Mono',consolas,'Courier New',monospace\"><span style=\"color: #008000; text-decoration-color: #008000\">DEBUG   </span> * Input tokens:                <span style=\"color: #008080; text-decoration-color: #008080; font-weight: bold\">0</span>                                                                          \n",
              "</pre>\n"
            ]
          },
          "metadata": {}
        },
        {
          "output_type": "display_data",
          "data": {
            "text/plain": [
              "\u001b[32mDEBUG   \u001b[0m * Output tokens:               \u001b[1;36m265\u001b[0m                                                                        \n"
            ],
            "text/html": [
              "<pre style=\"white-space:pre;overflow-x:auto;line-height:normal;font-family:Menlo,'DejaVu Sans Mono',consolas,'Courier New',monospace\"><span style=\"color: #008000; text-decoration-color: #008000\">DEBUG   </span> * Output tokens:               <span style=\"color: #008080; text-decoration-color: #008080; font-weight: bold\">265</span>                                                                        \n",
              "</pre>\n"
            ]
          },
          "metadata": {}
        },
        {
          "output_type": "display_data",
          "data": {
            "text/plain": [
              "\u001b[32mDEBUG   \u001b[0m * Total tokens:                \u001b[1;36m0\u001b[0m                                                                          \n"
            ],
            "text/html": [
              "<pre style=\"white-space:pre;overflow-x:auto;line-height:normal;font-family:Menlo,'DejaVu Sans Mono',consolas,'Courier New',monospace\"><span style=\"color: #008000; text-decoration-color: #008000\">DEBUG   </span> * Total tokens:                <span style=\"color: #008080; text-decoration-color: #008080; font-weight: bold\">0</span>                                                                          \n",
              "</pre>\n"
            ]
          },
          "metadata": {}
        },
        {
          "output_type": "display_data",
          "data": {
            "text/plain": [
              "\u001b[32mDEBUG   \u001b[0m **************** METRICS END ******************                                                           \n"
            ],
            "text/html": [
              "<pre style=\"white-space:pre;overflow-x:auto;line-height:normal;font-family:Menlo,'DejaVu Sans Mono',consolas,'Courier New',monospace\"><span style=\"color: #008000; text-decoration-color: #008000\">DEBUG   </span> **************** METRICS END ******************                                                           \n",
              "</pre>\n"
            ]
          },
          "metadata": {}
        },
        {
          "output_type": "display_data",
          "data": {
            "text/plain": [
              "\u001b[32mDEBUG   \u001b[0m ---------- Groq Response End ----------                                                                   \n"
            ],
            "text/html": [
              "<pre style=\"white-space:pre;overflow-x:auto;line-height:normal;font-family:Menlo,'DejaVu Sans Mono',consolas,'Courier New',monospace\"><span style=\"color: #008000; text-decoration-color: #008000\">DEBUG   </span> ---------- Groq Response End ----------                                                                   \n",
              "</pre>\n"
            ]
          },
          "metadata": {}
        },
        {
          "output_type": "display_data",
          "data": {
            "text/plain": [
              "\u001b[32mDEBUG   \u001b[0m ---------- Groq Response End ----------                                                                   \n"
            ],
            "text/html": [
              "<pre style=\"white-space:pre;overflow-x:auto;line-height:normal;font-family:Menlo,'DejaVu Sans Mono',consolas,'Courier New',monospace\"><span style=\"color: #008000; text-decoration-color: #008000\">DEBUG   </span> ---------- Groq Response End ----------                                                                   \n",
              "</pre>\n"
            ]
          },
          "metadata": {}
        },
        {
          "output_type": "display_data",
          "data": {
            "text/plain": [
              "\u001b[32mDEBUG   \u001b[0m Added \u001b[1;36m4\u001b[0m Messages to AgentMemory                                                                           \n"
            ],
            "text/html": [
              "<pre style=\"white-space:pre;overflow-x:auto;line-height:normal;font-family:Menlo,'DejaVu Sans Mono',consolas,'Courier New',monospace\"><span style=\"color: #008000; text-decoration-color: #008000\">DEBUG   </span> Added <span style=\"color: #008080; text-decoration-color: #008080; font-weight: bold\">4</span> Messages to AgentMemory                                                                           \n",
              "</pre>\n"
            ]
          },
          "metadata": {}
        },
        {
          "output_type": "display_data",
          "data": {
            "text/plain": [
              "\u001b[32mDEBUG   \u001b[0m Added AgentRun to AgentMemory                                                                             \n"
            ],
            "text/html": [
              "<pre style=\"white-space:pre;overflow-x:auto;line-height:normal;font-family:Menlo,'DejaVu Sans Mono',consolas,'Courier New',monospace\"><span style=\"color: #008000; text-decoration-color: #008000\">DEBUG   </span> Added AgentRun to AgentMemory                                                                             \n",
              "</pre>\n"
            ]
          },
          "metadata": {}
        },
        {
          "output_type": "display_data",
          "data": {
            "text/plain": [
              "\u001b[32mDEBUG   \u001b[0m --**-- Logging Agent Run                                                                                  \n"
            ],
            "text/html": [
              "<pre style=\"white-space:pre;overflow-x:auto;line-height:normal;font-family:Menlo,'DejaVu Sans Mono',consolas,'Courier New',monospace\"><span style=\"color: #008000; text-decoration-color: #008000\">DEBUG   </span> --**-- Logging Agent Run                                                                                  \n",
              "</pre>\n"
            ]
          },
          "metadata": {}
        },
        {
          "output_type": "display_data",
          "data": {
            "text/plain": [
              "\u001b[32mDEBUG   \u001b[0m *********** Agent Run End: \u001b[93m72085d4f-d0b6-435b-9ded-c123c4d8c3c8\u001b[0m ***********                               \n"
            ],
            "text/html": [
              "<pre style=\"white-space:pre;overflow-x:auto;line-height:normal;font-family:Menlo,'DejaVu Sans Mono',consolas,'Courier New',monospace\"><span style=\"color: #008000; text-decoration-color: #008000\">DEBUG   </span> *********** Agent Run End: <span style=\"color: #ffff00; text-decoration-color: #ffff00\">72085d4f-d0b6-435b-9ded-c123c4d8c3c8</span> ***********                               \n",
              "</pre>\n"
            ]
          },
          "metadata": {}
        },
        {
          "output_type": "display_data",
          "data": {
            "text/plain": [
              "\u001b[32mDEBUG   \u001b[0m ---------- Groq Response Start ----------                                                                 \n"
            ],
            "text/html": [
              "<pre style=\"white-space:pre;overflow-x:auto;line-height:normal;font-family:Menlo,'DejaVu Sans Mono',consolas,'Courier New',monospace\"><span style=\"color: #008000; text-decoration-color: #008000\">DEBUG   </span> ---------- Groq Response Start ----------                                                                 \n",
              "</pre>\n"
            ]
          },
          "metadata": {}
        },
        {
          "output_type": "display_data",
          "data": {
            "text/plain": [
              "\u001b[32mDEBUG   \u001b[0m ============== system ==============                                                                      \n"
            ],
            "text/html": [
              "<pre style=\"white-space:pre;overflow-x:auto;line-height:normal;font-family:Menlo,'DejaVu Sans Mono',consolas,'Courier New',monospace\"><span style=\"color: #008000; text-decoration-color: #008000\">DEBUG   </span> ============== system ==============                                                                      \n",
              "</pre>\n"
            ]
          },
          "metadata": {}
        },
        {
          "output_type": "display_data",
          "data": {
            "text/plain": [
              "\u001b[32mDEBUG   \u001b[0m ## You are the leader of a team of AI Agents.                                                             \n",
              "           - You can either respond directly or transfer tasks to other Agents in your team depending on the tools \n",
              "         available to them.                                                                                        \n",
              "           - If you transfer a task to another Agent, make sure to include a clear description of the task and the \n",
              "         expected output.                                                                                          \n",
              "           - You must always validate the output of the other Agents before responding to the user, you can        \n",
              "         re-assign the task if you are not satisfied with the result.                                              \n",
              "                                                                                                                   \n",
              "         ## Instructions                                                                                           \n",
              "         - Always include sources                                                                                  \n",
              "         - Use tables to display data                                                                              \n",
              "         - Use markdown to format your answers.                                                                    \n",
              "                                                                                                                   \n",
              "         ## Agents in your team:                                                                                   \n",
              "         You can transfer tasks to the following agents:                                                           \n",
              "         Agent \u001b[1;36m1\u001b[0m:                                                                                                  \n",
              "         Name: Web Agent                                                                                           \n",
              "         Available tools: duckduckgo_search, duckduckgo_news                                                       \n",
              "                                                                                                                   \n",
              "         Agent \u001b[1;36m2\u001b[0m:                                                                                                  \n",
              "         Name: Finance Agent                                                                                       \n",
              "         Available tools: get_current_stock_price, get_company_info, get_analyst_recommendations, get_company_news \n"
            ],
            "text/html": [
              "<pre style=\"white-space:pre;overflow-x:auto;line-height:normal;font-family:Menlo,'DejaVu Sans Mono',consolas,'Courier New',monospace\"><span style=\"color: #008000; text-decoration-color: #008000\">DEBUG   </span> ## You are the leader of a team of AI Agents.                                                             \n",
              "           - You can either respond directly or transfer tasks to other Agents in your team depending on the tools \n",
              "         available to them.                                                                                        \n",
              "           - If you transfer a task to another Agent, make sure to include a clear description of the task and the \n",
              "         expected output.                                                                                          \n",
              "           - You must always validate the output of the other Agents before responding to the user, you can        \n",
              "         re-assign the task if you are not satisfied with the result.                                              \n",
              "                                                                                                                   \n",
              "         ## Instructions                                                                                           \n",
              "         - Always include sources                                                                                  \n",
              "         - Use tables to display data                                                                              \n",
              "         - Use markdown to format your answers.                                                                    \n",
              "                                                                                                                   \n",
              "         ## Agents in your team:                                                                                   \n",
              "         You can transfer tasks to the following agents:                                                           \n",
              "         Agent <span style=\"color: #008080; text-decoration-color: #008080; font-weight: bold\">1</span>:                                                                                                  \n",
              "         Name: Web Agent                                                                                           \n",
              "         Available tools: duckduckgo_search, duckduckgo_news                                                       \n",
              "                                                                                                                   \n",
              "         Agent <span style=\"color: #008080; text-decoration-color: #008080; font-weight: bold\">2</span>:                                                                                                  \n",
              "         Name: Finance Agent                                                                                       \n",
              "         Available tools: get_current_stock_price, get_company_info, get_analyst_recommendations, get_company_news \n",
              "</pre>\n"
            ]
          },
          "metadata": {}
        },
        {
          "output_type": "display_data",
          "data": {
            "text/plain": [
              "\u001b[32mDEBUG   \u001b[0m ============== user ==============                                                                        \n"
            ],
            "text/html": [
              "<pre style=\"white-space:pre;overflow-x:auto;line-height:normal;font-family:Menlo,'DejaVu Sans Mono',consolas,'Courier New',monospace\"><span style=\"color: #008000; text-decoration-color: #008000\">DEBUG   </span> ============== user ==============                                                                        \n",
              "</pre>\n"
            ]
          },
          "metadata": {}
        },
        {
          "output_type": "display_data",
          "data": {
            "text/plain": [
              "\u001b[32mDEBUG   \u001b[0m Summarize analyst recommendations and share the latest news for NVDA                                      \n"
            ],
            "text/html": [
              "<pre style=\"white-space:pre;overflow-x:auto;line-height:normal;font-family:Menlo,'DejaVu Sans Mono',consolas,'Courier New',monospace\"><span style=\"color: #008000; text-decoration-color: #008000\">DEBUG   </span> Summarize analyst recommendations and share the latest news for NVDA                                      \n",
              "</pre>\n"
            ]
          },
          "metadata": {}
        },
        {
          "output_type": "display_data",
          "data": {
            "text/plain": [
              "\u001b[32mDEBUG   \u001b[0m ============== assistant ==============                                                                   \n"
            ],
            "text/html": [
              "<pre style=\"white-space:pre;overflow-x:auto;line-height:normal;font-family:Menlo,'DejaVu Sans Mono',consolas,'Courier New',monospace\"><span style=\"color: #008000; text-decoration-color: #008000\">DEBUG   </span> ============== assistant ==============                                                                   \n",
              "</pre>\n"
            ]
          },
          "metadata": {}
        },
        {
          "output_type": "display_data",
          "data": {
            "text/plain": [
              "\u001b[32mDEBUG   \u001b[0m Tool Calls: \u001b[1m[\u001b[0m                                                                                             \n",
              "           \u001b[1m{\u001b[0m                                                                                                       \n",
              "             \u001b[32m\"id\"\u001b[0m: \u001b[32m\"call_zxcr\"\u001b[0m,                                                                                    \n",
              "             \u001b[32m\"type\"\u001b[0m: \u001b[32m\"function\"\u001b[0m,                                                                                   \n",
              "             \u001b[32m\"function\"\u001b[0m: \u001b[1m{\u001b[0m                                                                                         \n",
              "               \u001b[32m\"name\"\u001b[0m: \u001b[32m\"transfer_task_to_finance_agent\"\u001b[0m,                                                           \n",
              "               \u001b[32m\"arguments\"\u001b[0m: \u001b[32m\"\u001b[0m\u001b[32m{\u001b[0m\u001b[32m\\\"task_description\\\": \\\"Summarize analyst recommendations for NVDA\\\", \u001b[0m               \n",
              "         \u001b[32m\\\"expected_output\\\": \\\"A summary of analyst recommendations\\\", \\\"additional_information\\\": \\\"NVDA analyst \u001b[0m\n",
              "         \u001b[32mrecommendations\\\"\u001b[0m\u001b[32m}\u001b[0m\u001b[32m\"\u001b[0m                                                                                       \n",
              "             \u001b[1m}\u001b[0m                                                                                                     \n",
              "           \u001b[1m}\u001b[0m,                                                                                                      \n",
              "           \u001b[1m{\u001b[0m                                                                                                       \n",
              "             \u001b[32m\"id\"\u001b[0m: \u001b[32m\"call_a4a7\"\u001b[0m,                                                                                    \n",
              "             \u001b[32m\"type\"\u001b[0m: \u001b[32m\"function\"\u001b[0m,                                                                                   \n",
              "             \u001b[32m\"function\"\u001b[0m: \u001b[1m{\u001b[0m                                                                                         \n",
              "               \u001b[32m\"name\"\u001b[0m: \u001b[32m\"transfer_task_to_finance_agent\"\u001b[0m,                                                           \n",
              "               \u001b[32m\"arguments\"\u001b[0m: \u001b[32m\"\u001b[0m\u001b[32m{\u001b[0m\u001b[32m\\\"task_description\\\": \\\"Get the latest news for NVDA\\\", \\\"expected_output\\\": \\\"The \u001b[0m  \n",
              "         \u001b[32mlatest news for NVDA\\\", \\\"additional_information\\\": \\\"NVDA latest news\\\"\u001b[0m\u001b[32m}\u001b[0m\u001b[32m\"\u001b[0m                                \n",
              "             \u001b[1m}\u001b[0m                                                                                                     \n",
              "           \u001b[1m}\u001b[0m                                                                                                       \n",
              "         \u001b[1m]\u001b[0m                                                                                                         \n"
            ],
            "text/html": [
              "<pre style=\"white-space:pre;overflow-x:auto;line-height:normal;font-family:Menlo,'DejaVu Sans Mono',consolas,'Courier New',monospace\"><span style=\"color: #008000; text-decoration-color: #008000\">DEBUG   </span> Tool Calls: <span style=\"font-weight: bold\">[</span>                                                                                             \n",
              "           <span style=\"font-weight: bold\">{</span>                                                                                                       \n",
              "             <span style=\"color: #008000; text-decoration-color: #008000\">\"id\"</span>: <span style=\"color: #008000; text-decoration-color: #008000\">\"call_zxcr\"</span>,                                                                                    \n",
              "             <span style=\"color: #008000; text-decoration-color: #008000\">\"type\"</span>: <span style=\"color: #008000; text-decoration-color: #008000\">\"function\"</span>,                                                                                   \n",
              "             <span style=\"color: #008000; text-decoration-color: #008000\">\"function\"</span>: <span style=\"font-weight: bold\">{</span>                                                                                         \n",
              "               <span style=\"color: #008000; text-decoration-color: #008000\">\"name\"</span>: <span style=\"color: #008000; text-decoration-color: #008000\">\"transfer_task_to_finance_agent\"</span>,                                                           \n",
              "               <span style=\"color: #008000; text-decoration-color: #008000\">\"arguments\"</span>: <span style=\"color: #008000; text-decoration-color: #008000\">\"{\\\"task_description\\\": \\\"Summarize analyst recommendations for NVDA\\\", </span>               \n",
              "         <span style=\"color: #008000; text-decoration-color: #008000\">\\\"expected_output\\\": \\\"A summary of analyst recommendations\\\", \\\"additional_information\\\": \\\"NVDA analyst </span>\n",
              "         <span style=\"color: #008000; text-decoration-color: #008000\">recommendations\\\"}\"</span>                                                                                       \n",
              "             <span style=\"font-weight: bold\">}</span>                                                                                                     \n",
              "           <span style=\"font-weight: bold\">}</span>,                                                                                                      \n",
              "           <span style=\"font-weight: bold\">{</span>                                                                                                       \n",
              "             <span style=\"color: #008000; text-decoration-color: #008000\">\"id\"</span>: <span style=\"color: #008000; text-decoration-color: #008000\">\"call_a4a7\"</span>,                                                                                    \n",
              "             <span style=\"color: #008000; text-decoration-color: #008000\">\"type\"</span>: <span style=\"color: #008000; text-decoration-color: #008000\">\"function\"</span>,                                                                                   \n",
              "             <span style=\"color: #008000; text-decoration-color: #008000\">\"function\"</span>: <span style=\"font-weight: bold\">{</span>                                                                                         \n",
              "               <span style=\"color: #008000; text-decoration-color: #008000\">\"name\"</span>: <span style=\"color: #008000; text-decoration-color: #008000\">\"transfer_task_to_finance_agent\"</span>,                                                           \n",
              "               <span style=\"color: #008000; text-decoration-color: #008000\">\"arguments\"</span>: <span style=\"color: #008000; text-decoration-color: #008000\">\"{\\\"task_description\\\": \\\"Get the latest news for NVDA\\\", \\\"expected_output\\\": \\\"The </span>  \n",
              "         <span style=\"color: #008000; text-decoration-color: #008000\">latest news for NVDA\\\", \\\"additional_information\\\": \\\"NVDA latest news\\\"}\"</span>                                \n",
              "             <span style=\"font-weight: bold\">}</span>                                                                                                     \n",
              "           <span style=\"font-weight: bold\">}</span>                                                                                                       \n",
              "         <span style=\"font-weight: bold\">]</span>                                                                                                         \n",
              "</pre>\n"
            ]
          },
          "metadata": {}
        },
        {
          "output_type": "display_data",
          "data": {
            "text/plain": [
              "\u001b[32mDEBUG   \u001b[0m ============== tool ==============                                                                        \n"
            ],
            "text/html": [
              "<pre style=\"white-space:pre;overflow-x:auto;line-height:normal;font-family:Menlo,'DejaVu Sans Mono',consolas,'Courier New',monospace\"><span style=\"color: #008000; text-decoration-color: #008000\">DEBUG   </span> ============== tool ==============                                                                        \n",
              "</pre>\n"
            ]
          },
          "metadata": {}
        },
        {
          "output_type": "display_data",
          "data": {
            "text/plain": [
              "\u001b[32mDEBUG   \u001b[0m Tool call Id: call_zxcr                                                                                   \n"
            ],
            "text/html": [
              "<pre style=\"white-space:pre;overflow-x:auto;line-height:normal;font-family:Menlo,'DejaVu Sans Mono',consolas,'Courier New',monospace\"><span style=\"color: #008000; text-decoration-color: #008000\">DEBUG   </span> Tool call Id: call_zxcr                                                                                   \n",
              "</pre>\n"
            ]
          },
          "metadata": {}
        },
        {
          "output_type": "display_data",
          "data": {
            "text/plain": [
              "\u001b[32mDEBUG   \u001b[0m                                                                                                           \n",
              "         Running:                                                                                                  \n",
              "          - \u001b[1;35mget_analyst_recommendations\u001b[0m\u001b[1m(\u001b[0m\u001b[33msymbol\u001b[0m=\u001b[35mNVDA\u001b[0m\u001b[1m)\u001b[0m                                                               \n",
              "                                                                                                                   \n",
              "         ### Summary of Analyst Recommendations for NVDA                                                           \n",
              "                                                                                                                   \n",
              "         The following table summarizes analyst recommendations for NVDA:                                          \n",
              "                                                                                                                   \n",
              "         | Period | Strong Buy | Buy | Hold | Sell | Strong Sell |                                                 \n",
              "         | --- | --- | --- | --- | --- | --- |                                                                     \n",
              "         | 0m | \u001b[1;36m12\u001b[0m | \u001b[1;36m48\u001b[0m | \u001b[1;36m4\u001b[0m | \u001b[1;36m0\u001b[0m | \u001b[1;36m0\u001b[0m |                                                                              \n",
              "         | -1m | \u001b[1;36m12\u001b[0m | \u001b[1;36m48\u001b[0m | \u001b[1;36m4\u001b[0m | \u001b[1;36m0\u001b[0m | \u001b[1;36m0\u001b[0m |                                                                             \n",
              "         | -2m | \u001b[1;36m12\u001b[0m | \u001b[1;36m48\u001b[0m | \u001b[1;36m4\u001b[0m | \u001b[1;36m0\u001b[0m | \u001b[1;36m0\u001b[0m |                                                                             \n",
              "         | -3m | \u001b[1;36m11\u001b[0m | \u001b[1;36m48\u001b[0m | \u001b[1;36m4\u001b[0m | \u001b[1;36m0\u001b[0m | \u001b[1;36m0\u001b[0m |                                                                             \n",
              "                                                                                                                   \n",
              "         This data indicates that the majority of analysts recommend buying NVDA stock, with \u001b[1;36m48\u001b[0m analysts giving a  \n",
              "         \u001b[32m\"buy\"\u001b[0m recommendation and \u001b[1;36m12\u001b[0m giving a \u001b[32m\"strong buy\"\u001b[0m recommendation. Only \u001b[1;36m4\u001b[0m analysts recommend holding the   \n",
              "         stock, and none recommend selling or strongly selling.                                                    \n",
              "                                                                                                                   \n"
            ],
            "text/html": [
              "<pre style=\"white-space:pre;overflow-x:auto;line-height:normal;font-family:Menlo,'DejaVu Sans Mono',consolas,'Courier New',monospace\"><span style=\"color: #008000; text-decoration-color: #008000\">DEBUG   </span>                                                                                                           \n",
              "         Running:                                                                                                  \n",
              "          - <span style=\"color: #800080; text-decoration-color: #800080; font-weight: bold\">get_analyst_recommendations</span><span style=\"font-weight: bold\">(</span><span style=\"color: #808000; text-decoration-color: #808000\">symbol</span>=<span style=\"color: #800080; text-decoration-color: #800080\">NVDA</span><span style=\"font-weight: bold\">)</span>                                                               \n",
              "                                                                                                                   \n",
              "         ### Summary of Analyst Recommendations for NVDA                                                           \n",
              "                                                                                                                   \n",
              "         The following table summarizes analyst recommendations for NVDA:                                          \n",
              "                                                                                                                   \n",
              "         | Period | Strong Buy | Buy | Hold | Sell | Strong Sell |                                                 \n",
              "         | --- | --- | --- | --- | --- | --- |                                                                     \n",
              "         | 0m | <span style=\"color: #008080; text-decoration-color: #008080; font-weight: bold\">12</span> | <span style=\"color: #008080; text-decoration-color: #008080; font-weight: bold\">48</span> | <span style=\"color: #008080; text-decoration-color: #008080; font-weight: bold\">4</span> | <span style=\"color: #008080; text-decoration-color: #008080; font-weight: bold\">0</span> | <span style=\"color: #008080; text-decoration-color: #008080; font-weight: bold\">0</span> |                                                                              \n",
              "         | -1m | <span style=\"color: #008080; text-decoration-color: #008080; font-weight: bold\">12</span> | <span style=\"color: #008080; text-decoration-color: #008080; font-weight: bold\">48</span> | <span style=\"color: #008080; text-decoration-color: #008080; font-weight: bold\">4</span> | <span style=\"color: #008080; text-decoration-color: #008080; font-weight: bold\">0</span> | <span style=\"color: #008080; text-decoration-color: #008080; font-weight: bold\">0</span> |                                                                             \n",
              "         | -2m | <span style=\"color: #008080; text-decoration-color: #008080; font-weight: bold\">12</span> | <span style=\"color: #008080; text-decoration-color: #008080; font-weight: bold\">48</span> | <span style=\"color: #008080; text-decoration-color: #008080; font-weight: bold\">4</span> | <span style=\"color: #008080; text-decoration-color: #008080; font-weight: bold\">0</span> | <span style=\"color: #008080; text-decoration-color: #008080; font-weight: bold\">0</span> |                                                                             \n",
              "         | -3m | <span style=\"color: #008080; text-decoration-color: #008080; font-weight: bold\">11</span> | <span style=\"color: #008080; text-decoration-color: #008080; font-weight: bold\">48</span> | <span style=\"color: #008080; text-decoration-color: #008080; font-weight: bold\">4</span> | <span style=\"color: #008080; text-decoration-color: #008080; font-weight: bold\">0</span> | <span style=\"color: #008080; text-decoration-color: #008080; font-weight: bold\">0</span> |                                                                             \n",
              "                                                                                                                   \n",
              "         This data indicates that the majority of analysts recommend buying NVDA stock, with <span style=\"color: #008080; text-decoration-color: #008080; font-weight: bold\">48</span> analysts giving a  \n",
              "         <span style=\"color: #008000; text-decoration-color: #008000\">\"buy\"</span> recommendation and <span style=\"color: #008080; text-decoration-color: #008080; font-weight: bold\">12</span> giving a <span style=\"color: #008000; text-decoration-color: #008000\">\"strong buy\"</span> recommendation. Only <span style=\"color: #008080; text-decoration-color: #008080; font-weight: bold\">4</span> analysts recommend holding the   \n",
              "         stock, and none recommend selling or strongly selling.                                                    \n",
              "                                                                                                                   \n",
              "</pre>\n"
            ]
          },
          "metadata": {}
        },
        {
          "output_type": "display_data",
          "data": {
            "text/plain": [
              "\u001b[32mDEBUG   \u001b[0m ============== tool ==============                                                                        \n"
            ],
            "text/html": [
              "<pre style=\"white-space:pre;overflow-x:auto;line-height:normal;font-family:Menlo,'DejaVu Sans Mono',consolas,'Courier New',monospace\"><span style=\"color: #008000; text-decoration-color: #008000\">DEBUG   </span> ============== tool ==============                                                                        \n",
              "</pre>\n"
            ]
          },
          "metadata": {}
        },
        {
          "output_type": "display_data",
          "data": {
            "text/plain": [
              "\u001b[32mDEBUG   \u001b[0m Tool call Id: call_a4a7                                                                                   \n"
            ],
            "text/html": [
              "<pre style=\"white-space:pre;overflow-x:auto;line-height:normal;font-family:Menlo,'DejaVu Sans Mono',consolas,'Courier New',monospace\"><span style=\"color: #008000; text-decoration-color: #008000\">DEBUG   </span> Tool call Id: call_a4a7                                                                                   \n",
              "</pre>\n"
            ]
          },
          "metadata": {}
        },
        {
          "output_type": "display_data",
          "data": {
            "text/plain": [
              "\u001b[32mDEBUG   \u001b[0m                                                                                                           \n",
              "         Running:                                                                                                  \n",
              "          - \u001b[1;35mget_company_news\u001b[0m\u001b[1m(\u001b[0m\u001b[33msymbol\u001b[0m=\u001b[35mNVDA\u001b[0m, \u001b[33mnum_stories\u001b[0m=\u001b[1;36m5\u001b[0m\u001b[1m)\u001b[0m                                                           \n",
              "                                                                                                                   \n",
              "         ### The latest news for NVDA                                                                              \n",
              "         | Title | Publisher | Link |                                                                              \n",
              "         | --- | --- | --- |                                                                                       \n",
              "         | Nvidia CEO Jensen Huang's CES keynote: Top takeaways | Yahoo Finance Video |                            \n",
              "         \u001b[4;94mhttps://finance.yahoo.com/video/nvidia-ceo-jensen-huangs-ces-125013926.html\u001b[0m |                             \n",
              "         | Aurora Teams Up With NVIDIA & Continental To Power Driverless Trucks: Details | Benzinga |              \n",
              "         \u001b[4;94mhttps://finance.yahoo.com/news/aurora-teams-nvidia-continental-power-124209747.html\u001b[0m |                     \n",
              "         | Watch These Nvidia Price Levels as Stock Continues Rising After CEO's Keynote Speech | Investopedia |   \n",
              "         \u001b[4;94mhttps://finance.yahoo.com/m/fd6c8d47-1525-3aea-a39b-da7dac9aa9a8/watch-these-nvidia-price.html\u001b[0m |          \n",
              "         | Is Nvidia Stock a Buy Now? | Motley Fool |                                                              \n",
              "         \u001b[4;94mhttps://finance.yahoo.com/m/4b67daa6-75dd-3c17-9375-09f5c50bfc1f/is-nvidia-stock-a-buy-now%3F.html\u001b[0m |      \n",
              "         | Micron stock rallies after Nvidia named it key supplier for new GPUs | Investing.com |                  \n",
              "         \u001b[4;94mhttps://finance.yahoo.com/news/micron-stock-rallies-nvidia-named-122042549.html\u001b[0m |                         \n",
              "                                                                                                                   \n"
            ],
            "text/html": [
              "<pre style=\"white-space:pre;overflow-x:auto;line-height:normal;font-family:Menlo,'DejaVu Sans Mono',consolas,'Courier New',monospace\"><span style=\"color: #008000; text-decoration-color: #008000\">DEBUG   </span>                                                                                                           \n",
              "         Running:                                                                                                  \n",
              "          - <span style=\"color: #800080; text-decoration-color: #800080; font-weight: bold\">get_company_news</span><span style=\"font-weight: bold\">(</span><span style=\"color: #808000; text-decoration-color: #808000\">symbol</span>=<span style=\"color: #800080; text-decoration-color: #800080\">NVDA</span>, <span style=\"color: #808000; text-decoration-color: #808000\">num_stories</span>=<span style=\"color: #008080; text-decoration-color: #008080; font-weight: bold\">5</span><span style=\"font-weight: bold\">)</span>                                                           \n",
              "                                                                                                                   \n",
              "         ### The latest news for NVDA                                                                              \n",
              "         | Title | Publisher | Link |                                                                              \n",
              "         | --- | --- | --- |                                                                                       \n",
              "         | Nvidia CEO Jensen Huang's CES keynote: Top takeaways | Yahoo Finance Video |                            \n",
              "         <span style=\"color: #0000ff; text-decoration-color: #0000ff; text-decoration: underline\">https://finance.yahoo.com/video/nvidia-ceo-jensen-huangs-ces-125013926.html</span> |                             \n",
              "         | Aurora Teams Up With NVIDIA &amp; Continental To Power Driverless Trucks: Details | Benzinga |              \n",
              "         <span style=\"color: #0000ff; text-decoration-color: #0000ff; text-decoration: underline\">https://finance.yahoo.com/news/aurora-teams-nvidia-continental-power-124209747.html</span> |                     \n",
              "         | Watch These Nvidia Price Levels as Stock Continues Rising After CEO's Keynote Speech | Investopedia |   \n",
              "         <span style=\"color: #0000ff; text-decoration-color: #0000ff; text-decoration: underline\">https://finance.yahoo.com/m/fd6c8d47-1525-3aea-a39b-da7dac9aa9a8/watch-these-nvidia-price.html</span> |          \n",
              "         | Is Nvidia Stock a Buy Now? | Motley Fool |                                                              \n",
              "         <span style=\"color: #0000ff; text-decoration-color: #0000ff; text-decoration: underline\">https://finance.yahoo.com/m/4b67daa6-75dd-3c17-9375-09f5c50bfc1f/is-nvidia-stock-a-buy-now%3F.html</span> |      \n",
              "         | Micron stock rallies after Nvidia named it key supplier for new GPUs | Investing.com |                  \n",
              "         <span style=\"color: #0000ff; text-decoration-color: #0000ff; text-decoration: underline\">https://finance.yahoo.com/news/micron-stock-rallies-nvidia-named-122042549.html</span> |                         \n",
              "                                                                                                                   \n",
              "</pre>\n"
            ]
          },
          "metadata": {}
        },
        {
          "output_type": "display_data",
          "data": {
            "text/plain": [
              "\u001b[32mDEBUG   \u001b[0m ============== assistant ==============                                                                   \n"
            ],
            "text/html": [
              "<pre style=\"white-space:pre;overflow-x:auto;line-height:normal;font-family:Menlo,'DejaVu Sans Mono',consolas,'Courier New',monospace\"><span style=\"color: #008000; text-decoration-color: #008000\">DEBUG   </span> ============== assistant ==============                                                                   \n",
              "</pre>\n"
            ]
          },
          "metadata": {}
        },
        {
          "output_type": "display_data",
          "data": {
            "text/plain": [
              "\u001b[32mDEBUG   \u001b[0m The analyst recommendations for NVDA are overwhelmingly positive, with \u001b[1;36m12\u001b[0m analysts giving a \u001b[32m\"strong buy\"\u001b[0m  \n",
              "         recommendation and \u001b[1;36m48\u001b[0m giving a \u001b[32m\"buy\"\u001b[0m recommendation. Only \u001b[1;36m4\u001b[0m analysts recommend holding the stock, and none\n",
              "         recommend selling or strongly selling.                                                                    \n",
              "                                                                                                                   \n",
              "         As for the latest news, NVDA has been making headlines with its CEO Jensen Huang's keynote speech at CES, \n",
              "         where he discussed the company's latest innovations and partnerships. Additionally, Aurora has teamed up  \n",
              "         with NVDA and Continental to power driverless trucks, and Micron's stock has rallied after being named a  \n",
              "         key supplier for NVDA's new GPUs.                                                                         \n",
              "                                                                                                                   \n",
              "         Here is a summary of the news in a table format:                                                          \n",
              "                                                                                                                   \n",
              "         | Title | Publisher | Link |                                                                              \n",
              "         | --- | --- | --- |                                                                                       \n",
              "         | Nvidia CEO Jensen Huang's CES keynote: Top takeaways | Yahoo Finance Video |                            \n",
              "         \u001b[4;94mhttps://finance.yahoo.com/video/nvidia-ceo-jensen-huangs-ces-125013926.html\u001b[0m |                             \n",
              "         | Aurora Teams Up With NVIDIA & Continental To Power Driverless Trucks: Details | Benzinga |              \n",
              "         \u001b[4;94mhttps://finance.yahoo.com/news/aurora-teams-nvidia-continental-power-124209747.html\u001b[0m |                     \n",
              "         | Watch These Nvidia Price Levels as Stock Continues Rising After CEO's Keynote Speech | Investopedia |   \n",
              "         \u001b[4;94mhttps://finance.yahoo.com/m/fd6c8d47-1525-3aea-a39b-da7dac9aa9a8/watch-these-nvidia-price.html\u001b[0m |          \n",
              "         | Is Nvidia Stock a Buy Now? | Motley Fool |                                                              \n",
              "         \u001b[4;94mhttps://finance.yahoo.com/m/4b67daa6-75dd-3c17-9375-09f5c50bfc1f/is-nvidia-stock-a-buy-now%3F.html\u001b[0m |      \n",
              "         | Micron stock rallies after Nvidia named it key supplier for new GPUs | Investing.com |                  \n",
              "         \u001b[4;94mhttps://finance.yahoo.com/news/micron-stock-rallies-nvidia-named-122042549.html\u001b[0m |                         \n",
              "                                                                                                                   \n",
              "         Overall, it seems that NVDA is making significant progress in the tech industry, with its CEO's keynote   \n",
              "         speech and partnerships with other companies generating a lot of buzz.                                    \n"
            ],
            "text/html": [
              "<pre style=\"white-space:pre;overflow-x:auto;line-height:normal;font-family:Menlo,'DejaVu Sans Mono',consolas,'Courier New',monospace\"><span style=\"color: #008000; text-decoration-color: #008000\">DEBUG   </span> The analyst recommendations for NVDA are overwhelmingly positive, with <span style=\"color: #008080; text-decoration-color: #008080; font-weight: bold\">12</span> analysts giving a <span style=\"color: #008000; text-decoration-color: #008000\">\"strong buy\"</span>  \n",
              "         recommendation and <span style=\"color: #008080; text-decoration-color: #008080; font-weight: bold\">48</span> giving a <span style=\"color: #008000; text-decoration-color: #008000\">\"buy\"</span> recommendation. Only <span style=\"color: #008080; text-decoration-color: #008080; font-weight: bold\">4</span> analysts recommend holding the stock, and none\n",
              "         recommend selling or strongly selling.                                                                    \n",
              "                                                                                                                   \n",
              "         As for the latest news, NVDA has been making headlines with its CEO Jensen Huang's keynote speech at CES, \n",
              "         where he discussed the company's latest innovations and partnerships. Additionally, Aurora has teamed up  \n",
              "         with NVDA and Continental to power driverless trucks, and Micron's stock has rallied after being named a  \n",
              "         key supplier for NVDA's new GPUs.                                                                         \n",
              "                                                                                                                   \n",
              "         Here is a summary of the news in a table format:                                                          \n",
              "                                                                                                                   \n",
              "         | Title | Publisher | Link |                                                                              \n",
              "         | --- | --- | --- |                                                                                       \n",
              "         | Nvidia CEO Jensen Huang's CES keynote: Top takeaways | Yahoo Finance Video |                            \n",
              "         <span style=\"color: #0000ff; text-decoration-color: #0000ff; text-decoration: underline\">https://finance.yahoo.com/video/nvidia-ceo-jensen-huangs-ces-125013926.html</span> |                             \n",
              "         | Aurora Teams Up With NVIDIA &amp; Continental To Power Driverless Trucks: Details | Benzinga |              \n",
              "         <span style=\"color: #0000ff; text-decoration-color: #0000ff; text-decoration: underline\">https://finance.yahoo.com/news/aurora-teams-nvidia-continental-power-124209747.html</span> |                     \n",
              "         | Watch These Nvidia Price Levels as Stock Continues Rising After CEO's Keynote Speech | Investopedia |   \n",
              "         <span style=\"color: #0000ff; text-decoration-color: #0000ff; text-decoration: underline\">https://finance.yahoo.com/m/fd6c8d47-1525-3aea-a39b-da7dac9aa9a8/watch-these-nvidia-price.html</span> |          \n",
              "         | Is Nvidia Stock a Buy Now? | Motley Fool |                                                              \n",
              "         <span style=\"color: #0000ff; text-decoration-color: #0000ff; text-decoration: underline\">https://finance.yahoo.com/m/4b67daa6-75dd-3c17-9375-09f5c50bfc1f/is-nvidia-stock-a-buy-now%3F.html</span> |      \n",
              "         | Micron stock rallies after Nvidia named it key supplier for new GPUs | Investing.com |                  \n",
              "         <span style=\"color: #0000ff; text-decoration-color: #0000ff; text-decoration: underline\">https://finance.yahoo.com/news/micron-stock-rallies-nvidia-named-122042549.html</span> |                         \n",
              "                                                                                                                   \n",
              "         Overall, it seems that NVDA is making significant progress in the tech industry, with its CEO's keynote   \n",
              "         speech and partnerships with other companies generating a lot of buzz.                                    \n",
              "</pre>\n"
            ]
          },
          "metadata": {}
        },
        {
          "output_type": "display_data",
          "data": {
            "text/plain": [
              "\u001b[32mDEBUG   \u001b[0m **************** METRICS START ****************                                                           \n"
            ],
            "text/html": [
              "<pre style=\"white-space:pre;overflow-x:auto;line-height:normal;font-family:Menlo,'DejaVu Sans Mono',consolas,'Courier New',monospace\"><span style=\"color: #008000; text-decoration-color: #008000\">DEBUG   </span> **************** METRICS START ****************                                                           \n",
              "</pre>\n"
            ]
          },
          "metadata": {}
        },
        {
          "output_type": "display_data",
          "data": {
            "text/plain": [
              "\u001b[32mDEBUG   \u001b[0m * Time to first token:         \u001b[1;36m7.\u001b[0m7655s                                                                    \n"
            ],
            "text/html": [
              "<pre style=\"white-space:pre;overflow-x:auto;line-height:normal;font-family:Menlo,'DejaVu Sans Mono',consolas,'Courier New',monospace\"><span style=\"color: #008000; text-decoration-color: #008000\">DEBUG   </span> * Time to first token:         <span style=\"color: #008080; text-decoration-color: #008080; font-weight: bold\">7.</span>7655s                                                                    \n",
              "</pre>\n"
            ]
          },
          "metadata": {}
        },
        {
          "output_type": "display_data",
          "data": {
            "text/plain": [
              "\u001b[32mDEBUG   \u001b[0m * Time to generate response:   \u001b[1;36m9.\u001b[0m2971s                                                                    \n"
            ],
            "text/html": [
              "<pre style=\"white-space:pre;overflow-x:auto;line-height:normal;font-family:Menlo,'DejaVu Sans Mono',consolas,'Courier New',monospace\"><span style=\"color: #008000; text-decoration-color: #008000\">DEBUG   </span> * Time to generate response:   <span style=\"color: #008080; text-decoration-color: #008080; font-weight: bold\">9.</span>2971s                                                                    \n",
              "</pre>\n"
            ]
          },
          "metadata": {}
        },
        {
          "output_type": "display_data",
          "data": {
            "text/plain": [
              "\u001b[32mDEBUG   \u001b[0m * Tokens per second:           \u001b[1;36m0.0000\u001b[0m tokens/s                                                            \n"
            ],
            "text/html": [
              "<pre style=\"white-space:pre;overflow-x:auto;line-height:normal;font-family:Menlo,'DejaVu Sans Mono',consolas,'Courier New',monospace\"><span style=\"color: #008000; text-decoration-color: #008000\">DEBUG   </span> * Tokens per second:           <span style=\"color: #008080; text-decoration-color: #008080; font-weight: bold\">0.0000</span> tokens/s                                                            \n",
              "</pre>\n"
            ]
          },
          "metadata": {}
        },
        {
          "output_type": "display_data",
          "data": {
            "text/plain": [
              "\u001b[32mDEBUG   \u001b[0m * Input tokens:                \u001b[1;36m0\u001b[0m                                                                          \n"
            ],
            "text/html": [
              "<pre style=\"white-space:pre;overflow-x:auto;line-height:normal;font-family:Menlo,'DejaVu Sans Mono',consolas,'Courier New',monospace\"><span style=\"color: #008000; text-decoration-color: #008000\">DEBUG   </span> * Input tokens:                <span style=\"color: #008080; text-decoration-color: #008080; font-weight: bold\">0</span>                                                                          \n",
              "</pre>\n"
            ]
          },
          "metadata": {}
        },
        {
          "output_type": "display_data",
          "data": {
            "text/plain": [
              "\u001b[32mDEBUG   \u001b[0m * Output tokens:               \u001b[1;36m421\u001b[0m                                                                        \n"
            ],
            "text/html": [
              "<pre style=\"white-space:pre;overflow-x:auto;line-height:normal;font-family:Menlo,'DejaVu Sans Mono',consolas,'Courier New',monospace\"><span style=\"color: #008000; text-decoration-color: #008000\">DEBUG   </span> * Output tokens:               <span style=\"color: #008080; text-decoration-color: #008080; font-weight: bold\">421</span>                                                                        \n",
              "</pre>\n"
            ]
          },
          "metadata": {}
        },
        {
          "output_type": "display_data",
          "data": {
            "text/plain": [
              "\u001b[32mDEBUG   \u001b[0m * Total tokens:                \u001b[1;36m0\u001b[0m                                                                          \n"
            ],
            "text/html": [
              "<pre style=\"white-space:pre;overflow-x:auto;line-height:normal;font-family:Menlo,'DejaVu Sans Mono',consolas,'Courier New',monospace\"><span style=\"color: #008000; text-decoration-color: #008000\">DEBUG   </span> * Total tokens:                <span style=\"color: #008080; text-decoration-color: #008080; font-weight: bold\">0</span>                                                                          \n",
              "</pre>\n"
            ]
          },
          "metadata": {}
        },
        {
          "output_type": "display_data",
          "data": {
            "text/plain": [
              "\u001b[32mDEBUG   \u001b[0m **************** METRICS END ******************                                                           \n"
            ],
            "text/html": [
              "<pre style=\"white-space:pre;overflow-x:auto;line-height:normal;font-family:Menlo,'DejaVu Sans Mono',consolas,'Courier New',monospace\"><span style=\"color: #008000; text-decoration-color: #008000\">DEBUG   </span> **************** METRICS END ******************                                                           \n",
              "</pre>\n"
            ]
          },
          "metadata": {}
        },
        {
          "output_type": "display_data",
          "data": {
            "text/plain": [
              "\u001b[32mDEBUG   \u001b[0m ---------- Groq Response End ----------                                                                   \n"
            ],
            "text/html": [
              "<pre style=\"white-space:pre;overflow-x:auto;line-height:normal;font-family:Menlo,'DejaVu Sans Mono',consolas,'Courier New',monospace\"><span style=\"color: #008000; text-decoration-color: #008000\">DEBUG   </span> ---------- Groq Response End ----------                                                                   \n",
              "</pre>\n"
            ]
          },
          "metadata": {}
        },
        {
          "output_type": "display_data",
          "data": {
            "text/plain": [
              "\u001b[32mDEBUG   \u001b[0m ---------- Groq Response End ----------                                                                   \n"
            ],
            "text/html": [
              "<pre style=\"white-space:pre;overflow-x:auto;line-height:normal;font-family:Menlo,'DejaVu Sans Mono',consolas,'Courier New',monospace\"><span style=\"color: #008000; text-decoration-color: #008000\">DEBUG   </span> ---------- Groq Response End ----------                                                                   \n",
              "</pre>\n"
            ]
          },
          "metadata": {}
        },
        {
          "output_type": "display_data",
          "data": {
            "text/plain": [
              "\u001b[32mDEBUG   \u001b[0m Added \u001b[1;36m5\u001b[0m Messages to AgentMemory                                                                           \n"
            ],
            "text/html": [
              "<pre style=\"white-space:pre;overflow-x:auto;line-height:normal;font-family:Menlo,'DejaVu Sans Mono',consolas,'Courier New',monospace\"><span style=\"color: #008000; text-decoration-color: #008000\">DEBUG   </span> Added <span style=\"color: #008080; text-decoration-color: #008080; font-weight: bold\">5</span> Messages to AgentMemory                                                                           \n",
              "</pre>\n"
            ]
          },
          "metadata": {}
        },
        {
          "output_type": "display_data",
          "data": {
            "text/plain": [
              "\u001b[32mDEBUG   \u001b[0m Added AgentRun to AgentMemory                                                                             \n"
            ],
            "text/html": [
              "<pre style=\"white-space:pre;overflow-x:auto;line-height:normal;font-family:Menlo,'DejaVu Sans Mono',consolas,'Courier New',monospace\"><span style=\"color: #008000; text-decoration-color: #008000\">DEBUG   </span> Added AgentRun to AgentMemory                                                                             \n",
              "</pre>\n"
            ]
          },
          "metadata": {}
        },
        {
          "output_type": "display_data",
          "data": {
            "text/plain": [
              "\u001b[32mDEBUG   \u001b[0m --**-- Logging Agent Run                                                                                  \n"
            ],
            "text/html": [
              "<pre style=\"white-space:pre;overflow-x:auto;line-height:normal;font-family:Menlo,'DejaVu Sans Mono',consolas,'Courier New',monospace\"><span style=\"color: #008000; text-decoration-color: #008000\">DEBUG   </span> --**-- Logging Agent Run                                                                                  \n",
              "</pre>\n"
            ]
          },
          "metadata": {}
        },
        {
          "output_type": "display_data",
          "data": {
            "text/plain": [
              "\u001b[32mDEBUG   \u001b[0m *********** Agent Run End: \u001b[93md58a942e-4abb-4b15-8547-0aa88f77046b\u001b[0m ***********                               \n"
            ],
            "text/html": [
              "<pre style=\"white-space:pre;overflow-x:auto;line-height:normal;font-family:Menlo,'DejaVu Sans Mono',consolas,'Courier New',monospace\"><span style=\"color: #008000; text-decoration-color: #008000\">DEBUG   </span> *********** Agent Run End: <span style=\"color: #ffff00; text-decoration-color: #ffff00\">d58a942e-4abb-4b15-8547-0aa88f77046b</span> ***********                               \n",
              "</pre>\n"
            ]
          },
          "metadata": {}
        },
        {
          "output_type": "display_data",
          "data": {
            "text/plain": [],
            "text/html": [
              "<pre style=\"white-space:pre;overflow-x:auto;line-height:normal;font-family:Menlo,'DejaVu Sans Mono',consolas,'Courier New',monospace\"></pre>\n"
            ]
          },
          "metadata": {}
        }
      ]
    },
    {
      "cell_type": "markdown",
      "source": [
        "# Playground of Agent AI"
      ],
      "metadata": {
        "id": "kF09_5Dn4PrY"
      }
    },
    {
      "cell_type": "code",
      "source": [
        "!pip install \"fastapi[standard]>=0.115.6\" \"uvicorn>=0.34.0\"  sqlalchemy -q"
      ],
      "metadata": {
        "id": "RptGVDxn9lY9"
      },
      "execution_count": 15,
      "outputs": []
    },
    {
      "cell_type": "code",
      "source": [
        "## make a .py file named playground.py"
      ],
      "metadata": {
        "id": "9XtMuJPF-sOq"
      },
      "execution_count": 16,
      "outputs": []
    },
    {
      "cell_type": "code",
      "source": [
        "from phi.agent import Agent\n",
        "from phi.model.groq import Groq\n",
        "from phi.tools.duckduckgo import DuckDuckGo\n",
        "from phi.tools.yfinance import YFinanceTools\n",
        "from phi.storage.agent.sqlite import SqlAgentStorage\n",
        "from phi.playground import Playground, serve_playground_app\n",
        "\n",
        "from dotenv import load_dotenv\n",
        "\n",
        "load_dotenv()\n",
        "\n",
        "web_search_agent = Agent(\n",
        "    name = \"Web Agent\",\n",
        "    description = \"This is the agent for searching content from the web\",\n",
        "    model = Groq(id=\"llama-3.3-70b-versatile\", api_key = api_key),\n",
        "    tools  = [DuckDuckGo()],\n",
        "    instructions = [\"Always include the sources\"],\n",
        "    show_tool_calls = True,\n",
        "    markdown = True,\n",
        "    debug_mode=True\n",
        ")\n",
        "\n",
        "#web_search_agent.print_response(\"What is the capital of Nepal?\", stream=True)\n",
        "\n",
        "finance_agent = Agent(\n",
        "    name=\"Finance Agent\",\n",
        "    description = \"Your task is to find the finance information\",\n",
        "    model = Groq(id=\"llama-3.3-70b-versatile\", api_key = api_key),\n",
        "    tools=[YFinanceTools(stock_price=True, analyst_recommendations=True, company_info=True, company_news=True)],\n",
        "    instructions=[\"Use tables to display data\"],\n",
        "    show_tool_calls=True,\n",
        "    markdown=True,\n",
        "    debug_mode = True\n",
        ")\n",
        "#finance_agent.print_response(\"Summarize analyst recommendations for NVDA\", stream=True)\n",
        "\n",
        "app = Playground(agents=[finance_agent, web_search_agent]).get_app()\n",
        "\n",
        "if __name__ == \"__main__\":\n",
        "    serve_playground_app(\"playground:app\", reload=True)"
      ],
      "metadata": {
        "id": "RQ2mv5sE-91G"
      },
      "execution_count": 17,
      "outputs": []
    },
    {
      "cell_type": "code",
      "source": [
        "### uv run playground.py"
      ],
      "metadata": {
        "id": "DvtMmUUk_BMK"
      },
      "execution_count": 18,
      "outputs": []
    },
    {
      "cell_type": "code",
      "source": [],
      "metadata": {
        "id": "NJmDjV1A_FiW"
      },
      "execution_count": null,
      "outputs": []
    }
  ]
}