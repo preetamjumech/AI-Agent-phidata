{
  "nbformat": 4,
  "nbformat_minor": 0,
  "metadata": {
    "colab": {
      "provenance": [],
      "authorship_tag": "ABX9TyO4rLEmjvUBotyxPckF+CK/",
      "include_colab_link": true
    },
    "kernelspec": {
      "name": "python3",
      "display_name": "Python 3"
    },
    "language_info": {
      "name": "python"
    }
  },
  "cells": [
    {
      "cell_type": "markdown",
      "metadata": {
        "id": "view-in-github",
        "colab_type": "text"
      },
      "source": [
        "<a href=\"https://colab.research.google.com/github/preetamjumech/AI-Agent-phidata/blob/main/Agentic_AI__Video_Summarizer_06_01_2025.ipynb\" target=\"_parent\"><img src=\"https://colab.research.google.com/assets/colab-badge.svg\" alt=\"Open In Colab\"/></a>"
      ]
    },
    {
      "cell_type": "code",
      "execution_count": 66,
      "metadata": {
        "id": "RDSAPN8aOiRS"
      },
      "outputs": [],
      "source": [
        "!pip install phidata google-generativeai duckduckgo-search groq  opencv-python -q"
      ]
    },
    {
      "cell_type": "code",
      "source": [
        "from phi.agent import Agent\n",
        "from phi.model.groq import Groq\n",
        "from phi.tools.duckduckgo import DuckDuckGo\n",
        "from google.generativeai import upload_file,get_file\n",
        "import cv2"
      ],
      "metadata": {
        "id": "lgFMf3ClPq3J"
      },
      "execution_count": 67,
      "outputs": []
    },
    {
      "cell_type": "code",
      "source": [
        "import time\n",
        "from pathlib import Path\n",
        "\n",
        "import tempfile"
      ],
      "metadata": {
        "id": "PbSzS1-kP6qq"
      },
      "execution_count": 3,
      "outputs": []
    },
    {
      "cell_type": "code",
      "source": [
        "api_key = userdata.get('GROQ_API_KEY')"
      ],
      "metadata": {
        "id": "MlU7r1zolD1Z"
      },
      "execution_count": 71,
      "outputs": []
    },
    {
      "cell_type": "code",
      "source": [
        "def initialize_agent():\n",
        "  return Agent( name=\"Video AI Summarizer\",\n",
        "                model=Groq(id=\"llama-3.3-70b-versatile\", api_key = api_key),\n",
        "                tools=[DuckDuckGo()],\n",
        "                markdown=True, )\n"
      ],
      "metadata": {
        "id": "y2vHSVV8P6vg"
      },
      "execution_count": 64,
      "outputs": []
    },
    {
      "cell_type": "code",
      "source": [
        "multimodal_Agent = initialize_agent()"
      ],
      "metadata": {
        "id": "01lM0T57P6x6"
      },
      "execution_count": 65,
      "outputs": []
    },
    {
      "cell_type": "code",
      "source": [
        "def analyze_video(video_path, user_query):\n",
        "    try:\n",
        "        # Load video using OpenCV\n",
        "        cap = cv2.VideoCapture(video_path)\n",
        "        if not cap.isOpened():\n",
        "            return \"Error: Unable to open video file.\"\n",
        "\n",
        "        # Extract frames from the video\n",
        "        frames = []\n",
        "        while cap.isOpened():\n",
        "            ret, frame = cap.read()\n",
        "            if not ret:\n",
        "                break\n",
        "            frames.append(frame)\n",
        "\n",
        "        cap.release()\n",
        "\n",
        "        # Placeholder for AI model analysis\n",
        "        analysis_prompt = f\"\"\"\n",
        "        Analyze the uploaded video for content and context.\n",
        "        Respond to the following query using video insights and supplementary web research:\n",
        "        {user_query}\n",
        "\n",
        "        Provide a detailed, user-friendly, and actionable response.\n",
        "        \"\"\"\n",
        "\n",
        "        # AI agent processing\n",
        "        response = multimodal_Agent.run(analysis_prompt, videos=[video_path])\n",
        "\n",
        "        return response.content\n",
        "\n",
        "    except Exception as error:\n",
        "        return f\"An error occurred during analysis: {error}\"\n",
        "\n",
        "    finally:\n",
        "        # Clean up temporary video file\n",
        "        Path(video_path).unlink(missing_ok=True)"
      ],
      "metadata": {
        "id": "msaq9Ig2kWOi"
      },
      "execution_count": 68,
      "outputs": []
    },
    {
      "cell_type": "code",
      "source": [
        "video_path = \"/content/video.mp4\" # Replace with your video file path\n",
        "user_query = \"What insights are you seeking from the video?\" # Replace with your actual query\n",
        "result = analyze_video(video_path, user_query)\n",
        "print(result)"
      ],
      "metadata": {
        "colab": {
          "base_uri": "https://localhost:8080/"
        },
        "id": "A5blX-65RdHg",
        "outputId": "ea4d88fc-f66f-48df-d85e-f9e43b2e3297"
      },
      "execution_count": 72,
      "outputs": [
        {
          "output_type": "stream",
          "name": "stdout",
          "text": [
            "The insights being sought from the video can be divided into several categories, including:\n",
            "\n",
            "1. **Motion detection**: This involves detecting and tracking movement within the video, which can be useful for applications such as security surveillance or sports analysis.\n",
            "2. **Object detection**: This involves identifying and classifying objects within the video, such as people, animals, or vehicles.\n",
            "3. **Facial recognition**: This involves identifying and recognizing individuals within the video, which can be useful for applications such as security or marketing.\n",
            "4. **Emotion detection**: This involves analyzing the emotions and sentiments expressed by individuals within the video, which can be useful for applications such as customer service or market research.\n",
            "5. **Activity recognition**: This involves identifying and recognizing specific activities or behaviors within the video, such as exercising or cooking.\n",
            "6. **Image processing**: This involves enhancing the quality of the video and preparing it for analysis, which can include adjustments to brightness, contrast, and noise reduction.\n",
            "7. **Content analysis**: This involves analyzing the content of the video, including the themes, topics, and messages being conveyed.\n",
            "\n",
            "These insights can be obtained using a variety of techniques, including machine learning algorithms, computer vision, and natural language processing. The specific techniques used will depend on the application and the goals of the analysis.\n",
            "\n",
            "Some of the key applications of video analysis include:\n",
            "\n",
            "1. **Security surveillance**: Video analysis can be used to detect and prevent criminal activity, such as intruders or suspicious behavior.\n",
            "2. **Sports analysis**: Video analysis can be used to improve athletic performance, by analyzing technique and providing feedback to coaches and athletes.\n",
            "3. **Marketing**: Video analysis can be used to analyze customer behavior and preferences, and to provide insights for marketing campaigns.\n",
            "4. **Customer service**: Video analysis can be used to analyze customer interactions and provide insights for improving customer service.\n",
            "5. **Healthcare**: Video analysis can be used to analyze medical images and provide insights for diagnosis and treatment.\n",
            "\n",
            "Overall, video analysis has a wide range of applications and can provide valuable insights for a variety of industries and use cases.\n"
          ]
        }
      ]
    },
    {
      "cell_type": "code",
      "source": [
        "from google.colab import userdata\n",
        "from IPython.display import HTML, display\n",
        "\n",
        "\n",
        "api_key = userdata.get('GROQ_API_KEY')\n",
        "\n",
        "\n",
        "from phi.agent import Agent\n",
        "from phi.model.groq import Groq\n",
        "\n",
        "agent = Agent(\n",
        "    model=Groq(id=\"llama-3.3-70b-versatile\", api_key = api_key)\n",
        ")\n",
        "\n",
        "# agent.print_response(\"Share a 2 sentence love story between dosa and samosa\")\n",
        "response = agent.run(\"What are the limitaions of generative ai in production?\")\n",
        "content = response.content\n",
        "\n",
        "\n",
        "display(HTML(f\"{content}\"))"
      ],
      "metadata": {
        "colab": {
          "base_uri": "https://localhost:8080/",
          "height": 260
        },
        "id": "N2sS6JvARdOw",
        "outputId": "450ba304-7c31-4508-fcfa-2078e83a10db"
      },
      "execution_count": 55,
      "outputs": [
        {
          "output_type": "display_data",
          "data": {
            "text/plain": [
              "<IPython.core.display.HTML object>"
            ],
            "text/html": [
              "Generative AI has made tremendous progress in recent years, but it still has several limitations when it comes to production environments. Here are some of the key limitations:\n",
              "\n",
              "1. **Data Quality and Availability**: Generative AI models require large amounts of high-quality data to learn and generate realistic outputs. However, in many cases, the data may be scarce, biased, or of poor quality, which can limit the model's performance.\n",
              "2. **Mode Collapse**: Generative AI models, especially GANs (Generative Adversarial Networks), can suffer from mode collapse, where the model produces limited variations of the same output, instead of exploring the full range of possibilities.\n",
              "3. **Lack of Control and Explainability**: Generative AI models can be difficult to control and interpret, making it challenging to understand why a particular output was generated. This lack of explainability and control can make it hard to debug and fine-tune the model.\n",
              "4. **Unrealistic or Unwanted Outputs**: Generative AI models can produce outputs that are unrealistic, unwanted, or even offensive. This can be a major concern in production environments, where the outputs need to be reliable and trustworthy.\n",
              "5. **Computational Resources**: Training and deploying generative AI models can require significant computational resources, including powerful GPUs, large amounts of memory, and substantial storage. This can be a limiting factor in production environments, where resources may be constrained.\n",
              "6. **Adversarial Attacks**: Generative AI models can be vulnerable to adversarial attacks, which can manipulate the input data to produce unwanted or misleading outputs.\n",
              "7. **Copyright and Ownership Issues**: Generative AI models can raise copyright and ownership issues, particularly when they are used to generate creative content, such as music, art, or writing.\n",
              "8. **Bias and Fairness**: Generative AI models can perpetuate biases and unfairness present in the training data, which can result in discriminatory or unfair outputs.\n",
              "9. **Lack of Standardization**: There is currently a lack of standardization in generative AI, which can make it difficult to compare and evaluate different models, and to develop robust and reliable production-ready systems.\n",
              "10. **Maintenance and Updates**: Generative AI models can require significant maintenance and updates to ensure they remain accurate and effective over time. This can be a challenging task, particularly in production environments where the model needs to be updated frequently.\n",
              "\n",
              "To overcome these limitations, researchers and developers are exploring various techniques, such as:\n",
              "\n",
              "1. **Improving data quality and availability**\n",
              "2. **Developing more robust and explainable models**\n",
              "3. **Implementing control mechanisms and feedback loops**\n",
              "4. **Using techniques such as data augmentation and transfer learning**\n",
              "5. **Developing more efficient and scalable algorithms**\n",
              "6. **Implementing security measures to prevent adversarial attacks**\n",
              "7. **Establishing standards and guidelines for generative AI development and deployment**\n",
              "\n",
              "By addressing these limitations and challenges, we can unlock the full potential of generative AI in production environments and develop more reliable, efficient, and effective systems."
            ]
          },
          "metadata": {}
        }
      ]
    },
    {
      "cell_type": "code",
      "source": [
        "print(content)"
      ],
      "metadata": {
        "colab": {
          "base_uri": "https://localhost:8080/"
        },
        "id": "U4nQw9F-RdRn",
        "outputId": "a5a2830d-4974-4249-b060-fd8f736abe74"
      },
      "execution_count": 56,
      "outputs": [
        {
          "output_type": "stream",
          "name": "stdout",
          "text": [
            "Generative AI has made tremendous progress in recent years, but it still has several limitations when it comes to production environments. Here are some of the key limitations:\n",
            "\n",
            "1. **Data Quality and Availability**: Generative AI models require large amounts of high-quality data to learn and generate realistic outputs. However, in many cases, the data may be scarce, biased, or of poor quality, which can limit the model's performance.\n",
            "2. **Mode Collapse**: Generative AI models, especially GANs (Generative Adversarial Networks), can suffer from mode collapse, where the model produces limited variations of the same output, instead of exploring the full range of possibilities.\n",
            "3. **Lack of Control and Explainability**: Generative AI models can be difficult to control and interpret, making it challenging to understand why a particular output was generated. This lack of explainability and control can make it hard to debug and fine-tune the model.\n",
            "4. **Unrealistic or Unwanted Outputs**: Generative AI models can produce outputs that are unrealistic, unwanted, or even offensive. This can be a major concern in production environments, where the outputs need to be reliable and trustworthy.\n",
            "5. **Computational Resources**: Training and deploying generative AI models can require significant computational resources, including powerful GPUs, large amounts of memory, and substantial storage. This can be a limiting factor in production environments, where resources may be constrained.\n",
            "6. **Adversarial Attacks**: Generative AI models can be vulnerable to adversarial attacks, which can manipulate the input data to produce unwanted or misleading outputs.\n",
            "7. **Copyright and Ownership Issues**: Generative AI models can raise copyright and ownership issues, particularly when they are used to generate creative content, such as music, art, or writing.\n",
            "8. **Bias and Fairness**: Generative AI models can perpetuate biases and unfairness present in the training data, which can result in discriminatory or unfair outputs.\n",
            "9. **Lack of Standardization**: There is currently a lack of standardization in generative AI, which can make it difficult to compare and evaluate different models, and to develop robust and reliable production-ready systems.\n",
            "10. **Maintenance and Updates**: Generative AI models can require significant maintenance and updates to ensure they remain accurate and effective over time. This can be a challenging task, particularly in production environments where the model needs to be updated frequently.\n",
            "\n",
            "To overcome these limitations, researchers and developers are exploring various techniques, such as:\n",
            "\n",
            "1. **Improving data quality and availability**\n",
            "2. **Developing more robust and explainable models**\n",
            "3. **Implementing control mechanisms and feedback loops**\n",
            "4. **Using techniques such as data augmentation and transfer learning**\n",
            "5. **Developing more efficient and scalable algorithms**\n",
            "6. **Implementing security measures to prevent adversarial attacks**\n",
            "7. **Establishing standards and guidelines for generative AI development and deployment**\n",
            "\n",
            "By addressing these limitations and challenges, we can unlock the full potential of generative AI in production environments and develop more reliable, efficient, and effective systems.\n"
          ]
        }
      ]
    },
    {
      "cell_type": "code",
      "source": [],
      "metadata": {
        "id": "vXl5vwoEhlab"
      },
      "execution_count": null,
      "outputs": []
    }
  ]
}