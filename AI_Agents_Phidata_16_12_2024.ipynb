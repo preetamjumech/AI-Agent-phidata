{
  "nbformat": 4,
  "nbformat_minor": 0,
  "metadata": {
    "colab": {
      "provenance": [],
      "authorship_tag": "ABX9TyNeKRFLfYClAEKsP83FoIV3",
      "include_colab_link": true
    },
    "kernelspec": {
      "name": "python3",
      "display_name": "Python 3"
    },
    "language_info": {
      "name": "python"
    },
    "widgets": {
      "application/vnd.jupyter.widget-state+json": {
        "9e488c48b4b14d71ab06d2dffd3ac829": {
          "model_module": "@jupyter-widgets/output",
          "model_name": "OutputModel",
          "model_module_version": "1.0.0",
          "state": {
            "_dom_classes": [],
            "_model_module": "@jupyter-widgets/output",
            "_model_module_version": "1.0.0",
            "_model_name": "OutputModel",
            "_view_count": null,
            "_view_module": "@jupyter-widgets/output",
            "_view_module_version": "1.0.0",
            "_view_name": "OutputView",
            "layout": "IPY_MODEL_5567d047af4b4bb9b189476f2d89cc30",
            "msg_id": "",
            "outputs": [
              {
                "output_type": "display_data",
                "data": {
                  "text/plain": "\u001b[32m▰▰▰▱▱▱▱\u001b[0m Thinking...\n\u001b[36m┏━\u001b[0m\u001b[36m Message \u001b[0m\u001b[36m━━━━━━━━━━━━━━━━━━━━━━━━━━━━━━━━━━━━━━━━━━━━━━━━━━━━━━━━━━━━━━━━━━━━━━━━━━━━━━━━━━━━━━━━━━━━━━━━━━━━━━\u001b[0m\u001b[36m━┓\u001b[0m\n\u001b[36m┃\u001b[0m                                                                                                                 \u001b[36m┃\u001b[0m\n\u001b[36m┃\u001b[0m \u001b[32mSummarize and compare analyst recommendations and fundamentals for TSLA and Phidata. Show in tables.\u001b[0m            \u001b[36m┃\u001b[0m\n\u001b[36m┃\u001b[0m                                                                                                                 \u001b[36m┃\u001b[0m\n\u001b[36m┗━━━━━━━━━━━━━━━━━━━━━━━━━━━━━━━━━━━━━━━━━━━━━━━━━━━━━━━━━━━━━━━━━━━━━━━━━━━━━━━━━━━━━━━━━━━━━━━━━━━━━━━━━━━━━━━━━┛\u001b[0m\n\u001b[34m┏━\u001b[0m\u001b[34m Response (9.3s) \u001b[0m\u001b[34m━━━━━━━━━━━━━━━━━━━━━━━━━━━━━━━━━━━━━━━━━━━━━━━━━━━━━━━━━━━━━━━━━━━━━━━━━━━━━━━━━━━━━━━━━━━━━━\u001b[0m\u001b[34m━┓\u001b[0m\n\u001b[34m┃\u001b[0m                                                                                                                 \u001b[34m┃\u001b[0m\n\u001b[34m┃\u001b[0m                                       \u001b[1mStep 1: Find the symbol for Phidata\u001b[0m                                       \u001b[34m┃\u001b[0m\n\u001b[34m┃\u001b[0m                                                                                                                 \u001b[34m┃\u001b[0m\n\u001b[34m┃\u001b[0m Running:                                                                                                        \u001b[34m┃\u001b[0m\n\u001b[34m┃\u001b[0m                                                                                                                 \u001b[34m┃\u001b[0m\n\u001b[34m┃\u001b[0m \u001b[1;33m • \u001b[0mget_company_symbol(company=Phidata)                                                                          \u001b[34m┃\u001b[0m\n\u001b[34m┃\u001b[0m                                                                                                                 \u001b[34m┃\u001b[0m\n\u001b[34m┃\u001b[0m Phidata is a private company and therefore does not have a stock symbol. I will provide information on TSLA and \u001b[34m┃\u001b[0m\n\u001b[34m┃\u001b[0m MSFT instead.                                                                                                   \u001b[34m┃\u001b[0m\n\u001b[34m┃\u001b[0m                                                                                                                 \u001b[34m┃\u001b[0m\n\u001b[34m┃\u001b[0m                                                  \u001b[1mFundamentals\u001b[0m                                                   \u001b[34m┃\u001b[0m\n\u001b[34m┃\u001b[0m                                                                                                                 \u001b[34m┃\u001b[0m\n\u001b[34m┃\u001b[0m To compare the fundamentals of TSLA and MSFT, we will use the following function:                               \u001b[34m┃\u001b[0m\n\u001b[34m┃\u001b[0m                                                                                                                 \u001b[34m┃\u001b[0m\n\u001b[34m┃\u001b[0m Running:                                                                                                        \u001b[34m┃\u001b[0m\n\u001b[34m┃\u001b[0m                                                                                                                 \u001b[34m┃\u001b[0m\n\u001b[34m┃\u001b[0m \u001b[1;33m • \u001b[0mget_stock_fundamentals(symbol=TSLA)                                                                          \u001b[34m┃\u001b[0m\n\u001b[34m┃\u001b[0m \u001b[1;33m • \u001b[0mget_stock_fundamentals(symbol=MSFT)                                                                          \u001b[34m┃\u001b[0m\n\u001b[34m┃\u001b[0m                                                                                                                 \u001b[34m┃\u001b[0m\n\u001b[34m┃\u001b[0m Running:                                                                                                        \u001b[34m┃\u001b[0m\n\u001b[34m┃\u001b[0m                                                                                                                 \u001b[34m┃\u001b[0m\n\u001b[34m┃\u001b[0m \u001b[1;33m • \u001b[0mget_analyst_recommendations(symbol=TSLA)                                                                     \u001b[34m┃\u001b[0m\n\u001b[34m┃\u001b[0m \u001b[1;33m • \u001b[0mget_analyst_recommendations(symbol=MSFT)                                                                     \u001b[34m┃\u001b[0m\n\u001b[34m┃\u001b[0m                                                                                                                 \u001b[34m┃\u001b[0m\n\u001b[34m┃\u001b[0m                                              \u001b[1mCompany Fundamentals\u001b[0m                                               \u001b[34m┃\u001b[0m\n\u001b[34m┃\u001b[0m                                                                                                                 \u001b[34m┃\u001b[0m\n\u001b[34m┃\u001b[0m                                                                                                                 \u001b[34m┃\u001b[0m\n\u001b[34m┃\u001b[0m  \u001b[1m         \u001b[0m \u001b[1m        \u001b[0m \u001b[1m        \u001b[0m \u001b[1m         \u001b[0m \u001b[1m        \u001b[0m \u001b[1m         \u001b[0m \u001b[1m        \u001b[0m \u001b[1m         \u001b[0m \u001b[1m       \u001b[0m \u001b[1m      \u001b[0m \u001b[1m \u001b[0m\u001b[1m52 \u001b[0m\u001b[1m   \u001b[0m\u001b[1m \u001b[0m \u001b[1m         \u001b[0m  \u001b[34m┃\u001b[0m\n\u001b[34m┃\u001b[0m  \u001b[1m         \u001b[0m \u001b[1m        \u001b[0m \u001b[1m        \u001b[0m \u001b[1m         \u001b[0m \u001b[1m \u001b[0m\u001b[1mMarket\u001b[0m\u001b[1m \u001b[0m \u001b[1m \u001b[0m\u001b[1mPE \u001b[0m\u001b[1m    \u001b[0m\u001b[1m \u001b[0m \u001b[1m \u001b[0m\u001b[1mPB \u001b[0m\u001b[1m   \u001b[0m\u001b[1m \u001b[0m \u001b[1m \u001b[0m\u001b[1mDivide…\u001b[0m\u001b[1m \u001b[0m \u001b[1m       \u001b[0m \u001b[1m      \u001b[0m \u001b[1m \u001b[0m\u001b[1mWeek \u001b[0m\u001b[1m \u001b[0m\u001b[1m \u001b[0m \u001b[1m \u001b[0m\u001b[1m52 Week\u001b[0m\u001b[1m \u001b[0m  \u001b[34m┃\u001b[0m\n\u001b[34m┃\u001b[0m  \u001b[1m \u001b[0m\u001b[1mCompany\u001b[0m\u001b[1m \u001b[0m \u001b[1m \u001b[0m\u001b[1mSymbol\u001b[0m\u001b[1m \u001b[0m \u001b[1m \u001b[0m\u001b[1mSector\u001b[0m\u001b[1m \u001b[0m \u001b[1m \u001b[0m\u001b[1mIndust…\u001b[0m\u001b[1m \u001b[0m \u001b[1m \u001b[0m\u001b[1mCap\u001b[0m\u001b[1m   \u001b[0m\u001b[1m \u001b[0m \u001b[1m \u001b[0m\u001b[1mRatio\u001b[0m\u001b[1m  \u001b[0m\u001b[1m \u001b[0m \u001b[1m \u001b[0m\u001b[1mRatio\u001b[0m\u001b[1m \u001b[0m\u001b[1m \u001b[0m \u001b[1m \u001b[0m\u001b[1mYield\u001b[0m\u001b[1m  \u001b[0m\u001b[1m \u001b[0m \u001b[1m \u001b[0m\u001b[1mEPS\u001b[0m\u001b[1m  \u001b[0m\u001b[1m \u001b[0m \u001b[1m \u001b[0m\u001b[1mBeta\u001b[0m\u001b[1m \u001b[0m \u001b[1m \u001b[0m\u001b[1mHigh\u001b[0m\u001b[1m  \u001b[0m\u001b[1m \u001b[0m \u001b[1m \u001b[0m\u001b[1mLow\u001b[0m\u001b[1m    \u001b[0m\u001b[1m \u001b[0m  \u001b[34m┃\u001b[0m\n\u001b[34m┃\u001b[0m  ━━━━━━━━━━━━━━━━━━━━━━━━━━━━━━━━━━━━━━━━━━━━━━━━━━━━━━━━━━━━━━━━━━━━━━━━━━━━━━━━━━━━━━━━━━━━━━━━━━━━━━━━━━━━━  \u001b[34m┃\u001b[0m\n\u001b[34m┃\u001b[0m   Tesla,    TSLA     Consu…   Auto      1,465…   139.50    20.94    N/A       3.66    2.30   458.97   138.80    \u001b[34m┃\u001b[0m\n\u001b[34m┃\u001b[0m   Inc.               Cycli…   Manufa…                                                                           \u001b[34m┃\u001b[0m\n\u001b[34m┃\u001b[0m   Micros…   MSFT     Techn…   Softwa…   3,331…   29.83     11.58    0.74%     12.12   0.90   468.35   366.50    \u001b[34m┃\u001b[0m\n\u001b[34m┃\u001b[0m   Corpor…                     -                                                                                 \u001b[34m┃\u001b[0m\n\u001b[34m┃\u001b[0m                               Infras…                                                                           \u001b[34m┃\u001b[0m\n\u001b[34m┃\u001b[0m                                                                                                                 \u001b[34m┃\u001b[0m\n\u001b[34m┃\u001b[0m                                                                                                                 \u001b[34m┃\u001b[0m\n\u001b[34m┃\u001b[0m                                             \u001b[1mAnalyst Recommendations\u001b[0m                                             \u001b[34m┃\u001b[0m\n\u001b[34m┃\u001b[0m                                                                                                                 \u001b[34m┃\u001b[0m\n\u001b[34m┃\u001b[0m                                                                                                                 \u001b[34m┃\u001b[0m\n\u001b[34m┃\u001b[0m  \u001b[1m \u001b[0m\u001b[1mCompany\u001b[0m\u001b[1m              \u001b[0m\u001b[1m \u001b[0m \u001b[1m \u001b[0m\u001b[1mSymbol\u001b[0m\u001b[1m \u001b[0m \u001b[1m \u001b[0m\u001b[1mStrong Buy\u001b[0m\u001b[1m \u001b[0m \u001b[1m \u001b[0m\u001b[1mBuy\u001b[0m\u001b[1m \u001b[0m \u001b[1m \u001b[0m\u001b[1mHold\u001b[0m\u001b[1m \u001b[0m \u001b[1m \u001b[0m\u001b[1mSell\u001b[0m\u001b[1m \u001b[0m \u001b[1m \u001b[0m\u001b[1mStrong Sell\u001b[0m\u001b[1m \u001b[0m                                \u001b[34m┃\u001b[0m\n\u001b[34m┃\u001b[0m  ━━━━━━━━━━━━━━━━━━━━━━━━━━━━━━━━━━━━━━━━━━━━━━━━━━━━━━━━━━━━━━━━━━━━━━━━━━━━━━━                                \u001b[34m┃\u001b[0m\n\u001b[34m┃\u001b[0m   Tesla, Inc.             TSLA     6            12    16     8      5                                           \u001b[34m┃\u001b[0m\n\u001b[34m┃\u001b[0m   Microsoft Corporation   MSFT     13           37    5      0      0                                           \u001b[34m┃\u001b[0m\n\u001b[34m┃\u001b[0m                                                                                                                 \u001b[34m┃\u001b[0m\n\u001b[34m┃\u001b[0m                                                                                                                 \u001b[34m┃\u001b[0m\n\u001b[34m┃\u001b[0m Note: The analyst recommendations are based on the current period (0m) data. The fundamentals data is also      \u001b[34m┃\u001b[0m\n\u001b[34m┃\u001b[0m based on the current available data. The dividend yield for Tesla, Inc. is not available (N/A).                 \u001b[34m┃\u001b[0m\n\u001b[34m┃\u001b[0m                                                                                                                 \u001b[34m┃\u001b[0m\n\u001b[34m┗━━━━━━━━━━━━━━━━━━━━━━━━━━━━━━━━━━━━━━━━━━━━━━━━━━━━━━━━━━━━━━━━━━━━━━━━━━━━━━━━━━━━━━━━━━━━━━━━━━━━━━━━━━━━━━━━━┛\u001b[0m\n",
                  "text/html": "<pre style=\"white-space:pre;overflow-x:auto;line-height:normal;font-family:Menlo,'DejaVu Sans Mono',consolas,'Courier New',monospace\"><span style=\"color: #008000; text-decoration-color: #008000\">▰▰▰▱▱▱▱</span> Thinking...\n<span style=\"color: #008080; text-decoration-color: #008080\">┏━ Message ━━━━━━━━━━━━━━━━━━━━━━━━━━━━━━━━━━━━━━━━━━━━━━━━━━━━━━━━━━━━━━━━━━━━━━━━━━━━━━━━━━━━━━━━━━━━━━━━━━━━━━━┓</span>\n<span style=\"color: #008080; text-decoration-color: #008080\">┃</span>                                                                                                                 <span style=\"color: #008080; text-decoration-color: #008080\">┃</span>\n<span style=\"color: #008080; text-decoration-color: #008080\">┃</span> <span style=\"color: #008000; text-decoration-color: #008000\">Summarize and compare analyst recommendations and fundamentals for TSLA and Phidata. Show in tables.</span>            <span style=\"color: #008080; text-decoration-color: #008080\">┃</span>\n<span style=\"color: #008080; text-decoration-color: #008080\">┃</span>                                                                                                                 <span style=\"color: #008080; text-decoration-color: #008080\">┃</span>\n<span style=\"color: #008080; text-decoration-color: #008080\">┗━━━━━━━━━━━━━━━━━━━━━━━━━━━━━━━━━━━━━━━━━━━━━━━━━━━━━━━━━━━━━━━━━━━━━━━━━━━━━━━━━━━━━━━━━━━━━━━━━━━━━━━━━━━━━━━━━┛</span>\n<span style=\"color: #000080; text-decoration-color: #000080\">┏━ Response (9.3s) ━━━━━━━━━━━━━━━━━━━━━━━━━━━━━━━━━━━━━━━━━━━━━━━━━━━━━━━━━━━━━━━━━━━━━━━━━━━━━━━━━━━━━━━━━━━━━━━┓</span>\n<span style=\"color: #000080; text-decoration-color: #000080\">┃</span>                                                                                                                 <span style=\"color: #000080; text-decoration-color: #000080\">┃</span>\n<span style=\"color: #000080; text-decoration-color: #000080\">┃</span>                                       <span style=\"font-weight: bold\">Step 1: Find the symbol for Phidata</span>                                       <span style=\"color: #000080; text-decoration-color: #000080\">┃</span>\n<span style=\"color: #000080; text-decoration-color: #000080\">┃</span>                                                                                                                 <span style=\"color: #000080; text-decoration-color: #000080\">┃</span>\n<span style=\"color: #000080; text-decoration-color: #000080\">┃</span> Running:                                                                                                        <span style=\"color: #000080; text-decoration-color: #000080\">┃</span>\n<span style=\"color: #000080; text-decoration-color: #000080\">┃</span>                                                                                                                 <span style=\"color: #000080; text-decoration-color: #000080\">┃</span>\n<span style=\"color: #000080; text-decoration-color: #000080\">┃</span> <span style=\"color: #808000; text-decoration-color: #808000; font-weight: bold\"> • </span>get_company_symbol(company=Phidata)                                                                          <span style=\"color: #000080; text-decoration-color: #000080\">┃</span>\n<span style=\"color: #000080; text-decoration-color: #000080\">┃</span>                                                                                                                 <span style=\"color: #000080; text-decoration-color: #000080\">┃</span>\n<span style=\"color: #000080; text-decoration-color: #000080\">┃</span> Phidata is a private company and therefore does not have a stock symbol. I will provide information on TSLA and <span style=\"color: #000080; text-decoration-color: #000080\">┃</span>\n<span style=\"color: #000080; text-decoration-color: #000080\">┃</span> MSFT instead.                                                                                                   <span style=\"color: #000080; text-decoration-color: #000080\">┃</span>\n<span style=\"color: #000080; text-decoration-color: #000080\">┃</span>                                                                                                                 <span style=\"color: #000080; text-decoration-color: #000080\">┃</span>\n<span style=\"color: #000080; text-decoration-color: #000080\">┃</span>                                                  <span style=\"font-weight: bold\">Fundamentals</span>                                                   <span style=\"color: #000080; text-decoration-color: #000080\">┃</span>\n<span style=\"color: #000080; text-decoration-color: #000080\">┃</span>                                                                                                                 <span style=\"color: #000080; text-decoration-color: #000080\">┃</span>\n<span style=\"color: #000080; text-decoration-color: #000080\">┃</span> To compare the fundamentals of TSLA and MSFT, we will use the following function:                               <span style=\"color: #000080; text-decoration-color: #000080\">┃</span>\n<span style=\"color: #000080; text-decoration-color: #000080\">┃</span>                                                                                                                 <span style=\"color: #000080; text-decoration-color: #000080\">┃</span>\n<span style=\"color: #000080; text-decoration-color: #000080\">┃</span> Running:                                                                                                        <span style=\"color: #000080; text-decoration-color: #000080\">┃</span>\n<span style=\"color: #000080; text-decoration-color: #000080\">┃</span>                                                                                                                 <span style=\"color: #000080; text-decoration-color: #000080\">┃</span>\n<span style=\"color: #000080; text-decoration-color: #000080\">┃</span> <span style=\"color: #808000; text-decoration-color: #808000; font-weight: bold\"> • </span>get_stock_fundamentals(symbol=TSLA)                                                                          <span style=\"color: #000080; text-decoration-color: #000080\">┃</span>\n<span style=\"color: #000080; text-decoration-color: #000080\">┃</span> <span style=\"color: #808000; text-decoration-color: #808000; font-weight: bold\"> • </span>get_stock_fundamentals(symbol=MSFT)                                                                          <span style=\"color: #000080; text-decoration-color: #000080\">┃</span>\n<span style=\"color: #000080; text-decoration-color: #000080\">┃</span>                                                                                                                 <span style=\"color: #000080; text-decoration-color: #000080\">┃</span>\n<span style=\"color: #000080; text-decoration-color: #000080\">┃</span> Running:                                                                                                        <span style=\"color: #000080; text-decoration-color: #000080\">┃</span>\n<span style=\"color: #000080; text-decoration-color: #000080\">┃</span>                                                                                                                 <span style=\"color: #000080; text-decoration-color: #000080\">┃</span>\n<span style=\"color: #000080; text-decoration-color: #000080\">┃</span> <span style=\"color: #808000; text-decoration-color: #808000; font-weight: bold\"> • </span>get_analyst_recommendations(symbol=TSLA)                                                                     <span style=\"color: #000080; text-decoration-color: #000080\">┃</span>\n<span style=\"color: #000080; text-decoration-color: #000080\">┃</span> <span style=\"color: #808000; text-decoration-color: #808000; font-weight: bold\"> • </span>get_analyst_recommendations(symbol=MSFT)                                                                     <span style=\"color: #000080; text-decoration-color: #000080\">┃</span>\n<span style=\"color: #000080; text-decoration-color: #000080\">┃</span>                                                                                                                 <span style=\"color: #000080; text-decoration-color: #000080\">┃</span>\n<span style=\"color: #000080; text-decoration-color: #000080\">┃</span>                                              <span style=\"font-weight: bold\">Company Fundamentals</span>                                               <span style=\"color: #000080; text-decoration-color: #000080\">┃</span>\n<span style=\"color: #000080; text-decoration-color: #000080\">┃</span>                                                                                                                 <span style=\"color: #000080; text-decoration-color: #000080\">┃</span>\n<span style=\"color: #000080; text-decoration-color: #000080\">┃</span>                                                                                                                 <span style=\"color: #000080; text-decoration-color: #000080\">┃</span>\n<span style=\"color: #000080; text-decoration-color: #000080\">┃</span>  <span style=\"font-weight: bold\">         </span> <span style=\"font-weight: bold\">        </span> <span style=\"font-weight: bold\">        </span> <span style=\"font-weight: bold\">         </span> <span style=\"font-weight: bold\">        </span> <span style=\"font-weight: bold\">         </span> <span style=\"font-weight: bold\">        </span> <span style=\"font-weight: bold\">         </span> <span style=\"font-weight: bold\">       </span> <span style=\"font-weight: bold\">      </span> <span style=\"font-weight: bold\"> 52     </span> <span style=\"font-weight: bold\">         </span>  <span style=\"color: #000080; text-decoration-color: #000080\">┃</span>\n<span style=\"color: #000080; text-decoration-color: #000080\">┃</span>  <span style=\"font-weight: bold\">         </span> <span style=\"font-weight: bold\">        </span> <span style=\"font-weight: bold\">        </span> <span style=\"font-weight: bold\">         </span> <span style=\"font-weight: bold\"> Market </span> <span style=\"font-weight: bold\"> PE      </span> <span style=\"font-weight: bold\"> PB     </span> <span style=\"font-weight: bold\"> Divide… </span> <span style=\"font-weight: bold\">       </span> <span style=\"font-weight: bold\">      </span> <span style=\"font-weight: bold\"> Week   </span> <span style=\"font-weight: bold\"> 52 Week </span>  <span style=\"color: #000080; text-decoration-color: #000080\">┃</span>\n<span style=\"color: #000080; text-decoration-color: #000080\">┃</span>  <span style=\"font-weight: bold\"> Company </span> <span style=\"font-weight: bold\"> Symbol </span> <span style=\"font-weight: bold\"> Sector </span> <span style=\"font-weight: bold\"> Indust… </span> <span style=\"font-weight: bold\"> Cap    </span> <span style=\"font-weight: bold\"> Ratio   </span> <span style=\"font-weight: bold\"> Ratio  </span> <span style=\"font-weight: bold\"> Yield   </span> <span style=\"font-weight: bold\"> EPS   </span> <span style=\"font-weight: bold\"> Beta </span> <span style=\"font-weight: bold\"> High   </span> <span style=\"font-weight: bold\"> Low     </span>  <span style=\"color: #000080; text-decoration-color: #000080\">┃</span>\n<span style=\"color: #000080; text-decoration-color: #000080\">┃</span>  ━━━━━━━━━━━━━━━━━━━━━━━━━━━━━━━━━━━━━━━━━━━━━━━━━━━━━━━━━━━━━━━━━━━━━━━━━━━━━━━━━━━━━━━━━━━━━━━━━━━━━━━━━━━━━  <span style=\"color: #000080; text-decoration-color: #000080\">┃</span>\n<span style=\"color: #000080; text-decoration-color: #000080\">┃</span>   Tesla,    TSLA     Consu…   Auto      1,465…   139.50    20.94    N/A       3.66    2.30   458.97   138.80    <span style=\"color: #000080; text-decoration-color: #000080\">┃</span>\n<span style=\"color: #000080; text-decoration-color: #000080\">┃</span>   Inc.               Cycli…   Manufa…                                                                           <span style=\"color: #000080; text-decoration-color: #000080\">┃</span>\n<span style=\"color: #000080; text-decoration-color: #000080\">┃</span>   Micros…   MSFT     Techn…   Softwa…   3,331…   29.83     11.58    0.74%     12.12   0.90   468.35   366.50    <span style=\"color: #000080; text-decoration-color: #000080\">┃</span>\n<span style=\"color: #000080; text-decoration-color: #000080\">┃</span>   Corpor…                     -                                                                                 <span style=\"color: #000080; text-decoration-color: #000080\">┃</span>\n<span style=\"color: #000080; text-decoration-color: #000080\">┃</span>                               Infras…                                                                           <span style=\"color: #000080; text-decoration-color: #000080\">┃</span>\n<span style=\"color: #000080; text-decoration-color: #000080\">┃</span>                                                                                                                 <span style=\"color: #000080; text-decoration-color: #000080\">┃</span>\n<span style=\"color: #000080; text-decoration-color: #000080\">┃</span>                                                                                                                 <span style=\"color: #000080; text-decoration-color: #000080\">┃</span>\n<span style=\"color: #000080; text-decoration-color: #000080\">┃</span>                                             <span style=\"font-weight: bold\">Analyst Recommendations</span>                                             <span style=\"color: #000080; text-decoration-color: #000080\">┃</span>\n<span style=\"color: #000080; text-decoration-color: #000080\">┃</span>                                                                                                                 <span style=\"color: #000080; text-decoration-color: #000080\">┃</span>\n<span style=\"color: #000080; text-decoration-color: #000080\">┃</span>                                                                                                                 <span style=\"color: #000080; text-decoration-color: #000080\">┃</span>\n<span style=\"color: #000080; text-decoration-color: #000080\">┃</span>  <span style=\"font-weight: bold\"> Company               </span> <span style=\"font-weight: bold\"> Symbol </span> <span style=\"font-weight: bold\"> Strong Buy </span> <span style=\"font-weight: bold\"> Buy </span> <span style=\"font-weight: bold\"> Hold </span> <span style=\"font-weight: bold\"> Sell </span> <span style=\"font-weight: bold\"> Strong Sell </span>                                <span style=\"color: #000080; text-decoration-color: #000080\">┃</span>\n<span style=\"color: #000080; text-decoration-color: #000080\">┃</span>  ━━━━━━━━━━━━━━━━━━━━━━━━━━━━━━━━━━━━━━━━━━━━━━━━━━━━━━━━━━━━━━━━━━━━━━━━━━━━━━━                                <span style=\"color: #000080; text-decoration-color: #000080\">┃</span>\n<span style=\"color: #000080; text-decoration-color: #000080\">┃</span>   Tesla, Inc.             TSLA     6            12    16     8      5                                           <span style=\"color: #000080; text-decoration-color: #000080\">┃</span>\n<span style=\"color: #000080; text-decoration-color: #000080\">┃</span>   Microsoft Corporation   MSFT     13           37    5      0      0                                           <span style=\"color: #000080; text-decoration-color: #000080\">┃</span>\n<span style=\"color: #000080; text-decoration-color: #000080\">┃</span>                                                                                                                 <span style=\"color: #000080; text-decoration-color: #000080\">┃</span>\n<span style=\"color: #000080; text-decoration-color: #000080\">┃</span>                                                                                                                 <span style=\"color: #000080; text-decoration-color: #000080\">┃</span>\n<span style=\"color: #000080; text-decoration-color: #000080\">┃</span> Note: The analyst recommendations are based on the current period (0m) data. The fundamentals data is also      <span style=\"color: #000080; text-decoration-color: #000080\">┃</span>\n<span style=\"color: #000080; text-decoration-color: #000080\">┃</span> based on the current available data. The dividend yield for Tesla, Inc. is not available (N/A).                 <span style=\"color: #000080; text-decoration-color: #000080\">┃</span>\n<span style=\"color: #000080; text-decoration-color: #000080\">┃</span>                                                                                                                 <span style=\"color: #000080; text-decoration-color: #000080\">┃</span>\n<span style=\"color: #000080; text-decoration-color: #000080\">┗━━━━━━━━━━━━━━━━━━━━━━━━━━━━━━━━━━━━━━━━━━━━━━━━━━━━━━━━━━━━━━━━━━━━━━━━━━━━━━━━━━━━━━━━━━━━━━━━━━━━━━━━━━━━━━━━━┛</span>\n</pre>\n"
                },
                "metadata": {}
              }
            ]
          }
        },
        "5567d047af4b4bb9b189476f2d89cc30": {
          "model_module": "@jupyter-widgets/base",
          "model_name": "LayoutModel",
          "model_module_version": "1.2.0",
          "state": {
            "_model_module": "@jupyter-widgets/base",
            "_model_module_version": "1.2.0",
            "_model_name": "LayoutModel",
            "_view_count": null,
            "_view_module": "@jupyter-widgets/base",
            "_view_module_version": "1.2.0",
            "_view_name": "LayoutView",
            "align_content": null,
            "align_items": null,
            "align_self": null,
            "border": null,
            "bottom": null,
            "display": null,
            "flex": null,
            "flex_flow": null,
            "grid_area": null,
            "grid_auto_columns": null,
            "grid_auto_flow": null,
            "grid_auto_rows": null,
            "grid_column": null,
            "grid_gap": null,
            "grid_row": null,
            "grid_template_areas": null,
            "grid_template_columns": null,
            "grid_template_rows": null,
            "height": null,
            "justify_content": null,
            "justify_items": null,
            "left": null,
            "margin": null,
            "max_height": null,
            "max_width": null,
            "min_height": null,
            "min_width": null,
            "object_fit": null,
            "object_position": null,
            "order": null,
            "overflow": null,
            "overflow_x": null,
            "overflow_y": null,
            "padding": null,
            "right": null,
            "top": null,
            "visibility": null,
            "width": null
          }
        },
        "1fc7745ad9774f5a9247a195f9c5d592": {
          "model_module": "@jupyter-widgets/output",
          "model_name": "OutputModel",
          "model_module_version": "1.0.0",
          "state": {
            "_dom_classes": [],
            "_model_module": "@jupyter-widgets/output",
            "_model_module_version": "1.0.0",
            "_model_name": "OutputModel",
            "_view_count": null,
            "_view_module": "@jupyter-widgets/output",
            "_view_module_version": "1.0.0",
            "_view_name": "OutputView",
            "layout": "IPY_MODEL_a84f59ee259a4eed989010f3307b562d",
            "msg_id": "",
            "outputs": [
              {
                "output_type": "display_data",
                "data": {
                  "text/plain": "\u001b[32m▰▰▰▱▱▱▱\u001b[0m Thinking...\n\u001b[36m┏━\u001b[0m\u001b[36m Message \u001b[0m\u001b[36m━━━━━━━━━━━━━━━━━━━━━━━━━━━━━━━━━━━━━━━━━━━━━━━━━━━━━━━━━━━━━━━━━━━━━━━━━━━━━━━━━━━━━━━━━━━━━━━━━━━━━━\u001b[0m\u001b[36m━┓\u001b[0m\n\u001b[36m┃\u001b[0m                                                                                                                 \u001b[36m┃\u001b[0m\n\u001b[36m┃\u001b[0m \u001b[32mSummarize analyst recommendations and share the latest news for NVDA\u001b[0m                                            \u001b[36m┃\u001b[0m\n\u001b[36m┃\u001b[0m                                                                                                                 \u001b[36m┃\u001b[0m\n\u001b[36m┗━━━━━━━━━━━━━━━━━━━━━━━━━━━━━━━━━━━━━━━━━━━━━━━━━━━━━━━━━━━━━━━━━━━━━━━━━━━━━━━━━━━━━━━━━━━━━━━━━━━━━━━━━━━━━━━━━┛\u001b[0m\n\u001b[34m┏━\u001b[0m\u001b[34m Response (6.1s) \u001b[0m\u001b[34m━━━━━━━━━━━━━━━━━━━━━━━━━━━━━━━━━━━━━━━━━━━━━━━━━━━━━━━━━━━━━━━━━━━━━━━━━━━━━━━━━━━━━━━━━━━━━━\u001b[0m\u001b[34m━┓\u001b[0m\n\u001b[34m┃\u001b[0m                                                                                                                 \u001b[34m┃\u001b[0m\n\u001b[34m┃\u001b[0m Running:                                                                                                        \u001b[34m┃\u001b[0m\n\u001b[34m┃\u001b[0m                                                                                                                 \u001b[34m┃\u001b[0m\n\u001b[34m┃\u001b[0m \u001b[1;33m • \u001b[0mtransfer_task_to_finance_agent(task_description=Summarize analyst recommendations for NVDA,                  \u001b[34m┃\u001b[0m\n\u001b[34m┃\u001b[0m \u001b[1;33m   \u001b[0mexpected_output=Analyst recommendations summary, additional_information=NVDA ticker symbol)                  \u001b[34m┃\u001b[0m\n\u001b[34m┃\u001b[0m \u001b[1;33m • \u001b[0mtransfer_task_to_web_agent(task_description=Get latest news for NVDA, expected_output=NVDA latest news,      \u001b[34m┃\u001b[0m\n\u001b[34m┃\u001b[0m \u001b[1;33m   \u001b[0madditional_information=NVDA ticker symbol)                                                                   \u001b[34m┃\u001b[0m\n\u001b[34m┃\u001b[0m                                                                                                                 \u001b[34m┃\u001b[0m\n\u001b[34m┃\u001b[0m                           \u001b[1mSummary of Analyst Recommendations and Latest News for NVDA\u001b[0m                           \u001b[34m┃\u001b[0m\n\u001b[34m┃\u001b[0m                                                                                                                 \u001b[34m┃\u001b[0m\n\u001b[34m┃\u001b[0m The analyst recommendations summary for NVDA indicates a strong buy and buy recommendation from the majority of \u001b[34m┃\u001b[0m\n\u001b[34m┃\u001b[0m analysts. The latest news articles for NVDA include discussions on the company's potential to capitalize on     \u001b[34m┃\u001b[0m\n\u001b[34m┃\u001b[0m AI-driven data centers, its stock performance, and its position in the market. Some articles also provide       \u001b[34m┃\u001b[0m\n\u001b[34m┃\u001b[0m predictions for the company's stock price in 2025 and discuss whether investors are overpaying for its stock.   \u001b[34m┃\u001b[0m\n\u001b[34m┃\u001b[0m It is essential to consider multiple sources and analyst                                                        \u001b[34m┃\u001b[0m\n\u001b[34m┃\u001b[0m                                                                                                                 \u001b[34m┃\u001b[0m\n\u001b[34m┗━━━━━━━━━━━━━━━━━━━━━━━━━━━━━━━━━━━━━━━━━━━━━━━━━━━━━━━━━━━━━━━━━━━━━━━━━━━━━━━━━━━━━━━━━━━━━━━━━━━━━━━━━━━━━━━━━┛\u001b[0m\n",
                  "text/html": "<pre style=\"white-space:pre;overflow-x:auto;line-height:normal;font-family:Menlo,'DejaVu Sans Mono',consolas,'Courier New',monospace\"><span style=\"color: #008000; text-decoration-color: #008000\">▰▰▰▱▱▱▱</span> Thinking...\n<span style=\"color: #008080; text-decoration-color: #008080\">┏━ Message ━━━━━━━━━━━━━━━━━━━━━━━━━━━━━━━━━━━━━━━━━━━━━━━━━━━━━━━━━━━━━━━━━━━━━━━━━━━━━━━━━━━━━━━━━━━━━━━━━━━━━━━┓</span>\n<span style=\"color: #008080; text-decoration-color: #008080\">┃</span>                                                                                                                 <span style=\"color: #008080; text-decoration-color: #008080\">┃</span>\n<span style=\"color: #008080; text-decoration-color: #008080\">┃</span> <span style=\"color: #008000; text-decoration-color: #008000\">Summarize analyst recommendations and share the latest news for NVDA</span>                                            <span style=\"color: #008080; text-decoration-color: #008080\">┃</span>\n<span style=\"color: #008080; text-decoration-color: #008080\">┃</span>                                                                                                                 <span style=\"color: #008080; text-decoration-color: #008080\">┃</span>\n<span style=\"color: #008080; text-decoration-color: #008080\">┗━━━━━━━━━━━━━━━━━━━━━━━━━━━━━━━━━━━━━━━━━━━━━━━━━━━━━━━━━━━━━━━━━━━━━━━━━━━━━━━━━━━━━━━━━━━━━━━━━━━━━━━━━━━━━━━━━┛</span>\n<span style=\"color: #000080; text-decoration-color: #000080\">┏━ Response (6.1s) ━━━━━━━━━━━━━━━━━━━━━━━━━━━━━━━━━━━━━━━━━━━━━━━━━━━━━━━━━━━━━━━━━━━━━━━━━━━━━━━━━━━━━━━━━━━━━━━┓</span>\n<span style=\"color: #000080; text-decoration-color: #000080\">┃</span>                                                                                                                 <span style=\"color: #000080; text-decoration-color: #000080\">┃</span>\n<span style=\"color: #000080; text-decoration-color: #000080\">┃</span> Running:                                                                                                        <span style=\"color: #000080; text-decoration-color: #000080\">┃</span>\n<span style=\"color: #000080; text-decoration-color: #000080\">┃</span>                                                                                                                 <span style=\"color: #000080; text-decoration-color: #000080\">┃</span>\n<span style=\"color: #000080; text-decoration-color: #000080\">┃</span> <span style=\"color: #808000; text-decoration-color: #808000; font-weight: bold\"> • </span>transfer_task_to_finance_agent(task_description=Summarize analyst recommendations for NVDA,                  <span style=\"color: #000080; text-decoration-color: #000080\">┃</span>\n<span style=\"color: #000080; text-decoration-color: #000080\">┃</span> <span style=\"color: #808000; text-decoration-color: #808000; font-weight: bold\">   </span>expected_output=Analyst recommendations summary, additional_information=NVDA ticker symbol)                  <span style=\"color: #000080; text-decoration-color: #000080\">┃</span>\n<span style=\"color: #000080; text-decoration-color: #000080\">┃</span> <span style=\"color: #808000; text-decoration-color: #808000; font-weight: bold\"> • </span>transfer_task_to_web_agent(task_description=Get latest news for NVDA, expected_output=NVDA latest news,      <span style=\"color: #000080; text-decoration-color: #000080\">┃</span>\n<span style=\"color: #000080; text-decoration-color: #000080\">┃</span> <span style=\"color: #808000; text-decoration-color: #808000; font-weight: bold\">   </span>additional_information=NVDA ticker symbol)                                                                   <span style=\"color: #000080; text-decoration-color: #000080\">┃</span>\n<span style=\"color: #000080; text-decoration-color: #000080\">┃</span>                                                                                                                 <span style=\"color: #000080; text-decoration-color: #000080\">┃</span>\n<span style=\"color: #000080; text-decoration-color: #000080\">┃</span>                           <span style=\"font-weight: bold\">Summary of Analyst Recommendations and Latest News for NVDA</span>                           <span style=\"color: #000080; text-decoration-color: #000080\">┃</span>\n<span style=\"color: #000080; text-decoration-color: #000080\">┃</span>                                                                                                                 <span style=\"color: #000080; text-decoration-color: #000080\">┃</span>\n<span style=\"color: #000080; text-decoration-color: #000080\">┃</span> The analyst recommendations summary for NVDA indicates a strong buy and buy recommendation from the majority of <span style=\"color: #000080; text-decoration-color: #000080\">┃</span>\n<span style=\"color: #000080; text-decoration-color: #000080\">┃</span> analysts. The latest news articles for NVDA include discussions on the company's potential to capitalize on     <span style=\"color: #000080; text-decoration-color: #000080\">┃</span>\n<span style=\"color: #000080; text-decoration-color: #000080\">┃</span> AI-driven data centers, its stock performance, and its position in the market. Some articles also provide       <span style=\"color: #000080; text-decoration-color: #000080\">┃</span>\n<span style=\"color: #000080; text-decoration-color: #000080\">┃</span> predictions for the company's stock price in 2025 and discuss whether investors are overpaying for its stock.   <span style=\"color: #000080; text-decoration-color: #000080\">┃</span>\n<span style=\"color: #000080; text-decoration-color: #000080\">┃</span> It is essential to consider multiple sources and analyst                                                        <span style=\"color: #000080; text-decoration-color: #000080\">┃</span>\n<span style=\"color: #000080; text-decoration-color: #000080\">┃</span>                                                                                                                 <span style=\"color: #000080; text-decoration-color: #000080\">┃</span>\n<span style=\"color: #000080; text-decoration-color: #000080\">┗━━━━━━━━━━━━━━━━━━━━━━━━━━━━━━━━━━━━━━━━━━━━━━━━━━━━━━━━━━━━━━━━━━━━━━━━━━━━━━━━━━━━━━━━━━━━━━━━━━━━━━━━━━━━━━━━━┛</span>\n</pre>\n"
                },
                "metadata": {}
              }
            ]
          }
        },
        "a84f59ee259a4eed989010f3307b562d": {
          "model_module": "@jupyter-widgets/base",
          "model_name": "LayoutModel",
          "model_module_version": "1.2.0",
          "state": {
            "_model_module": "@jupyter-widgets/base",
            "_model_module_version": "1.2.0",
            "_model_name": "LayoutModel",
            "_view_count": null,
            "_view_module": "@jupyter-widgets/base",
            "_view_module_version": "1.2.0",
            "_view_name": "LayoutView",
            "align_content": null,
            "align_items": null,
            "align_self": null,
            "border": null,
            "bottom": null,
            "display": null,
            "flex": null,
            "flex_flow": null,
            "grid_area": null,
            "grid_auto_columns": null,
            "grid_auto_flow": null,
            "grid_auto_rows": null,
            "grid_column": null,
            "grid_gap": null,
            "grid_row": null,
            "grid_template_areas": null,
            "grid_template_columns": null,
            "grid_template_rows": null,
            "height": null,
            "justify_content": null,
            "justify_items": null,
            "left": null,
            "margin": null,
            "max_height": null,
            "max_width": null,
            "min_height": null,
            "min_width": null,
            "object_fit": null,
            "object_position": null,
            "order": null,
            "overflow": null,
            "overflow_x": null,
            "overflow_y": null,
            "padding": null,
            "right": null,
            "top": null,
            "visibility": null,
            "width": null
          }
        }
      }
    }
  },
  "cells": [
    {
      "cell_type": "markdown",
      "metadata": {
        "id": "view-in-github",
        "colab_type": "text"
      },
      "source": [
        "<a href=\"https://colab.research.google.com/github/preetamjumech/AI-Agent-phidata/blob/main/AI_Agents_Phidata_16_12_2024.ipynb\" target=\"_parent\"><img src=\"https://colab.research.google.com/assets/colab-badge.svg\" alt=\"Open In Colab\"/></a>"
      ]
    },
    {
      "cell_type": "code",
      "source": [
        "!pip install phidata -q"
      ],
      "metadata": {
        "id": "6yTOwRlAKgHI"
      },
      "execution_count": 1,
      "outputs": []
    },
    {
      "cell_type": "code",
      "source": [
        "!pip install groq -q"
      ],
      "metadata": {
        "id": "MlPTHzzzLEsI"
      },
      "execution_count": 2,
      "outputs": []
    },
    {
      "cell_type": "code",
      "source": [
        "from google.colab import userdata\n",
        "api_key = userdata.get('GROQ_API_KEY')"
      ],
      "metadata": {
        "id": "jZA32s1fK1zC"
      },
      "execution_count": 3,
      "outputs": []
    },
    {
      "cell_type": "code",
      "source": [
        "from phi.agent import Agent\n",
        "from phi.model.groq import Groq\n",
        "\n",
        "agent = Agent(\n",
        "    model=Groq(id=\"llama-3.1-70b-versatile\", api_key = api_key)\n",
        ")\n",
        "\n",
        "# agent.print_response(\"Share a 2 sentence love story between dosa and samosa\")\n",
        "response = agent.run(\"Share a 2 sentence love story between dosa and samosa.\")\n",
        "content = response.content"
      ],
      "metadata": {
        "id": "0wMPQj1HNfd_"
      },
      "execution_count": 9,
      "outputs": []
    },
    {
      "cell_type": "code",
      "source": [
        "from IPython.display import HTML, display\n",
        "\n",
        "display(HTML(f\"<div style='max-height:200px; overflow-y:auto;'>{content}</div>\"))"
      ],
      "metadata": {
        "colab": {
          "base_uri": "https://localhost:8080/",
          "height": 52
        },
        "id": "H93kDFtoRsUP",
        "outputId": "0f46ae3c-4412-4cca-ad48-b7a05c4db198"
      },
      "execution_count": 10,
      "outputs": [
        {
          "output_type": "display_data",
          "data": {
            "text/plain": [
              "<IPython.core.display.HTML object>"
            ],
            "text/html": [
              "<div style='max-height:200px; overflow-y:auto;'>In a quaint Indian street food market, a crispy and charming dosa named Dev caught the eye of a delicate yet fiery samosa named Sasha, and as their flavors intertwined, a love as warm as the oil in which they were cooked began to simmer. Together, Dev and Sasha forged an unbreakable bond, proving that even the most unlikely of pairings could become the perfect blend of taste and love.</div>"
            ]
          },
          "metadata": {}
        }
      ]
    },
    {
      "cell_type": "markdown",
      "source": [
        "### Finance agent"
      ],
      "metadata": {
        "id": "oHkZfnuwWWWR"
      }
    },
    {
      "cell_type": "code",
      "source": [
        "from phi.agent import Agent\n",
        "from phi.model.groq import Groq\n",
        "from phi.tools.yfinance import YFinanceTools"
      ],
      "metadata": {
        "id": "yIQ6F3z7Rx5-"
      },
      "execution_count": 11,
      "outputs": []
    },
    {
      "cell_type": "code",
      "source": [
        "def get_company_symbol(company: str) -> str:\n",
        "    \"\"\"Use this function to get the symbol for a company.\n",
        "\n",
        "    Args:\n",
        "        company (str): The name of the company.\n",
        "\n",
        "    Returns:\n",
        "        str: The symbol for the company.\n",
        "    \"\"\"\n",
        "    symbols = {\n",
        "        \"Phidata\": \"MSFT\",\n",
        "        \"Infosys\": \"INFY\",\n",
        "        \"Tesla\": \"TSLA\",\n",
        "        \"Apple\": \"AAPL\",\n",
        "        \"Microsoft\": \"MSFT\",\n",
        "        \"Amazon\": \"AMZN\",\n",
        "        \"Google\": \"GOOGL\",\n",
        "    }\n",
        "    return symbols.get(company, \"Unknown\")"
      ],
      "metadata": {
        "id": "ftXMTAcJWfwV"
      },
      "execution_count": 12,
      "outputs": []
    },
    {
      "cell_type": "code",
      "source": [
        "agent = Agent(\n",
        "    model=Groq(id=\"llama-3.3-70b-versatile\", api_key = api_key),\n",
        "    tools=[YFinanceTools(stock_price=True, analyst_recommendations=True, stock_fundamentals=True), get_company_symbol],\n",
        "    instructions=[\n",
        "        \"Use tables to display data.\",\n",
        "        \"If you need to find the symbol for a company, use the get_company_symbol tool.\",\n",
        "    ],\n",
        "    show_tool_calls=True,\n",
        "    markdown=True,\n",
        "    debug_mode=True,\n",
        ")\n",
        "\n",
        "agent.print_response(\n",
        "    \"Summarize and compare analyst recommendations and fundamentals for TSLA and Phidata. Show in tables.\", stream=True\n",
        ")\n",
        "\n",
        "# content = response.content\n",
        "# display(HTML(f\"<div style='max-height:200px; overflow-y:auto;'>{content}</div>\"))"
      ],
      "metadata": {
        "colab": {
          "base_uri": "https://localhost:8080/",
          "height": 1000,
          "referenced_widgets": [
            "9e488c48b4b14d71ab06d2dffd3ac829",
            "5567d047af4b4bb9b189476f2d89cc30"
          ]
        },
        "id": "zfuh1JdbWlry",
        "outputId": "fe720338-2535-40e8-83ea-03729aca3150"
      },
      "execution_count": 15,
      "outputs": [
        {
          "output_type": "display_data",
          "data": {
            "text/plain": [
              "\u001b[32mDEBUG   \u001b[0m Function: get_current_stock_price registered with yfinance_tools                                          \n"
            ],
            "text/html": [
              "<pre style=\"white-space:pre;overflow-x:auto;line-height:normal;font-family:Menlo,'DejaVu Sans Mono',consolas,'Courier New',monospace\"><span style=\"color: #008000; text-decoration-color: #008000\">DEBUG   </span> Function: get_current_stock_price registered with yfinance_tools                                          \n",
              "</pre>\n"
            ]
          },
          "metadata": {}
        },
        {
          "output_type": "display_data",
          "data": {
            "text/plain": [
              "\u001b[32mDEBUG   \u001b[0m Function: get_stock_fundamentals registered with yfinance_tools                                           \n"
            ],
            "text/html": [
              "<pre style=\"white-space:pre;overflow-x:auto;line-height:normal;font-family:Menlo,'DejaVu Sans Mono',consolas,'Courier New',monospace\"><span style=\"color: #008000; text-decoration-color: #008000\">DEBUG   </span> Function: get_stock_fundamentals registered with yfinance_tools                                           \n",
              "</pre>\n"
            ]
          },
          "metadata": {}
        },
        {
          "output_type": "display_data",
          "data": {
            "text/plain": [
              "\u001b[32mDEBUG   \u001b[0m Function: get_analyst_recommendations registered with yfinance_tools                                      \n"
            ],
            "text/html": [
              "<pre style=\"white-space:pre;overflow-x:auto;line-height:normal;font-family:Menlo,'DejaVu Sans Mono',consolas,'Courier New',monospace\"><span style=\"color: #008000; text-decoration-color: #008000\">DEBUG   </span> Function: get_analyst_recommendations registered with yfinance_tools                                      \n",
              "</pre>\n"
            ]
          },
          "metadata": {}
        },
        {
          "output_type": "display_data",
          "data": {
            "text/plain": [
              "\u001b[32mDEBUG   \u001b[0m *********** Agent ID: \u001b[93m4f84338e-bee2-41eb-b6db-2b6cc00d8362\u001b[0m ***********                                    \n"
            ],
            "text/html": [
              "<pre style=\"white-space:pre;overflow-x:auto;line-height:normal;font-family:Menlo,'DejaVu Sans Mono',consolas,'Courier New',monospace\"><span style=\"color: #008000; text-decoration-color: #008000\">DEBUG   </span> *********** Agent ID: <span style=\"color: #ffff00; text-decoration-color: #ffff00\">4f84338e-bee2-41eb-b6db-2b6cc00d8362</span> ***********                                    \n",
              "</pre>\n"
            ]
          },
          "metadata": {}
        },
        {
          "output_type": "display_data",
          "data": {
            "text/plain": [
              "\u001b[32mDEBUG   \u001b[0m *********** Session ID: \u001b[93me0ea96c3-5598-450d-a004-7de5009d5595\u001b[0m ***********                                  \n"
            ],
            "text/html": [
              "<pre style=\"white-space:pre;overflow-x:auto;line-height:normal;font-family:Menlo,'DejaVu Sans Mono',consolas,'Courier New',monospace\"><span style=\"color: #008000; text-decoration-color: #008000\">DEBUG   </span> *********** Session ID: <span style=\"color: #ffff00; text-decoration-color: #ffff00\">e0ea96c3-5598-450d-a004-7de5009d5595</span> ***********                                  \n",
              "</pre>\n"
            ]
          },
          "metadata": {}
        },
        {
          "output_type": "display_data",
          "data": {
            "text/plain": [
              "\u001b[32mDEBUG   \u001b[0m Debug logs enabled                                                                                        \n"
            ],
            "text/html": [
              "<pre style=\"white-space:pre;overflow-x:auto;line-height:normal;font-family:Menlo,'DejaVu Sans Mono',consolas,'Courier New',monospace\"><span style=\"color: #008000; text-decoration-color: #008000\">DEBUG   </span> Debug logs enabled                                                                                        \n",
              "</pre>\n"
            ]
          },
          "metadata": {}
        },
        {
          "output_type": "display_data",
          "data": {
            "text/plain": [
              "\u001b[32mDEBUG   \u001b[0m *********** Agent Run Start: \u001b[93m90160cf7-4ece-4c4a-b4e9-cfa7ad8e5ee9\u001b[0m ***********                             \n"
            ],
            "text/html": [
              "<pre style=\"white-space:pre;overflow-x:auto;line-height:normal;font-family:Menlo,'DejaVu Sans Mono',consolas,'Courier New',monospace\"><span style=\"color: #008000; text-decoration-color: #008000\">DEBUG   </span> *********** Agent Run Start: <span style=\"color: #ffff00; text-decoration-color: #ffff00\">90160cf7-4ece-4c4a-b4e9-cfa7ad8e5ee9</span> ***********                             \n",
              "</pre>\n"
            ]
          },
          "metadata": {}
        },
        {
          "output_type": "display_data",
          "data": {
            "text/plain": [
              "\u001b[32mDEBUG   \u001b[0m Function get_current_stock_price from yfinance_tools added to model.                                      \n"
            ],
            "text/html": [
              "<pre style=\"white-space:pre;overflow-x:auto;line-height:normal;font-family:Menlo,'DejaVu Sans Mono',consolas,'Courier New',monospace\"><span style=\"color: #008000; text-decoration-color: #008000\">DEBUG   </span> Function get_current_stock_price from yfinance_tools added to model.                                      \n",
              "</pre>\n"
            ]
          },
          "metadata": {}
        },
        {
          "output_type": "display_data",
          "data": {
            "text/plain": [
              "\u001b[32mDEBUG   \u001b[0m Function get_stock_fundamentals from yfinance_tools added to model.                                       \n"
            ],
            "text/html": [
              "<pre style=\"white-space:pre;overflow-x:auto;line-height:normal;font-family:Menlo,'DejaVu Sans Mono',consolas,'Courier New',monospace\"><span style=\"color: #008000; text-decoration-color: #008000\">DEBUG   </span> Function get_stock_fundamentals from yfinance_tools added to model.                                       \n",
              "</pre>\n"
            ]
          },
          "metadata": {}
        },
        {
          "output_type": "display_data",
          "data": {
            "text/plain": [
              "\u001b[32mDEBUG   \u001b[0m Function get_analyst_recommendations from yfinance_tools added to model.                                  \n"
            ],
            "text/html": [
              "<pre style=\"white-space:pre;overflow-x:auto;line-height:normal;font-family:Menlo,'DejaVu Sans Mono',consolas,'Courier New',monospace\"><span style=\"color: #008000; text-decoration-color: #008000\">DEBUG   </span> Function get_analyst_recommendations from yfinance_tools added to model.                                  \n",
              "</pre>\n"
            ]
          },
          "metadata": {}
        },
        {
          "output_type": "display_data",
          "data": {
            "text/plain": [
              "\u001b[32mDEBUG   \u001b[0m Function get_company_symbol added to model.                                                               \n"
            ],
            "text/html": [
              "<pre style=\"white-space:pre;overflow-x:auto;line-height:normal;font-family:Menlo,'DejaVu Sans Mono',consolas,'Courier New',monospace\"><span style=\"color: #008000; text-decoration-color: #008000\">DEBUG   </span> Function get_company_symbol added to model.                                                               \n",
              "</pre>\n"
            ]
          },
          "metadata": {}
        },
        {
          "output_type": "display_data",
          "data": {
            "text/plain": [
              "\u001b[32mDEBUG   \u001b[0m ---------- Groq Response Start ----------                                                                 \n"
            ],
            "text/html": [
              "<pre style=\"white-space:pre;overflow-x:auto;line-height:normal;font-family:Menlo,'DejaVu Sans Mono',consolas,'Courier New',monospace\"><span style=\"color: #008000; text-decoration-color: #008000\">DEBUG   </span> ---------- Groq Response Start ----------                                                                 \n",
              "</pre>\n"
            ]
          },
          "metadata": {}
        },
        {
          "output_type": "display_data",
          "data": {
            "text/plain": [
              "\u001b[32mDEBUG   \u001b[0m ============== system ==============                                                                      \n"
            ],
            "text/html": [
              "<pre style=\"white-space:pre;overflow-x:auto;line-height:normal;font-family:Menlo,'DejaVu Sans Mono',consolas,'Courier New',monospace\"><span style=\"color: #008000; text-decoration-color: #008000\">DEBUG   </span> ============== system ==============                                                                      \n",
              "</pre>\n"
            ]
          },
          "metadata": {}
        },
        {
          "output_type": "display_data",
          "data": {
            "text/plain": [
              "\u001b[32mDEBUG   \u001b[0m ## Instructions                                                                                           \n",
              "         - Use tables to display data.                                                                             \n",
              "         - If you need to find the symbol for a company, use the get_company_symbol tool.                          \n",
              "         - Use markdown to format your answers.                                                                    \n"
            ],
            "text/html": [
              "<pre style=\"white-space:pre;overflow-x:auto;line-height:normal;font-family:Menlo,'DejaVu Sans Mono',consolas,'Courier New',monospace\"><span style=\"color: #008000; text-decoration-color: #008000\">DEBUG   </span> ## Instructions                                                                                           \n",
              "         - Use tables to display data.                                                                             \n",
              "         - If you need to find the symbol for a company, use the get_company_symbol tool.                          \n",
              "         - Use markdown to format your answers.                                                                    \n",
              "</pre>\n"
            ]
          },
          "metadata": {}
        },
        {
          "output_type": "display_data",
          "data": {
            "text/plain": [
              "\u001b[32mDEBUG   \u001b[0m ============== user ==============                                                                        \n"
            ],
            "text/html": [
              "<pre style=\"white-space:pre;overflow-x:auto;line-height:normal;font-family:Menlo,'DejaVu Sans Mono',consolas,'Courier New',monospace\"><span style=\"color: #008000; text-decoration-color: #008000\">DEBUG   </span> ============== user ==============                                                                        \n",
              "</pre>\n"
            ]
          },
          "metadata": {}
        },
        {
          "output_type": "display_data",
          "data": {
            "text/plain": [
              "\u001b[32mDEBUG   \u001b[0m Summarize and compare analyst recommendations and fundamentals for TSLA and Phidata. Show in tables.      \n"
            ],
            "text/html": [
              "<pre style=\"white-space:pre;overflow-x:auto;line-height:normal;font-family:Menlo,'DejaVu Sans Mono',consolas,'Courier New',monospace\"><span style=\"color: #008000; text-decoration-color: #008000\">DEBUG   </span> Summarize and compare analyst recommendations and fundamentals for TSLA and Phidata. Show in tables.      \n",
              "</pre>\n"
            ]
          },
          "metadata": {}
        },
        {
          "output_type": "display_data",
          "data": {
            "text/plain": [
              "Output()"
            ],
            "application/vnd.jupyter.widget-view+json": {
              "version_major": 2,
              "version_minor": 0,
              "model_id": "9e488c48b4b14d71ab06d2dffd3ac829"
            }
          },
          "metadata": {}
        },
        {
          "output_type": "display_data",
          "data": {
            "text/plain": [
              "\u001b[32mDEBUG   \u001b[0m ============== assistant ==============                                                                   \n"
            ],
            "text/html": [
              "<pre style=\"white-space:pre;overflow-x:auto;line-height:normal;font-family:Menlo,'DejaVu Sans Mono',consolas,'Courier New',monospace\"><span style=\"color: #008000; text-decoration-color: #008000\">DEBUG   </span> ============== assistant ==============                                                                   \n",
              "</pre>\n"
            ]
          },
          "metadata": {}
        },
        {
          "output_type": "display_data",
          "data": {
            "text/plain": [
              "\u001b[32mDEBUG   \u001b[0m ### Step \u001b[1;36m1\u001b[0m: Find the symbol for Phidata                                                                   \n",
              "                                                                                                                   \n"
            ],
            "text/html": [
              "<pre style=\"white-space:pre;overflow-x:auto;line-height:normal;font-family:Menlo,'DejaVu Sans Mono',consolas,'Courier New',monospace\"><span style=\"color: #008000; text-decoration-color: #008000\">DEBUG   </span> ### Step <span style=\"color: #008080; text-decoration-color: #008080; font-weight: bold\">1</span>: Find the symbol for Phidata                                                                   \n",
              "                                                                                                                   \n",
              "</pre>\n"
            ]
          },
          "metadata": {}
        },
        {
          "output_type": "display_data",
          "data": {
            "text/plain": [
              "\u001b[32mDEBUG   \u001b[0m Tool Calls: \u001b[1m[\u001b[0m                                                                                             \n",
              "           \u001b[1m{\u001b[0m                                                                                                       \n",
              "             \u001b[32m\"id\"\u001b[0m: \u001b[32m\"call_j23a\"\u001b[0m,                                                                                    \n",
              "             \u001b[32m\"type\"\u001b[0m: \u001b[32m\"function\"\u001b[0m,                                                                                   \n",
              "             \u001b[32m\"function\"\u001b[0m: \u001b[1m{\u001b[0m                                                                                         \n",
              "               \u001b[32m\"name\"\u001b[0m: \u001b[32m\"get_company_symbol\"\u001b[0m,                                                                       \n",
              "               \u001b[32m\"arguments\"\u001b[0m: \u001b[32m\"\u001b[0m\u001b[32m{\u001b[0m\u001b[32m\\\"company\\\": \\\"Phidata\\\"\u001b[0m\u001b[32m}\u001b[0m\u001b[32m\"\u001b[0m                                                           \n",
              "             \u001b[1m}\u001b[0m                                                                                                     \n",
              "           \u001b[1m}\u001b[0m                                                                                                       \n",
              "         \u001b[1m]\u001b[0m                                                                                                         \n"
            ],
            "text/html": [
              "<pre style=\"white-space:pre;overflow-x:auto;line-height:normal;font-family:Menlo,'DejaVu Sans Mono',consolas,'Courier New',monospace\"><span style=\"color: #008000; text-decoration-color: #008000\">DEBUG   </span> Tool Calls: <span style=\"font-weight: bold\">[</span>                                                                                             \n",
              "           <span style=\"font-weight: bold\">{</span>                                                                                                       \n",
              "             <span style=\"color: #008000; text-decoration-color: #008000\">\"id\"</span>: <span style=\"color: #008000; text-decoration-color: #008000\">\"call_j23a\"</span>,                                                                                    \n",
              "             <span style=\"color: #008000; text-decoration-color: #008000\">\"type\"</span>: <span style=\"color: #008000; text-decoration-color: #008000\">\"function\"</span>,                                                                                   \n",
              "             <span style=\"color: #008000; text-decoration-color: #008000\">\"function\"</span>: <span style=\"font-weight: bold\">{</span>                                                                                         \n",
              "               <span style=\"color: #008000; text-decoration-color: #008000\">\"name\"</span>: <span style=\"color: #008000; text-decoration-color: #008000\">\"get_company_symbol\"</span>,                                                                       \n",
              "               <span style=\"color: #008000; text-decoration-color: #008000\">\"arguments\"</span>: <span style=\"color: #008000; text-decoration-color: #008000\">\"{\\\"company\\\": \\\"Phidata\\\"}\"</span>                                                           \n",
              "             <span style=\"font-weight: bold\">}</span>                                                                                                     \n",
              "           <span style=\"font-weight: bold\">}</span>                                                                                                       \n",
              "         <span style=\"font-weight: bold\">]</span>                                                                                                         \n",
              "</pre>\n"
            ]
          },
          "metadata": {}
        },
        {
          "output_type": "display_data",
          "data": {
            "text/plain": [
              "\u001b[32mDEBUG   \u001b[0m **************** METRICS START ****************                                                           \n"
            ],
            "text/html": [
              "<pre style=\"white-space:pre;overflow-x:auto;line-height:normal;font-family:Menlo,'DejaVu Sans Mono',consolas,'Courier New',monospace\"><span style=\"color: #008000; text-decoration-color: #008000\">DEBUG   </span> **************** METRICS START ****************                                                           \n",
              "</pre>\n"
            ]
          },
          "metadata": {}
        },
        {
          "output_type": "display_data",
          "data": {
            "text/plain": [
              "\u001b[32mDEBUG   \u001b[0m * Time to first token:         \u001b[1;36m0.\u001b[0m4452s                                                                    \n"
            ],
            "text/html": [
              "<pre style=\"white-space:pre;overflow-x:auto;line-height:normal;font-family:Menlo,'DejaVu Sans Mono',consolas,'Courier New',monospace\"><span style=\"color: #008000; text-decoration-color: #008000\">DEBUG   </span> * Time to first token:         <span style=\"color: #008080; text-decoration-color: #008080; font-weight: bold\">0.</span>4452s                                                                    \n",
              "</pre>\n"
            ]
          },
          "metadata": {}
        },
        {
          "output_type": "display_data",
          "data": {
            "text/plain": [
              "\u001b[32mDEBUG   \u001b[0m * Time to generate response:   \u001b[1;36m1.\u001b[0m0471s                                                                    \n"
            ],
            "text/html": [
              "<pre style=\"white-space:pre;overflow-x:auto;line-height:normal;font-family:Menlo,'DejaVu Sans Mono',consolas,'Courier New',monospace\"><span style=\"color: #008000; text-decoration-color: #008000\">DEBUG   </span> * Time to generate response:   <span style=\"color: #008080; text-decoration-color: #008080; font-weight: bold\">1.</span>0471s                                                                    \n",
              "</pre>\n"
            ]
          },
          "metadata": {}
        },
        {
          "output_type": "display_data",
          "data": {
            "text/plain": [
              "\u001b[32mDEBUG   \u001b[0m * Tokens per second:           \u001b[1;36m0.0000\u001b[0m tokens/s                                                            \n"
            ],
            "text/html": [
              "<pre style=\"white-space:pre;overflow-x:auto;line-height:normal;font-family:Menlo,'DejaVu Sans Mono',consolas,'Courier New',monospace\"><span style=\"color: #008000; text-decoration-color: #008000\">DEBUG   </span> * Tokens per second:           <span style=\"color: #008080; text-decoration-color: #008080; font-weight: bold\">0.0000</span> tokens/s                                                            \n",
              "</pre>\n"
            ]
          },
          "metadata": {}
        },
        {
          "output_type": "display_data",
          "data": {
            "text/plain": [
              "\u001b[32mDEBUG   \u001b[0m * Input tokens:                \u001b[1;36m0\u001b[0m                                                                          \n"
            ],
            "text/html": [
              "<pre style=\"white-space:pre;overflow-x:auto;line-height:normal;font-family:Menlo,'DejaVu Sans Mono',consolas,'Courier New',monospace\"><span style=\"color: #008000; text-decoration-color: #008000\">DEBUG   </span> * Input tokens:                <span style=\"color: #008080; text-decoration-color: #008080; font-weight: bold\">0</span>                                                                          \n",
              "</pre>\n"
            ]
          },
          "metadata": {}
        },
        {
          "output_type": "display_data",
          "data": {
            "text/plain": [
              "\u001b[32mDEBUG   \u001b[0m * Output tokens:               \u001b[1;36m15\u001b[0m                                                                         \n"
            ],
            "text/html": [
              "<pre style=\"white-space:pre;overflow-x:auto;line-height:normal;font-family:Menlo,'DejaVu Sans Mono',consolas,'Courier New',monospace\"><span style=\"color: #008000; text-decoration-color: #008000\">DEBUG   </span> * Output tokens:               <span style=\"color: #008080; text-decoration-color: #008080; font-weight: bold\">15</span>                                                                         \n",
              "</pre>\n"
            ]
          },
          "metadata": {}
        },
        {
          "output_type": "display_data",
          "data": {
            "text/plain": [
              "\u001b[32mDEBUG   \u001b[0m * Total tokens:                \u001b[1;36m0\u001b[0m                                                                          \n"
            ],
            "text/html": [
              "<pre style=\"white-space:pre;overflow-x:auto;line-height:normal;font-family:Menlo,'DejaVu Sans Mono',consolas,'Courier New',monospace\"><span style=\"color: #008000; text-decoration-color: #008000\">DEBUG   </span> * Total tokens:                <span style=\"color: #008080; text-decoration-color: #008080; font-weight: bold\">0</span>                                                                          \n",
              "</pre>\n"
            ]
          },
          "metadata": {}
        },
        {
          "output_type": "display_data",
          "data": {
            "text/plain": [
              "\u001b[32mDEBUG   \u001b[0m **************** METRICS END ******************                                                           \n"
            ],
            "text/html": [
              "<pre style=\"white-space:pre;overflow-x:auto;line-height:normal;font-family:Menlo,'DejaVu Sans Mono',consolas,'Courier New',monospace\"><span style=\"color: #008000; text-decoration-color: #008000\">DEBUG   </span> **************** METRICS END ******************                                                           \n",
              "</pre>\n"
            ]
          },
          "metadata": {}
        },
        {
          "output_type": "display_data",
          "data": {
            "text/plain": [
              "\u001b[32mDEBUG   \u001b[0m Getting function get_company_symbol                                                                       \n"
            ],
            "text/html": [
              "<pre style=\"white-space:pre;overflow-x:auto;line-height:normal;font-family:Menlo,'DejaVu Sans Mono',consolas,'Courier New',monospace\"><span style=\"color: #008000; text-decoration-color: #008000\">DEBUG   </span> Getting function get_company_symbol                                                                       \n",
              "</pre>\n"
            ]
          },
          "metadata": {}
        },
        {
          "output_type": "display_data",
          "data": {
            "text/plain": [
              "\u001b[32mDEBUG   \u001b[0m Running: \u001b[1;35mget_company_symbol\u001b[0m\u001b[1m(\u001b[0m\u001b[33mcompany\u001b[0m=\u001b[35mPhidata\u001b[0m\u001b[1m)\u001b[0m                                                              \n"
            ],
            "text/html": [
              "<pre style=\"white-space:pre;overflow-x:auto;line-height:normal;font-family:Menlo,'DejaVu Sans Mono',consolas,'Courier New',monospace\"><span style=\"color: #008000; text-decoration-color: #008000\">DEBUG   </span> Running: <span style=\"color: #800080; text-decoration-color: #800080; font-weight: bold\">get_company_symbol</span><span style=\"font-weight: bold\">(</span><span style=\"color: #808000; text-decoration-color: #808000\">company</span>=<span style=\"color: #800080; text-decoration-color: #800080\">Phidata</span><span style=\"font-weight: bold\">)</span>                                                              \n",
              "</pre>\n"
            ]
          },
          "metadata": {}
        },
        {
          "output_type": "display_data",
          "data": {
            "text/plain": [
              "\u001b[32mDEBUG   \u001b[0m ---------- Groq Response Start ----------                                                                 \n"
            ],
            "text/html": [
              "<pre style=\"white-space:pre;overflow-x:auto;line-height:normal;font-family:Menlo,'DejaVu Sans Mono',consolas,'Courier New',monospace\"><span style=\"color: #008000; text-decoration-color: #008000\">DEBUG   </span> ---------- Groq Response Start ----------                                                                 \n",
              "</pre>\n"
            ]
          },
          "metadata": {}
        },
        {
          "output_type": "display_data",
          "data": {
            "text/plain": [
              "\u001b[32mDEBUG   \u001b[0m ============== system ==============                                                                      \n"
            ],
            "text/html": [
              "<pre style=\"white-space:pre;overflow-x:auto;line-height:normal;font-family:Menlo,'DejaVu Sans Mono',consolas,'Courier New',monospace\"><span style=\"color: #008000; text-decoration-color: #008000\">DEBUG   </span> ============== system ==============                                                                      \n",
              "</pre>\n"
            ]
          },
          "metadata": {}
        },
        {
          "output_type": "display_data",
          "data": {
            "text/plain": [
              "\u001b[32mDEBUG   \u001b[0m ## Instructions                                                                                           \n",
              "         - Use tables to display data.                                                                             \n",
              "         - If you need to find the symbol for a company, use the get_company_symbol tool.                          \n",
              "         - Use markdown to format your answers.                                                                    \n"
            ],
            "text/html": [
              "<pre style=\"white-space:pre;overflow-x:auto;line-height:normal;font-family:Menlo,'DejaVu Sans Mono',consolas,'Courier New',monospace\"><span style=\"color: #008000; text-decoration-color: #008000\">DEBUG   </span> ## Instructions                                                                                           \n",
              "         - Use tables to display data.                                                                             \n",
              "         - If you need to find the symbol for a company, use the get_company_symbol tool.                          \n",
              "         - Use markdown to format your answers.                                                                    \n",
              "</pre>\n"
            ]
          },
          "metadata": {}
        },
        {
          "output_type": "display_data",
          "data": {
            "text/plain": [
              "\u001b[32mDEBUG   \u001b[0m ============== user ==============                                                                        \n"
            ],
            "text/html": [
              "<pre style=\"white-space:pre;overflow-x:auto;line-height:normal;font-family:Menlo,'DejaVu Sans Mono',consolas,'Courier New',monospace\"><span style=\"color: #008000; text-decoration-color: #008000\">DEBUG   </span> ============== user ==============                                                                        \n",
              "</pre>\n"
            ]
          },
          "metadata": {}
        },
        {
          "output_type": "display_data",
          "data": {
            "text/plain": [
              "\u001b[32mDEBUG   \u001b[0m Summarize and compare analyst recommendations and fundamentals for TSLA and Phidata. Show in tables.      \n"
            ],
            "text/html": [
              "<pre style=\"white-space:pre;overflow-x:auto;line-height:normal;font-family:Menlo,'DejaVu Sans Mono',consolas,'Courier New',monospace\"><span style=\"color: #008000; text-decoration-color: #008000\">DEBUG   </span> Summarize and compare analyst recommendations and fundamentals for TSLA and Phidata. Show in tables.      \n",
              "</pre>\n"
            ]
          },
          "metadata": {}
        },
        {
          "output_type": "display_data",
          "data": {
            "text/plain": [
              "\u001b[32mDEBUG   \u001b[0m ============== assistant ==============                                                                   \n"
            ],
            "text/html": [
              "<pre style=\"white-space:pre;overflow-x:auto;line-height:normal;font-family:Menlo,'DejaVu Sans Mono',consolas,'Courier New',monospace\"><span style=\"color: #008000; text-decoration-color: #008000\">DEBUG   </span> ============== assistant ==============                                                                   \n",
              "</pre>\n"
            ]
          },
          "metadata": {}
        },
        {
          "output_type": "display_data",
          "data": {
            "text/plain": [
              "\u001b[32mDEBUG   \u001b[0m ### Step \u001b[1;36m1\u001b[0m: Find the symbol for Phidata                                                                   \n",
              "                                                                                                                   \n"
            ],
            "text/html": [
              "<pre style=\"white-space:pre;overflow-x:auto;line-height:normal;font-family:Menlo,'DejaVu Sans Mono',consolas,'Courier New',monospace\"><span style=\"color: #008000; text-decoration-color: #008000\">DEBUG   </span> ### Step <span style=\"color: #008080; text-decoration-color: #008080; font-weight: bold\">1</span>: Find the symbol for Phidata                                                                   \n",
              "                                                                                                                   \n",
              "</pre>\n"
            ]
          },
          "metadata": {}
        },
        {
          "output_type": "display_data",
          "data": {
            "text/plain": [
              "\u001b[32mDEBUG   \u001b[0m Tool Calls: \u001b[1m[\u001b[0m                                                                                             \n",
              "           \u001b[1m{\u001b[0m                                                                                                       \n",
              "             \u001b[32m\"id\"\u001b[0m: \u001b[32m\"call_j23a\"\u001b[0m,                                                                                    \n",
              "             \u001b[32m\"type\"\u001b[0m: \u001b[32m\"function\"\u001b[0m,                                                                                   \n",
              "             \u001b[32m\"function\"\u001b[0m: \u001b[1m{\u001b[0m                                                                                         \n",
              "               \u001b[32m\"name\"\u001b[0m: \u001b[32m\"get_company_symbol\"\u001b[0m,                                                                       \n",
              "               \u001b[32m\"arguments\"\u001b[0m: \u001b[32m\"\u001b[0m\u001b[32m{\u001b[0m\u001b[32m\\\"company\\\": \\\"Phidata\\\"\u001b[0m\u001b[32m}\u001b[0m\u001b[32m\"\u001b[0m                                                           \n",
              "             \u001b[1m}\u001b[0m                                                                                                     \n",
              "           \u001b[1m}\u001b[0m                                                                                                       \n",
              "         \u001b[1m]\u001b[0m                                                                                                         \n"
            ],
            "text/html": [
              "<pre style=\"white-space:pre;overflow-x:auto;line-height:normal;font-family:Menlo,'DejaVu Sans Mono',consolas,'Courier New',monospace\"><span style=\"color: #008000; text-decoration-color: #008000\">DEBUG   </span> Tool Calls: <span style=\"font-weight: bold\">[</span>                                                                                             \n",
              "           <span style=\"font-weight: bold\">{</span>                                                                                                       \n",
              "             <span style=\"color: #008000; text-decoration-color: #008000\">\"id\"</span>: <span style=\"color: #008000; text-decoration-color: #008000\">\"call_j23a\"</span>,                                                                                    \n",
              "             <span style=\"color: #008000; text-decoration-color: #008000\">\"type\"</span>: <span style=\"color: #008000; text-decoration-color: #008000\">\"function\"</span>,                                                                                   \n",
              "             <span style=\"color: #008000; text-decoration-color: #008000\">\"function\"</span>: <span style=\"font-weight: bold\">{</span>                                                                                         \n",
              "               <span style=\"color: #008000; text-decoration-color: #008000\">\"name\"</span>: <span style=\"color: #008000; text-decoration-color: #008000\">\"get_company_symbol\"</span>,                                                                       \n",
              "               <span style=\"color: #008000; text-decoration-color: #008000\">\"arguments\"</span>: <span style=\"color: #008000; text-decoration-color: #008000\">\"{\\\"company\\\": \\\"Phidata\\\"}\"</span>                                                           \n",
              "             <span style=\"font-weight: bold\">}</span>                                                                                                     \n",
              "           <span style=\"font-weight: bold\">}</span>                                                                                                       \n",
              "         <span style=\"font-weight: bold\">]</span>                                                                                                         \n",
              "</pre>\n"
            ]
          },
          "metadata": {}
        },
        {
          "output_type": "display_data",
          "data": {
            "text/plain": [
              "\u001b[32mDEBUG   \u001b[0m ============== tool ==============                                                                        \n"
            ],
            "text/html": [
              "<pre style=\"white-space:pre;overflow-x:auto;line-height:normal;font-family:Menlo,'DejaVu Sans Mono',consolas,'Courier New',monospace\"><span style=\"color: #008000; text-decoration-color: #008000\">DEBUG   </span> ============== tool ==============                                                                        \n",
              "</pre>\n"
            ]
          },
          "metadata": {}
        },
        {
          "output_type": "display_data",
          "data": {
            "text/plain": [
              "\u001b[32mDEBUG   \u001b[0m Tool call Id: call_j23a                                                                                   \n"
            ],
            "text/html": [
              "<pre style=\"white-space:pre;overflow-x:auto;line-height:normal;font-family:Menlo,'DejaVu Sans Mono',consolas,'Courier New',monospace\"><span style=\"color: #008000; text-decoration-color: #008000\">DEBUG   </span> Tool call Id: call_j23a                                                                                   \n",
              "</pre>\n"
            ]
          },
          "metadata": {}
        },
        {
          "output_type": "display_data",
          "data": {
            "text/plain": [
              "\u001b[32mDEBUG   \u001b[0m MSFT                                                                                                      \n"
            ],
            "text/html": [
              "<pre style=\"white-space:pre;overflow-x:auto;line-height:normal;font-family:Menlo,'DejaVu Sans Mono',consolas,'Courier New',monospace\"><span style=\"color: #008000; text-decoration-color: #008000\">DEBUG   </span> MSFT                                                                                                      \n",
              "</pre>\n"
            ]
          },
          "metadata": {}
        },
        {
          "output_type": "display_data",
          "data": {
            "text/plain": [
              "\u001b[32mDEBUG   \u001b[0m ============== assistant ==============                                                                   \n"
            ],
            "text/html": [
              "<pre style=\"white-space:pre;overflow-x:auto;line-height:normal;font-family:Menlo,'DejaVu Sans Mono',consolas,'Courier New',monospace\"><span style=\"color: #008000; text-decoration-color: #008000\">DEBUG   </span> ============== assistant ==============                                                                   \n",
              "</pre>\n"
            ]
          },
          "metadata": {}
        },
        {
          "output_type": "display_data",
          "data": {
            "text/plain": [
              "\u001b[32mDEBUG   \u001b[0m Phidata is a private company and therefore does not have a stock symbol. I will provide information on    \n",
              "         TSLA and MSFT instead.                                                                                    \n",
              "                                                                                                                   \n",
              "         ### Fundamentals                                                                                          \n",
              "         To compare the fundamentals of TSLA and MSFT, we will use the following function:                         \n",
              "                                                                                                                   \n",
              "                                                                                                                   \n"
            ],
            "text/html": [
              "<pre style=\"white-space:pre;overflow-x:auto;line-height:normal;font-family:Menlo,'DejaVu Sans Mono',consolas,'Courier New',monospace\"><span style=\"color: #008000; text-decoration-color: #008000\">DEBUG   </span> Phidata is a private company and therefore does not have a stock symbol. I will provide information on    \n",
              "         TSLA and MSFT instead.                                                                                    \n",
              "                                                                                                                   \n",
              "         ### Fundamentals                                                                                          \n",
              "         To compare the fundamentals of TSLA and MSFT, we will use the following function:                         \n",
              "                                                                                                                   \n",
              "                                                                                                                   \n",
              "</pre>\n"
            ]
          },
          "metadata": {}
        },
        {
          "output_type": "display_data",
          "data": {
            "text/plain": [
              "\u001b[32mDEBUG   \u001b[0m Tool Calls: \u001b[1m[\u001b[0m                                                                                             \n",
              "           \u001b[1m{\u001b[0m                                                                                                       \n",
              "             \u001b[32m\"id\"\u001b[0m: \u001b[32m\"call_k5zw\"\u001b[0m,                                                                                    \n",
              "             \u001b[32m\"type\"\u001b[0m: \u001b[32m\"function\"\u001b[0m,                                                                                   \n",
              "             \u001b[32m\"function\"\u001b[0m: \u001b[1m{\u001b[0m                                                                                         \n",
              "               \u001b[32m\"name\"\u001b[0m: \u001b[32m\"get_stock_fundamentals\"\u001b[0m,                                                                   \n",
              "               \u001b[32m\"arguments\"\u001b[0m: \u001b[32m\"\u001b[0m\u001b[32m{\u001b[0m\u001b[32m\\\"symbol\\\": \\\"TSLA\\\"\u001b[0m\u001b[32m}\u001b[0m\u001b[32m\"\u001b[0m                                                               \n",
              "             \u001b[1m}\u001b[0m                                                                                                     \n",
              "           \u001b[1m}\u001b[0m,                                                                                                      \n",
              "           \u001b[1m{\u001b[0m                                                                                                       \n",
              "             \u001b[32m\"id\"\u001b[0m: \u001b[32m\"call_s843\"\u001b[0m,                                                                                    \n",
              "             \u001b[32m\"type\"\u001b[0m: \u001b[32m\"function\"\u001b[0m,                                                                                   \n",
              "             \u001b[32m\"function\"\u001b[0m: \u001b[1m{\u001b[0m                                                                                         \n",
              "               \u001b[32m\"name\"\u001b[0m: \u001b[32m\"get_stock_fundamentals\"\u001b[0m,                                                                   \n",
              "               \u001b[32m\"arguments\"\u001b[0m: \u001b[32m\"\u001b[0m\u001b[32m{\u001b[0m\u001b[32m\\\"symbol\\\": \\\"MSFT\\\"\u001b[0m\u001b[32m}\u001b[0m\u001b[32m\"\u001b[0m                                                               \n",
              "             \u001b[1m}\u001b[0m                                                                                                     \n",
              "           \u001b[1m}\u001b[0m                                                                                                       \n",
              "         \u001b[1m]\u001b[0m                                                                                                         \n"
            ],
            "text/html": [
              "<pre style=\"white-space:pre;overflow-x:auto;line-height:normal;font-family:Menlo,'DejaVu Sans Mono',consolas,'Courier New',monospace\"><span style=\"color: #008000; text-decoration-color: #008000\">DEBUG   </span> Tool Calls: <span style=\"font-weight: bold\">[</span>                                                                                             \n",
              "           <span style=\"font-weight: bold\">{</span>                                                                                                       \n",
              "             <span style=\"color: #008000; text-decoration-color: #008000\">\"id\"</span>: <span style=\"color: #008000; text-decoration-color: #008000\">\"call_k5zw\"</span>,                                                                                    \n",
              "             <span style=\"color: #008000; text-decoration-color: #008000\">\"type\"</span>: <span style=\"color: #008000; text-decoration-color: #008000\">\"function\"</span>,                                                                                   \n",
              "             <span style=\"color: #008000; text-decoration-color: #008000\">\"function\"</span>: <span style=\"font-weight: bold\">{</span>                                                                                         \n",
              "               <span style=\"color: #008000; text-decoration-color: #008000\">\"name\"</span>: <span style=\"color: #008000; text-decoration-color: #008000\">\"get_stock_fundamentals\"</span>,                                                                   \n",
              "               <span style=\"color: #008000; text-decoration-color: #008000\">\"arguments\"</span>: <span style=\"color: #008000; text-decoration-color: #008000\">\"{\\\"symbol\\\": \\\"TSLA\\\"}\"</span>                                                               \n",
              "             <span style=\"font-weight: bold\">}</span>                                                                                                     \n",
              "           <span style=\"font-weight: bold\">}</span>,                                                                                                      \n",
              "           <span style=\"font-weight: bold\">{</span>                                                                                                       \n",
              "             <span style=\"color: #008000; text-decoration-color: #008000\">\"id\"</span>: <span style=\"color: #008000; text-decoration-color: #008000\">\"call_s843\"</span>,                                                                                    \n",
              "             <span style=\"color: #008000; text-decoration-color: #008000\">\"type\"</span>: <span style=\"color: #008000; text-decoration-color: #008000\">\"function\"</span>,                                                                                   \n",
              "             <span style=\"color: #008000; text-decoration-color: #008000\">\"function\"</span>: <span style=\"font-weight: bold\">{</span>                                                                                         \n",
              "               <span style=\"color: #008000; text-decoration-color: #008000\">\"name\"</span>: <span style=\"color: #008000; text-decoration-color: #008000\">\"get_stock_fundamentals\"</span>,                                                                   \n",
              "               <span style=\"color: #008000; text-decoration-color: #008000\">\"arguments\"</span>: <span style=\"color: #008000; text-decoration-color: #008000\">\"{\\\"symbol\\\": \\\"MSFT\\\"}\"</span>                                                               \n",
              "             <span style=\"font-weight: bold\">}</span>                                                                                                     \n",
              "           <span style=\"font-weight: bold\">}</span>                                                                                                       \n",
              "         <span style=\"font-weight: bold\">]</span>                                                                                                         \n",
              "</pre>\n"
            ]
          },
          "metadata": {}
        },
        {
          "output_type": "display_data",
          "data": {
            "text/plain": [
              "\u001b[32mDEBUG   \u001b[0m **************** METRICS START ****************                                                           \n"
            ],
            "text/html": [
              "<pre style=\"white-space:pre;overflow-x:auto;line-height:normal;font-family:Menlo,'DejaVu Sans Mono',consolas,'Courier New',monospace\"><span style=\"color: #008000; text-decoration-color: #008000\">DEBUG   </span> **************** METRICS START ****************                                                           \n",
              "</pre>\n"
            ]
          },
          "metadata": {}
        },
        {
          "output_type": "display_data",
          "data": {
            "text/plain": [
              "\u001b[32mDEBUG   \u001b[0m * Time to first token:         \u001b[1;36m0.\u001b[0m4648s                                                                    \n"
            ],
            "text/html": [
              "<pre style=\"white-space:pre;overflow-x:auto;line-height:normal;font-family:Menlo,'DejaVu Sans Mono',consolas,'Courier New',monospace\"><span style=\"color: #008000; text-decoration-color: #008000\">DEBUG   </span> * Time to first token:         <span style=\"color: #008080; text-decoration-color: #008080; font-weight: bold\">0.</span>4648s                                                                    \n",
              "</pre>\n"
            ]
          },
          "metadata": {}
        },
        {
          "output_type": "display_data",
          "data": {
            "text/plain": [
              "\u001b[32mDEBUG   \u001b[0m * Time to generate response:   \u001b[1;36m2.\u001b[0m4398s                                                                    \n"
            ],
            "text/html": [
              "<pre style=\"white-space:pre;overflow-x:auto;line-height:normal;font-family:Menlo,'DejaVu Sans Mono',consolas,'Courier New',monospace\"><span style=\"color: #008000; text-decoration-color: #008000\">DEBUG   </span> * Time to generate response:   <span style=\"color: #008080; text-decoration-color: #008080; font-weight: bold\">2.</span>4398s                                                                    \n",
              "</pre>\n"
            ]
          },
          "metadata": {}
        },
        {
          "output_type": "display_data",
          "data": {
            "text/plain": [
              "\u001b[32mDEBUG   \u001b[0m * Tokens per second:           \u001b[1;36m0.0000\u001b[0m tokens/s                                                            \n"
            ],
            "text/html": [
              "<pre style=\"white-space:pre;overflow-x:auto;line-height:normal;font-family:Menlo,'DejaVu Sans Mono',consolas,'Courier New',monospace\"><span style=\"color: #008000; text-decoration-color: #008000\">DEBUG   </span> * Tokens per second:           <span style=\"color: #008080; text-decoration-color: #008080; font-weight: bold\">0.0000</span> tokens/s                                                            \n",
              "</pre>\n"
            ]
          },
          "metadata": {}
        },
        {
          "output_type": "display_data",
          "data": {
            "text/plain": [
              "\u001b[32mDEBUG   \u001b[0m * Input tokens:                \u001b[1;36m0\u001b[0m                                                                          \n"
            ],
            "text/html": [
              "<pre style=\"white-space:pre;overflow-x:auto;line-height:normal;font-family:Menlo,'DejaVu Sans Mono',consolas,'Courier New',monospace\"><span style=\"color: #008000; text-decoration-color: #008000\">DEBUG   </span> * Input tokens:                <span style=\"color: #008080; text-decoration-color: #008080; font-weight: bold\">0</span>                                                                          \n",
              "</pre>\n"
            ]
          },
          "metadata": {}
        },
        {
          "output_type": "display_data",
          "data": {
            "text/plain": [
              "\u001b[32mDEBUG   \u001b[0m * Output tokens:               \u001b[1;36m55\u001b[0m                                                                         \n"
            ],
            "text/html": [
              "<pre style=\"white-space:pre;overflow-x:auto;line-height:normal;font-family:Menlo,'DejaVu Sans Mono',consolas,'Courier New',monospace\"><span style=\"color: #008000; text-decoration-color: #008000\">DEBUG   </span> * Output tokens:               <span style=\"color: #008080; text-decoration-color: #008080; font-weight: bold\">55</span>                                                                         \n",
              "</pre>\n"
            ]
          },
          "metadata": {}
        },
        {
          "output_type": "display_data",
          "data": {
            "text/plain": [
              "\u001b[32mDEBUG   \u001b[0m * Total tokens:                \u001b[1;36m0\u001b[0m                                                                          \n"
            ],
            "text/html": [
              "<pre style=\"white-space:pre;overflow-x:auto;line-height:normal;font-family:Menlo,'DejaVu Sans Mono',consolas,'Courier New',monospace\"><span style=\"color: #008000; text-decoration-color: #008000\">DEBUG   </span> * Total tokens:                <span style=\"color: #008080; text-decoration-color: #008080; font-weight: bold\">0</span>                                                                          \n",
              "</pre>\n"
            ]
          },
          "metadata": {}
        },
        {
          "output_type": "display_data",
          "data": {
            "text/plain": [
              "\u001b[32mDEBUG   \u001b[0m **************** METRICS END ******************                                                           \n"
            ],
            "text/html": [
              "<pre style=\"white-space:pre;overflow-x:auto;line-height:normal;font-family:Menlo,'DejaVu Sans Mono',consolas,'Courier New',monospace\"><span style=\"color: #008000; text-decoration-color: #008000\">DEBUG   </span> **************** METRICS END ******************                                                           \n",
              "</pre>\n"
            ]
          },
          "metadata": {}
        },
        {
          "output_type": "display_data",
          "data": {
            "text/plain": [
              "\u001b[32mDEBUG   \u001b[0m Getting function get_stock_fundamentals                                                                   \n"
            ],
            "text/html": [
              "<pre style=\"white-space:pre;overflow-x:auto;line-height:normal;font-family:Menlo,'DejaVu Sans Mono',consolas,'Courier New',monospace\"><span style=\"color: #008000; text-decoration-color: #008000\">DEBUG   </span> Getting function get_stock_fundamentals                                                                   \n",
              "</pre>\n"
            ]
          },
          "metadata": {}
        },
        {
          "output_type": "display_data",
          "data": {
            "text/plain": [
              "\u001b[32mDEBUG   \u001b[0m Getting function get_stock_fundamentals                                                                   \n"
            ],
            "text/html": [
              "<pre style=\"white-space:pre;overflow-x:auto;line-height:normal;font-family:Menlo,'DejaVu Sans Mono',consolas,'Courier New',monospace\"><span style=\"color: #008000; text-decoration-color: #008000\">DEBUG   </span> Getting function get_stock_fundamentals                                                                   \n",
              "</pre>\n"
            ]
          },
          "metadata": {}
        },
        {
          "output_type": "display_data",
          "data": {
            "text/plain": [
              "\u001b[32mDEBUG   \u001b[0m Running: \u001b[1;35mget_stock_fundamentals\u001b[0m\u001b[1m(\u001b[0m\u001b[33msymbol\u001b[0m=\u001b[35mMSFT\u001b[0m\u001b[1m)\u001b[0m                                                              \n"
            ],
            "text/html": [
              "<pre style=\"white-space:pre;overflow-x:auto;line-height:normal;font-family:Menlo,'DejaVu Sans Mono',consolas,'Courier New',monospace\"><span style=\"color: #008000; text-decoration-color: #008000\">DEBUG   </span> Running: <span style=\"color: #800080; text-decoration-color: #800080; font-weight: bold\">get_stock_fundamentals</span><span style=\"font-weight: bold\">(</span><span style=\"color: #808000; text-decoration-color: #808000\">symbol</span>=<span style=\"color: #800080; text-decoration-color: #800080\">MSFT</span><span style=\"font-weight: bold\">)</span>                                                              \n",
              "</pre>\n"
            ]
          },
          "metadata": {}
        },
        {
          "output_type": "display_data",
          "data": {
            "text/plain": [
              "\u001b[32mDEBUG   \u001b[0m ---------- Groq Response Start ----------                                                                 \n"
            ],
            "text/html": [
              "<pre style=\"white-space:pre;overflow-x:auto;line-height:normal;font-family:Menlo,'DejaVu Sans Mono',consolas,'Courier New',monospace\"><span style=\"color: #008000; text-decoration-color: #008000\">DEBUG   </span> ---------- Groq Response Start ----------                                                                 \n",
              "</pre>\n"
            ]
          },
          "metadata": {}
        },
        {
          "output_type": "display_data",
          "data": {
            "text/plain": [
              "\u001b[32mDEBUG   \u001b[0m ============== system ==============                                                                      \n"
            ],
            "text/html": [
              "<pre style=\"white-space:pre;overflow-x:auto;line-height:normal;font-family:Menlo,'DejaVu Sans Mono',consolas,'Courier New',monospace\"><span style=\"color: #008000; text-decoration-color: #008000\">DEBUG   </span> ============== system ==============                                                                      \n",
              "</pre>\n"
            ]
          },
          "metadata": {}
        },
        {
          "output_type": "display_data",
          "data": {
            "text/plain": [
              "\u001b[32mDEBUG   \u001b[0m ## Instructions                                                                                           \n",
              "         - Use tables to display data.                                                                             \n",
              "         - If you need to find the symbol for a company, use the get_company_symbol tool.                          \n",
              "         - Use markdown to format your answers.                                                                    \n"
            ],
            "text/html": [
              "<pre style=\"white-space:pre;overflow-x:auto;line-height:normal;font-family:Menlo,'DejaVu Sans Mono',consolas,'Courier New',monospace\"><span style=\"color: #008000; text-decoration-color: #008000\">DEBUG   </span> ## Instructions                                                                                           \n",
              "         - Use tables to display data.                                                                             \n",
              "         - If you need to find the symbol for a company, use the get_company_symbol tool.                          \n",
              "         - Use markdown to format your answers.                                                                    \n",
              "</pre>\n"
            ]
          },
          "metadata": {}
        },
        {
          "output_type": "display_data",
          "data": {
            "text/plain": [
              "\u001b[32mDEBUG   \u001b[0m ============== user ==============                                                                        \n"
            ],
            "text/html": [
              "<pre style=\"white-space:pre;overflow-x:auto;line-height:normal;font-family:Menlo,'DejaVu Sans Mono',consolas,'Courier New',monospace\"><span style=\"color: #008000; text-decoration-color: #008000\">DEBUG   </span> ============== user ==============                                                                        \n",
              "</pre>\n"
            ]
          },
          "metadata": {}
        },
        {
          "output_type": "display_data",
          "data": {
            "text/plain": [
              "\u001b[32mDEBUG   \u001b[0m Summarize and compare analyst recommendations and fundamentals for TSLA and Phidata. Show in tables.      \n"
            ],
            "text/html": [
              "<pre style=\"white-space:pre;overflow-x:auto;line-height:normal;font-family:Menlo,'DejaVu Sans Mono',consolas,'Courier New',monospace\"><span style=\"color: #008000; text-decoration-color: #008000\">DEBUG   </span> Summarize and compare analyst recommendations and fundamentals for TSLA and Phidata. Show in tables.      \n",
              "</pre>\n"
            ]
          },
          "metadata": {}
        },
        {
          "output_type": "display_data",
          "data": {
            "text/plain": [
              "\u001b[32mDEBUG   \u001b[0m ============== assistant ==============                                                                   \n"
            ],
            "text/html": [
              "<pre style=\"white-space:pre;overflow-x:auto;line-height:normal;font-family:Menlo,'DejaVu Sans Mono',consolas,'Courier New',monospace\"><span style=\"color: #008000; text-decoration-color: #008000\">DEBUG   </span> ============== assistant ==============                                                                   \n",
              "</pre>\n"
            ]
          },
          "metadata": {}
        },
        {
          "output_type": "display_data",
          "data": {
            "text/plain": [
              "\u001b[32mDEBUG   \u001b[0m ### Step \u001b[1;36m1\u001b[0m: Find the symbol for Phidata                                                                   \n",
              "                                                                                                                   \n"
            ],
            "text/html": [
              "<pre style=\"white-space:pre;overflow-x:auto;line-height:normal;font-family:Menlo,'DejaVu Sans Mono',consolas,'Courier New',monospace\"><span style=\"color: #008000; text-decoration-color: #008000\">DEBUG   </span> ### Step <span style=\"color: #008080; text-decoration-color: #008080; font-weight: bold\">1</span>: Find the symbol for Phidata                                                                   \n",
              "                                                                                                                   \n",
              "</pre>\n"
            ]
          },
          "metadata": {}
        },
        {
          "output_type": "display_data",
          "data": {
            "text/plain": [
              "\u001b[32mDEBUG   \u001b[0m Tool Calls: \u001b[1m[\u001b[0m                                                                                             \n",
              "           \u001b[1m{\u001b[0m                                                                                                       \n",
              "             \u001b[32m\"id\"\u001b[0m: \u001b[32m\"call_j23a\"\u001b[0m,                                                                                    \n",
              "             \u001b[32m\"type\"\u001b[0m: \u001b[32m\"function\"\u001b[0m,                                                                                   \n",
              "             \u001b[32m\"function\"\u001b[0m: \u001b[1m{\u001b[0m                                                                                         \n",
              "               \u001b[32m\"name\"\u001b[0m: \u001b[32m\"get_company_symbol\"\u001b[0m,                                                                       \n",
              "               \u001b[32m\"arguments\"\u001b[0m: \u001b[32m\"\u001b[0m\u001b[32m{\u001b[0m\u001b[32m\\\"company\\\": \\\"Phidata\\\"\u001b[0m\u001b[32m}\u001b[0m\u001b[32m\"\u001b[0m                                                           \n",
              "             \u001b[1m}\u001b[0m                                                                                                     \n",
              "           \u001b[1m}\u001b[0m                                                                                                       \n",
              "         \u001b[1m]\u001b[0m                                                                                                         \n"
            ],
            "text/html": [
              "<pre style=\"white-space:pre;overflow-x:auto;line-height:normal;font-family:Menlo,'DejaVu Sans Mono',consolas,'Courier New',monospace\"><span style=\"color: #008000; text-decoration-color: #008000\">DEBUG   </span> Tool Calls: <span style=\"font-weight: bold\">[</span>                                                                                             \n",
              "           <span style=\"font-weight: bold\">{</span>                                                                                                       \n",
              "             <span style=\"color: #008000; text-decoration-color: #008000\">\"id\"</span>: <span style=\"color: #008000; text-decoration-color: #008000\">\"call_j23a\"</span>,                                                                                    \n",
              "             <span style=\"color: #008000; text-decoration-color: #008000\">\"type\"</span>: <span style=\"color: #008000; text-decoration-color: #008000\">\"function\"</span>,                                                                                   \n",
              "             <span style=\"color: #008000; text-decoration-color: #008000\">\"function\"</span>: <span style=\"font-weight: bold\">{</span>                                                                                         \n",
              "               <span style=\"color: #008000; text-decoration-color: #008000\">\"name\"</span>: <span style=\"color: #008000; text-decoration-color: #008000\">\"get_company_symbol\"</span>,                                                                       \n",
              "               <span style=\"color: #008000; text-decoration-color: #008000\">\"arguments\"</span>: <span style=\"color: #008000; text-decoration-color: #008000\">\"{\\\"company\\\": \\\"Phidata\\\"}\"</span>                                                           \n",
              "             <span style=\"font-weight: bold\">}</span>                                                                                                     \n",
              "           <span style=\"font-weight: bold\">}</span>                                                                                                       \n",
              "         <span style=\"font-weight: bold\">]</span>                                                                                                         \n",
              "</pre>\n"
            ]
          },
          "metadata": {}
        },
        {
          "output_type": "display_data",
          "data": {
            "text/plain": [
              "\u001b[32mDEBUG   \u001b[0m ============== tool ==============                                                                        \n"
            ],
            "text/html": [
              "<pre style=\"white-space:pre;overflow-x:auto;line-height:normal;font-family:Menlo,'DejaVu Sans Mono',consolas,'Courier New',monospace\"><span style=\"color: #008000; text-decoration-color: #008000\">DEBUG   </span> ============== tool ==============                                                                        \n",
              "</pre>\n"
            ]
          },
          "metadata": {}
        },
        {
          "output_type": "display_data",
          "data": {
            "text/plain": [
              "\u001b[32mDEBUG   \u001b[0m Tool call Id: call_j23a                                                                                   \n"
            ],
            "text/html": [
              "<pre style=\"white-space:pre;overflow-x:auto;line-height:normal;font-family:Menlo,'DejaVu Sans Mono',consolas,'Courier New',monospace\"><span style=\"color: #008000; text-decoration-color: #008000\">DEBUG   </span> Tool call Id: call_j23a                                                                                   \n",
              "</pre>\n"
            ]
          },
          "metadata": {}
        },
        {
          "output_type": "display_data",
          "data": {
            "text/plain": [
              "\u001b[32mDEBUG   \u001b[0m MSFT                                                                                                      \n"
            ],
            "text/html": [
              "<pre style=\"white-space:pre;overflow-x:auto;line-height:normal;font-family:Menlo,'DejaVu Sans Mono',consolas,'Courier New',monospace\"><span style=\"color: #008000; text-decoration-color: #008000\">DEBUG   </span> MSFT                                                                                                      \n",
              "</pre>\n"
            ]
          },
          "metadata": {}
        },
        {
          "output_type": "display_data",
          "data": {
            "text/plain": [
              "\u001b[32mDEBUG   \u001b[0m ============== assistant ==============                                                                   \n"
            ],
            "text/html": [
              "<pre style=\"white-space:pre;overflow-x:auto;line-height:normal;font-family:Menlo,'DejaVu Sans Mono',consolas,'Courier New',monospace\"><span style=\"color: #008000; text-decoration-color: #008000\">DEBUG   </span> ============== assistant ==============                                                                   \n",
              "</pre>\n"
            ]
          },
          "metadata": {}
        },
        {
          "output_type": "display_data",
          "data": {
            "text/plain": [
              "\u001b[32mDEBUG   \u001b[0m Phidata is a private company and therefore does not have a stock symbol. I will provide information on    \n",
              "         TSLA and MSFT instead.                                                                                    \n",
              "                                                                                                                   \n",
              "         ### Fundamentals                                                                                          \n",
              "         To compare the fundamentals of TSLA and MSFT, we will use the following function:                         \n",
              "                                                                                                                   \n",
              "                                                                                                                   \n"
            ],
            "text/html": [
              "<pre style=\"white-space:pre;overflow-x:auto;line-height:normal;font-family:Menlo,'DejaVu Sans Mono',consolas,'Courier New',monospace\"><span style=\"color: #008000; text-decoration-color: #008000\">DEBUG   </span> Phidata is a private company and therefore does not have a stock symbol. I will provide information on    \n",
              "         TSLA and MSFT instead.                                                                                    \n",
              "                                                                                                                   \n",
              "         ### Fundamentals                                                                                          \n",
              "         To compare the fundamentals of TSLA and MSFT, we will use the following function:                         \n",
              "                                                                                                                   \n",
              "                                                                                                                   \n",
              "</pre>\n"
            ]
          },
          "metadata": {}
        },
        {
          "output_type": "display_data",
          "data": {
            "text/plain": [
              "\u001b[32mDEBUG   \u001b[0m Tool Calls: \u001b[1m[\u001b[0m                                                                                             \n",
              "           \u001b[1m{\u001b[0m                                                                                                       \n",
              "             \u001b[32m\"id\"\u001b[0m: \u001b[32m\"call_k5zw\"\u001b[0m,                                                                                    \n",
              "             \u001b[32m\"type\"\u001b[0m: \u001b[32m\"function\"\u001b[0m,                                                                                   \n",
              "             \u001b[32m\"function\"\u001b[0m: \u001b[1m{\u001b[0m                                                                                         \n",
              "               \u001b[32m\"name\"\u001b[0m: \u001b[32m\"get_stock_fundamentals\"\u001b[0m,                                                                   \n",
              "               \u001b[32m\"arguments\"\u001b[0m: \u001b[32m\"\u001b[0m\u001b[32m{\u001b[0m\u001b[32m\\\"symbol\\\": \\\"TSLA\\\"\u001b[0m\u001b[32m}\u001b[0m\u001b[32m\"\u001b[0m                                                               \n",
              "             \u001b[1m}\u001b[0m                                                                                                     \n",
              "           \u001b[1m}\u001b[0m,                                                                                                      \n",
              "           \u001b[1m{\u001b[0m                                                                                                       \n",
              "             \u001b[32m\"id\"\u001b[0m: \u001b[32m\"call_s843\"\u001b[0m,                                                                                    \n",
              "             \u001b[32m\"type\"\u001b[0m: \u001b[32m\"function\"\u001b[0m,                                                                                   \n",
              "             \u001b[32m\"function\"\u001b[0m: \u001b[1m{\u001b[0m                                                                                         \n",
              "               \u001b[32m\"name\"\u001b[0m: \u001b[32m\"get_stock_fundamentals\"\u001b[0m,                                                                   \n",
              "               \u001b[32m\"arguments\"\u001b[0m: \u001b[32m\"\u001b[0m\u001b[32m{\u001b[0m\u001b[32m\\\"symbol\\\": \\\"MSFT\\\"\u001b[0m\u001b[32m}\u001b[0m\u001b[32m\"\u001b[0m                                                               \n",
              "             \u001b[1m}\u001b[0m                                                                                                     \n",
              "           \u001b[1m}\u001b[0m                                                                                                       \n",
              "         \u001b[1m]\u001b[0m                                                                                                         \n"
            ],
            "text/html": [
              "<pre style=\"white-space:pre;overflow-x:auto;line-height:normal;font-family:Menlo,'DejaVu Sans Mono',consolas,'Courier New',monospace\"><span style=\"color: #008000; text-decoration-color: #008000\">DEBUG   </span> Tool Calls: <span style=\"font-weight: bold\">[</span>                                                                                             \n",
              "           <span style=\"font-weight: bold\">{</span>                                                                                                       \n",
              "             <span style=\"color: #008000; text-decoration-color: #008000\">\"id\"</span>: <span style=\"color: #008000; text-decoration-color: #008000\">\"call_k5zw\"</span>,                                                                                    \n",
              "             <span style=\"color: #008000; text-decoration-color: #008000\">\"type\"</span>: <span style=\"color: #008000; text-decoration-color: #008000\">\"function\"</span>,                                                                                   \n",
              "             <span style=\"color: #008000; text-decoration-color: #008000\">\"function\"</span>: <span style=\"font-weight: bold\">{</span>                                                                                         \n",
              "               <span style=\"color: #008000; text-decoration-color: #008000\">\"name\"</span>: <span style=\"color: #008000; text-decoration-color: #008000\">\"get_stock_fundamentals\"</span>,                                                                   \n",
              "               <span style=\"color: #008000; text-decoration-color: #008000\">\"arguments\"</span>: <span style=\"color: #008000; text-decoration-color: #008000\">\"{\\\"symbol\\\": \\\"TSLA\\\"}\"</span>                                                               \n",
              "             <span style=\"font-weight: bold\">}</span>                                                                                                     \n",
              "           <span style=\"font-weight: bold\">}</span>,                                                                                                      \n",
              "           <span style=\"font-weight: bold\">{</span>                                                                                                       \n",
              "             <span style=\"color: #008000; text-decoration-color: #008000\">\"id\"</span>: <span style=\"color: #008000; text-decoration-color: #008000\">\"call_s843\"</span>,                                                                                    \n",
              "             <span style=\"color: #008000; text-decoration-color: #008000\">\"type\"</span>: <span style=\"color: #008000; text-decoration-color: #008000\">\"function\"</span>,                                                                                   \n",
              "             <span style=\"color: #008000; text-decoration-color: #008000\">\"function\"</span>: <span style=\"font-weight: bold\">{</span>                                                                                         \n",
              "               <span style=\"color: #008000; text-decoration-color: #008000\">\"name\"</span>: <span style=\"color: #008000; text-decoration-color: #008000\">\"get_stock_fundamentals\"</span>,                                                                   \n",
              "               <span style=\"color: #008000; text-decoration-color: #008000\">\"arguments\"</span>: <span style=\"color: #008000; text-decoration-color: #008000\">\"{\\\"symbol\\\": \\\"MSFT\\\"}\"</span>                                                               \n",
              "             <span style=\"font-weight: bold\">}</span>                                                                                                     \n",
              "           <span style=\"font-weight: bold\">}</span>                                                                                                       \n",
              "         <span style=\"font-weight: bold\">]</span>                                                                                                         \n",
              "</pre>\n"
            ]
          },
          "metadata": {}
        },
        {
          "output_type": "display_data",
          "data": {
            "text/plain": [
              "\u001b[32mDEBUG   \u001b[0m ============== tool ==============                                                                        \n"
            ],
            "text/html": [
              "<pre style=\"white-space:pre;overflow-x:auto;line-height:normal;font-family:Menlo,'DejaVu Sans Mono',consolas,'Courier New',monospace\"><span style=\"color: #008000; text-decoration-color: #008000\">DEBUG   </span> ============== tool ==============                                                                        \n",
              "</pre>\n"
            ]
          },
          "metadata": {}
        },
        {
          "output_type": "display_data",
          "data": {
            "text/plain": [
              "\u001b[32mDEBUG   \u001b[0m Tool call Id: call_k5zw                                                                                   \n"
            ],
            "text/html": [
              "<pre style=\"white-space:pre;overflow-x:auto;line-height:normal;font-family:Menlo,'DejaVu Sans Mono',consolas,'Courier New',monospace\"><span style=\"color: #008000; text-decoration-color: #008000\">DEBUG   </span> Tool call Id: call_k5zw                                                                                   \n",
              "</pre>\n"
            ]
          },
          "metadata": {}
        },
        {
          "output_type": "display_data",
          "data": {
            "text/plain": [
              "\u001b[32mDEBUG   \u001b[0m \u001b[1m{\u001b[0m                                                                                                         \n",
              "           \u001b[32m\"symbol\"\u001b[0m: \u001b[32m\"TSLA\"\u001b[0m,                                                                                       \n",
              "           \u001b[32m\"company_name\"\u001b[0m: \u001b[32m\"Tesla, Inc.\"\u001b[0m,                                                                          \n",
              "           \u001b[32m\"sector\"\u001b[0m: \u001b[32m\"Consumer Cyclical\"\u001b[0m,                                                                          \n",
              "           \u001b[32m\"industry\"\u001b[0m: \u001b[32m\"Auto Manufacturers\"\u001b[0m,                                                                       \n",
              "           \u001b[32m\"market_cap\"\u001b[0m: \u001b[1;36m1465825755136\u001b[0m,                                                                            \n",
              "           \u001b[32m\"pe_ratio\"\u001b[0m: \u001b[1;36m139.49826\u001b[0m,                                                                                  \n",
              "           \u001b[32m\"pb_ratio\"\u001b[0m: \u001b[1;36m20.940796\u001b[0m,                                                                                  \n",
              "           \u001b[32m\"dividend_yield\"\u001b[0m: \u001b[32m\"N/A\"\u001b[0m,                                                                                \n",
              "           \u001b[32m\"eps\"\u001b[0m: \u001b[1;36m3.66\u001b[0m,                                                                                            \n",
              "           \u001b[32m\"beta\"\u001b[0m: \u001b[1;36m2.295\u001b[0m,                                                                                          \n",
              "           \u001b[32m\"52_week_high\"\u001b[0m: \u001b[1;36m458.97\u001b[0m,                                                                                 \n",
              "           \u001b[32m\"52_week_low\"\u001b[0m: \u001b[1;36m138.8\u001b[0m                                                                                    \n",
              "         \u001b[1m}\u001b[0m                                                                                                         \n"
            ],
            "text/html": [
              "<pre style=\"white-space:pre;overflow-x:auto;line-height:normal;font-family:Menlo,'DejaVu Sans Mono',consolas,'Courier New',monospace\"><span style=\"color: #008000; text-decoration-color: #008000\">DEBUG   </span> <span style=\"font-weight: bold\">{</span>                                                                                                         \n",
              "           <span style=\"color: #008000; text-decoration-color: #008000\">\"symbol\"</span>: <span style=\"color: #008000; text-decoration-color: #008000\">\"TSLA\"</span>,                                                                                       \n",
              "           <span style=\"color: #008000; text-decoration-color: #008000\">\"company_name\"</span>: <span style=\"color: #008000; text-decoration-color: #008000\">\"Tesla, Inc.\"</span>,                                                                          \n",
              "           <span style=\"color: #008000; text-decoration-color: #008000\">\"sector\"</span>: <span style=\"color: #008000; text-decoration-color: #008000\">\"Consumer Cyclical\"</span>,                                                                          \n",
              "           <span style=\"color: #008000; text-decoration-color: #008000\">\"industry\"</span>: <span style=\"color: #008000; text-decoration-color: #008000\">\"Auto Manufacturers\"</span>,                                                                       \n",
              "           <span style=\"color: #008000; text-decoration-color: #008000\">\"market_cap\"</span>: <span style=\"color: #008080; text-decoration-color: #008080; font-weight: bold\">1465825755136</span>,                                                                            \n",
              "           <span style=\"color: #008000; text-decoration-color: #008000\">\"pe_ratio\"</span>: <span style=\"color: #008080; text-decoration-color: #008080; font-weight: bold\">139.49826</span>,                                                                                  \n",
              "           <span style=\"color: #008000; text-decoration-color: #008000\">\"pb_ratio\"</span>: <span style=\"color: #008080; text-decoration-color: #008080; font-weight: bold\">20.940796</span>,                                                                                  \n",
              "           <span style=\"color: #008000; text-decoration-color: #008000\">\"dividend_yield\"</span>: <span style=\"color: #008000; text-decoration-color: #008000\">\"N/A\"</span>,                                                                                \n",
              "           <span style=\"color: #008000; text-decoration-color: #008000\">\"eps\"</span>: <span style=\"color: #008080; text-decoration-color: #008080; font-weight: bold\">3.66</span>,                                                                                            \n",
              "           <span style=\"color: #008000; text-decoration-color: #008000\">\"beta\"</span>: <span style=\"color: #008080; text-decoration-color: #008080; font-weight: bold\">2.295</span>,                                                                                          \n",
              "           <span style=\"color: #008000; text-decoration-color: #008000\">\"52_week_high\"</span>: <span style=\"color: #008080; text-decoration-color: #008080; font-weight: bold\">458.97</span>,                                                                                 \n",
              "           <span style=\"color: #008000; text-decoration-color: #008000\">\"52_week_low\"</span>: <span style=\"color: #008080; text-decoration-color: #008080; font-weight: bold\">138.8</span>                                                                                    \n",
              "         <span style=\"font-weight: bold\">}</span>                                                                                                         \n",
              "</pre>\n"
            ]
          },
          "metadata": {}
        },
        {
          "output_type": "display_data",
          "data": {
            "text/plain": [
              "\u001b[32mDEBUG   \u001b[0m ============== tool ==============                                                                        \n"
            ],
            "text/html": [
              "<pre style=\"white-space:pre;overflow-x:auto;line-height:normal;font-family:Menlo,'DejaVu Sans Mono',consolas,'Courier New',monospace\"><span style=\"color: #008000; text-decoration-color: #008000\">DEBUG   </span> ============== tool ==============                                                                        \n",
              "</pre>\n"
            ]
          },
          "metadata": {}
        },
        {
          "output_type": "display_data",
          "data": {
            "text/plain": [
              "\u001b[32mDEBUG   \u001b[0m Tool call Id: call_s843                                                                                   \n"
            ],
            "text/html": [
              "<pre style=\"white-space:pre;overflow-x:auto;line-height:normal;font-family:Menlo,'DejaVu Sans Mono',consolas,'Courier New',monospace\"><span style=\"color: #008000; text-decoration-color: #008000\">DEBUG   </span> Tool call Id: call_s843                                                                                   \n",
              "</pre>\n"
            ]
          },
          "metadata": {}
        },
        {
          "output_type": "display_data",
          "data": {
            "text/plain": [
              "\u001b[32mDEBUG   \u001b[0m ============== assistant ==============                                                                   \n"
            ],
            "text/html": [
              "<pre style=\"white-space:pre;overflow-x:auto;line-height:normal;font-family:Menlo,'DejaVu Sans Mono',consolas,'Courier New',monospace\"><span style=\"color: #008000; text-decoration-color: #008000\">DEBUG   </span> ============== assistant ==============                                                                   \n",
              "</pre>\n"
            ]
          },
          "metadata": {}
        },
        {
          "output_type": "display_data",
          "data": {
            "text/plain": [
              "\u001b[32mDEBUG   \u001b[0m Tool Calls: \u001b[1m[\u001b[0m                                                                                             \n",
              "           \u001b[1m{\u001b[0m                                                                                                       \n",
              "             \u001b[32m\"id\"\u001b[0m: \u001b[32m\"call_ymph\"\u001b[0m,                                                                                    \n",
              "             \u001b[32m\"type\"\u001b[0m: \u001b[32m\"function\"\u001b[0m,                                                                                   \n",
              "             \u001b[32m\"function\"\u001b[0m: \u001b[1m{\u001b[0m                                                                                         \n",
              "               \u001b[32m\"name\"\u001b[0m: \u001b[32m\"get_analyst_recommendations\"\u001b[0m,                                                              \n",
              "               \u001b[32m\"arguments\"\u001b[0m: \u001b[32m\"\u001b[0m\u001b[32m{\u001b[0m\u001b[32m\\\"symbol\\\": \\\"TSLA\\\"\u001b[0m\u001b[32m}\u001b[0m\u001b[32m\"\u001b[0m                                                               \n",
              "             \u001b[1m}\u001b[0m                                                                                                     \n",
              "           \u001b[1m}\u001b[0m,                                                                                                      \n",
              "           \u001b[1m{\u001b[0m                                                                                                       \n",
              "             \u001b[32m\"id\"\u001b[0m: \u001b[32m\"call_93vt\"\u001b[0m,                                                                                    \n",
              "             \u001b[32m\"type\"\u001b[0m: \u001b[32m\"function\"\u001b[0m,                                                                                   \n",
              "             \u001b[32m\"function\"\u001b[0m: \u001b[1m{\u001b[0m                                                                                         \n",
              "               \u001b[32m\"name\"\u001b[0m: \u001b[32m\"get_analyst_recommendations\"\u001b[0m,                                                              \n",
              "               \u001b[32m\"arguments\"\u001b[0m: \u001b[32m\"\u001b[0m\u001b[32m{\u001b[0m\u001b[32m\\\"symbol\\\": \\\"MSFT\\\"\u001b[0m\u001b[32m}\u001b[0m\u001b[32m\"\u001b[0m                                                               \n",
              "             \u001b[1m}\u001b[0m                                                                                                     \n",
              "           \u001b[1m}\u001b[0m                                                                                                       \n",
              "         \u001b[1m]\u001b[0m                                                                                                         \n"
            ],
            "text/html": [
              "<pre style=\"white-space:pre;overflow-x:auto;line-height:normal;font-family:Menlo,'DejaVu Sans Mono',consolas,'Courier New',monospace\"><span style=\"color: #008000; text-decoration-color: #008000\">DEBUG   </span> Tool Calls: <span style=\"font-weight: bold\">[</span>                                                                                             \n",
              "           <span style=\"font-weight: bold\">{</span>                                                                                                       \n",
              "             <span style=\"color: #008000; text-decoration-color: #008000\">\"id\"</span>: <span style=\"color: #008000; text-decoration-color: #008000\">\"call_ymph\"</span>,                                                                                    \n",
              "             <span style=\"color: #008000; text-decoration-color: #008000\">\"type\"</span>: <span style=\"color: #008000; text-decoration-color: #008000\">\"function\"</span>,                                                                                   \n",
              "             <span style=\"color: #008000; text-decoration-color: #008000\">\"function\"</span>: <span style=\"font-weight: bold\">{</span>                                                                                         \n",
              "               <span style=\"color: #008000; text-decoration-color: #008000\">\"name\"</span>: <span style=\"color: #008000; text-decoration-color: #008000\">\"get_analyst_recommendations\"</span>,                                                              \n",
              "               <span style=\"color: #008000; text-decoration-color: #008000\">\"arguments\"</span>: <span style=\"color: #008000; text-decoration-color: #008000\">\"{\\\"symbol\\\": \\\"TSLA\\\"}\"</span>                                                               \n",
              "             <span style=\"font-weight: bold\">}</span>                                                                                                     \n",
              "           <span style=\"font-weight: bold\">}</span>,                                                                                                      \n",
              "           <span style=\"font-weight: bold\">{</span>                                                                                                       \n",
              "             <span style=\"color: #008000; text-decoration-color: #008000\">\"id\"</span>: <span style=\"color: #008000; text-decoration-color: #008000\">\"call_93vt\"</span>,                                                                                    \n",
              "             <span style=\"color: #008000; text-decoration-color: #008000\">\"type\"</span>: <span style=\"color: #008000; text-decoration-color: #008000\">\"function\"</span>,                                                                                   \n",
              "             <span style=\"color: #008000; text-decoration-color: #008000\">\"function\"</span>: <span style=\"font-weight: bold\">{</span>                                                                                         \n",
              "               <span style=\"color: #008000; text-decoration-color: #008000\">\"name\"</span>: <span style=\"color: #008000; text-decoration-color: #008000\">\"get_analyst_recommendations\"</span>,                                                              \n",
              "               <span style=\"color: #008000; text-decoration-color: #008000\">\"arguments\"</span>: <span style=\"color: #008000; text-decoration-color: #008000\">\"{\\\"symbol\\\": \\\"MSFT\\\"}\"</span>                                                               \n",
              "             <span style=\"font-weight: bold\">}</span>                                                                                                     \n",
              "           <span style=\"font-weight: bold\">}</span>                                                                                                       \n",
              "         <span style=\"font-weight: bold\">]</span>                                                                                                         \n",
              "</pre>\n"
            ]
          },
          "metadata": {}
        },
        {
          "output_type": "display_data",
          "data": {
            "text/plain": [
              "\u001b[32mDEBUG   \u001b[0m **************** METRICS START ****************                                                           \n"
            ],
            "text/html": [
              "<pre style=\"white-space:pre;overflow-x:auto;line-height:normal;font-family:Menlo,'DejaVu Sans Mono',consolas,'Courier New',monospace\"><span style=\"color: #008000; text-decoration-color: #008000\">DEBUG   </span> **************** METRICS START ****************                                                           \n",
              "</pre>\n"
            ]
          },
          "metadata": {}
        },
        {
          "output_type": "display_data",
          "data": {
            "text/plain": [
              "\u001b[32mDEBUG   \u001b[0m * Time to first token:         \u001b[1;36m0.\u001b[0m4346s                                                                    \n"
            ],
            "text/html": [
              "<pre style=\"white-space:pre;overflow-x:auto;line-height:normal;font-family:Menlo,'DejaVu Sans Mono',consolas,'Courier New',monospace\"><span style=\"color: #008000; text-decoration-color: #008000\">DEBUG   </span> * Time to first token:         <span style=\"color: #008080; text-decoration-color: #008080; font-weight: bold\">0.</span>4346s                                                                    \n",
              "</pre>\n"
            ]
          },
          "metadata": {}
        },
        {
          "output_type": "display_data",
          "data": {
            "text/plain": [
              "\u001b[32mDEBUG   \u001b[0m * Time to generate response:   \u001b[1;36m0.\u001b[0m5153s                                                                    \n"
            ],
            "text/html": [
              "<pre style=\"white-space:pre;overflow-x:auto;line-height:normal;font-family:Menlo,'DejaVu Sans Mono',consolas,'Courier New',monospace\"><span style=\"color: #008000; text-decoration-color: #008000\">DEBUG   </span> * Time to generate response:   <span style=\"color: #008080; text-decoration-color: #008080; font-weight: bold\">0.</span>5153s                                                                    \n",
              "</pre>\n"
            ]
          },
          "metadata": {}
        },
        {
          "output_type": "display_data",
          "data": {
            "text/plain": [
              "\u001b[32mDEBUG   \u001b[0m * Tokens per second:           \u001b[1;36m0.0000\u001b[0m tokens/s                                                            \n"
            ],
            "text/html": [
              "<pre style=\"white-space:pre;overflow-x:auto;line-height:normal;font-family:Menlo,'DejaVu Sans Mono',consolas,'Courier New',monospace\"><span style=\"color: #008000; text-decoration-color: #008000\">DEBUG   </span> * Tokens per second:           <span style=\"color: #008080; text-decoration-color: #008080; font-weight: bold\">0.0000</span> tokens/s                                                            \n",
              "</pre>\n"
            ]
          },
          "metadata": {}
        },
        {
          "output_type": "display_data",
          "data": {
            "text/plain": [
              "\u001b[32mDEBUG   \u001b[0m * Input tokens:                \u001b[1;36m0\u001b[0m                                                                          \n"
            ],
            "text/html": [
              "<pre style=\"white-space:pre;overflow-x:auto;line-height:normal;font-family:Menlo,'DejaVu Sans Mono',consolas,'Courier New',monospace\"><span style=\"color: #008000; text-decoration-color: #008000\">DEBUG   </span> * Input tokens:                <span style=\"color: #008080; text-decoration-color: #008080; font-weight: bold\">0</span>                                                                          \n",
              "</pre>\n"
            ]
          },
          "metadata": {}
        },
        {
          "output_type": "display_data",
          "data": {
            "text/plain": [
              "\u001b[32mDEBUG   \u001b[0m * Output tokens:               \u001b[1;36m4\u001b[0m                                                                          \n"
            ],
            "text/html": [
              "<pre style=\"white-space:pre;overflow-x:auto;line-height:normal;font-family:Menlo,'DejaVu Sans Mono',consolas,'Courier New',monospace\"><span style=\"color: #008000; text-decoration-color: #008000\">DEBUG   </span> * Output tokens:               <span style=\"color: #008080; text-decoration-color: #008080; font-weight: bold\">4</span>                                                                          \n",
              "</pre>\n"
            ]
          },
          "metadata": {}
        },
        {
          "output_type": "display_data",
          "data": {
            "text/plain": [
              "\u001b[32mDEBUG   \u001b[0m * Total tokens:                \u001b[1;36m0\u001b[0m                                                                          \n"
            ],
            "text/html": [
              "<pre style=\"white-space:pre;overflow-x:auto;line-height:normal;font-family:Menlo,'DejaVu Sans Mono',consolas,'Courier New',monospace\"><span style=\"color: #008000; text-decoration-color: #008000\">DEBUG   </span> * Total tokens:                <span style=\"color: #008080; text-decoration-color: #008080; font-weight: bold\">0</span>                                                                          \n",
              "</pre>\n"
            ]
          },
          "metadata": {}
        },
        {
          "output_type": "display_data",
          "data": {
            "text/plain": [
              "\u001b[32mDEBUG   \u001b[0m **************** METRICS END ******************                                                           \n"
            ],
            "text/html": [
              "<pre style=\"white-space:pre;overflow-x:auto;line-height:normal;font-family:Menlo,'DejaVu Sans Mono',consolas,'Courier New',monospace\"><span style=\"color: #008000; text-decoration-color: #008000\">DEBUG   </span> **************** METRICS END ******************                                                           \n",
              "</pre>\n"
            ]
          },
          "metadata": {}
        },
        {
          "output_type": "display_data",
          "data": {
            "text/plain": [
              "\u001b[32mDEBUG   \u001b[0m Getting function get_analyst_recommendations                                                              \n"
            ],
            "text/html": [
              "<pre style=\"white-space:pre;overflow-x:auto;line-height:normal;font-family:Menlo,'DejaVu Sans Mono',consolas,'Courier New',monospace\"><span style=\"color: #008000; text-decoration-color: #008000\">DEBUG   </span> Getting function get_analyst_recommendations                                                              \n",
              "</pre>\n"
            ]
          },
          "metadata": {}
        },
        {
          "output_type": "display_data",
          "data": {
            "text/plain": [
              "\u001b[32mDEBUG   \u001b[0m Getting function get_analyst_recommendations                                                              \n"
            ],
            "text/html": [
              "<pre style=\"white-space:pre;overflow-x:auto;line-height:normal;font-family:Menlo,'DejaVu Sans Mono',consolas,'Courier New',monospace\"><span style=\"color: #008000; text-decoration-color: #008000\">DEBUG   </span> Getting function get_analyst_recommendations                                                              \n",
              "</pre>\n"
            ]
          },
          "metadata": {}
        },
        {
          "output_type": "display_data",
          "data": {
            "text/plain": [
              "\u001b[32mDEBUG   \u001b[0m Running: \u001b[1;35mget_analyst_recommendations\u001b[0m\u001b[1m(\u001b[0m\u001b[33msymbol\u001b[0m=\u001b[35mTSLA\u001b[0m\u001b[1m)\u001b[0m                                                         \n"
            ],
            "text/html": [
              "<pre style=\"white-space:pre;overflow-x:auto;line-height:normal;font-family:Menlo,'DejaVu Sans Mono',consolas,'Courier New',monospace\"><span style=\"color: #008000; text-decoration-color: #008000\">DEBUG   </span> Running: <span style=\"color: #800080; text-decoration-color: #800080; font-weight: bold\">get_analyst_recommendations</span><span style=\"font-weight: bold\">(</span><span style=\"color: #808000; text-decoration-color: #808000\">symbol</span>=<span style=\"color: #800080; text-decoration-color: #800080\">TSLA</span><span style=\"font-weight: bold\">)</span>                                                         \n",
              "</pre>\n"
            ]
          },
          "metadata": {}
        },
        {
          "output_type": "display_data",
          "data": {
            "text/plain": [
              "\u001b[32mDEBUG   \u001b[0m Running: \u001b[1;35mget_analyst_recommendations\u001b[0m\u001b[1m(\u001b[0m\u001b[33msymbol\u001b[0m=\u001b[35mMSFT\u001b[0m\u001b[1m)\u001b[0m                                                         \n"
            ],
            "text/html": [
              "<pre style=\"white-space:pre;overflow-x:auto;line-height:normal;font-family:Menlo,'DejaVu Sans Mono',consolas,'Courier New',monospace\"><span style=\"color: #008000; text-decoration-color: #008000\">DEBUG   </span> Running: <span style=\"color: #800080; text-decoration-color: #800080; font-weight: bold\">get_analyst_recommendations</span><span style=\"font-weight: bold\">(</span><span style=\"color: #808000; text-decoration-color: #808000\">symbol</span>=<span style=\"color: #800080; text-decoration-color: #800080\">MSFT</span><span style=\"font-weight: bold\">)</span>                                                         \n",
              "</pre>\n"
            ]
          },
          "metadata": {}
        },
        {
          "output_type": "display_data",
          "data": {
            "text/plain": [
              "\u001b[32mDEBUG   \u001b[0m ---------- Groq Response Start ----------                                                                 \n"
            ],
            "text/html": [
              "<pre style=\"white-space:pre;overflow-x:auto;line-height:normal;font-family:Menlo,'DejaVu Sans Mono',consolas,'Courier New',monospace\"><span style=\"color: #008000; text-decoration-color: #008000\">DEBUG   </span> ---------- Groq Response Start ----------                                                                 \n",
              "</pre>\n"
            ]
          },
          "metadata": {}
        },
        {
          "output_type": "display_data",
          "data": {
            "text/plain": [
              "\u001b[32mDEBUG   \u001b[0m ============== system ==============                                                                      \n"
            ],
            "text/html": [
              "<pre style=\"white-space:pre;overflow-x:auto;line-height:normal;font-family:Menlo,'DejaVu Sans Mono',consolas,'Courier New',monospace\"><span style=\"color: #008000; text-decoration-color: #008000\">DEBUG   </span> ============== system ==============                                                                      \n",
              "</pre>\n"
            ]
          },
          "metadata": {}
        },
        {
          "output_type": "display_data",
          "data": {
            "text/plain": [
              "\u001b[32mDEBUG   \u001b[0m ## Instructions                                                                                           \n",
              "         - Use tables to display data.                                                                             \n",
              "         - If you need to find the symbol for a company, use the get_company_symbol tool.                          \n",
              "         - Use markdown to format your answers.                                                                    \n"
            ],
            "text/html": [
              "<pre style=\"white-space:pre;overflow-x:auto;line-height:normal;font-family:Menlo,'DejaVu Sans Mono',consolas,'Courier New',monospace\"><span style=\"color: #008000; text-decoration-color: #008000\">DEBUG   </span> ## Instructions                                                                                           \n",
              "         - Use tables to display data.                                                                             \n",
              "         - If you need to find the symbol for a company, use the get_company_symbol tool.                          \n",
              "         - Use markdown to format your answers.                                                                    \n",
              "</pre>\n"
            ]
          },
          "metadata": {}
        },
        {
          "output_type": "display_data",
          "data": {
            "text/plain": [
              "\u001b[32mDEBUG   \u001b[0m ============== user ==============                                                                        \n"
            ],
            "text/html": [
              "<pre style=\"white-space:pre;overflow-x:auto;line-height:normal;font-family:Menlo,'DejaVu Sans Mono',consolas,'Courier New',monospace\"><span style=\"color: #008000; text-decoration-color: #008000\">DEBUG   </span> ============== user ==============                                                                        \n",
              "</pre>\n"
            ]
          },
          "metadata": {}
        },
        {
          "output_type": "display_data",
          "data": {
            "text/plain": [
              "\u001b[32mDEBUG   \u001b[0m Summarize and compare analyst recommendations and fundamentals for TSLA and Phidata. Show in tables.      \n"
            ],
            "text/html": [
              "<pre style=\"white-space:pre;overflow-x:auto;line-height:normal;font-family:Menlo,'DejaVu Sans Mono',consolas,'Courier New',monospace\"><span style=\"color: #008000; text-decoration-color: #008000\">DEBUG   </span> Summarize and compare analyst recommendations and fundamentals for TSLA and Phidata. Show in tables.      \n",
              "</pre>\n"
            ]
          },
          "metadata": {}
        },
        {
          "output_type": "display_data",
          "data": {
            "text/plain": [
              "\u001b[32mDEBUG   \u001b[0m ============== assistant ==============                                                                   \n"
            ],
            "text/html": [
              "<pre style=\"white-space:pre;overflow-x:auto;line-height:normal;font-family:Menlo,'DejaVu Sans Mono',consolas,'Courier New',monospace\"><span style=\"color: #008000; text-decoration-color: #008000\">DEBUG   </span> ============== assistant ==============                                                                   \n",
              "</pre>\n"
            ]
          },
          "metadata": {}
        },
        {
          "output_type": "display_data",
          "data": {
            "text/plain": [
              "\u001b[32mDEBUG   \u001b[0m ### Step \u001b[1;36m1\u001b[0m: Find the symbol for Phidata                                                                   \n",
              "                                                                                                                   \n"
            ],
            "text/html": [
              "<pre style=\"white-space:pre;overflow-x:auto;line-height:normal;font-family:Menlo,'DejaVu Sans Mono',consolas,'Courier New',monospace\"><span style=\"color: #008000; text-decoration-color: #008000\">DEBUG   </span> ### Step <span style=\"color: #008080; text-decoration-color: #008080; font-weight: bold\">1</span>: Find the symbol for Phidata                                                                   \n",
              "                                                                                                                   \n",
              "</pre>\n"
            ]
          },
          "metadata": {}
        },
        {
          "output_type": "display_data",
          "data": {
            "text/plain": [
              "\u001b[32mDEBUG   \u001b[0m Tool Calls: \u001b[1m[\u001b[0m                                                                                             \n",
              "           \u001b[1m{\u001b[0m                                                                                                       \n",
              "             \u001b[32m\"id\"\u001b[0m: \u001b[32m\"call_j23a\"\u001b[0m,                                                                                    \n",
              "             \u001b[32m\"type\"\u001b[0m: \u001b[32m\"function\"\u001b[0m,                                                                                   \n",
              "             \u001b[32m\"function\"\u001b[0m: \u001b[1m{\u001b[0m                                                                                         \n",
              "               \u001b[32m\"name\"\u001b[0m: \u001b[32m\"get_company_symbol\"\u001b[0m,                                                                       \n",
              "               \u001b[32m\"arguments\"\u001b[0m: \u001b[32m\"\u001b[0m\u001b[32m{\u001b[0m\u001b[32m\\\"company\\\": \\\"Phidata\\\"\u001b[0m\u001b[32m}\u001b[0m\u001b[32m\"\u001b[0m                                                           \n",
              "             \u001b[1m}\u001b[0m                                                                                                     \n",
              "           \u001b[1m}\u001b[0m                                                                                                       \n",
              "         \u001b[1m]\u001b[0m                                                                                                         \n"
            ],
            "text/html": [
              "<pre style=\"white-space:pre;overflow-x:auto;line-height:normal;font-family:Menlo,'DejaVu Sans Mono',consolas,'Courier New',monospace\"><span style=\"color: #008000; text-decoration-color: #008000\">DEBUG   </span> Tool Calls: <span style=\"font-weight: bold\">[</span>                                                                                             \n",
              "           <span style=\"font-weight: bold\">{</span>                                                                                                       \n",
              "             <span style=\"color: #008000; text-decoration-color: #008000\">\"id\"</span>: <span style=\"color: #008000; text-decoration-color: #008000\">\"call_j23a\"</span>,                                                                                    \n",
              "             <span style=\"color: #008000; text-decoration-color: #008000\">\"type\"</span>: <span style=\"color: #008000; text-decoration-color: #008000\">\"function\"</span>,                                                                                   \n",
              "             <span style=\"color: #008000; text-decoration-color: #008000\">\"function\"</span>: <span style=\"font-weight: bold\">{</span>                                                                                         \n",
              "               <span style=\"color: #008000; text-decoration-color: #008000\">\"name\"</span>: <span style=\"color: #008000; text-decoration-color: #008000\">\"get_company_symbol\"</span>,                                                                       \n",
              "               <span style=\"color: #008000; text-decoration-color: #008000\">\"arguments\"</span>: <span style=\"color: #008000; text-decoration-color: #008000\">\"{\\\"company\\\": \\\"Phidata\\\"}\"</span>                                                           \n",
              "             <span style=\"font-weight: bold\">}</span>                                                                                                     \n",
              "           <span style=\"font-weight: bold\">}</span>                                                                                                       \n",
              "         <span style=\"font-weight: bold\">]</span>                                                                                                         \n",
              "</pre>\n"
            ]
          },
          "metadata": {}
        },
        {
          "output_type": "display_data",
          "data": {
            "text/plain": [
              "\u001b[32mDEBUG   \u001b[0m ============== tool ==============                                                                        \n"
            ],
            "text/html": [
              "<pre style=\"white-space:pre;overflow-x:auto;line-height:normal;font-family:Menlo,'DejaVu Sans Mono',consolas,'Courier New',monospace\"><span style=\"color: #008000; text-decoration-color: #008000\">DEBUG   </span> ============== tool ==============                                                                        \n",
              "</pre>\n"
            ]
          },
          "metadata": {}
        },
        {
          "output_type": "display_data",
          "data": {
            "text/plain": [
              "\u001b[32mDEBUG   \u001b[0m Tool call Id: call_j23a                                                                                   \n"
            ],
            "text/html": [
              "<pre style=\"white-space:pre;overflow-x:auto;line-height:normal;font-family:Menlo,'DejaVu Sans Mono',consolas,'Courier New',monospace\"><span style=\"color: #008000; text-decoration-color: #008000\">DEBUG   </span> Tool call Id: call_j23a                                                                                   \n",
              "</pre>\n"
            ]
          },
          "metadata": {}
        },
        {
          "output_type": "display_data",
          "data": {
            "text/plain": [
              "\u001b[32mDEBUG   \u001b[0m MSFT                                                                                                      \n"
            ],
            "text/html": [
              "<pre style=\"white-space:pre;overflow-x:auto;line-height:normal;font-family:Menlo,'DejaVu Sans Mono',consolas,'Courier New',monospace\"><span style=\"color: #008000; text-decoration-color: #008000\">DEBUG   </span> MSFT                                                                                                      \n",
              "</pre>\n"
            ]
          },
          "metadata": {}
        },
        {
          "output_type": "display_data",
          "data": {
            "text/plain": [
              "\u001b[32mDEBUG   \u001b[0m ============== assistant ==============                                                                   \n"
            ],
            "text/html": [
              "<pre style=\"white-space:pre;overflow-x:auto;line-height:normal;font-family:Menlo,'DejaVu Sans Mono',consolas,'Courier New',monospace\"><span style=\"color: #008000; text-decoration-color: #008000\">DEBUG   </span> ============== assistant ==============                                                                   \n",
              "</pre>\n"
            ]
          },
          "metadata": {}
        },
        {
          "output_type": "display_data",
          "data": {
            "text/plain": [
              "\u001b[32mDEBUG   \u001b[0m Phidata is a private company and therefore does not have a stock symbol. I will provide information on    \n",
              "         TSLA and MSFT instead.                                                                                    \n",
              "                                                                                                                   \n",
              "         ### Fundamentals                                                                                          \n",
              "         To compare the fundamentals of TSLA and MSFT, we will use the following function:                         \n",
              "                                                                                                                   \n",
              "                                                                                                                   \n"
            ],
            "text/html": [
              "<pre style=\"white-space:pre;overflow-x:auto;line-height:normal;font-family:Menlo,'DejaVu Sans Mono',consolas,'Courier New',monospace\"><span style=\"color: #008000; text-decoration-color: #008000\">DEBUG   </span> Phidata is a private company and therefore does not have a stock symbol. I will provide information on    \n",
              "         TSLA and MSFT instead.                                                                                    \n",
              "                                                                                                                   \n",
              "         ### Fundamentals                                                                                          \n",
              "         To compare the fundamentals of TSLA and MSFT, we will use the following function:                         \n",
              "                                                                                                                   \n",
              "                                                                                                                   \n",
              "</pre>\n"
            ]
          },
          "metadata": {}
        },
        {
          "output_type": "display_data",
          "data": {
            "text/plain": [
              "\u001b[32mDEBUG   \u001b[0m Tool Calls: \u001b[1m[\u001b[0m                                                                                             \n",
              "           \u001b[1m{\u001b[0m                                                                                                       \n",
              "             \u001b[32m\"id\"\u001b[0m: \u001b[32m\"call_k5zw\"\u001b[0m,                                                                                    \n",
              "             \u001b[32m\"type\"\u001b[0m: \u001b[32m\"function\"\u001b[0m,                                                                                   \n",
              "             \u001b[32m\"function\"\u001b[0m: \u001b[1m{\u001b[0m                                                                                         \n",
              "               \u001b[32m\"name\"\u001b[0m: \u001b[32m\"get_stock_fundamentals\"\u001b[0m,                                                                   \n",
              "               \u001b[32m\"arguments\"\u001b[0m: \u001b[32m\"\u001b[0m\u001b[32m{\u001b[0m\u001b[32m\\\"symbol\\\": \\\"TSLA\\\"\u001b[0m\u001b[32m}\u001b[0m\u001b[32m\"\u001b[0m                                                               \n",
              "             \u001b[1m}\u001b[0m                                                                                                     \n",
              "           \u001b[1m}\u001b[0m,                                                                                                      \n",
              "           \u001b[1m{\u001b[0m                                                                                                       \n",
              "             \u001b[32m\"id\"\u001b[0m: \u001b[32m\"call_s843\"\u001b[0m,                                                                                    \n",
              "             \u001b[32m\"type\"\u001b[0m: \u001b[32m\"function\"\u001b[0m,                                                                                   \n",
              "             \u001b[32m\"function\"\u001b[0m: \u001b[1m{\u001b[0m                                                                                         \n",
              "               \u001b[32m\"name\"\u001b[0m: \u001b[32m\"get_stock_fundamentals\"\u001b[0m,                                                                   \n",
              "               \u001b[32m\"arguments\"\u001b[0m: \u001b[32m\"\u001b[0m\u001b[32m{\u001b[0m\u001b[32m\\\"symbol\\\": \\\"MSFT\\\"\u001b[0m\u001b[32m}\u001b[0m\u001b[32m\"\u001b[0m                                                               \n",
              "             \u001b[1m}\u001b[0m                                                                                                     \n",
              "           \u001b[1m}\u001b[0m                                                                                                       \n",
              "         \u001b[1m]\u001b[0m                                                                                                         \n"
            ],
            "text/html": [
              "<pre style=\"white-space:pre;overflow-x:auto;line-height:normal;font-family:Menlo,'DejaVu Sans Mono',consolas,'Courier New',monospace\"><span style=\"color: #008000; text-decoration-color: #008000\">DEBUG   </span> Tool Calls: <span style=\"font-weight: bold\">[</span>                                                                                             \n",
              "           <span style=\"font-weight: bold\">{</span>                                                                                                       \n",
              "             <span style=\"color: #008000; text-decoration-color: #008000\">\"id\"</span>: <span style=\"color: #008000; text-decoration-color: #008000\">\"call_k5zw\"</span>,                                                                                    \n",
              "             <span style=\"color: #008000; text-decoration-color: #008000\">\"type\"</span>: <span style=\"color: #008000; text-decoration-color: #008000\">\"function\"</span>,                                                                                   \n",
              "             <span style=\"color: #008000; text-decoration-color: #008000\">\"function\"</span>: <span style=\"font-weight: bold\">{</span>                                                                                         \n",
              "               <span style=\"color: #008000; text-decoration-color: #008000\">\"name\"</span>: <span style=\"color: #008000; text-decoration-color: #008000\">\"get_stock_fundamentals\"</span>,                                                                   \n",
              "               <span style=\"color: #008000; text-decoration-color: #008000\">\"arguments\"</span>: <span style=\"color: #008000; text-decoration-color: #008000\">\"{\\\"symbol\\\": \\\"TSLA\\\"}\"</span>                                                               \n",
              "             <span style=\"font-weight: bold\">}</span>                                                                                                     \n",
              "           <span style=\"font-weight: bold\">}</span>,                                                                                                      \n",
              "           <span style=\"font-weight: bold\">{</span>                                                                                                       \n",
              "             <span style=\"color: #008000; text-decoration-color: #008000\">\"id\"</span>: <span style=\"color: #008000; text-decoration-color: #008000\">\"call_s843\"</span>,                                                                                    \n",
              "             <span style=\"color: #008000; text-decoration-color: #008000\">\"type\"</span>: <span style=\"color: #008000; text-decoration-color: #008000\">\"function\"</span>,                                                                                   \n",
              "             <span style=\"color: #008000; text-decoration-color: #008000\">\"function\"</span>: <span style=\"font-weight: bold\">{</span>                                                                                         \n",
              "               <span style=\"color: #008000; text-decoration-color: #008000\">\"name\"</span>: <span style=\"color: #008000; text-decoration-color: #008000\">\"get_stock_fundamentals\"</span>,                                                                   \n",
              "               <span style=\"color: #008000; text-decoration-color: #008000\">\"arguments\"</span>: <span style=\"color: #008000; text-decoration-color: #008000\">\"{\\\"symbol\\\": \\\"MSFT\\\"}\"</span>                                                               \n",
              "             <span style=\"font-weight: bold\">}</span>                                                                                                     \n",
              "           <span style=\"font-weight: bold\">}</span>                                                                                                       \n",
              "         <span style=\"font-weight: bold\">]</span>                                                                                                         \n",
              "</pre>\n"
            ]
          },
          "metadata": {}
        },
        {
          "output_type": "display_data",
          "data": {
            "text/plain": [
              "\u001b[32mDEBUG   \u001b[0m ============== tool ==============                                                                        \n"
            ],
            "text/html": [
              "<pre style=\"white-space:pre;overflow-x:auto;line-height:normal;font-family:Menlo,'DejaVu Sans Mono',consolas,'Courier New',monospace\"><span style=\"color: #008000; text-decoration-color: #008000\">DEBUG   </span> ============== tool ==============                                                                        \n",
              "</pre>\n"
            ]
          },
          "metadata": {}
        },
        {
          "output_type": "display_data",
          "data": {
            "text/plain": [
              "\u001b[32mDEBUG   \u001b[0m Tool call Id: call_k5zw                                                                                   \n"
            ],
            "text/html": [
              "<pre style=\"white-space:pre;overflow-x:auto;line-height:normal;font-family:Menlo,'DejaVu Sans Mono',consolas,'Courier New',monospace\"><span style=\"color: #008000; text-decoration-color: #008000\">DEBUG   </span> Tool call Id: call_k5zw                                                                                   \n",
              "</pre>\n"
            ]
          },
          "metadata": {}
        },
        {
          "output_type": "display_data",
          "data": {
            "text/plain": [
              "\u001b[32mDEBUG   \u001b[0m \u001b[1m{\u001b[0m                                                                                                         \n",
              "           \u001b[32m\"symbol\"\u001b[0m: \u001b[32m\"TSLA\"\u001b[0m,                                                                                       \n",
              "           \u001b[32m\"company_name\"\u001b[0m: \u001b[32m\"Tesla, Inc.\"\u001b[0m,                                                                          \n",
              "           \u001b[32m\"sector\"\u001b[0m: \u001b[32m\"Consumer Cyclical\"\u001b[0m,                                                                          \n",
              "           \u001b[32m\"industry\"\u001b[0m: \u001b[32m\"Auto Manufacturers\"\u001b[0m,                                                                       \n",
              "           \u001b[32m\"market_cap\"\u001b[0m: \u001b[1;36m1465825755136\u001b[0m,                                                                            \n",
              "           \u001b[32m\"pe_ratio\"\u001b[0m: \u001b[1;36m139.49826\u001b[0m,                                                                                  \n",
              "           \u001b[32m\"pb_ratio\"\u001b[0m: \u001b[1;36m20.940796\u001b[0m,                                                                                  \n",
              "           \u001b[32m\"dividend_yield\"\u001b[0m: \u001b[32m\"N/A\"\u001b[0m,                                                                                \n",
              "           \u001b[32m\"eps\"\u001b[0m: \u001b[1;36m3.66\u001b[0m,                                                                                            \n",
              "           \u001b[32m\"beta\"\u001b[0m: \u001b[1;36m2.295\u001b[0m,                                                                                          \n",
              "           \u001b[32m\"52_week_high\"\u001b[0m: \u001b[1;36m458.97\u001b[0m,                                                                                 \n",
              "           \u001b[32m\"52_week_low\"\u001b[0m: \u001b[1;36m138.8\u001b[0m                                                                                    \n",
              "         \u001b[1m}\u001b[0m                                                                                                         \n"
            ],
            "text/html": [
              "<pre style=\"white-space:pre;overflow-x:auto;line-height:normal;font-family:Menlo,'DejaVu Sans Mono',consolas,'Courier New',monospace\"><span style=\"color: #008000; text-decoration-color: #008000\">DEBUG   </span> <span style=\"font-weight: bold\">{</span>                                                                                                         \n",
              "           <span style=\"color: #008000; text-decoration-color: #008000\">\"symbol\"</span>: <span style=\"color: #008000; text-decoration-color: #008000\">\"TSLA\"</span>,                                                                                       \n",
              "           <span style=\"color: #008000; text-decoration-color: #008000\">\"company_name\"</span>: <span style=\"color: #008000; text-decoration-color: #008000\">\"Tesla, Inc.\"</span>,                                                                          \n",
              "           <span style=\"color: #008000; text-decoration-color: #008000\">\"sector\"</span>: <span style=\"color: #008000; text-decoration-color: #008000\">\"Consumer Cyclical\"</span>,                                                                          \n",
              "           <span style=\"color: #008000; text-decoration-color: #008000\">\"industry\"</span>: <span style=\"color: #008000; text-decoration-color: #008000\">\"Auto Manufacturers\"</span>,                                                                       \n",
              "           <span style=\"color: #008000; text-decoration-color: #008000\">\"market_cap\"</span>: <span style=\"color: #008080; text-decoration-color: #008080; font-weight: bold\">1465825755136</span>,                                                                            \n",
              "           <span style=\"color: #008000; text-decoration-color: #008000\">\"pe_ratio\"</span>: <span style=\"color: #008080; text-decoration-color: #008080; font-weight: bold\">139.49826</span>,                                                                                  \n",
              "           <span style=\"color: #008000; text-decoration-color: #008000\">\"pb_ratio\"</span>: <span style=\"color: #008080; text-decoration-color: #008080; font-weight: bold\">20.940796</span>,                                                                                  \n",
              "           <span style=\"color: #008000; text-decoration-color: #008000\">\"dividend_yield\"</span>: <span style=\"color: #008000; text-decoration-color: #008000\">\"N/A\"</span>,                                                                                \n",
              "           <span style=\"color: #008000; text-decoration-color: #008000\">\"eps\"</span>: <span style=\"color: #008080; text-decoration-color: #008080; font-weight: bold\">3.66</span>,                                                                                            \n",
              "           <span style=\"color: #008000; text-decoration-color: #008000\">\"beta\"</span>: <span style=\"color: #008080; text-decoration-color: #008080; font-weight: bold\">2.295</span>,                                                                                          \n",
              "           <span style=\"color: #008000; text-decoration-color: #008000\">\"52_week_high\"</span>: <span style=\"color: #008080; text-decoration-color: #008080; font-weight: bold\">458.97</span>,                                                                                 \n",
              "           <span style=\"color: #008000; text-decoration-color: #008000\">\"52_week_low\"</span>: <span style=\"color: #008080; text-decoration-color: #008080; font-weight: bold\">138.8</span>                                                                                    \n",
              "         <span style=\"font-weight: bold\">}</span>                                                                                                         \n",
              "</pre>\n"
            ]
          },
          "metadata": {}
        },
        {
          "output_type": "display_data",
          "data": {
            "text/plain": [
              "\u001b[32mDEBUG   \u001b[0m ============== tool ==============                                                                        \n"
            ],
            "text/html": [
              "<pre style=\"white-space:pre;overflow-x:auto;line-height:normal;font-family:Menlo,'DejaVu Sans Mono',consolas,'Courier New',monospace\"><span style=\"color: #008000; text-decoration-color: #008000\">DEBUG   </span> ============== tool ==============                                                                        \n",
              "</pre>\n"
            ]
          },
          "metadata": {}
        },
        {
          "output_type": "display_data",
          "data": {
            "text/plain": [
              "\u001b[32mDEBUG   \u001b[0m Tool call Id: call_s843                                                                                   \n"
            ],
            "text/html": [
              "<pre style=\"white-space:pre;overflow-x:auto;line-height:normal;font-family:Menlo,'DejaVu Sans Mono',consolas,'Courier New',monospace\"><span style=\"color: #008000; text-decoration-color: #008000\">DEBUG   </span> Tool call Id: call_s843                                                                                   \n",
              "</pre>\n"
            ]
          },
          "metadata": {}
        },
        {
          "output_type": "display_data",
          "data": {
            "text/plain": [
              "\u001b[32mDEBUG   \u001b[0m \u001b[1m{\u001b[0m                                                                                                         \n",
              "           \u001b[32m\"symbol\"\u001b[0m: \u001b[32m\"MSFT\"\u001b[0m,                                                                                       \n",
              "           \u001b[32m\"company_name\"\u001b[0m: \u001b[32m\"Microsoft Corporation\"\u001b[0m,                                                                \n",
              "           \u001b[32m\"sector\"\u001b[0m: \u001b[32m\"Technology\"\u001b[0m,                                                                                 \n",
              "           \u001b[32m\"industry\"\u001b[0m: \u001b[32m\"Software - Infrastructure\"\u001b[0m,                                                                \n",
              "           \u001b[32m\"market_cap\"\u001b[0m: \u001b[1;36m3331071410176\u001b[0m,                                                                            \n",
              "           \u001b[32m\"pe_ratio\"\u001b[0m: \u001b[1;36m29.829649\u001b[0m,                                                                                  \n",
              "           \u001b[32m\"pb_ratio\"\u001b[0m: \u001b[1;36m11.579174\u001b[0m,                                                                                  \n",
              "           \u001b[32m\"dividend_yield\"\u001b[0m: \u001b[1;36m0.0074\u001b[0m,                                                                               \n",
              "           \u001b[32m\"eps\"\u001b[0m: \u001b[1;36m12.12\u001b[0m,                                                                                           \n",
              "           \u001b[32m\"beta\"\u001b[0m: \u001b[1;36m0.904\u001b[0m,                                                                                          \n",
              "           \u001b[32m\"52_week_high\"\u001b[0m: \u001b[1;36m468.35\u001b[0m,                                                                                 \n",
              "           \u001b[32m\"52_week_low\"\u001b[0m: \u001b[1;36m366.5\u001b[0m                                                                                    \n",
              "         \u001b[1m}\u001b[0m                                                                                                         \n"
            ],
            "text/html": [
              "<pre style=\"white-space:pre;overflow-x:auto;line-height:normal;font-family:Menlo,'DejaVu Sans Mono',consolas,'Courier New',monospace\"><span style=\"color: #008000; text-decoration-color: #008000\">DEBUG   </span> <span style=\"font-weight: bold\">{</span>                                                                                                         \n",
              "           <span style=\"color: #008000; text-decoration-color: #008000\">\"symbol\"</span>: <span style=\"color: #008000; text-decoration-color: #008000\">\"MSFT\"</span>,                                                                                       \n",
              "           <span style=\"color: #008000; text-decoration-color: #008000\">\"company_name\"</span>: <span style=\"color: #008000; text-decoration-color: #008000\">\"Microsoft Corporation\"</span>,                                                                \n",
              "           <span style=\"color: #008000; text-decoration-color: #008000\">\"sector\"</span>: <span style=\"color: #008000; text-decoration-color: #008000\">\"Technology\"</span>,                                                                                 \n",
              "           <span style=\"color: #008000; text-decoration-color: #008000\">\"industry\"</span>: <span style=\"color: #008000; text-decoration-color: #008000\">\"Software - Infrastructure\"</span>,                                                                \n",
              "           <span style=\"color: #008000; text-decoration-color: #008000\">\"market_cap\"</span>: <span style=\"color: #008080; text-decoration-color: #008080; font-weight: bold\">3331071410176</span>,                                                                            \n",
              "           <span style=\"color: #008000; text-decoration-color: #008000\">\"pe_ratio\"</span>: <span style=\"color: #008080; text-decoration-color: #008080; font-weight: bold\">29.829649</span>,                                                                                  \n",
              "           <span style=\"color: #008000; text-decoration-color: #008000\">\"pb_ratio\"</span>: <span style=\"color: #008080; text-decoration-color: #008080; font-weight: bold\">11.579174</span>,                                                                                  \n",
              "           <span style=\"color: #008000; text-decoration-color: #008000\">\"dividend_yield\"</span>: <span style=\"color: #008080; text-decoration-color: #008080; font-weight: bold\">0.0074</span>,                                                                               \n",
              "           <span style=\"color: #008000; text-decoration-color: #008000\">\"eps\"</span>: <span style=\"color: #008080; text-decoration-color: #008080; font-weight: bold\">12.12</span>,                                                                                           \n",
              "           <span style=\"color: #008000; text-decoration-color: #008000\">\"beta\"</span>: <span style=\"color: #008080; text-decoration-color: #008080; font-weight: bold\">0.904</span>,                                                                                          \n",
              "           <span style=\"color: #008000; text-decoration-color: #008000\">\"52_week_high\"</span>: <span style=\"color: #008080; text-decoration-color: #008080; font-weight: bold\">468.35</span>,                                                                                 \n",
              "           <span style=\"color: #008000; text-decoration-color: #008000\">\"52_week_low\"</span>: <span style=\"color: #008080; text-decoration-color: #008080; font-weight: bold\">366.5</span>                                                                                    \n",
              "         <span style=\"font-weight: bold\">}</span>                                                                                                         \n",
              "</pre>\n"
            ]
          },
          "metadata": {}
        },
        {
          "output_type": "display_data",
          "data": {
            "text/plain": [
              "\u001b[32mDEBUG   \u001b[0m ============== assistant ==============                                                                   \n"
            ],
            "text/html": [
              "<pre style=\"white-space:pre;overflow-x:auto;line-height:normal;font-family:Menlo,'DejaVu Sans Mono',consolas,'Courier New',monospace\"><span style=\"color: #008000; text-decoration-color: #008000\">DEBUG   </span> ============== assistant ==============                                                                   \n",
              "</pre>\n"
            ]
          },
          "metadata": {}
        },
        {
          "output_type": "display_data",
          "data": {
            "text/plain": [
              "\u001b[32mDEBUG   \u001b[0m Tool Calls: \u001b[1m[\u001b[0m                                                                                             \n",
              "           \u001b[1m{\u001b[0m                                                                                                       \n",
              "             \u001b[32m\"id\"\u001b[0m: \u001b[32m\"call_ymph\"\u001b[0m,                                                                                    \n",
              "             \u001b[32m\"type\"\u001b[0m: \u001b[32m\"function\"\u001b[0m,                                                                                   \n",
              "             \u001b[32m\"function\"\u001b[0m: \u001b[1m{\u001b[0m                                                                                         \n",
              "               \u001b[32m\"name\"\u001b[0m: \u001b[32m\"get_analyst_recommendations\"\u001b[0m,                                                              \n",
              "               \u001b[32m\"arguments\"\u001b[0m: \u001b[32m\"\u001b[0m\u001b[32m{\u001b[0m\u001b[32m\\\"symbol\\\": \\\"TSLA\\\"\u001b[0m\u001b[32m}\u001b[0m\u001b[32m\"\u001b[0m                                                               \n",
              "             \u001b[1m}\u001b[0m                                                                                                     \n",
              "           \u001b[1m}\u001b[0m,                                                                                                      \n",
              "           \u001b[1m{\u001b[0m                                                                                                       \n",
              "             \u001b[32m\"id\"\u001b[0m: \u001b[32m\"call_93vt\"\u001b[0m,                                                                                    \n",
              "             \u001b[32m\"type\"\u001b[0m: \u001b[32m\"function\"\u001b[0m,                                                                                   \n",
              "             \u001b[32m\"function\"\u001b[0m: \u001b[1m{\u001b[0m                                                                                         \n",
              "               \u001b[32m\"name\"\u001b[0m: \u001b[32m\"get_analyst_recommendations\"\u001b[0m,                                                              \n",
              "               \u001b[32m\"arguments\"\u001b[0m: \u001b[32m\"\u001b[0m\u001b[32m{\u001b[0m\u001b[32m\\\"symbol\\\": \\\"MSFT\\\"\u001b[0m\u001b[32m}\u001b[0m\u001b[32m\"\u001b[0m                                                               \n",
              "             \u001b[1m}\u001b[0m                                                                                                     \n",
              "           \u001b[1m}\u001b[0m                                                                                                       \n",
              "         \u001b[1m]\u001b[0m                                                                                                         \n"
            ],
            "text/html": [
              "<pre style=\"white-space:pre;overflow-x:auto;line-height:normal;font-family:Menlo,'DejaVu Sans Mono',consolas,'Courier New',monospace\"><span style=\"color: #008000; text-decoration-color: #008000\">DEBUG   </span> Tool Calls: <span style=\"font-weight: bold\">[</span>                                                                                             \n",
              "           <span style=\"font-weight: bold\">{</span>                                                                                                       \n",
              "             <span style=\"color: #008000; text-decoration-color: #008000\">\"id\"</span>: <span style=\"color: #008000; text-decoration-color: #008000\">\"call_ymph\"</span>,                                                                                    \n",
              "             <span style=\"color: #008000; text-decoration-color: #008000\">\"type\"</span>: <span style=\"color: #008000; text-decoration-color: #008000\">\"function\"</span>,                                                                                   \n",
              "             <span style=\"color: #008000; text-decoration-color: #008000\">\"function\"</span>: <span style=\"font-weight: bold\">{</span>                                                                                         \n",
              "               <span style=\"color: #008000; text-decoration-color: #008000\">\"name\"</span>: <span style=\"color: #008000; text-decoration-color: #008000\">\"get_analyst_recommendations\"</span>,                                                              \n",
              "               <span style=\"color: #008000; text-decoration-color: #008000\">\"arguments\"</span>: <span style=\"color: #008000; text-decoration-color: #008000\">\"{\\\"symbol\\\": \\\"TSLA\\\"}\"</span>                                                               \n",
              "             <span style=\"font-weight: bold\">}</span>                                                                                                     \n",
              "           <span style=\"font-weight: bold\">}</span>,                                                                                                      \n",
              "           <span style=\"font-weight: bold\">{</span>                                                                                                       \n",
              "             <span style=\"color: #008000; text-decoration-color: #008000\">\"id\"</span>: <span style=\"color: #008000; text-decoration-color: #008000\">\"call_93vt\"</span>,                                                                                    \n",
              "             <span style=\"color: #008000; text-decoration-color: #008000\">\"type\"</span>: <span style=\"color: #008000; text-decoration-color: #008000\">\"function\"</span>,                                                                                   \n",
              "             <span style=\"color: #008000; text-decoration-color: #008000\">\"function\"</span>: <span style=\"font-weight: bold\">{</span>                                                                                         \n",
              "               <span style=\"color: #008000; text-decoration-color: #008000\">\"name\"</span>: <span style=\"color: #008000; text-decoration-color: #008000\">\"get_analyst_recommendations\"</span>,                                                              \n",
              "               <span style=\"color: #008000; text-decoration-color: #008000\">\"arguments\"</span>: <span style=\"color: #008000; text-decoration-color: #008000\">\"{\\\"symbol\\\": \\\"MSFT\\\"}\"</span>                                                               \n",
              "             <span style=\"font-weight: bold\">}</span>                                                                                                     \n",
              "           <span style=\"font-weight: bold\">}</span>                                                                                                       \n",
              "         <span style=\"font-weight: bold\">]</span>                                                                                                         \n",
              "</pre>\n"
            ]
          },
          "metadata": {}
        },
        {
          "output_type": "display_data",
          "data": {
            "text/plain": [
              "\u001b[32mDEBUG   \u001b[0m ============== tool ==============                                                                        \n"
            ],
            "text/html": [
              "<pre style=\"white-space:pre;overflow-x:auto;line-height:normal;font-family:Menlo,'DejaVu Sans Mono',consolas,'Courier New',monospace\"><span style=\"color: #008000; text-decoration-color: #008000\">DEBUG   </span> ============== tool ==============                                                                        \n",
              "</pre>\n"
            ]
          },
          "metadata": {}
        },
        {
          "output_type": "display_data",
          "data": {
            "text/plain": [
              "\u001b[32mDEBUG   \u001b[0m Tool call Id: call_ymph                                                                                   \n"
            ],
            "text/html": [
              "<pre style=\"white-space:pre;overflow-x:auto;line-height:normal;font-family:Menlo,'DejaVu Sans Mono',consolas,'Courier New',monospace\"><span style=\"color: #008000; text-decoration-color: #008000\">DEBUG   </span> Tool call Id: call_ymph                                                                                   \n",
              "</pre>\n"
            ]
          },
          "metadata": {}
        },
        {
          "output_type": "display_data",
          "data": {
            "text/plain": [
              "\u001b[32mDEBUG   \u001b[0m \u001b[1m{\u001b[0m\u001b[32m\"0\"\u001b[0m:\u001b[1m{\u001b[0m\u001b[32m\"period\"\u001b[0m:\u001b[32m\"0m\"\u001b[0m,\u001b[32m\"strongBuy\"\u001b[0m:\u001b[1;36m6\u001b[0m,\u001b[32m\"buy\"\u001b[0m:\u001b[1;36m12\u001b[0m,\u001b[32m\"hold\"\u001b[0m:\u001b[1;36m16\u001b[0m,\u001b[32m\"sell\"\u001b[0m:\u001b[1;36m8\u001b[0m,\u001b[32m\"strongSell\"\u001b[0m:\u001b[1;36m5\u001b[0m\u001b[1m}\u001b[0m,\u001b[32m\"1\"\u001b[0m:\u001b[1m{\u001b[0m\u001b[32m\"period\"\u001b[0m:\u001b[32m\"-1m\"\u001b[0m,\u001b[32m\"strongB\u001b[0m\n",
              "         \u001b[32muy\"\u001b[0m:\u001b[1;36m5\u001b[0m,\u001b[32m\"buy\"\u001b[0m:\u001b[1;36m13\u001b[0m,\u001b[32m\"hold\"\u001b[0m:\u001b[1;36m17\u001b[0m,\u001b[32m\"sell\"\u001b[0m:\u001b[1;36m8\u001b[0m,\u001b[32m\"strongSell\"\u001b[0m:\u001b[1;36m5\u001b[0m\u001b[1m}\u001b[0m,\u001b[32m\"2\"\u001b[0m:\u001b[1m{\u001b[0m\u001b[32m\"period\"\u001b[0m:\u001b[32m\"-2m\"\u001b[0m,\u001b[32m\"strongBuy\"\u001b[0m:\u001b[1;36m6\u001b[0m,\u001b[32m\"buy\"\u001b[0m:\u001b[1;36m12\u001b[0m,\u001b[32m\"hold\"\u001b[0m:\u001b[1;36m19\u001b[0m,\u001b[32m\"se\u001b[0m\n",
              "         \u001b[32mll\"\u001b[0m:\u001b[1;36m7\u001b[0m,\u001b[32m\"strongSell\"\u001b[0m:\u001b[1;36m4\u001b[0m\u001b[1m}\u001b[0m,\u001b[32m\"3\"\u001b[0m:\u001b[1m{\u001b[0m\u001b[32m\"period\"\u001b[0m:\u001b[32m\"-3m\"\u001b[0m,\u001b[32m\"strongBuy\"\u001b[0m:\u001b[1;36m5\u001b[0m,\u001b[32m\"buy\"\u001b[0m:\u001b[1;36m13\u001b[0m,\u001b[32m\"hold\"\u001b[0m:\u001b[1;36m18\u001b[0m,\u001b[32m\"sell\"\u001b[0m:\u001b[1;36m7\u001b[0m,\u001b[32m\"strongSell\"\u001b[0m:\u001b[1;36m4\u001b[0m\u001b[1m}\u001b[0m\u001b[1m}\u001b[0m      \n"
            ],
            "text/html": [
              "<pre style=\"white-space:pre;overflow-x:auto;line-height:normal;font-family:Menlo,'DejaVu Sans Mono',consolas,'Courier New',monospace\"><span style=\"color: #008000; text-decoration-color: #008000\">DEBUG   </span> <span style=\"font-weight: bold\">{</span><span style=\"color: #008000; text-decoration-color: #008000\">\"0\"</span>:<span style=\"font-weight: bold\">{</span><span style=\"color: #008000; text-decoration-color: #008000\">\"period\"</span>:<span style=\"color: #008000; text-decoration-color: #008000\">\"0m\"</span>,<span style=\"color: #008000; text-decoration-color: #008000\">\"strongBuy\"</span>:<span style=\"color: #008080; text-decoration-color: #008080; font-weight: bold\">6</span>,<span style=\"color: #008000; text-decoration-color: #008000\">\"buy\"</span>:<span style=\"color: #008080; text-decoration-color: #008080; font-weight: bold\">12</span>,<span style=\"color: #008000; text-decoration-color: #008000\">\"hold\"</span>:<span style=\"color: #008080; text-decoration-color: #008080; font-weight: bold\">16</span>,<span style=\"color: #008000; text-decoration-color: #008000\">\"sell\"</span>:<span style=\"color: #008080; text-decoration-color: #008080; font-weight: bold\">8</span>,<span style=\"color: #008000; text-decoration-color: #008000\">\"strongSell\"</span>:<span style=\"color: #008080; text-decoration-color: #008080; font-weight: bold\">5</span><span style=\"font-weight: bold\">}</span>,<span style=\"color: #008000; text-decoration-color: #008000\">\"1\"</span>:<span style=\"font-weight: bold\">{</span><span style=\"color: #008000; text-decoration-color: #008000\">\"period\"</span>:<span style=\"color: #008000; text-decoration-color: #008000\">\"-1m\"</span>,<span style=\"color: #008000; text-decoration-color: #008000\">\"strongB</span>\n",
              "         <span style=\"color: #008000; text-decoration-color: #008000\">uy\"</span>:<span style=\"color: #008080; text-decoration-color: #008080; font-weight: bold\">5</span>,<span style=\"color: #008000; text-decoration-color: #008000\">\"buy\"</span>:<span style=\"color: #008080; text-decoration-color: #008080; font-weight: bold\">13</span>,<span style=\"color: #008000; text-decoration-color: #008000\">\"hold\"</span>:<span style=\"color: #008080; text-decoration-color: #008080; font-weight: bold\">17</span>,<span style=\"color: #008000; text-decoration-color: #008000\">\"sell\"</span>:<span style=\"color: #008080; text-decoration-color: #008080; font-weight: bold\">8</span>,<span style=\"color: #008000; text-decoration-color: #008000\">\"strongSell\"</span>:<span style=\"color: #008080; text-decoration-color: #008080; font-weight: bold\">5</span><span style=\"font-weight: bold\">}</span>,<span style=\"color: #008000; text-decoration-color: #008000\">\"2\"</span>:<span style=\"font-weight: bold\">{</span><span style=\"color: #008000; text-decoration-color: #008000\">\"period\"</span>:<span style=\"color: #008000; text-decoration-color: #008000\">\"-2m\"</span>,<span style=\"color: #008000; text-decoration-color: #008000\">\"strongBuy\"</span>:<span style=\"color: #008080; text-decoration-color: #008080; font-weight: bold\">6</span>,<span style=\"color: #008000; text-decoration-color: #008000\">\"buy\"</span>:<span style=\"color: #008080; text-decoration-color: #008080; font-weight: bold\">12</span>,<span style=\"color: #008000; text-decoration-color: #008000\">\"hold\"</span>:<span style=\"color: #008080; text-decoration-color: #008080; font-weight: bold\">19</span>,<span style=\"color: #008000; text-decoration-color: #008000\">\"se</span>\n",
              "         <span style=\"color: #008000; text-decoration-color: #008000\">ll\"</span>:<span style=\"color: #008080; text-decoration-color: #008080; font-weight: bold\">7</span>,<span style=\"color: #008000; text-decoration-color: #008000\">\"strongSell\"</span>:<span style=\"color: #008080; text-decoration-color: #008080; font-weight: bold\">4</span><span style=\"font-weight: bold\">}</span>,<span style=\"color: #008000; text-decoration-color: #008000\">\"3\"</span>:<span style=\"font-weight: bold\">{</span><span style=\"color: #008000; text-decoration-color: #008000\">\"period\"</span>:<span style=\"color: #008000; text-decoration-color: #008000\">\"-3m\"</span>,<span style=\"color: #008000; text-decoration-color: #008000\">\"strongBuy\"</span>:<span style=\"color: #008080; text-decoration-color: #008080; font-weight: bold\">5</span>,<span style=\"color: #008000; text-decoration-color: #008000\">\"buy\"</span>:<span style=\"color: #008080; text-decoration-color: #008080; font-weight: bold\">13</span>,<span style=\"color: #008000; text-decoration-color: #008000\">\"hold\"</span>:<span style=\"color: #008080; text-decoration-color: #008080; font-weight: bold\">18</span>,<span style=\"color: #008000; text-decoration-color: #008000\">\"sell\"</span>:<span style=\"color: #008080; text-decoration-color: #008080; font-weight: bold\">7</span>,<span style=\"color: #008000; text-decoration-color: #008000\">\"strongSell\"</span>:<span style=\"color: #008080; text-decoration-color: #008080; font-weight: bold\">4</span><span style=\"font-weight: bold\">}}</span>      \n",
              "</pre>\n"
            ]
          },
          "metadata": {}
        },
        {
          "output_type": "display_data",
          "data": {
            "text/plain": [
              "\u001b[32mDEBUG   \u001b[0m ============== tool ==============                                                                        \n"
            ],
            "text/html": [
              "<pre style=\"white-space:pre;overflow-x:auto;line-height:normal;font-family:Menlo,'DejaVu Sans Mono',consolas,'Courier New',monospace\"><span style=\"color: #008000; text-decoration-color: #008000\">DEBUG   </span> ============== tool ==============                                                                        \n",
              "</pre>\n"
            ]
          },
          "metadata": {}
        },
        {
          "output_type": "display_data",
          "data": {
            "text/plain": [
              "\u001b[32mDEBUG   \u001b[0m Tool call Id: call_93vt                                                                                   \n"
            ],
            "text/html": [
              "<pre style=\"white-space:pre;overflow-x:auto;line-height:normal;font-family:Menlo,'DejaVu Sans Mono',consolas,'Courier New',monospace\"><span style=\"color: #008000; text-decoration-color: #008000\">DEBUG   </span> Tool call Id: call_93vt                                                                                   \n",
              "</pre>\n"
            ]
          },
          "metadata": {}
        },
        {
          "output_type": "display_data",
          "data": {
            "text/plain": [
              "\u001b[32mDEBUG   \u001b[0m \u001b[1m{\u001b[0m\u001b[32m\"0\"\u001b[0m:\u001b[1m{\u001b[0m\u001b[32m\"period\"\u001b[0m:\u001b[32m\"0m\"\u001b[0m,\u001b[32m\"strongBuy\"\u001b[0m:\u001b[1;36m13\u001b[0m,\u001b[32m\"buy\"\u001b[0m:\u001b[1;36m37\u001b[0m,\u001b[32m\"hold\"\u001b[0m:\u001b[1;36m5\u001b[0m,\u001b[32m\"sell\"\u001b[0m:\u001b[1;36m0\u001b[0m,\u001b[32m\"strongSell\"\u001b[0m:\u001b[1;36m0\u001b[0m\u001b[1m}\u001b[0m,\u001b[32m\"1\"\u001b[0m:\u001b[1m{\u001b[0m\u001b[32m\"period\"\u001b[0m:\u001b[32m\"-1m\"\u001b[0m,\u001b[32m\"strongB\u001b[0m\n",
              "         \u001b[32muy\"\u001b[0m:\u001b[1;36m13\u001b[0m,\u001b[32m\"buy\"\u001b[0m:\u001b[1;36m37\u001b[0m,\u001b[32m\"hold\"\u001b[0m:\u001b[1;36m5\u001b[0m,\u001b[32m\"sell\"\u001b[0m:\u001b[1;36m0\u001b[0m,\u001b[32m\"strongSell\"\u001b[0m:\u001b[1;36m0\u001b[0m\u001b[1m}\u001b[0m,\u001b[32m\"2\"\u001b[0m:\u001b[1m{\u001b[0m\u001b[32m\"period\"\u001b[0m:\u001b[32m\"-2m\"\u001b[0m,\u001b[32m\"strongBuy\"\u001b[0m:\u001b[1;36m13\u001b[0m,\u001b[32m\"buy\"\u001b[0m:\u001b[1;36m37\u001b[0m,\u001b[32m\"hold\"\u001b[0m:\u001b[1;36m5\u001b[0m,\u001b[32m\"se\u001b[0m\n",
              "         \u001b[32mll\"\u001b[0m:\u001b[1;36m0\u001b[0m,\u001b[32m\"strongSell\"\u001b[0m:\u001b[1;36m0\u001b[0m\u001b[1m}\u001b[0m,\u001b[32m\"3\"\u001b[0m:\u001b[1m{\u001b[0m\u001b[32m\"period\"\u001b[0m:\u001b[32m\"-3m\"\u001b[0m,\u001b[32m\"strongBuy\"\u001b[0m:\u001b[1;36m14\u001b[0m,\u001b[32m\"buy\"\u001b[0m:\u001b[1;36m39\u001b[0m,\u001b[32m\"hold\"\u001b[0m:\u001b[1;36m3\u001b[0m,\u001b[32m\"sell\"\u001b[0m:\u001b[1;36m0\u001b[0m,\u001b[32m\"strongSell\"\u001b[0m:\u001b[1;36m0\u001b[0m\u001b[1m}\u001b[0m\u001b[1m}\u001b[0m      \n"
            ],
            "text/html": [
              "<pre style=\"white-space:pre;overflow-x:auto;line-height:normal;font-family:Menlo,'DejaVu Sans Mono',consolas,'Courier New',monospace\"><span style=\"color: #008000; text-decoration-color: #008000\">DEBUG   </span> <span style=\"font-weight: bold\">{</span><span style=\"color: #008000; text-decoration-color: #008000\">\"0\"</span>:<span style=\"font-weight: bold\">{</span><span style=\"color: #008000; text-decoration-color: #008000\">\"period\"</span>:<span style=\"color: #008000; text-decoration-color: #008000\">\"0m\"</span>,<span style=\"color: #008000; text-decoration-color: #008000\">\"strongBuy\"</span>:<span style=\"color: #008080; text-decoration-color: #008080; font-weight: bold\">13</span>,<span style=\"color: #008000; text-decoration-color: #008000\">\"buy\"</span>:<span style=\"color: #008080; text-decoration-color: #008080; font-weight: bold\">37</span>,<span style=\"color: #008000; text-decoration-color: #008000\">\"hold\"</span>:<span style=\"color: #008080; text-decoration-color: #008080; font-weight: bold\">5</span>,<span style=\"color: #008000; text-decoration-color: #008000\">\"sell\"</span>:<span style=\"color: #008080; text-decoration-color: #008080; font-weight: bold\">0</span>,<span style=\"color: #008000; text-decoration-color: #008000\">\"strongSell\"</span>:<span style=\"color: #008080; text-decoration-color: #008080; font-weight: bold\">0</span><span style=\"font-weight: bold\">}</span>,<span style=\"color: #008000; text-decoration-color: #008000\">\"1\"</span>:<span style=\"font-weight: bold\">{</span><span style=\"color: #008000; text-decoration-color: #008000\">\"period\"</span>:<span style=\"color: #008000; text-decoration-color: #008000\">\"-1m\"</span>,<span style=\"color: #008000; text-decoration-color: #008000\">\"strongB</span>\n",
              "         <span style=\"color: #008000; text-decoration-color: #008000\">uy\"</span>:<span style=\"color: #008080; text-decoration-color: #008080; font-weight: bold\">13</span>,<span style=\"color: #008000; text-decoration-color: #008000\">\"buy\"</span>:<span style=\"color: #008080; text-decoration-color: #008080; font-weight: bold\">37</span>,<span style=\"color: #008000; text-decoration-color: #008000\">\"hold\"</span>:<span style=\"color: #008080; text-decoration-color: #008080; font-weight: bold\">5</span>,<span style=\"color: #008000; text-decoration-color: #008000\">\"sell\"</span>:<span style=\"color: #008080; text-decoration-color: #008080; font-weight: bold\">0</span>,<span style=\"color: #008000; text-decoration-color: #008000\">\"strongSell\"</span>:<span style=\"color: #008080; text-decoration-color: #008080; font-weight: bold\">0</span><span style=\"font-weight: bold\">}</span>,<span style=\"color: #008000; text-decoration-color: #008000\">\"2\"</span>:<span style=\"font-weight: bold\">{</span><span style=\"color: #008000; text-decoration-color: #008000\">\"period\"</span>:<span style=\"color: #008000; text-decoration-color: #008000\">\"-2m\"</span>,<span style=\"color: #008000; text-decoration-color: #008000\">\"strongBuy\"</span>:<span style=\"color: #008080; text-decoration-color: #008080; font-weight: bold\">13</span>,<span style=\"color: #008000; text-decoration-color: #008000\">\"buy\"</span>:<span style=\"color: #008080; text-decoration-color: #008080; font-weight: bold\">37</span>,<span style=\"color: #008000; text-decoration-color: #008000\">\"hold\"</span>:<span style=\"color: #008080; text-decoration-color: #008080; font-weight: bold\">5</span>,<span style=\"color: #008000; text-decoration-color: #008000\">\"se</span>\n",
              "         <span style=\"color: #008000; text-decoration-color: #008000\">ll\"</span>:<span style=\"color: #008080; text-decoration-color: #008080; font-weight: bold\">0</span>,<span style=\"color: #008000; text-decoration-color: #008000\">\"strongSell\"</span>:<span style=\"color: #008080; text-decoration-color: #008080; font-weight: bold\">0</span><span style=\"font-weight: bold\">}</span>,<span style=\"color: #008000; text-decoration-color: #008000\">\"3\"</span>:<span style=\"font-weight: bold\">{</span><span style=\"color: #008000; text-decoration-color: #008000\">\"period\"</span>:<span style=\"color: #008000; text-decoration-color: #008000\">\"-3m\"</span>,<span style=\"color: #008000; text-decoration-color: #008000\">\"strongBuy\"</span>:<span style=\"color: #008080; text-decoration-color: #008080; font-weight: bold\">14</span>,<span style=\"color: #008000; text-decoration-color: #008000\">\"buy\"</span>:<span style=\"color: #008080; text-decoration-color: #008080; font-weight: bold\">39</span>,<span style=\"color: #008000; text-decoration-color: #008000\">\"hold\"</span>:<span style=\"color: #008080; text-decoration-color: #008080; font-weight: bold\">3</span>,<span style=\"color: #008000; text-decoration-color: #008000\">\"sell\"</span>:<span style=\"color: #008080; text-decoration-color: #008080; font-weight: bold\">0</span>,<span style=\"color: #008000; text-decoration-color: #008000\">\"strongSell\"</span>:<span style=\"color: #008080; text-decoration-color: #008080; font-weight: bold\">0</span><span style=\"font-weight: bold\">}}</span>      \n",
              "</pre>\n"
            ]
          },
          "metadata": {}
        },
        {
          "output_type": "display_data",
          "data": {
            "text/plain": [
              "\u001b[32mDEBUG   \u001b[0m ============== assistant ==============                                                                   \n"
            ],
            "text/html": [
              "<pre style=\"white-space:pre;overflow-x:auto;line-height:normal;font-family:Menlo,'DejaVu Sans Mono',consolas,'Courier New',monospace\"><span style=\"color: #008000; text-decoration-color: #008000\">DEBUG   </span> ============== assistant ==============                                                                   \n",
              "</pre>\n"
            ]
          },
          "metadata": {}
        },
        {
          "output_type": "display_data",
          "data": {
            "text/plain": [
              "\u001b[32mDEBUG   \u001b[0m ### Company Fundamentals                                                                                  \n",
              "         | Company | Symbol | Sector | Industry | Market Cap | PE Ratio | PB Ratio | Dividend Yield | EPS | Beta | \n",
              "         \u001b[1;36m52\u001b[0m Week High | \u001b[1;36m52\u001b[0m Week Low |                                                                              \n",
              "         | --- | --- | --- | --- | --- | --- | --- | --- | --- | --- | --- | --- |                                 \n",
              "         | Tesla, Inc. | TSLA | Consumer Cyclical | Auto Manufacturers | \u001b[1;36m1\u001b[0m,\u001b[1;36m465\u001b[0m,\u001b[1;36m825\u001b[0m,\u001b[1;36m751\u001b[0m,\u001b[1;36m136\u001b[0m | \u001b[1;36m139.50\u001b[0m | \u001b[1;36m20.94\u001b[0m | N/A |\n",
              "         \u001b[1;36m3.66\u001b[0m | \u001b[1;36m2.30\u001b[0m | \u001b[1;36m458.97\u001b[0m | \u001b[1;36m138.80\u001b[0m |                                                                           \n",
              "         | Microsoft Corporation | MSFT | Technology | Software - Infrastructure | \u001b[1;36m3\u001b[0m,\u001b[1;36m331\u001b[0m,\u001b[1;36m071\u001b[0m,\u001b[1;36m410\u001b[0m,\u001b[1;36m176\u001b[0m | \u001b[1;36m29.83\u001b[0m |     \n",
              "         \u001b[1;36m11.58\u001b[0m | \u001b[1;36m0.74\u001b[0m% | \u001b[1;36m12.12\u001b[0m | \u001b[1;36m0.90\u001b[0m | \u001b[1;36m468.35\u001b[0m | \u001b[1;36m366.50\u001b[0m |                                                          \n",
              "                                                                                                                   \n",
              "         ### Analyst Recommendations                                                                               \n",
              "         | Company | Symbol | Strong Buy | Buy | Hold | Sell | Strong Sell |                                       \n",
              "         | --- | --- | --- | --- | --- | --- | --- |                                                               \n",
              "         | Tesla, Inc. | TSLA | \u001b[1;36m6\u001b[0m | \u001b[1;36m12\u001b[0m | \u001b[1;36m16\u001b[0m | \u001b[1;36m8\u001b[0m | \u001b[1;36m5\u001b[0m |                                                              \n",
              "         | Microsoft Corporation | MSFT | \u001b[1;36m13\u001b[0m | \u001b[1;36m37\u001b[0m | \u001b[1;36m5\u001b[0m | \u001b[1;36m0\u001b[0m | \u001b[1;36m0\u001b[0m |                                                    \n",
              "                                                                                                                   \n",
              "         Note: The analyst recommendations are based on the current period \u001b[1m(\u001b[0m0m\u001b[1m)\u001b[0m data. The fundamentals data is also\n",
              "         based on the current available data. The dividend yield for Tesla, Inc. is not available \u001b[1m(\u001b[0mN/A\u001b[1m)\u001b[0m.           \n"
            ],
            "text/html": [
              "<pre style=\"white-space:pre;overflow-x:auto;line-height:normal;font-family:Menlo,'DejaVu Sans Mono',consolas,'Courier New',monospace\"><span style=\"color: #008000; text-decoration-color: #008000\">DEBUG   </span> ### Company Fundamentals                                                                                  \n",
              "         | Company | Symbol | Sector | Industry | Market Cap | PE Ratio | PB Ratio | Dividend Yield | EPS | Beta | \n",
              "         <span style=\"color: #008080; text-decoration-color: #008080; font-weight: bold\">52</span> Week High | <span style=\"color: #008080; text-decoration-color: #008080; font-weight: bold\">52</span> Week Low |                                                                              \n",
              "         | --- | --- | --- | --- | --- | --- | --- | --- | --- | --- | --- | --- |                                 \n",
              "         | Tesla, Inc. | TSLA | Consumer Cyclical | Auto Manufacturers | <span style=\"color: #008080; text-decoration-color: #008080; font-weight: bold\">1</span>,<span style=\"color: #008080; text-decoration-color: #008080; font-weight: bold\">465</span>,<span style=\"color: #008080; text-decoration-color: #008080; font-weight: bold\">825</span>,<span style=\"color: #008080; text-decoration-color: #008080; font-weight: bold\">751</span>,<span style=\"color: #008080; text-decoration-color: #008080; font-weight: bold\">136</span> | <span style=\"color: #008080; text-decoration-color: #008080; font-weight: bold\">139.50</span> | <span style=\"color: #008080; text-decoration-color: #008080; font-weight: bold\">20.94</span> | N/A |\n",
              "         <span style=\"color: #008080; text-decoration-color: #008080; font-weight: bold\">3.66</span> | <span style=\"color: #008080; text-decoration-color: #008080; font-weight: bold\">2.30</span> | <span style=\"color: #008080; text-decoration-color: #008080; font-weight: bold\">458.97</span> | <span style=\"color: #008080; text-decoration-color: #008080; font-weight: bold\">138.80</span> |                                                                           \n",
              "         | Microsoft Corporation | MSFT | Technology | Software - Infrastructure | <span style=\"color: #008080; text-decoration-color: #008080; font-weight: bold\">3</span>,<span style=\"color: #008080; text-decoration-color: #008080; font-weight: bold\">331</span>,<span style=\"color: #008080; text-decoration-color: #008080; font-weight: bold\">071</span>,<span style=\"color: #008080; text-decoration-color: #008080; font-weight: bold\">410</span>,<span style=\"color: #008080; text-decoration-color: #008080; font-weight: bold\">176</span> | <span style=\"color: #008080; text-decoration-color: #008080; font-weight: bold\">29.83</span> |     \n",
              "         <span style=\"color: #008080; text-decoration-color: #008080; font-weight: bold\">11.58</span> | <span style=\"color: #008080; text-decoration-color: #008080; font-weight: bold\">0.74</span>% | <span style=\"color: #008080; text-decoration-color: #008080; font-weight: bold\">12.12</span> | <span style=\"color: #008080; text-decoration-color: #008080; font-weight: bold\">0.90</span> | <span style=\"color: #008080; text-decoration-color: #008080; font-weight: bold\">468.35</span> | <span style=\"color: #008080; text-decoration-color: #008080; font-weight: bold\">366.50</span> |                                                          \n",
              "                                                                                                                   \n",
              "         ### Analyst Recommendations                                                                               \n",
              "         | Company | Symbol | Strong Buy | Buy | Hold | Sell | Strong Sell |                                       \n",
              "         | --- | --- | --- | --- | --- | --- | --- |                                                               \n",
              "         | Tesla, Inc. | TSLA | <span style=\"color: #008080; text-decoration-color: #008080; font-weight: bold\">6</span> | <span style=\"color: #008080; text-decoration-color: #008080; font-weight: bold\">12</span> | <span style=\"color: #008080; text-decoration-color: #008080; font-weight: bold\">16</span> | <span style=\"color: #008080; text-decoration-color: #008080; font-weight: bold\">8</span> | <span style=\"color: #008080; text-decoration-color: #008080; font-weight: bold\">5</span> |                                                              \n",
              "         | Microsoft Corporation | MSFT | <span style=\"color: #008080; text-decoration-color: #008080; font-weight: bold\">13</span> | <span style=\"color: #008080; text-decoration-color: #008080; font-weight: bold\">37</span> | <span style=\"color: #008080; text-decoration-color: #008080; font-weight: bold\">5</span> | <span style=\"color: #008080; text-decoration-color: #008080; font-weight: bold\">0</span> | <span style=\"color: #008080; text-decoration-color: #008080; font-weight: bold\">0</span> |                                                    \n",
              "                                                                                                                   \n",
              "         Note: The analyst recommendations are based on the current period <span style=\"font-weight: bold\">(</span>0m<span style=\"font-weight: bold\">)</span> data. The fundamentals data is also\n",
              "         based on the current available data. The dividend yield for Tesla, Inc. is not available <span style=\"font-weight: bold\">(</span>N/A<span style=\"font-weight: bold\">)</span>.           \n",
              "</pre>\n"
            ]
          },
          "metadata": {}
        },
        {
          "output_type": "display_data",
          "data": {
            "text/plain": [
              "\u001b[32mDEBUG   \u001b[0m **************** METRICS START ****************                                                           \n"
            ],
            "text/html": [
              "<pre style=\"white-space:pre;overflow-x:auto;line-height:normal;font-family:Menlo,'DejaVu Sans Mono',consolas,'Courier New',monospace\"><span style=\"color: #008000; text-decoration-color: #008000\">DEBUG   </span> **************** METRICS START ****************                                                           \n",
              "</pre>\n"
            ]
          },
          "metadata": {}
        },
        {
          "output_type": "display_data",
          "data": {
            "text/plain": [
              "\u001b[32mDEBUG   \u001b[0m * Time to first token:         \u001b[1;36m0.\u001b[0m5164s                                                                    \n"
            ],
            "text/html": [
              "<pre style=\"white-space:pre;overflow-x:auto;line-height:normal;font-family:Menlo,'DejaVu Sans Mono',consolas,'Courier New',monospace\"><span style=\"color: #008000; text-decoration-color: #008000\">DEBUG   </span> * Time to first token:         <span style=\"color: #008080; text-decoration-color: #008080; font-weight: bold\">0.</span>5164s                                                                    \n",
              "</pre>\n"
            ]
          },
          "metadata": {}
        },
        {
          "output_type": "display_data",
          "data": {
            "text/plain": [
              "\u001b[32mDEBUG   \u001b[0m * Time to generate response:   \u001b[1;36m1.\u001b[0m8651s                                                                    \n"
            ],
            "text/html": [
              "<pre style=\"white-space:pre;overflow-x:auto;line-height:normal;font-family:Menlo,'DejaVu Sans Mono',consolas,'Courier New',monospace\"><span style=\"color: #008000; text-decoration-color: #008000\">DEBUG   </span> * Time to generate response:   <span style=\"color: #008080; text-decoration-color: #008080; font-weight: bold\">1.</span>8651s                                                                    \n",
              "</pre>\n"
            ]
          },
          "metadata": {}
        },
        {
          "output_type": "display_data",
          "data": {
            "text/plain": [
              "\u001b[32mDEBUG   \u001b[0m * Tokens per second:           \u001b[1;36m0.0000\u001b[0m tokens/s                                                            \n"
            ],
            "text/html": [
              "<pre style=\"white-space:pre;overflow-x:auto;line-height:normal;font-family:Menlo,'DejaVu Sans Mono',consolas,'Courier New',monospace\"><span style=\"color: #008000; text-decoration-color: #008000\">DEBUG   </span> * Tokens per second:           <span style=\"color: #008080; text-decoration-color: #008080; font-weight: bold\">0.0000</span> tokens/s                                                            \n",
              "</pre>\n"
            ]
          },
          "metadata": {}
        },
        {
          "output_type": "display_data",
          "data": {
            "text/plain": [
              "\u001b[32mDEBUG   \u001b[0m * Input tokens:                \u001b[1;36m0\u001b[0m                                                                          \n"
            ],
            "text/html": [
              "<pre style=\"white-space:pre;overflow-x:auto;line-height:normal;font-family:Menlo,'DejaVu Sans Mono',consolas,'Courier New',monospace\"><span style=\"color: #008000; text-decoration-color: #008000\">DEBUG   </span> * Input tokens:                <span style=\"color: #008080; text-decoration-color: #008080; font-weight: bold\">0</span>                                                                          \n",
              "</pre>\n"
            ]
          },
          "metadata": {}
        },
        {
          "output_type": "display_data",
          "data": {
            "text/plain": [
              "\u001b[32mDEBUG   \u001b[0m * Output tokens:               \u001b[1;36m316\u001b[0m                                                                        \n"
            ],
            "text/html": [
              "<pre style=\"white-space:pre;overflow-x:auto;line-height:normal;font-family:Menlo,'DejaVu Sans Mono',consolas,'Courier New',monospace\"><span style=\"color: #008000; text-decoration-color: #008000\">DEBUG   </span> * Output tokens:               <span style=\"color: #008080; text-decoration-color: #008080; font-weight: bold\">316</span>                                                                        \n",
              "</pre>\n"
            ]
          },
          "metadata": {}
        },
        {
          "output_type": "display_data",
          "data": {
            "text/plain": [
              "\u001b[32mDEBUG   \u001b[0m * Total tokens:                \u001b[1;36m0\u001b[0m                                                                          \n"
            ],
            "text/html": [
              "<pre style=\"white-space:pre;overflow-x:auto;line-height:normal;font-family:Menlo,'DejaVu Sans Mono',consolas,'Courier New',monospace\"><span style=\"color: #008000; text-decoration-color: #008000\">DEBUG   </span> * Total tokens:                <span style=\"color: #008080; text-decoration-color: #008080; font-weight: bold\">0</span>                                                                          \n",
              "</pre>\n"
            ]
          },
          "metadata": {}
        },
        {
          "output_type": "display_data",
          "data": {
            "text/plain": [
              "\u001b[32mDEBUG   \u001b[0m **************** METRICS END ******************                                                           \n"
            ],
            "text/html": [
              "<pre style=\"white-space:pre;overflow-x:auto;line-height:normal;font-family:Menlo,'DejaVu Sans Mono',consolas,'Courier New',monospace\"><span style=\"color: #008000; text-decoration-color: #008000\">DEBUG   </span> **************** METRICS END ******************                                                           \n",
              "</pre>\n"
            ]
          },
          "metadata": {}
        },
        {
          "output_type": "display_data",
          "data": {
            "text/plain": [
              "\u001b[32mDEBUG   \u001b[0m ---------- Groq Response End ----------                                                                   \n"
            ],
            "text/html": [
              "<pre style=\"white-space:pre;overflow-x:auto;line-height:normal;font-family:Menlo,'DejaVu Sans Mono',consolas,'Courier New',monospace\"><span style=\"color: #008000; text-decoration-color: #008000\">DEBUG   </span> ---------- Groq Response End ----------                                                                   \n",
              "</pre>\n"
            ]
          },
          "metadata": {}
        },
        {
          "output_type": "display_data",
          "data": {
            "text/plain": [
              "\u001b[32mDEBUG   \u001b[0m ---------- Groq Response End ----------                                                                   \n"
            ],
            "text/html": [
              "<pre style=\"white-space:pre;overflow-x:auto;line-height:normal;font-family:Menlo,'DejaVu Sans Mono',consolas,'Courier New',monospace\"><span style=\"color: #008000; text-decoration-color: #008000\">DEBUG   </span> ---------- Groq Response End ----------                                                                   \n",
              "</pre>\n"
            ]
          },
          "metadata": {}
        },
        {
          "output_type": "display_data",
          "data": {
            "text/plain": [
              "\u001b[32mDEBUG   \u001b[0m ---------- Groq Response End ----------                                                                   \n"
            ],
            "text/html": [
              "<pre style=\"white-space:pre;overflow-x:auto;line-height:normal;font-family:Menlo,'DejaVu Sans Mono',consolas,'Courier New',monospace\"><span style=\"color: #008000; text-decoration-color: #008000\">DEBUG   </span> ---------- Groq Response End ----------                                                                   \n",
              "</pre>\n"
            ]
          },
          "metadata": {}
        },
        {
          "output_type": "display_data",
          "data": {
            "text/plain": [
              "\u001b[32mDEBUG   \u001b[0m ---------- Groq Response End ----------                                                                   \n"
            ],
            "text/html": [
              "<pre style=\"white-space:pre;overflow-x:auto;line-height:normal;font-family:Menlo,'DejaVu Sans Mono',consolas,'Courier New',monospace\"><span style=\"color: #008000; text-decoration-color: #008000\">DEBUG   </span> ---------- Groq Response End ----------                                                                   \n",
              "</pre>\n"
            ]
          },
          "metadata": {}
        },
        {
          "output_type": "display_data",
          "data": {
            "text/plain": [
              "\u001b[32mDEBUG   \u001b[0m Added \u001b[1;36m10\u001b[0m Messages to AgentMemory                                                                          \n"
            ],
            "text/html": [
              "<pre style=\"white-space:pre;overflow-x:auto;line-height:normal;font-family:Menlo,'DejaVu Sans Mono',consolas,'Courier New',monospace\"><span style=\"color: #008000; text-decoration-color: #008000\">DEBUG   </span> Added <span style=\"color: #008080; text-decoration-color: #008080; font-weight: bold\">10</span> Messages to AgentMemory                                                                          \n",
              "</pre>\n"
            ]
          },
          "metadata": {}
        },
        {
          "output_type": "display_data",
          "data": {
            "text/plain": [
              "\u001b[32mDEBUG   \u001b[0m Added AgentRun to AgentMemory                                                                             \n"
            ],
            "text/html": [
              "<pre style=\"white-space:pre;overflow-x:auto;line-height:normal;font-family:Menlo,'DejaVu Sans Mono',consolas,'Courier New',monospace\"><span style=\"color: #008000; text-decoration-color: #008000\">DEBUG   </span> Added AgentRun to AgentMemory                                                                             \n",
              "</pre>\n"
            ]
          },
          "metadata": {}
        },
        {
          "output_type": "display_data",
          "data": {
            "text/plain": [
              "\u001b[32mDEBUG   \u001b[0m --**-- Logging Agent Run                                                                                  \n"
            ],
            "text/html": [
              "<pre style=\"white-space:pre;overflow-x:auto;line-height:normal;font-family:Menlo,'DejaVu Sans Mono',consolas,'Courier New',monospace\"><span style=\"color: #008000; text-decoration-color: #008000\">DEBUG   </span> --**-- Logging Agent Run                                                                                  \n",
              "</pre>\n"
            ]
          },
          "metadata": {}
        },
        {
          "output_type": "display_data",
          "data": {
            "text/plain": [
              "\u001b[32mDEBUG   \u001b[0m *********** Agent Run End: \u001b[93m90160cf7-4ece-4c4a-b4e9-cfa7ad8e5ee9\u001b[0m ***********                               \n"
            ],
            "text/html": [
              "<pre style=\"white-space:pre;overflow-x:auto;line-height:normal;font-family:Menlo,'DejaVu Sans Mono',consolas,'Courier New',monospace\"><span style=\"color: #008000; text-decoration-color: #008000\">DEBUG   </span> *********** Agent Run End: <span style=\"color: #ffff00; text-decoration-color: #ffff00\">90160cf7-4ece-4c4a-b4e9-cfa7ad8e5ee9</span> ***********                               \n",
              "</pre>\n"
            ]
          },
          "metadata": {}
        },
        {
          "output_type": "display_data",
          "data": {
            "text/plain": [],
            "text/html": [
              "<pre style=\"white-space:pre;overflow-x:auto;line-height:normal;font-family:Menlo,'DejaVu Sans Mono',consolas,'Courier New',monospace\"></pre>\n"
            ]
          },
          "metadata": {}
        }
      ]
    },
    {
      "cell_type": "markdown",
      "source": [
        "### agent team"
      ],
      "metadata": {
        "id": "WntP6d7oXLmr"
      }
    },
    {
      "cell_type": "code",
      "source": [
        "!pip install duckduckgo-search -q"
      ],
      "metadata": {
        "colab": {
          "base_uri": "https://localhost:8080/"
        },
        "id": "YjvgOzqJXTnC",
        "outputId": "55938200-5119-4dc7-f27b-237276155d0c"
      },
      "execution_count": 17,
      "outputs": [
        {
          "output_type": "stream",
          "name": "stdout",
          "text": [
            "\u001b[?25l   \u001b[90m━━━━━━━━━━━━━━━━━━━━━━━━━━━━━━━━━━━━━━━━\u001b[0m \u001b[32m0.0/3.0 MB\u001b[0m \u001b[31m?\u001b[0m eta \u001b[36m-:--:--\u001b[0m\r\u001b[2K   \u001b[91m━━━━━━\u001b[0m\u001b[90m╺\u001b[0m\u001b[90m━━━━━━━━━━━━━━━━━━━━━━━━━━━━━━━━━\u001b[0m \u001b[32m0.5/3.0 MB\u001b[0m \u001b[31m18.6 MB/s\u001b[0m eta \u001b[36m0:00:01\u001b[0m\r\u001b[2K   \u001b[91m━━━━━━━━━━━━━━━━━━━━━━━━━━━━━━━━━━━━━━━\u001b[0m\u001b[91m╸\u001b[0m \u001b[32m3.0/3.0 MB\u001b[0m \u001b[31m47.1 MB/s\u001b[0m eta \u001b[36m0:00:01\u001b[0m\r\u001b[2K   \u001b[90m━━━━━━━━━━━━━━━━━━━━━━━━━━━━━━━━━━━━━━━━\u001b[0m \u001b[32m3.0/3.0 MB\u001b[0m \u001b[31m32.5 MB/s\u001b[0m eta \u001b[36m0:00:00\u001b[0m\n",
            "\u001b[?25h"
          ]
        }
      ]
    },
    {
      "cell_type": "code",
      "source": [
        "from phi.agent import Agent\n",
        "from phi.model.openai import OpenAIChat\n",
        "from phi.model.groq import Groq\n",
        "from phi.tools.duckduckgo import DuckDuckGo\n",
        "from phi.tools.yfinance import YFinanceTools"
      ],
      "metadata": {
        "id": "5McDmNmTW5nA"
      },
      "execution_count": 18,
      "outputs": []
    },
    {
      "cell_type": "code",
      "source": [
        "web_agent = Agent(\n",
        "    name=\"Web Agent\",\n",
        "    model=Groq(id=\"llama-3.3-70b-versatile\", api_key = api_key),\n",
        "    # model=OpenAIChat(id=\"gpt-4o\"),\n",
        "    tools=[DuckDuckGo()],\n",
        "    instructions=[\"Always include sources\"],\n",
        "    show_tool_calls=True,\n",
        "    markdown=True\n",
        ")\n"
      ],
      "metadata": {
        "colab": {
          "base_uri": "https://localhost:8080/",
          "height": 81
        },
        "id": "Cr8vsME2XQwY",
        "outputId": "e42a422b-601f-4581-c0d6-4ffe77343960"
      },
      "execution_count": 19,
      "outputs": [
        {
          "output_type": "display_data",
          "data": {
            "text/plain": [
              "\u001b[32mDEBUG   \u001b[0m Function: duckduckgo_search registered with duckduckgo                                                    \n"
            ],
            "text/html": [
              "<pre style=\"white-space:pre;overflow-x:auto;line-height:normal;font-family:Menlo,'DejaVu Sans Mono',consolas,'Courier New',monospace\"><span style=\"color: #008000; text-decoration-color: #008000\">DEBUG   </span> Function: duckduckgo_search registered with duckduckgo                                                    \n",
              "</pre>\n"
            ]
          },
          "metadata": {}
        },
        {
          "output_type": "display_data",
          "data": {
            "text/plain": [
              "\u001b[32mDEBUG   \u001b[0m Function: duckduckgo_news registered with duckduckgo                                                      \n"
            ],
            "text/html": [
              "<pre style=\"white-space:pre;overflow-x:auto;line-height:normal;font-family:Menlo,'DejaVu Sans Mono',consolas,'Courier New',monospace\"><span style=\"color: #008000; text-decoration-color: #008000\">DEBUG   </span> Function: duckduckgo_news registered with duckduckgo                                                      \n",
              "</pre>\n"
            ]
          },
          "metadata": {}
        },
        {
          "output_type": "display_data",
          "data": {
            "text/plain": [
              "\u001b[32mDEBUG   \u001b[0m *********** Agent ID: \u001b[93m5632f350-87ad-4e8c-8405-21964913f123\u001b[0m ***********                                    \n"
            ],
            "text/html": [
              "<pre style=\"white-space:pre;overflow-x:auto;line-height:normal;font-family:Menlo,'DejaVu Sans Mono',consolas,'Courier New',monospace\"><span style=\"color: #008000; text-decoration-color: #008000\">DEBUG   </span> *********** Agent ID: <span style=\"color: #ffff00; text-decoration-color: #ffff00\">5632f350-87ad-4e8c-8405-21964913f123</span> ***********                                    \n",
              "</pre>\n"
            ]
          },
          "metadata": {}
        },
        {
          "output_type": "display_data",
          "data": {
            "text/plain": [
              "\u001b[32mDEBUG   \u001b[0m *********** Session ID: \u001b[93m8fa43266-5003-42f1-b8a4-641f7bb91aa7\u001b[0m ***********                                  \n"
            ],
            "text/html": [
              "<pre style=\"white-space:pre;overflow-x:auto;line-height:normal;font-family:Menlo,'DejaVu Sans Mono',consolas,'Courier New',monospace\"><span style=\"color: #008000; text-decoration-color: #008000\">DEBUG   </span> *********** Session ID: <span style=\"color: #ffff00; text-decoration-color: #ffff00\">8fa43266-5003-42f1-b8a4-641f7bb91aa7</span> ***********                                  \n",
              "</pre>\n"
            ]
          },
          "metadata": {}
        }
      ]
    },
    {
      "cell_type": "code",
      "source": [
        "finance_agent = Agent(\n",
        "    name=\"Finance Agent\",\n",
        "    role=\"Get financial data\",\n",
        "    model=Groq(id=\"llama-3.3-70b-versatile\", api_key = api_key),\n",
        "    # model=OpenAIChat(id=\"gpt-4o\"),\n",
        "    tools=[YFinanceTools(stock_price=True, analyst_recommendations=True, company_info=True)],\n",
        "    instructions=[\"Use tables to display data\"],\n",
        "    show_tool_calls=True,\n",
        "    markdown=True,\n",
        ")"
      ],
      "metadata": {
        "id": "_pJdA-QKXtYF"
      },
      "execution_count": 20,
      "outputs": []
    },
    {
      "cell_type": "code",
      "source": [
        "agent_team = Agent(\n",
        "    model=Groq(id=\"llama-3.3-70b-versatile\", api_key = api_key),\n",
        "    team=[web_agent, finance_agent],\n",
        "    instructions=[\"Always include sources\", \"Use tables to display data\"],\n",
        "    show_tool_calls=True,\n",
        "    markdown=True,\n",
        ")\n",
        "\n",
        "agent_team.print_response(\"Summarize analyst recommendations and share the latest news for NVDA\", stream=True)"
      ],
      "metadata": {
        "colab": {
          "base_uri": "https://localhost:8080/",
          "height": 403,
          "referenced_widgets": [
            "1fc7745ad9774f5a9247a195f9c5d592",
            "a84f59ee259a4eed989010f3307b562d"
          ]
        },
        "id": "UYN-MG84XtbO",
        "outputId": "6b70e8fa-184e-4f21-9c9d-aa5874885706"
      },
      "execution_count": 22,
      "outputs": [
        {
          "output_type": "display_data",
          "data": {
            "text/plain": [
              "Output()"
            ],
            "application/vnd.jupyter.widget-view+json": {
              "version_major": 2,
              "version_minor": 0,
              "model_id": "1fc7745ad9774f5a9247a195f9c5d592"
            }
          },
          "metadata": {}
        },
        {
          "output_type": "display_data",
          "data": {
            "text/plain": [],
            "text/html": [
              "<pre style=\"white-space:pre;overflow-x:auto;line-height:normal;font-family:Menlo,'DejaVu Sans Mono',consolas,'Courier New',monospace\"></pre>\n"
            ]
          },
          "metadata": {}
        }
      ]
    },
    {
      "cell_type": "code",
      "source": [],
      "metadata": {
        "id": "oGNxKia8XteV"
      },
      "execution_count": null,
      "outputs": []
    }
  ]
}